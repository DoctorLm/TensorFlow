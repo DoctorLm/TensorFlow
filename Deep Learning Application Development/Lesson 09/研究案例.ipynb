{
 "cells": [
  {
   "cell_type": "markdown",
   "metadata": {
    "collapsed": true
   },
   "source": [
    "# 下载CIFAR数据集"
   ]
  },
  {
   "cell_type": "code",
   "execution_count": 1,
   "metadata": {},
   "outputs": [
    {
     "name": "stdout",
     "output_type": "stream",
     "text": [
      "Data file already exists.\n",
      "Directory already exists\n"
     ]
    }
   ],
   "source": [
    "import urllib.request\n",
    "import os\n",
    "import tarfile\n",
    "#os.environ[\"CUDA_VISIBLE_DEVICES\"] = \"-1\" # CUP\n",
    "\n",
    "#下载\n",
    "url = 'https://www.cs.toronto.edu/~kriz/cifar-10-python.tar.gz'\n",
    "filepath = 'data/cifar-10-python.tar.gz'\n",
    "if not os.path.isfile(filepath):\n",
    "    result = urllib.request.urlretrieve(url,filepath)\n",
    "    print('downloaded:',result)\n",
    "else:\n",
    "    print('Data file already exists.')\n",
    "    \n",
    "#解压\n",
    "if not os.path.exists(\"data/cifar-10-batches-py\"):\n",
    "    tfile = tarfile.open(\"data/cifar-10-python.tar.gz\",'r:gz')\n",
    "    result = tfile.extractall('data/')\n",
    "    print('Extracted to ./data/cifar-10-batches-py/')\n",
    "else:\n",
    "    print('Directory already exists')"
   ]
  },
  {
   "cell_type": "markdown",
   "metadata": {},
   "source": [
    "# 导入CIFAR数据集"
   ]
  },
  {
   "cell_type": "code",
   "execution_count": 2,
   "metadata": {},
   "outputs": [
    {
     "name": "stdout",
     "output_type": "stream",
     "text": [
      "loading data/cifar-10-batches-py/data_batch_1\n",
      "loading data/cifar-10-batches-py/data_batch_2\n",
      "loading data/cifar-10-batches-py/data_batch_3\n",
      "loading data/cifar-10-batches-py/data_batch_4\n",
      "loading data/cifar-10-batches-py/data_batch_5\n",
      "finished loadding CIFAR-10 data\n"
     ]
    }
   ],
   "source": [
    "import os \n",
    "import numpy as np\n",
    "import pickle as p \n",
    "\n",
    "def load_CIFAR_batch(filename):\n",
    "    \"\"\"load single batch of CIFAR\"\"\"\n",
    "    with open (filename,'rb')as f:\n",
    "        #一个样本由标签和图像数据组成\n",
    "        #<1 x label><3027 x pixel> (3027=32x32x3)\n",
    "        #...\n",
    "        #<1 x label><3027 x pixel>\n",
    "        data_dict = p.load(f,encoding = 'bytes')\n",
    "        images = data_dict[b'data']\n",
    "        labels = data_dict[b'labels']\n",
    "        \n",
    "        #把原始数据结构调整为：BCWH\n",
    "        images = images.reshape(10000,3,32,32)\n",
    "        #tensorflow处理图像数据的结构：BWHC\n",
    "        #把通道数据C移动到最后一个维度\n",
    "        images = images.transpose(0,2,3,1)\n",
    "        \n",
    "        labels = np.array(labels)\n",
    "        \n",
    "        return images,labels\n",
    "\n",
    "def load_CIFAR_data(data_dir):\n",
    "    \"\"\"load CIFAR data\"\"\"\n",
    "    \n",
    "    images_train = []\n",
    "    labels_train = []\n",
    "    for i in range (5):\n",
    "        f = os.path.join(data_dir,'data_batch_%d'%(i+1))\n",
    "        print('loading',f)\n",
    "        #调用load_CIFAR_batch()获得批量的图像及其对应标签\n",
    "        image_batch,label_batch = load_CIFAR_batch(f)\n",
    "        images_train.append(image_batch)\n",
    "        labels_train.append(label_batch)\n",
    "        Xtrain = np.concatenate(images_train)\n",
    "        Ytrain = np.concatenate(labels_train)\n",
    "        del image_batch,label_batch\n",
    "    Xtest,Ytest = load_CIFAR_batch(os.path.join(data_dir,'test_batch'))\n",
    "    print('finished loadding CIFAR-10 data')\n",
    "    \n",
    "    #返回训练集的图像和标签，测试集的图像和标签\n",
    "    return Xtrain,Ytrain,Xtest,Ytest\n",
    "\n",
    "data_dir = 'data/cifar-10-batches-py/'\n",
    "Xtrain,Ytrain,Xtest,Ytest = load_CIFAR_data(data_dir)\n",
    "    "
   ]
  },
  {
   "cell_type": "markdown",
   "metadata": {},
   "source": [
    "# 图像数据预处理"
   ]
  },
  {
   "cell_type": "code",
   "execution_count": 3,
   "metadata": {},
   "outputs": [
    {
     "name": "stderr",
     "output_type": "stream",
     "text": [
      "/Users/lumin/Library/Python/3.7/lib/python/site-packages/sklearn/preprocessing/_encoders.py:415: FutureWarning: The handling of integer data will change in version 0.22. Currently, the categories are determined based on the range [0, max(values)], while in the future they will be determined based on the unique values.\n",
      "If you want the future behaviour and silence this warning, you can specify \"categories='auto'\".\n",
      "In case you used a LabelEncoder before this OneHotEncoder to convert the categories to integers, then you can now use the OneHotEncoder directly.\n",
      "  warnings.warn(msg, FutureWarning)\n"
     ]
    }
   ],
   "source": [
    "#将图像进行数字标准化\n",
    "Xtrain_normalize = Xtrain.astype('float32')/255.0\n",
    "Xtest_normalize = Xtest.astype('float32')/255.0\n",
    "\n",
    "#标签数据预处理\n",
    "from sklearn.preprocessing import OneHotEncoder\n",
    "\n",
    "encoder = OneHotEncoder(sparse=False)\n",
    "yy = [[0],[1],[2],[3],[4],[5],[6],[7],[8],[9]]\n",
    "encoder.fit(yy)\n",
    "Ytrain_reshape = Ytrain.reshape(-1,1)\n",
    "Ytrain_onehot = encoder.transform(Ytrain_reshape)\n",
    "Ytest_reshape = Ytest.reshape(-1,1)\n",
    "Ytest_onehot = encoder.transform(Ytest_reshape)"
   ]
  },
  {
   "cell_type": "markdown",
   "metadata": {},
   "source": [
    "# 定义共享函数"
   ]
  },
  {
   "cell_type": "code",
   "execution_count": 4,
   "metadata": {},
   "outputs": [],
   "source": [
    "import tensorflow as tf \n",
    "tf.reset_default_graph()\n",
    "\n",
    "#定义权值\n",
    "def weight(shape,w1):\n",
    "    #在构建模型时，需要使用tf.Variable来创建一个变量\n",
    "    #在训练时，这个变量不断更新\n",
    "    #使用函数tf.truncated_normal(截断的正态分布)生成标准差为0.1的随机数来初始化权值\n",
    "    var = tf.Variable(tf.truncated_normal(shape,stddev=0.1),name='W')\n",
    "    if w1 is not None:\n",
    "        weight_loss = tf.multiply(tf.nn.l2_loss(var),w1,name='weight_loss')\n",
    "        tf.add_to_collection('losses',weight_loss)\n",
    "    return var\n",
    "\n",
    "#定义偏置\n",
    "#初始化为0.1\n",
    "def bias(shape):\n",
    "    return tf.Variable(tf.constant(0.1,shape=shape),name='b')\n",
    "\n",
    "#d定义卷积操作\n",
    "#步长为1，padding为‘SAME’\n",
    "def conv2d(x,W):\n",
    "    return tf.nn.conv2d(x,W,strides=[1,1,1,1],padding='SAME')\n",
    "\n",
    "#定义池化操作\n",
    "#步长为2，即原尺寸的长和宽各除以2\n",
    "def max_pool_2x2(x):\n",
    "    #tf.nn.max_pool(value,ksize,strides,padding,name=None\n",
    "    return tf.nn.max_pool(x,ksize=[1,2,2,1],strides=[1,2,2,1],padding='SAME')\n"
   ]
  },
  {
   "cell_type": "markdown",
   "metadata": {},
   "source": [
    "# 定义网络结构"
   ]
  },
  {
   "cell_type": "code",
   "execution_count": 5,
   "metadata": {},
   "outputs": [
    {
     "name": "stdout",
     "output_type": "stream",
     "text": [
      "WARNING:tensorflow:From <ipython-input-5-ffffb1e7b6e2>:58: calling dropout (from tensorflow.python.ops.nn_ops) with keep_prob is deprecated and will be removed in a future version.\n",
      "Instructions for updating:\n",
      "Please use `rate` instead of `keep_prob`. Rate should be set to `rate = 1 - keep_prob`.\n"
     ]
    }
   ],
   "source": [
    "#输入层\n",
    "#32x32图像，通道为3（RGB）\n",
    "with tf.name_scope('input_layer'):\n",
    "    x = tf.placeholder('float',shape=[None,32,32,3],name='x')\n",
    "\n",
    "    \n",
    "#第一个卷积层\n",
    "#输入通道：3，输出通道：32，卷积后图像尺寸不变，依然是32x32\n",
    "with tf.name_scope('conv_1'):\n",
    "    W1 = weight([3,3,3,32],w1=0.0)\n",
    "    b1 = bias([32])\n",
    "    conv_1 = conv2d(x,W1) + b1\n",
    "    conv_1 = tf.nn.relu(conv_1)\n",
    "#第一个池化层\n",
    "#将32x32图像缩小为16x16，池化不改变通道数量，因此依然是32个\n",
    "with tf.name_scope('pool_1'):\n",
    "    pool_1 = max_pool_2x2(conv_1)\n",
    "    \n",
    "norm1 = tf.nn.lrn(pool_1,4,bias=1.0,alpha=0.001/9.0,beta=0.75)\n",
    "        \n",
    "#第二个卷积层\n",
    "#输入通道：32，输出通道：64，卷积后图像尺寸不变，依然是16x16\n",
    "with tf.name_scope('conv_2'):\n",
    "    W2 = weight([3,3,32,64],w1=0.0)\n",
    "    b2 = bias([64])\n",
    "    conv_2 = conv2d(norm1,W2) + b2\n",
    "    conv_2 = tf.nn.lrn(tf.nn.relu(conv_2),4,bias=1.0,alpha=0.001/9.0,beta=0.75)\n",
    "#第二个池化层\n",
    "#将16x16图像缩小为8x8，池化不改变通道数量，因此依然是64个\n",
    "with tf.name_scope('pool_2'):\n",
    "    pool_2 = max_pool_2x2(conv_2)\n",
    "    \n",
    "#第三个卷积层\n",
    "#输入通道：64，输出通道：128，卷积后图像尺寸不变，依然是16x16\n",
    "with tf.name_scope('conv_3'):\n",
    "    W3 = weight([3,3,64,128],w1=0.0)\n",
    "    b3 = bias([128])\n",
    "    conv_3 = conv2d(pool_2,W3) + b3\n",
    "    conv_3 = tf.nn.relu(conv_3)\n",
    "#第三个池化层\n",
    "#将8x8图像缩小为4x4，池化不改变通道数量，因此依然是128个\n",
    "with tf.name_scope('pool_3'):\n",
    "    pool_3 = max_pool_2x2(conv_3)\n",
    "    \n",
    "#全连接层\n",
    "#将第二个池化层的128个4x4的图像转换为一维的向量，长度是128*4*4=2048\n",
    "#128个神经元\n",
    "with tf.name_scope('fc'):\n",
    "    #全连接一层\n",
    "    W4 = weight([2048,256],w1=0.004) #256个神经元\n",
    "    b4 = bias([256])\n",
    "    flat = tf.reshape(pool_3,[-1,2048])\n",
    "    h1 = tf.nn.relu(tf.matmul(flat,W4)+b4)\n",
    "    #全连接二层\n",
    "    W5 = weight([256,128],w1=0.004) #128个神经元\n",
    "    b5 =  bias([128])\n",
    "    h2 = tf.nn.relu(tf.matmul(h1,W5)+b5)\n",
    "    h_dropout = tf.nn.dropout(h2,keep_prob=0.8)\n",
    "    \n",
    "    \n",
    "#输出层\n",
    "#输出层共有10个神经元，对应到0-9这10个类别\n",
    "with tf.name_scope('output_layer'):\n",
    "    W6 = weight([128,10],w1=0.0)\n",
    "    b6 = bias([10])\n",
    "    pred = tf.matmul(h_dropout,W6)+b6"
   ]
  },
  {
   "cell_type": "markdown",
   "metadata": {},
   "source": [
    "# 构建模型"
   ]
  },
  {
   "cell_type": "markdown",
   "metadata": {},
   "source": [
    "## 定义标签占位符"
   ]
  },
  {
   "cell_type": "code",
   "execution_count": 6,
   "metadata": {},
   "outputs": [],
   "source": [
    "with tf.name_scope(\"labels\"):\n",
    "    #定义占位符\n",
    "    y = tf.placeholder('float',shape=[None,10],name='label')"
   ]
  },
  {
   "cell_type": "markdown",
   "metadata": {},
   "source": [
    "## 定义损失函数"
   ]
  },
  {
   "cell_type": "code",
   "execution_count": 7,
   "metadata": {},
   "outputs": [
    {
     "name": "stdout",
     "output_type": "stream",
     "text": [
      "WARNING:tensorflow:From <ipython-input-7-46046dfc0910>:2: softmax_cross_entropy_with_logits (from tensorflow.python.ops.nn_ops) is deprecated and will be removed in a future version.\n",
      "Instructions for updating:\n",
      "\n",
      "Future major versions of TensorFlow will allow gradients to flow\n",
      "into the labels input on backprop by default.\n",
      "\n",
      "See `tf.nn.softmax_cross_entropy_with_logits_v2`.\n",
      "\n"
     ]
    }
   ],
   "source": [
    "with tf.name_scope(\"loss\"):\n",
    "    loss_mse = tf.reduce_mean(tf.nn.softmax_cross_entropy_with_logits(logits=pred,labels=y))\n",
    "    loss_function = loss_mse+tf.add_n(tf.get_collection('losses'))        "
   ]
  },
  {
   "cell_type": "markdown",
   "metadata": {},
   "source": [
    "## 设置训练参数"
   ]
  },
  {
   "cell_type": "code",
   "execution_count": 8,
   "metadata": {},
   "outputs": [],
   "source": [
    "train_epoches = 10\n",
    "batch_size = 50\n",
    "total_batch = int(len(Xtrain)/batch_size)\n",
    "learning_rate = 0.001\n",
    "epoch_list = [];accuracy_list = [];loss_list = [] \n",
    "epoch =tf.Variable(0,name='epoch',trainable=False)"
   ]
  },
  {
   "cell_type": "markdown",
   "metadata": {},
   "source": [
    "## 选择优化器"
   ]
  },
  {
   "cell_type": "code",
   "execution_count": 9,
   "metadata": {},
   "outputs": [],
   "source": [
    "with tf.name_scope(\"optimizer\"):\n",
    "    optimizer = tf.train.AdamOptimizer(learning_rate).minimize(loss_function)   "
   ]
  },
  {
   "cell_type": "markdown",
   "metadata": {},
   "source": [
    "## 定义准确率"
   ]
  },
  {
   "cell_type": "code",
   "execution_count": 10,
   "metadata": {},
   "outputs": [],
   "source": [
    "with tf.name_scope(\"evaluation\"):\n",
    "    correct_prediction = tf.equal(tf.argmax(y,1),tf.argmax(pred,1))\n",
    "    accuracy = tf.reduce_mean(tf.cast(correct_prediction,\"float\"))"
   ]
  },
  {
   "cell_type": "markdown",
   "metadata": {},
   "source": [
    "## 开启会话"
   ]
  },
  {
   "cell_type": "code",
   "execution_count": 11,
   "metadata": {},
   "outputs": [],
   "source": [
    "config = tf.ConfigProto()\n",
    "#config.gpu_options.per_process_gpu_memory_fraction = 0.3\n",
    "config.gpu_options.allow_growth=True\n",
    "sess = tf.Session(config=config)\n",
    "\n",
    "init = tf.global_variables_initializer()\n",
    "sess.run(init)"
   ]
  },
  {
   "cell_type": "markdown",
   "metadata": {},
   "source": [
    "## 断点续训"
   ]
  },
  {
   "cell_type": "code",
   "execution_count": 12,
   "metadata": {},
   "outputs": [
    {
     "name": "stdout",
     "output_type": "stream",
     "text": [
      "WARNING:tensorflow:From /Users/lumin/Library/Python/3.7/lib/python/site-packages/tensorflow/python/training/saver.py:1276: checkpoint_exists (from tensorflow.python.training.checkpoint_management) is deprecated and will be removed in a future version.\n",
      "Instructions for updating:\n",
      "Use standard file APIs to check for files with this prefix.\n",
      "INFO:tensorflow:Restoring parameters from ./CIFAR10_log/CIFAR10_cnn_model.cpkt-10\n",
      "Training starts from 10 epoch.\n"
     ]
    }
   ],
   "source": [
    "import os\n",
    "\n",
    "#设置检查点存储目录\n",
    "ckpt_dir = './CIFAR10_log/'\n",
    "if not os.path.exists(ckpt_dir):\n",
    "    os.makedirs(ckpt_dir)\n",
    "    \n",
    "#生成saver\n",
    "saver = tf.train.Saver(max_to_keep=1)\n",
    "\n",
    "#如果有检查文件，读取最新的检查点文件，恢复各种变量值\n",
    "ckpt = tf.train.latest_checkpoint(ckpt_dir)\n",
    "if ckpt != None:\n",
    "    saver.restore(sess,ckpt) #加载所有的参数\n",
    "    #从这里开始就可以直接使用模型进行预测，或者接着继续训练了\n",
    "else:\n",
    "    print(\"Training from scratch.\")\n",
    "    \n",
    "#获取续训参数\n",
    "start = sess.run(epoch)\n",
    "print(\"Training starts from {} epoch.\".format(start+1))"
   ]
  },
  {
   "cell_type": "markdown",
   "metadata": {},
   "source": [
    "## 迭代训练"
   ]
  },
  {
   "cell_type": "code",
   "execution_count": 13,
   "metadata": {
    "scrolled": false
   },
   "outputs": [
    {
     "name": "stdout",
     "output_type": "stream",
     "text": [
      "Batch0 finised\n",
      "Batch100 finised\n",
      "Batch200 finised\n",
      "Batch300 finised\n",
      "Batch400 finised\n",
      "Batch500 finised\n",
      "Batch600 finised\n",
      "Batch700 finised\n",
      "Batch800 finised\n",
      "Batch900 finised\n",
      "Train epoch: 10 Loss: 0.612981 Accuracy: 0.8200\n",
      "Train finished takes: 55.41235613822937\n"
     ]
    }
   ],
   "source": [
    "# 记录训练开始的时间\n",
    "from time import time\n",
    "startTime = time()\n",
    "\n",
    "def get_train_batch(number,batch_size):\n",
    "    return Xtrain_normalize[number*batch_size:(number+1)*batch_size],\\\n",
    "           Ytrain_onehot[number*batch_size:(number+1)*batch_size]\n",
    "\n",
    "for ep in range(start,train_epoches):\n",
    "    for i in range(total_batch):\n",
    "        batch_x,batch_y = get_train_batch(i,batch_size)\n",
    "        sess.run(optimizer,feed_dict={x:batch_x,y:batch_y})\n",
    "        if i % 100 == 0:\n",
    "            print(\"Batch{}\".format(i),\"finised\")\n",
    "            \n",
    "    loss,acc = sess.run([loss_function,accuracy],feed_dict={x:batch_x,y:batch_y})\n",
    "    epoch_list.append(ep+1)\n",
    "    loss_list.append(loss)\n",
    "    accuracy_list.append(acc)\n",
    "    print(\"Train epoch:\",\"%02d\" % (sess.run(epoch+1)),\\\n",
    "          \"Loss:\",\"{:.6f}\".format(loss),\\\n",
    "          \"Accuracy:\",\"{:.4f}\".format(acc))\n",
    "    \n",
    "    #保存检查点\n",
    "    saver.save(sess,ckpt_dir+\"CIFAR10_cnn_model.cpkt\",global_step=ep+1)\n",
    "    sess.run(epoch.assign(ep+1))\n",
    "    \n",
    "duration = time()-startTime\n",
    "print(\"Train finished takes:\",duration)"
   ]
  },
  {
   "cell_type": "markdown",
   "metadata": {},
   "source": [
    "## 可视化损失值、准确率"
   ]
  },
  {
   "cell_type": "code",
   "execution_count": 14,
   "metadata": {},
   "outputs": [
    {
     "data": {
      "text/plain": [
       "<function matplotlib.pyplot.show(*args, **kw)>"
      ]
     },
     "execution_count": 14,
     "metadata": {},
     "output_type": "execute_result"
    },
    {
     "data": {
      "image/png": "[encoded data removed]",
      "text/plain": [
       "<Figure size 288x144 with 1 Axes>"
      ]
     },
     "metadata": {
      "needs_background": "light"
     },
     "output_type": "display_data"
    }
   ],
   "source": [
    "%matplotlib inline\n",
    "import matplotlib.pyplot as plt\n",
    "\n",
    "# 准确率、损失值可视化\n",
    "fig = plt.gcf()\n",
    "fig.set_size_inches(4,2)\n",
    "plt.plot(epoch_list,loss_list,color = 'red',label = \"loss\")\n",
    "plt.plot(epoch_list,accuracy_list,color = 'blue',label = 'accuracy')\n",
    "plt.xlabel('epoch')\n",
    "plt.legend()\n",
    "plt.show"
   ]
  },
  {
   "cell_type": "markdown",
   "metadata": {},
   "source": [
    "# 模型评估及预测"
   ]
  },
  {
   "cell_type": "markdown",
   "metadata": {},
   "source": [
    "## 计算测试集上个准确率"
   ]
  },
  {
   "cell_type": "code",
   "execution_count": 15,
   "metadata": {},
   "outputs": [
    {
     "name": "stdout",
     "output_type": "stream",
     "text": [
      "Test accuracy:0.720000\n"
     ]
    }
   ],
   "source": [
    "test_total_batch = int(len(Xtest_normalize)/batch_size)\n",
    "test_acc_sum = 0.0\n",
    "for i in range(test_total_batch):\n",
    "    test_image_batch = Xtest_normalize[i*batch_size:(i+1)*batch_size]\n",
    "    test_label_batch = Ytest_onehot[i*batch_size:(i+1)*batch_size]\n",
    "    test_batch_acc = sess.run(accuracy,feed_dict={x:test_image_batch,y:test_label_batch})\n",
    "    test_acc_sum +=test_batch_acc\n",
    "test_acc = float(test_acc_sum/test_total_batch)\n",
    "print(\"Test accuracy:{:.6f}\".format(test_acc))"
   ]
  },
  {
   "cell_type": "markdown",
   "metadata": {},
   "source": [
    "## 预测可视化"
   ]
  },
  {
   "cell_type": "code",
   "execution_count": 16,
   "metadata": {},
   "outputs": [
    {
     "data": {
      "image/png": "[encoded data removed]",
      "text/plain": [
       "<Figure size 864x432 with 10 Axes>"
      ]
     },
     "metadata": {
      "needs_background": "light"
     },
     "output_type": "display_data"
    }
   ],
   "source": [
    "# 定义显示图像数据及其对应标签的函数\n",
    "#定义标签字典，没一个数字所代表的图像类别的名称\n",
    "label_dict = {0:\"airplane\",1:\"automobile\",2:\"bird\",3:\"cat\",4:\"deer\",\n",
    "              5:\"dog\",6:\"frog\",7:\"horese\",8:\"ship\",9:\"trcuk\"}\n",
    "\n",
    "def plot_images_labels_prediction(images,labels,prediction,index,num=10):\n",
    "    fig = plt.gcf()\n",
    "    fig.set_size_inches(12,6)\n",
    "    if num > 10:\n",
    "        num = 10\n",
    "    for i in range(0,num):\n",
    "        ax = plt.subplot(2,5,1+i)#获取当前要处理的子图\n",
    "        ax.imshow(images[index],cmap = 'binary') #显示第index个图像\n",
    "        \n",
    "        title = str(index)+','+label_dict[labels[index]]\n",
    "        if len(prediction) > 0:\n",
    "            title += '=>'+label_dict[prediction[index]]\n",
    "            \n",
    "        ax.set_title(title,fontsize = 10)\n",
    "        \n",
    "        index+=1\n",
    "    plt.show()\n",
    "    \n",
    "    \n",
    "#利用模型进行预测\n",
    "prediction_result = sess.run(tf.argmax(pred,1),feed_dict={x:Xtest_normalize[:10]})\n",
    "\n",
    "#可视化预测结果\n",
    "plot_images_labels_prediction(Xtest,Ytest,prediction_result,0,10)"
   ]
  },
  {
   "cell_type": "code",
   "execution_count": null,
   "metadata": {},
   "outputs": [],
   "source": []
  }
 ],
 "metadata": {
  "anaconda-cloud": {},
  "kernelspec": {
   "display_name": "Python 3",
   "language": "python",
   "name": "python3"
  },
  "language_info": {
   "codemirror_mode": {
    "name": "ipython",
    "version": 3
   },
   "file_extension": ".py",
   "mimetype": "text/x-python",
   "name": "python",
   "nbconvert_exporter": "python",
   "pygments_lexer": "ipython3",
   "version": "3.7.3"
  }
 },
 "nbformat": 4,
 "nbformat_minor": 1
}
