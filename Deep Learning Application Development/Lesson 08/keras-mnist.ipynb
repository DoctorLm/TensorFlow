{
 "cells": [
  {
   "cell_type": "code",
   "execution_count": 1,
   "metadata": {},
   "outputs": [
    {
     "name": "stdout",
     "output_type": "stream",
     "text": [
      "TensorFlow版本: 2.9.1\n"
     ]
    }
   ],
   "source": [
    "#coding:utf-8\n",
    "import matplotlib.pyplot as plt\n",
    "import numpy as np\n",
    "import tensorflow as tf\n",
    "import os\n",
    "os.environ[\"TF_CPP_MIN_LOG_LEVEL\"] = \"2\"\n",
    "print(\"TensorFlow版本:\", tf.__version__)\n",
    "mnist = tf.keras.datasets.mnist"
   ]
  },
  {
   "cell_type": "code",
   "execution_count": 2,
   "metadata": {},
   "outputs": [
    {
     "name": "stdout",
     "output_type": "stream",
     "text": [
      "Downloading data from https://storage.googleapis.com/tensorflow/tf-keras-datasets/mnist.npz\n",
      "11490434/11490434 [==============================] - 1s 0us/step\n"
     ]
    }
   ],
   "source": [
    "(x_train, y_train), (x_test, y_test) = mnist.load_data()\n",
    "x_train, x_test = x_train / 255.0, x_test / 255.0"
   ]
  },
  {
   "cell_type": "code",
   "execution_count": 3,
   "metadata": {},
   "outputs": [],
   "source": [
    "model = tf.keras.models.Sequential([\n",
    "  tf.keras.layers.Flatten(input_shape=(28, 28)),\n",
    "  tf.keras.layers.Dense(128, activation='relu'),\n",
    "  tf.keras.layers.Dropout(0.2),\n",
    "  tf.keras.layers.Dense(10, activation='softmax')\n",
    "])"
   ]
  },
  {
   "cell_type": "code",
   "execution_count": 4,
   "metadata": {},
   "outputs": [],
   "source": [
    "model.compile(optimizer='adam',\n",
    "              loss='sparse_categorical_crossentropy',\n",
    "              metrics=['accuracy'])      "
   ]
  },
  {
   "cell_type": "code",
   "execution_count": 5,
   "metadata": {},
   "outputs": [
    {
     "name": "stdout",
     "output_type": "stream",
     "text": [
      "WARNING:tensorflow:`period` argument is deprecated. Please use `save_freq` to specify the frequency in number of batches seen.\n"
     ]
    }
   ],
   "source": [
    "logdir = './logs'\n",
    "checkpoint_path = \"./checkpoint/mnist.{epoch:02d}-{loss:.2f}.ckpt\"\n",
    "\n",
    "callbacks= [tf.keras.callbacks.TensorBoard(log_dir=logdir,histogram_freq=2),\n",
    "            tf.keras.callbacks.ModelCheckpoint(filepath=checkpoint_path, save_weights_only=True, verbose=1, period=1)]"
   ]
  },
  {
   "cell_type": "code",
   "execution_count": 6,
   "metadata": {},
   "outputs": [
    {
     "name": "stdout",
     "output_type": "stream",
     "text": [
      "Epoch 1/5\n",
      "\n",
      "Epoch 1: saving model to ./checkpoint/mnist.01-0.30.ckpt\n",
      "1875/1875 - 14s - loss: 0.2955 - accuracy: 0.9139 - 14s/epoch - 8ms/step\n",
      "Epoch 2/5\n",
      "\n",
      "Epoch 2: saving model to ./checkpoint/mnist.02-0.14.ckpt\n",
      "1875/1875 - 13s - loss: 0.1423 - accuracy: 0.9579 - 13s/epoch - 7ms/step\n",
      "Epoch 3/5\n",
      "\n",
      "Epoch 3: saving model to ./checkpoint/mnist.03-0.11.ckpt\n",
      "1875/1875 - 13s - loss: 0.1079 - accuracy: 0.9682 - 13s/epoch - 7ms/step\n",
      "Epoch 4/5\n",
      "\n",
      "Epoch 4: saving model to ./checkpoint/mnist.04-0.09.ckpt\n",
      "1875/1875 - 13s - loss: 0.0874 - accuracy: 0.9730 - 13s/epoch - 7ms/step\n",
      "Epoch 5/5\n",
      "\n",
      "Epoch 5: saving model to ./checkpoint/mnist.05-0.07.ckpt\n",
      "1875/1875 - 13s - loss: 0.0748 - accuracy: 0.9762 - 13s/epoch - 7ms/step\n",
      "{'loss': [0.2955271899700165, 0.1422964632511139, 0.10785319656133652, 0.08740411698818207, 0.07479662448167801], 'accuracy': [0.9139166474342346, 0.9579499959945679, 0.9681500196456909, 0.9730333089828491, 0.9761833548545837]}\n",
      "dict_keys(['loss', 'accuracy'])\n"
     ]
    }
   ],
   "source": [
    "train_history = model.fit(x_train, y_train, epochs=5, callbacks=callbacks, verbose=2)\n",
    "\n",
    "print(train_history.history)\n",
    "print(train_history.history.keys ())"
   ]
  },
  {
   "cell_type": "code",
   "execution_count": 7,
   "metadata": {},
   "outputs": [
    {
     "name": "stdout",
     "output_type": "stream",
     "text": [
      "313/313 - 2s - loss: 0.0739 - accuracy: 0.9767 - 2s/epoch - 8ms/step\n",
      "[0.07388384640216827, 0.9767000079154968]\n",
      "['loss', 'accuracy']\n"
     ]
    }
   ],
   "source": [
    "evaluate_result = model.evaluate(x_test,  y_test, verbose=2)\n",
    "\n",
    "print(evaluate_result)\n",
    "print(model.metrics_names)"
   ]
  },
  {
   "cell_type": "code",
   "execution_count": null,
   "metadata": {},
   "outputs": [],
   "source": []
  }
 ],
 "metadata": {
  "kernelspec": {
   "display_name": "Python 3",
   "language": "python",
   "name": "python3"
  },
  "language_info": {
   "codemirror_mode": {
    "name": "ipython",
    "version": 3
   },
   "file_extension": ".py",
   "mimetype": "text/x-python",
   "name": "python",
   "nbconvert_exporter": "python",
   "pygments_lexer": "ipython3",
   "version": "3.8.10"
  }
 },
 "nbformat": 4,
 "nbformat_minor": 2
}
