{
 "cells": [
  {
   "cell_type": "markdown",
   "metadata": {},
   "source": [
    "# 简明Python基础"
   ]
  },
  {
   "cell_type": "markdown",
   "metadata": {},
   "source": [
    "#### 1 简单 print 用法 \n",
    "#### print 函数 - 在终端中输出，Python3.x需要加（），Python2.x没有（）\n",
    "#### Python中没有强制的语句终止字符"
   ]
  },
  {
   "cell_type": "code",
   "execution_count": 1,
   "metadata": {},
   "outputs": [
    {
     "name": "stdout",
     "output_type": "stream",
     "text": [
      "Hello world!\n"
     ]
    }
   ],
   "source": [
    "print(\"Hello world!\")"
   ]
  },
  {
   "cell_type": "markdown",
   "metadata": {},
   "source": [
    "#### print默认输出是换行的"
   ]
  },
  {
   "cell_type": "code",
   "execution_count": 2,
   "metadata": {},
   "outputs": [
    {
     "name": "stdout",
     "output_type": "stream",
     "text": [
      "Hello\n",
      "world\n"
     ]
    }
   ],
   "source": [
    "print(\"Hello\")\n",
    "print(\"world\")"
   ]
  },
  {
   "cell_type": "markdown",
   "metadata": {},
   "source": [
    "#### 如果要实现print输出不换行，需要指定结尾符end=''"
   ]
  },
  {
   "cell_type": "code",
   "execution_count": 3,
   "metadata": {},
   "outputs": [
    {
     "name": "stdout",
     "output_type": "stream",
     "text": [
      "Hello world!\n"
     ]
    }
   ],
   "source": [
    "print(\"Hello\", end=' ')\n",
    "print(\"world!\")"
   ]
  },
  {
   "cell_type": "code",
   "execution_count": 4,
   "metadata": {},
   "outputs": [
    {
     "name": "stdout",
     "output_type": "stream",
     "text": [
      "Hello world!\n"
     ]
    }
   ],
   "source": [
    "print(\"Hello\",\"world!\")"
   ]
  },
  {
   "cell_type": "markdown",
   "metadata": {},
   "source": [
    "#### 变量与基本数据类型\n",
    "#### 每个变量在内存中创建，都包括变量的标识，名称和数据这些信息\n",
    "#### 每个变量在使用前都必须赋值\n",
    "#### 赋值号是“=”"
   ]
  },
  {
   "cell_type": "code",
   "execution_count": 5,
   "metadata": {},
   "outputs": [
    {
     "name": "stdout",
     "output_type": "stream",
     "text": [
      "3 3.1415926 Hello\n"
     ]
    }
   ],
   "source": [
    "int_var = 3\n",
    "float_var = 3.1415926\n",
    "str_var = \"Hello\"\n",
    "\n",
    "print(int_var, float_var, str_var)"
   ]
  },
  {
   "cell_type": "markdown",
   "metadata": {},
   "source": [
    "#### Python 中的变量赋值不需要数据类型声明，数据类型根据具体的赋值确定"
   ]
  },
  {
   "cell_type": "code",
   "execution_count": 6,
   "metadata": {},
   "outputs": [
    {
     "name": "stdout",
     "output_type": "stream",
     "text": [
      "3 <class 'int'>\n",
      "3.1415926 <class 'float'>\n",
      "Hello <class 'str'>\n"
     ]
    }
   ],
   "source": [
    "print(int_var, type(int_var))\n",
    "print(float_var, type(float_var))\n",
    "print(str_var, type(str_var))"
   ]
  },
  {
   "cell_type": "markdown",
   "metadata": {},
   "source": [
    "# Python的标识符\n",
    "在python里，标识符由字母、数字、下划线组成\n",
    "在python中，所有标识符可以包括英文、数字以及下划线_，但不能以数字开头"
   ]
  },
  {
   "cell_type": "code",
   "execution_count": 7,
   "metadata": {},
   "outputs": [],
   "source": [
    "x_6 = 5"
   ]
  },
  {
   "cell_type": "code",
   "execution_count": 8,
   "metadata": {},
   "outputs": [],
   "source": [
    "#错误标识符\n",
    "#6_x = 5"
   ]
  },
  {
   "cell_type": "markdown",
   "metadata": {},
   "source": [
    "### python中的标识符是区分大小写的"
   ]
  },
  {
   "cell_type": "code",
   "execution_count": 9,
   "metadata": {},
   "outputs": [
    {
     "name": "stdout",
     "output_type": "stream",
     "text": [
      "5 6\n"
     ]
    }
   ],
   "source": [
    "# 标识符区分大小写\n",
    "x_6 = 5\n",
    "X_6 = 6\n",
    "print(x_6, X_6)"
   ]
  },
  {
   "cell_type": "markdown",
   "metadata": {},
   "source": [
    "### python3直接支持中文符号，包括标识符名"
   ]
  },
  {
   "cell_type": "code",
   "execution_count": 10,
   "metadata": {},
   "outputs": [
    {
     "name": "stdout",
     "output_type": "stream",
     "text": [
      "8\n"
     ]
    }
   ],
   "source": [
    "变量1 = 8\n",
    "print(变量1)"
   ]
  },
  {
   "cell_type": "markdown",
   "metadata": {},
   "source": [
    "# 数字数据类型\n",
    "    数字数据类型用于存储数值\n",
    "    Python支持不同的数字类型：\n",
    "    int（有符号整型），缺省十进制，还可以表示2进制、8进制和16进制；\n",
    "    Python3不再保留长整形，统一为int\n",
    "    float（浮点型），可以用科学计数法表示\n",
    "    complex（复数），复数由实数部分和虚数部分构成，可以用a + bj，或者\n",
    "    complex(a,b)表示，复数的实部a和虚部b都是浮点型"
   ]
  },
  {
   "cell_type": "markdown",
   "metadata": {},
   "source": [
    "#### 0b, 0o,0x分别代表2进制、8进制和16进制数"
   ]
  },
  {
   "cell_type": "code",
   "execution_count": 11,
   "metadata": {},
   "outputs": [
    {
     "name": "stdout",
     "output_type": "stream",
     "text": [
      "2 8 16\n"
     ]
    }
   ],
   "source": [
    "var1 = 0b10; var2 = 0o10; var3 = 0x10\n",
    "print(var1, var2, var3)"
   ]
  },
  {
   "cell_type": "markdown",
   "metadata": {},
   "source": [
    "#### 多条语句可以放在一行，中间用分号“；”隔开"
   ]
  },
  {
   "cell_type": "markdown",
   "metadata": {},
   "source": [
    "#### Python直接支持很长的整数"
   ]
  },
  {
   "cell_type": "code",
   "execution_count": 12,
   "metadata": {},
   "outputs": [
    {
     "name": "stdout",
     "output_type": "stream",
     "text": [
      "1234567891012345678901234567890 <class 'int'>\n"
     ]
    }
   ],
   "source": [
    "var1 = 1234567891012345678901234567890\n",
    "print(var1, type(var1))"
   ]
  },
  {
   "cell_type": "markdown",
   "metadata": {},
   "source": [
    "#### float - 浮点数，例子：-1.8，3，5，1e-5,6.7e15"
   ]
  },
  {
   "cell_type": "code",
   "execution_count": 13,
   "metadata": {},
   "outputs": [
    {
     "name": "stdout",
     "output_type": "stream",
     "text": [
      "1e-05 6700000000000000.0 6.7e+16 -1.8\n"
     ]
    }
   ],
   "source": [
    "var1 = 1e-5; var2 = 6.7e15; var3 = 6.7e16; var4 = -1.8\n",
    "print(var1, var2, var3, var4)"
   ]
  },
  {
   "cell_type": "markdown",
   "metadata": {},
   "source": [
    "#### 复数由实数部分和虚数部分构成，可以用a+bj，或者complex(a,b)表示，复数的实部a和虚部b都是浮点型"
   ]
  },
  {
   "cell_type": "code",
   "execution_count": 14,
   "metadata": {},
   "outputs": [
    {
     "name": "stdout",
     "output_type": "stream",
     "text": [
      "(3+5.3j) <class 'complex'> (340000+7.8j) <class 'complex'>\n"
     ]
    }
   ],
   "source": [
    "var1 = 3+5.3j; var2 = complex(3.4e5, 7.8)\n",
    "print(var1, type(var1), var2, type(var2))"
   ]
  },
  {
   "cell_type": "markdown",
   "metadata": {},
   "source": [
    "#### 布尔类型，bool值：True and False"
   ]
  },
  {
   "cell_type": "code",
   "execution_count": 15,
   "metadata": {},
   "outputs": [
    {
     "name": "stdout",
     "output_type": "stream",
     "text": [
      "True <class 'bool'>\n",
      "False <class 'bool'>\n"
     ]
    }
   ],
   "source": [
    "i_love_you = True\n",
    "you_love_me = False\n",
    "print(i_love_you,type(i_love_you))\n",
    "print(you_love_me,type(you_love_me))"
   ]
  },
  {
   "cell_type": "markdown",
   "metadata": {},
   "source": [
    "# 注释"
   ]
  },
  {
   "cell_type": "code",
   "execution_count": 16,
   "metadata": {},
   "outputs": [
    {
     "name": "stdout",
     "output_type": "stream",
     "text": [
      "这句能打印出来\n"
     ]
    }
   ],
   "source": [
    "# 单行注释用\"#\"\n",
    "print(\"这句能打印出来\")\n",
    "#print(\"这句不能打印出来\")"
   ]
  },
  {
   "cell_type": "code",
   "execution_count": 17,
   "metadata": {},
   "outputs": [
    {
     "name": "stdout",
     "output_type": "stream",
     "text": [
      "这句不能打印出来\n",
      "这句能打印出来\n"
     ]
    }
   ],
   "source": [
    "# 多行注释用'''或者\"\"\"\n",
    "print(\"这句不能打印出来\")\n",
    "'''print(\"这句不能打印出来\")\n",
    "print(\"这句不能打印出来\")\n",
    "print(\"这句不能打印出来\")'''\n",
    "\n",
    "print(\"这句能打印出来\")"
   ]
  },
  {
   "cell_type": "markdown",
   "metadata": {},
   "source": [
    "# 算术运算"
   ]
  },
  {
   "cell_type": "markdown",
   "metadata": {},
   "source": [
    "### 比较运算\n",
    "### 赋值运算\n",
    "### 逻辑运算"
   ]
  },
  {
   "cell_type": "code",
   "execution_count": null,
   "metadata": {},
   "outputs": [],
   "source": []
  }
 ],
 "metadata": {
  "kernelspec": {
   "display_name": "Python 3",
   "language": "python",
   "name": "python3"
  },
  "language_info": {
   "codemirror_mode": {
    "name": "ipython",
    "version": 3
   },
   "file_extension": ".py",
   "mimetype": "text/x-python",
   "name": "python",
   "nbconvert_exporter": "python",
   "pygments_lexer": "ipython3",
   "version": "3.7.3"
  }
 },
 "nbformat": 4,
 "nbformat_minor": 2
}
