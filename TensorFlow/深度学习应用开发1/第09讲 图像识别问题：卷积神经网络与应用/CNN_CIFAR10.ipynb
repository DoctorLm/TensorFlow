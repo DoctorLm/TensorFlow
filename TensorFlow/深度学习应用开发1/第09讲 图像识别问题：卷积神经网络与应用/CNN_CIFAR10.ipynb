{
 "cells": [
  {
   "cell_type": "markdown",
   "metadata": {},
   "source": [
    "# 1 案例描述\n",
    "使用卷积神经网络对CIFAR10数据集进行分类"
   ]
  },
  {
   "cell_type": "markdown",
   "metadata": {},
   "source": [
    "# 2 CIFAR10 数据集\n",
    "#### ● CIFAR-10是一个用于识别普通物体的小型数据集，它包含了10个类别的RBG图\n",
    "#### ● 图片尺寸：32 X 32\n",
    "#### ● 训练图片50000张，测试图片10000张\n",
    "#### ● https://www.cs.toronto.edu/~kriz/cifar.html"
   ]
  },
  {
   "cell_type": "markdown",
   "metadata": {},
   "source": [
    "## 2.1 下载CIFAR数据集"
   ]
  },
  {
   "cell_type": "code",
   "execution_count": 1,
   "metadata": {},
   "outputs": [],
   "source": [
    "%matplotlib inline\n",
    "import urllib.request\n",
    "import os\n",
    "import tarfile\n",
    "import time\n",
    "import numpy as np\n",
    "import pickle as p\n",
    "import matplotlib.pyplot as plt\n",
    "#os.environ[\"CUDA_VISIBLE_DEVICES\"] = \"-1\" # CUP"
   ]
  },
  {
   "cell_type": "code",
   "execution_count": 2,
   "metadata": {},
   "outputs": [
    {
     "name": "stdout",
     "output_type": "stream",
     "text": [
      "Data file already exists.\n",
      "Directory already exists.\n"
     ]
    }
   ],
   "source": [
    "start = time.perf_counter()\n",
    "def fun(blocknum,blocksize,totalsize):\n",
    "    \"\"\"\n",
    "    blocknum:当前的块编号\n",
    "    blocksize:每次传输的块大小\n",
    "    totalsize:网页文件总大小\n",
    "    \"\"\"\n",
    "    percent = blocknum*blocksize/totalsize\n",
    "    \n",
    "    if percent > 1.0:\n",
    "        percent = 1.0\n",
    "    percent = percent*100\n",
    "\n",
    "    #print(\"\\r Download : %.2f%%\" %(percent), end=\"\")\n",
    "    #print(\"\\r Download:{0:.2f}%\".format(percent), end=\"\")\n",
    "    scale = int(percent/5)\n",
    "    for i in range(scale+1):\n",
    "        a = '*' * i\n",
    "        b = '.' * (scale - i)\n",
    "        c = percent\n",
    "        dur = time.perf_counter() - start\n",
    "        print(\"\\r{:^3.2f}%[{}->{}]{:.2f}s\".format(c,a,b,dur),end='')\n",
    "    \n",
    "# 下载\n",
    "url = 'http://www.cs.toronto.edu/~kriz/cifar-10-python.tar.gz'\n",
    "filepath = '/Users/lumin/Documents/dataset/cifar-10_data/cifar-10-python.tar.gz'\n",
    "if not os.path.isfile(filepath):\n",
    "    result = urllib.request.urlretrieve(url, filepath, fun)\n",
    "    print('downloaded:',result)\n",
    "else:\n",
    "    print('Data file already exists.')\n",
    "\n",
    "# 解压\n",
    "if not os.path.exists(\"/Users/lumin/Documents/dataset/cifar-10_data/cifar-10-python.tar.gz\"):\n",
    "    tfile = tarfile.open(\"/Users/lumin/Documents/dataset/cifar-10_data/cifar-10-python.tar.gz\",'r:gz')\n",
    "    result = tfile.extractall('data/')\n",
    "    print('Extracted to ./Users/lumin/Documents/dataset/cifar-10_data/cifar-10-batches-py/')\n",
    "else:\n",
    "    print('Directory already exists.')"
   ]
  },
  {
   "cell_type": "markdown",
   "metadata": {},
   "source": [
    "## 2.2导入CIFAR数据集"
   ]
  },
  {
   "cell_type": "code",
   "execution_count": 3,
   "metadata": {},
   "outputs": [
    {
     "name": "stdout",
     "output_type": "stream",
     "text": [
      "loading /Users/lumin/Documents/dataset/cifar-10_data/cifar-10-batches-py/data_batch_1\n",
      "loading /Users/lumin/Documents/dataset/cifar-10_data/cifar-10-batches-py/data_batch_2\n",
      "loading /Users/lumin/Documents/dataset/cifar-10_data/cifar-10-batches-py/data_batch_3\n",
      "loading /Users/lumin/Documents/dataset/cifar-10_data/cifar-10-batches-py/data_batch_4\n",
      "loading /Users/lumin/Documents/dataset/cifar-10_data/cifar-10-batches-py/data_batch_5\n",
      "finished loadding CIFAR-10 data\n"
     ]
    }
   ],
   "source": [
    "def load_CIFAR_batch(filename):\n",
    "    \"\"\"load single batch of cifar\"\"\"\n",
    "    with open(filename, 'rb')as f:\n",
    "        #一个样本由标签和图像数据组成\n",
    "        #<1 x label><3072 x pixel> (3072=32x32x3)\n",
    "        #...\n",
    "        #<1 x label><3072 x pixel>\n",
    "        data_dict = p.load(f, encoding='bytes')\n",
    "        images = data_dict[b'data']\n",
    "        labels = data_dict[b'labels']\n",
    "        \n",
    "        #把原始数据结构调整为：BCWH\n",
    "        images = images.reshape(10000,3,32,32)\n",
    "        \n",
    "        #tensorflow处理图像数据的结构：BWHC\n",
    "        #把通道数据C移动到最后一个维度\n",
    "        images = images.transpose(0,2,3,1)\n",
    "        \n",
    "        labels = np.array(labels)\n",
    "        \n",
    "        return images,labels\n",
    "\n",
    "def load_CIFAR_data(data_dir):\n",
    "    \"\"\"load CIFAR data\"\"\"\n",
    "    \n",
    "    images_train = []\n",
    "    labels_train = []\n",
    "    for i in range(5):\n",
    "        f = os.path.join(data_dir, 'data_batch_%d' % (i+1))\n",
    "        print('loading', f)\n",
    "        \n",
    "        #调用load_CIFAR_batch()获得批量的图像及其对应的标签\n",
    "        image_batch,label_batch = load_CIFAR_batch(f)\n",
    "        images_train.append(image_batch)\n",
    "        labels_train.append(label_batch)\n",
    "        Xtrain = np.concatenate(images_train)\n",
    "        Ytrain = np.concatenate(labels_train)\n",
    "        del image_batch,label_batch\n",
    "    \n",
    "    Xtest,Ytest = load_CIFAR_batch(os.path.join(data_dir,'test_batch'))\n",
    "    print('finished loadding CIFAR-10 data')\n",
    "    \n",
    "    #返回训练集的图像和标签，测试集的图像和标签\n",
    "    return Xtrain,Ytrain,Xtest,Ytest\n",
    "\n",
    "data_dir = '/Users/lumin/Documents/dataset/cifar-10_data/cifar-10-batches-py/'\n",
    "Xtrain,Ytrain,Xtest,Ytest = load_CIFAR_data(data_dir)"
   ]
  },
  {
   "cell_type": "markdown",
   "metadata": {},
   "source": [
    "## 2.3 显示数据集信息"
   ]
  },
  {
   "cell_type": "code",
   "execution_count": 4,
   "metadata": {},
   "outputs": [
    {
     "name": "stdout",
     "output_type": "stream",
     "text": [
      "training data shape: (50000, 32, 32, 3)\n",
      "training labels shape: (50000,)\n",
      "test data shape: (10000, 32, 32, 3)\n",
      "test labels shape: (10000,)\n"
     ]
    }
   ],
   "source": [
    "print('training data shape:', Xtrain.shape)\n",
    "print('training labels shape:', Ytrain.shape)\n",
    "print('test data shape:', Xtest.shape)\n",
    "print('test labels shape:', Ytest.shape)"
   ]
  },
  {
   "cell_type": "markdown",
   "metadata": {},
   "source": [
    "## 2.4 查看单项image和label"
   ]
  },
  {
   "cell_type": "code",
   "execution_count": 5,
   "metadata": {},
   "outputs": [
    {
     "data": {
      "text/plain": [
       "<matplotlib.image.AxesImage at 0x1184dd898>"
      ]
     },
     "execution_count": 5,
     "metadata": {},
     "output_type": "execute_result"
    },
    {
     "data": {
      "image/png": "[encoded data removed]",
      "text/plain": [
       "<Figure size 432x288 with 1 Axes>"
      ]
     },
     "metadata": {
      "needs_background": "light"
     },
     "output_type": "display_data"
    }
   ],
   "source": [
    "#查看image\n",
    "plt.imshow(Xtrain[6])"
   ]
  },
  {
   "cell_type": "code",
   "execution_count": 6,
   "metadata": {},
   "outputs": [
    {
     "name": "stdout",
     "output_type": "stream",
     "text": [
      "2\n"
     ]
    }
   ],
   "source": [
    "#查看label\n",
    "#对应类别信息可查看：http://www.cs.toronto.edu/~kriz/cifar.html\n",
    "print(Ytrain[6])"
   ]
  },
  {
   "cell_type": "markdown",
   "metadata": {},
   "source": [
    "## 2.5查看多项images与label"
   ]
  },
  {
   "cell_type": "code",
   "execution_count": 7,
   "metadata": {},
   "outputs": [
    {
     "data": {
      "image/png": "[encoded data removed]",
      "text/plain": [
       "<Figure size 864x432 with 10 Axes>"
      ]
     },
     "metadata": {
      "needs_background": "light"
     },
     "output_type": "display_data"
    }
   ],
   "source": [
    "import matplotlib.pyplot as plt\n",
    "\n",
    "# 定义标签字典，每一个数字所代表的图像类别的名称\n",
    "label_dict = {0:\"airplane\", 1:\"automobile\", 2:\"bird\", 3:\"cat\", 4:\"deer\", \n",
    "              5:\"dog\", 6:\"frog\", 7:\"horse\", 8:\"ship\", 9:\"truck\"}\n",
    "\n",
    "# 定义显示图像数据及其对应标签的函数\n",
    "def plot_images_labels_prediction(images, labels, prediction, idx, num = 10):\n",
    "    fig = plt.gcf()\n",
    "    fig.set_size_inches(12, 6)\n",
    "    if num > 10:\n",
    "        num = 10\n",
    "    for i in range(0, num):\n",
    "        ax = plt.subplot(2, 5, 1+i)\n",
    "        ax.imshow(images[idx], cmap = 'binary')\n",
    "        \n",
    "        title = str(i)+','+label_dict[labels[idx]]\n",
    "        if len(prediction) > 0:\n",
    "            title +='=>'+label_dict[prediction[idx]]\n",
    "        \n",
    "        ax.set_title(title, fontsize = 10)\n",
    "        idx += 1\n",
    "    plt.show()\n",
    "\n",
    "# 显示图像数据及其对应标签\n",
    "plot_images_labels_prediction(Xtest, Ytest, [], 0, 10)"
   ]
  },
  {
   "cell_type": "markdown",
   "metadata": {},
   "source": [
    "# 3 数据预处理\n",
    "## 3.1 图像数据预处理"
   ]
  },
  {
   "cell_type": "code",
   "execution_count": 8,
   "metadata": {},
   "outputs": [
    {
     "data": {
      "text/plain": [
       "array([59, 62, 63], dtype=uint8)"
      ]
     },
     "execution_count": 8,
     "metadata": {},
     "output_type": "execute_result"
    }
   ],
   "source": [
    "# 查看图像数据信息\n",
    "# 显示第一个图的第一个像素点\n",
    "Xtrain[0][0][0]"
   ]
  },
  {
   "cell_type": "code",
   "execution_count": 9,
   "metadata": {},
   "outputs": [],
   "source": [
    "# 将图像进行数字标准化\n",
    "Xtrain_normalize = Xtrain.astype('float32')/255.0\n",
    "Xtest_normalize = Xtest.astype('float32')/255.0"
   ]
  },
  {
   "cell_type": "code",
   "execution_count": 10,
   "metadata": {},
   "outputs": [
    {
     "data": {
      "text/plain": [
       "array([0.23137255, 0.24313726, 0.24705882], dtype=float32)"
      ]
     },
     "execution_count": 10,
     "metadata": {},
     "output_type": "execute_result"
    }
   ],
   "source": [
    "# 查看预处理后图像数据信息\n",
    "Xtrain_normalize[0][0][0]"
   ]
  },
  {
   "cell_type": "markdown",
   "metadata": {},
   "source": [
    "## 3.2标签数据预处理"
   ]
  },
  {
   "cell_type": "code",
   "execution_count": 11,
   "metadata": {},
   "outputs": [
    {
     "data": {
      "text/plain": [
       "array([6, 9, 9, 4, 1, 1, 2, 7, 8, 3])"
      ]
     },
     "execution_count": 11,
     "metadata": {},
     "output_type": "execute_result"
    }
   ],
   "source": [
    "# 查看标签数据\n",
    "Ytrain[:10]"
   ]
  },
  {
   "cell_type": "markdown",
   "metadata": {},
   "source": [
    "# 独热编码（One-Hot Encoding)\n",
    "#### ●能够处理非连续型数值特征\n",
    "#### ●在一定程度上也扩充了特征。比如性别本身是一个特征，经过one-hot编码以后，就变成了男或女两个特征."
   ]
  },
  {
   "cell_type": "code",
   "execution_count": 12,
   "metadata": {},
   "outputs": [],
   "source": [
    "from sklearn.preprocessing import OneHotEncoder\n",
    "encoder = OneHotEncoder(sparse = False)\n",
    "yy = [[0],[1],[2],[3],[4],[5],[6],[7],[8],[9]]\n",
    "encoder.fit(yy)\n",
    "Ytrain_reshape = Ytrain.reshape(-1, 1)\n",
    "Ytrain_onehot = encoder.transform(Ytrain_reshape)\n",
    "Ytest_reshape = Ytest.reshape(-1, 1)\n",
    "Ytest_onehot = encoder.transform(Ytest_reshape)"
   ]
  },
  {
   "cell_type": "code",
   "execution_count": 13,
   "metadata": {},
   "outputs": [
    {
     "data": {
      "text/plain": [
       "(50000, 10)"
      ]
     },
     "execution_count": 13,
     "metadata": {},
     "output_type": "execute_result"
    }
   ],
   "source": [
    "Ytrain_onehot.shape"
   ]
  },
  {
   "cell_type": "code",
   "execution_count": 14,
   "metadata": {},
   "outputs": [
    {
     "data": {
      "text/plain": [
       "array([6, 9, 9, 4, 1])"
      ]
     },
     "execution_count": 14,
     "metadata": {},
     "output_type": "execute_result"
    }
   ],
   "source": [
    "Ytrain[:5]"
   ]
  },
  {
   "cell_type": "code",
   "execution_count": 15,
   "metadata": {},
   "outputs": [
    {
     "data": {
      "text/plain": [
       "array([[0., 0., 0., 0., 0., 0., 1., 0., 0., 0.],\n",
       "       [0., 0., 0., 0., 0., 0., 0., 0., 0., 1.],\n",
       "       [0., 0., 0., 0., 0., 0., 0., 0., 0., 1.],\n",
       "       [0., 0., 0., 0., 1., 0., 0., 0., 0., 0.],\n",
       "       [0., 1., 0., 0., 0., 0., 0., 0., 0., 0.]])"
      ]
     },
     "execution_count": 15,
     "metadata": {},
     "output_type": "execute_result"
    }
   ],
   "source": [
    "Ytrain_onehot[:5]"
   ]
  },
  {
   "cell_type": "code",
   "execution_count": 16,
   "metadata": {},
   "outputs": [],
   "source": [
    "import tensorflow as tf\n",
    "tf.reset_default_graph()"
   ]
  },
  {
   "cell_type": "markdown",
   "metadata": {},
   "source": [
    "# 4 建立CIFAR-10图像分类模型\n",
    "## 4.1 定义共享函数"
   ]
  },
  {
   "cell_type": "code",
   "execution_count": 17,
   "metadata": {},
   "outputs": [],
   "source": [
    "# 定义权值\n",
    "def weight(shape,w1):\n",
    "    # 在构建模型时，需要使用tf.Variable来创建一个变量\n",
    "    # 在训练时，这个变量不断更新\n",
    "    # 使用函数tf.truncated_normal(截断的正态分布)生成标准差为0.1的随机数来初始化权值\n",
    "    var = tf.Variable(tf.truncated_normal(shape,stddev=0.1),name='W')\n",
    "    if w1 is not None:\n",
    "        weight_loss = tf.multiply(tf.nn.l2_loss(var),w1,name='weight_loss')\n",
    "        tf.add_to_collection('losses',weight_loss)\n",
    "    return var\n",
    "\n",
    "# 定义偏置\n",
    "# 初始化为0.1\n",
    "def bias(shape):\n",
    "    return tf.Variable(tf.constant(0.1, shape = shape), name = 'b')\n",
    "\n",
    "# 定义卷积操作\n",
    "# 步长为1, padding为'SAME'\n",
    "def conv2d(x, W):\n",
    "    #tf.nn.conv2d(input, filter, strides, padding, use_cudnn_on_gpu=None, name=None)\n",
    "    return tf.nn.conv2d(x, W, strides=[1,1,1,1], padding='SAME')\n",
    "\n",
    "# 定义池化操作\n",
    "# 步长为2, 即原尺寸的长和宽各除以2\n",
    "def max_pool_2x2(x):\n",
    "    #tf.nn.max_pool(value, ksize, strides, padding, name=None)\n",
    "    return tf.nn.max_pool(x, ksize=[1,2,2,1], strides=[1,2,2,1], padding='SAME')"
   ]
  },
  {
   "cell_type": "markdown",
   "metadata": {},
   "source": [
    "## 4.2 定义网络结构"
   ]
  },
  {
   "cell_type": "code",
   "execution_count": 18,
   "metadata": {},
   "outputs": [
    {
     "name": "stdout",
     "output_type": "stream",
     "text": [
      "WARNING:tensorflow:From <ipython-input-18-5a2ba1b27fd6>:57: calling dropout (from tensorflow.python.ops.nn_ops) with keep_prob is deprecated and will be removed in a future version.\n",
      "Instructions for updating:\n",
      "Please use `rate` instead of `keep_prob`. Rate should be set to `rate = 1 - keep_prob`.\n"
     ]
    }
   ],
   "source": [
    "# 输入层\n",
    "# 32x32图像，通道为3(RGB)\n",
    "with tf.name_scope('input_layer'):\n",
    "    x = tf.placeholder('float', shape=[None, 32, 32, 3], name=\"x\")\n",
    "\n",
    "# 第1个卷积层\n",
    "# 输入通道：3，输出通道：32，卷积后图像尺寸不变，依然是32x32\n",
    "with tf.name_scope('conv_1'):\n",
    "    W1 = weight([3,3,3,32],w1=0.0) #[k_width, k_height, input_chn, output_chn]\n",
    "    b1 = bias([32]) #与output_chn一致\n",
    "    conv_1 = conv2d(x, W1) + b1\n",
    "    conv_1 = tf.nn.relu(conv_1)\n",
    "# 第1个池化层\n",
    "# 将32x32图像缩小为16x16, 池化不改变通道数量，因此依然是32个\n",
    "with tf.name_scope('pool_1'):\n",
    "    pool_1 = max_pool_2x2(conv_1)\n",
    "norm1 = tf.nn.lrn(pool_1,4,bias=1.0,alpha=0.001/9.0,beta=0.75)\n",
    "    \n",
    "#第2个卷积层\n",
    "#输入通道：32，输出通道：64，卷积后图像尺寸不变，依然是16x16\n",
    "with tf.name_scope('conv_2'):\n",
    "    W2 = weight([3,3,32,64],0.0)\n",
    "    b2 = bias([64])\n",
    "    conv_2 = conv2d(norm1, W2) + b2\n",
    "    conv_2 = tf.nn.lrn(tf.nn.relu(conv_2),4,bias=1.0,alpha=0.001/9.0,beta=0.75)\n",
    "#第2个池化层\n",
    "#将16x16图像缩小为8x8, 池化不改变通道数量，因此依然是64个\n",
    "with tf.name_scope('pool_2'):\n",
    "    pool_2 = max_pool_2x2(conv_2)\n",
    "    \n",
    "#第3个卷积层\n",
    "#输入通道：64，输出通道：128，卷积后图像尺寸不变，依然是8x8\n",
    "with tf.name_scope('conv_3'):\n",
    "    W3 = weight([3,3,64,128],w1=0.0)\n",
    "    b3 = bias([128])\n",
    "    conv_3 = conv2d(pool_2, W3) + b3\n",
    "    conv_3 = tf.nn.relu(conv_3)\n",
    "#第3个池化层\n",
    "#将8x8图像缩小为4x4, 池化不改变通道数量，因此依然是128个\n",
    "with tf.name_scope('pool_3'):\n",
    "    pool_3 = max_pool_2x2(conv_3)\n",
    "\n",
    "#全连接层\n",
    "#将池第3个池化层128个4x4的图像转换为一维的向量，长度是128x4x4=2048\n",
    "#256个神经元\n",
    "with tf.name_scope('fc'):\n",
    "    #全连接一层\n",
    "    W4 = weight([2048, 256],w1=0.004) #256个神经元\n",
    "    b4 = bias([256])\n",
    "    flat = tf.reshape(pool_3, [-1,2048])\n",
    "    h1 = tf.nn.relu(tf.matmul(flat, W4) + b4)\n",
    "    \n",
    "    #全连接二层\n",
    "    W5 = weight([256,128],w1=0.004) #128个神经元\n",
    "    b5 =  bias([128])\n",
    "    h2 = tf.nn.relu(tf.matmul(h1,W5)+b5)\n",
    "    h_dropout = tf.nn.dropout(h2,keep_prob=0.8)\n",
    "\n",
    "#输出层\n",
    "#输出层共有10个神经元，对应到0-9这10个类别\n",
    "with tf.name_scope('output_layer'):\n",
    "    W6 = weight([128, 10],w1=0.0)\n",
    "    b6 = bias([10])\n",
    "    pred = tf.nn.softmax(tf.matmul(h_dropout, W6) + b6)"
   ]
  },
  {
   "cell_type": "markdown",
   "metadata": {},
   "source": [
    "## 4.3 构建模型"
   ]
  },
  {
   "cell_type": "code",
   "execution_count": 19,
   "metadata": {},
   "outputs": [],
   "source": [
    "with tf.name_scope(\"labels\"):\n",
    "    # 定义占位符\n",
    "    y = tf.placeholder('float',shape=[None,10],name='label')"
   ]
  },
  {
   "cell_type": "code",
   "execution_count": 20,
   "metadata": {},
   "outputs": [
    {
     "name": "stdout",
     "output_type": "stream",
     "text": [
      "WARNING:tensorflow:From <ipython-input-20-252122a48735>:3: softmax_cross_entropy_with_logits (from tensorflow.python.ops.nn_ops) is deprecated and will be removed in a future version.\n",
      "Instructions for updating:\n",
      "\n",
      "Future major versions of TensorFlow will allow gradients to flow\n",
      "into the labels input on backprop by default.\n",
      "\n",
      "See `tf.nn.softmax_cross_entropy_with_logits_v2`.\n",
      "\n"
     ]
    }
   ],
   "source": [
    "# 定义损失函数\n",
    "with tf.name_scope(\"loss\"):\n",
    "    loss_mse = tf.reduce_mean(tf.nn.softmax_cross_entropy_with_logits(logits=pred,labels=y))\n",
    "    loss_function = loss_mse+tf.add_n(tf.get_collection('losses'))"
   ]
  },
  {
   "cell_type": "code",
   "execution_count": 21,
   "metadata": {},
   "outputs": [],
   "source": [
    "# 选择优化器\n",
    "with tf.name_scope(\"optimizer\"):\n",
    "    optimizer = tf.train.AdamOptimizer(0.001).minimize(loss_function)"
   ]
  },
  {
   "cell_type": "markdown",
   "metadata": {},
   "source": [
    "## 4.4 定义准确率"
   ]
  },
  {
   "cell_type": "code",
   "execution_count": 22,
   "metadata": {},
   "outputs": [],
   "source": [
    "with tf.name_scope(\"evaluation\"):\n",
    "    correct_prediction = tf.equal(tf.argmax(pred, 1), tf.argmax(y, 1))\n",
    "    accuracy = tf.reduce_mean(tf.cast(correct_prediction, \"float\"))"
   ]
  },
  {
   "cell_type": "markdown",
   "metadata": {},
   "source": [
    "# 5 训练模型\n",
    "## 5.1 启动会话"
   ]
  },
  {
   "cell_type": "code",
   "execution_count": 23,
   "metadata": {},
   "outputs": [],
   "source": [
    "from time import time\n",
    "\n",
    "train_epochs = 40\n",
    "batch_size = 50\n",
    "total_batch = int(len(Xtrain)/batch_size)\n",
    "epoch_list = []; accuracy_list=[]; loss_list=[];\n",
    "epoch = tf.Variable(0, name='epoch', trainable=False)\n",
    "\n",
    "startTime = time()\n",
    "\n",
    "sess = tf.Session()\n",
    "init = tf.global_variables_initializer()\n",
    "sess.run(init)"
   ]
  },
  {
   "cell_type": "markdown",
   "metadata": {},
   "source": [
    "## 5.2 断点续训"
   ]
  },
  {
   "cell_type": "code",
   "execution_count": 24,
   "metadata": {},
   "outputs": [
    {
     "name": "stdout",
     "output_type": "stream",
     "text": [
      "Traing from scratch.\n",
      "Trainig starts form 1 epoch.\n"
     ]
    }
   ],
   "source": [
    "#设置检查点存储目录\n",
    "ckpt_dir = \"/Users/lumin/Documents/dataset/cifar-10_data/CIFAR10_log/\"\n",
    "if not os.path.exists(ckpt_dir):\n",
    "    os.makedirs(ckpt_dir)\n",
    "\n",
    "#生成saver\n",
    "saver = tf.train.Saver(max_to_keep = 1)\n",
    "\n",
    "#如果有检查点文件，读取最新的检查点文件，恢复各种变量值\n",
    "ckpt = tf.train.latest_checkpoint(ckpt_dir)\n",
    "if ckpt != None:\n",
    "    saver.restore(sess, ckpt) #加载所有的参数\n",
    "    # 从这里开始就可以直接使用模型进行预测,或者接着继续训练了\n",
    "else:\n",
    "    print(\"Traing from scratch.\")\n",
    "\n",
    "# 获取续训参数\n",
    "start = sess.run(epoch)\n",
    "print(\"Trainig starts form {} epoch.\".format(start + 1))"
   ]
  },
  {
   "cell_type": "markdown",
   "metadata": {},
   "source": [
    "## 5.3 迭代训练"
   ]
  },
  {
   "cell_type": "code",
   "execution_count": 25,
   "metadata": {
    "scrolled": false
   },
   "outputs": [
    {
     "name": "stdout",
     "output_type": "stream",
     "text": [
      "Step 0 finished\n",
      "Step 100 finished\n",
      "Step 200 finished\n",
      "Step 300 finished\n",
      "Step 400 finished\n",
      "Step 500 finished\n",
      "Step 600 finished\n",
      "Step 700 finished\n",
      "Step 800 finished\n",
      "Step 900 finished\n",
      "Train epoch: 01 Loss= 2.134630 Accuracy= 0.38\n",
      "Step 0 finished\n",
      "Step 100 finished\n",
      "Step 200 finished\n",
      "Step 300 finished\n",
      "Step 400 finished\n",
      "Step 500 finished\n",
      "Step 600 finished\n",
      "Step 700 finished\n",
      "Step 800 finished\n",
      "Step 900 finished\n",
      "Train epoch: 02 Loss= 2.115227 Accuracy= 0.42\n",
      "WARNING:tensorflow:From /Users/lumin/Library/Python/3.7/lib/python/site-packages/tensorflow/python/training/saver.py:960: remove_checkpoint (from tensorflow.python.training.checkpoint_management) is deprecated and will be removed in a future version.\n",
      "Instructions for updating:\n",
      "Use standard file APIs to delete files with this prefix.\n",
      "Step 0 finished\n",
      "Step 100 finished\n",
      "Step 200 finished\n",
      "Step 300 finished\n",
      "Step 400 finished\n",
      "Step 500 finished\n",
      "Step 600 finished\n",
      "Step 700 finished\n",
      "Step 800 finished\n",
      "Step 900 finished\n",
      "Train epoch: 03 Loss= 2.020193 Accuracy= 0.48\n",
      "Step 0 finished\n",
      "Step 100 finished\n",
      "Step 200 finished\n",
      "Step 300 finished\n",
      "Step 400 finished\n",
      "Step 500 finished\n",
      "Step 600 finished\n",
      "Step 700 finished\n",
      "Step 800 finished\n",
      "Step 900 finished\n",
      "Train epoch: 04 Loss= 2.007248 Accuracy= 0.48\n",
      "Step 0 finished\n",
      "Step 100 finished\n",
      "Step 200 finished\n",
      "Step 300 finished\n",
      "Step 400 finished\n",
      "Step 500 finished\n",
      "Step 600 finished\n",
      "Step 700 finished\n",
      "Step 800 finished\n",
      "Step 900 finished\n",
      "Train epoch: 05 Loss= 1.919224 Accuracy= 0.6\n",
      "Step 0 finished\n",
      "Step 100 finished\n",
      "Step 200 finished\n",
      "Step 300 finished\n",
      "Step 400 finished\n",
      "Step 500 finished\n",
      "Step 600 finished\n",
      "Step 700 finished\n",
      "Step 800 finished\n",
      "Step 900 finished\n",
      "Train epoch: 06 Loss= 1.915072 Accuracy= 0.6\n",
      "Step 0 finished\n",
      "Step 100 finished\n",
      "Step 200 finished\n",
      "Step 300 finished\n",
      "Step 400 finished\n",
      "Step 500 finished\n",
      "Step 600 finished\n",
      "Step 700 finished\n",
      "Step 800 finished\n",
      "Step 900 finished\n",
      "Train epoch: 07 Loss= 1.858696 Accuracy= 0.68\n",
      "Step 0 finished\n",
      "Step 100 finished\n",
      "Step 200 finished\n",
      "Step 300 finished\n",
      "Step 400 finished\n",
      "Step 500 finished\n",
      "Step 600 finished\n",
      "Step 700 finished\n",
      "Step 800 finished\n",
      "Step 900 finished\n",
      "Train epoch: 08 Loss= 1.899676 Accuracy= 0.6\n",
      "Step 0 finished\n",
      "Step 100 finished\n",
      "Step 200 finished\n",
      "Step 300 finished\n",
      "Step 400 finished\n",
      "Step 500 finished\n",
      "Step 600 finished\n",
      "Step 700 finished\n",
      "Step 800 finished\n",
      "Step 900 finished\n",
      "Train epoch: 09 Loss= 1.878171 Accuracy= 0.64\n",
      "Step 0 finished\n",
      "Step 100 finished\n",
      "Step 200 finished\n",
      "Step 300 finished\n",
      "Step 400 finished\n",
      "Step 500 finished\n",
      "Step 600 finished\n",
      "Step 700 finished\n",
      "Step 800 finished\n",
      "Step 900 finished\n",
      "Train epoch: 10 Loss= 1.863327 Accuracy= 0.64\n",
      "Step 0 finished\n",
      "Step 100 finished\n",
      "Step 200 finished\n",
      "Step 300 finished\n",
      "Step 400 finished\n",
      "Step 500 finished\n",
      "Step 600 finished\n",
      "Step 700 finished\n",
      "Step 800 finished\n",
      "Step 900 finished\n",
      "Train epoch: 11 Loss= 1.834976 Accuracy= 0.68\n",
      "Step 0 finished\n",
      "Step 100 finished\n",
      "Step 200 finished\n",
      "Step 300 finished\n",
      "Step 400 finished\n",
      "Step 500 finished\n",
      "Step 600 finished\n",
      "Step 700 finished\n",
      "Step 800 finished\n",
      "Step 900 finished\n",
      "Train epoch: 12 Loss= 1.846932 Accuracy= 0.66\n",
      "Step 0 finished\n",
      "Step 100 finished\n",
      "Step 200 finished\n",
      "Step 300 finished\n",
      "Step 400 finished\n",
      "Step 500 finished\n",
      "Step 600 finished\n",
      "Step 700 finished\n",
      "Step 800 finished\n",
      "Step 900 finished\n",
      "Train epoch: 13 Loss= 1.832028 Accuracy= 0.7\n",
      "Step 0 finished\n",
      "Step 100 finished\n",
      "Step 200 finished\n",
      "Step 300 finished\n",
      "Step 400 finished\n",
      "Step 500 finished\n",
      "Step 600 finished\n",
      "Step 700 finished\n",
      "Step 800 finished\n",
      "Step 900 finished\n",
      "Train epoch: 14 Loss= 1.847844 Accuracy= 0.68\n",
      "Step 0 finished\n",
      "Step 100 finished\n",
      "Step 200 finished\n",
      "Step 300 finished\n",
      "Step 400 finished\n",
      "Step 500 finished\n",
      "Step 600 finished\n",
      "Step 700 finished\n",
      "Step 800 finished\n",
      "Step 900 finished\n",
      "Train epoch: 15 Loss= 1.865669 Accuracy= 0.62\n",
      "Step 0 finished\n",
      "Step 100 finished\n",
      "Step 200 finished\n",
      "Step 300 finished\n",
      "Step 400 finished\n",
      "Step 500 finished\n",
      "Step 600 finished\n",
      "Step 700 finished\n",
      "Step 800 finished\n",
      "Step 900 finished\n",
      "Train epoch: 16 Loss= 1.827052 Accuracy= 0.7\n",
      "Step 0 finished\n",
      "Step 100 finished\n",
      "Step 200 finished\n",
      "Step 300 finished\n",
      "Step 400 finished\n",
      "Step 500 finished\n",
      "Step 600 finished\n",
      "Step 700 finished\n",
      "Step 800 finished\n",
      "Step 900 finished\n",
      "Train epoch: 17 Loss= 1.835927 Accuracy= 0.68\n",
      "Step 0 finished\n",
      "Step 100 finished\n",
      "Step 200 finished\n",
      "Step 300 finished\n",
      "Step 400 finished\n",
      "Step 500 finished\n",
      "Step 600 finished\n",
      "Step 700 finished\n",
      "Step 800 finished\n",
      "Step 900 finished\n",
      "Train epoch: 18 Loss= 1.773676 Accuracy= 0.74\n",
      "Step 0 finished\n",
      "Step 100 finished\n",
      "Step 200 finished\n",
      "Step 300 finished\n",
      "Step 400 finished\n",
      "Step 500 finished\n",
      "Step 600 finished\n",
      "Step 700 finished\n",
      "Step 800 finished\n",
      "Step 900 finished\n",
      "Train epoch: 19 Loss= 1.862572 Accuracy= 0.62\n",
      "Step 0 finished\n",
      "Step 100 finished\n",
      "Step 200 finished\n",
      "Step 300 finished\n",
      "Step 400 finished\n",
      "Step 500 finished\n",
      "Step 600 finished\n",
      "Step 700 finished\n",
      "Step 800 finished\n",
      "Step 900 finished\n",
      "Train epoch: 20 Loss= 1.800864 Accuracy= 0.7\n",
      "Step 0 finished\n",
      "Step 100 finished\n",
      "Step 200 finished\n",
      "Step 300 finished\n",
      "Step 400 finished\n",
      "Step 500 finished\n",
      "Step 600 finished\n",
      "Step 700 finished\n",
      "Step 800 finished\n",
      "Step 900 finished\n",
      "Train epoch: 21 Loss= 1.814429 Accuracy= 0.7\n",
      "Step 0 finished\n",
      "Step 100 finished\n",
      "Step 200 finished\n",
      "Step 300 finished\n",
      "Step 400 finished\n",
      "Step 500 finished\n",
      "Step 600 finished\n",
      "Step 700 finished\n",
      "Step 800 finished\n",
      "Step 900 finished\n",
      "Train epoch: 22 Loss= 1.864982 Accuracy= 0.62\n",
      "Step 0 finished\n",
      "Step 100 finished\n",
      "Step 200 finished\n",
      "Step 300 finished\n",
      "Step 400 finished\n",
      "Step 500 finished\n",
      "Step 600 finished\n",
      "Step 700 finished\n",
      "Step 800 finished\n",
      "Step 900 finished\n",
      "Train epoch: 23 Loss= 1.854128 Accuracy= 0.66\n",
      "Step 0 finished\n",
      "Step 100 finished\n",
      "Step 200 finished\n",
      "Step 300 finished\n",
      "Step 400 finished\n",
      "Step 500 finished\n",
      "Step 600 finished\n",
      "Step 700 finished\n",
      "Step 800 finished\n",
      "Step 900 finished\n",
      "Train epoch: 24 Loss= 1.830726 Accuracy= 0.7\n",
      "Step 0 finished\n",
      "Step 100 finished\n",
      "Step 200 finished\n",
      "Step 300 finished\n",
      "Step 400 finished\n",
      "Step 500 finished\n",
      "Step 600 finished\n",
      "Step 700 finished\n",
      "Step 800 finished\n",
      "Step 900 finished\n",
      "Train epoch: 25 Loss= 1.803957 Accuracy= 0.68\n",
      "Step 0 finished\n",
      "Step 100 finished\n",
      "Step 200 finished\n",
      "Step 300 finished\n",
      "Step 400 finished\n",
      "Step 500 finished\n",
      "Step 600 finished\n",
      "Step 700 finished\n",
      "Step 800 finished\n",
      "Step 900 finished\n",
      "Train epoch: 26 Loss= 1.797435 Accuracy= 0.68\n",
      "Step 0 finished\n",
      "Step 100 finished\n",
      "Step 200 finished\n",
      "Step 300 finished\n",
      "Step 400 finished\n",
      "Step 500 finished\n",
      "Step 600 finished\n",
      "Step 700 finished\n",
      "Step 800 finished\n",
      "Step 900 finished\n",
      "Train epoch: 27 Loss= 1.858716 Accuracy= 0.66\n",
      "Step 0 finished\n",
      "Step 100 finished\n",
      "Step 200 finished\n",
      "Step 300 finished\n",
      "Step 400 finished\n",
      "Step 500 finished\n",
      "Step 600 finished\n",
      "Step 700 finished\n",
      "Step 800 finished\n",
      "Step 900 finished\n",
      "Train epoch: 28 Loss= 1.810545 Accuracy= 0.7\n",
      "Step 0 finished\n",
      "Step 100 finished\n",
      "Step 200 finished\n",
      "Step 300 finished\n",
      "Step 400 finished\n",
      "Step 500 finished\n",
      "Step 600 finished\n",
      "Step 700 finished\n",
      "Step 800 finished\n",
      "Step 900 finished\n",
      "Train epoch: 29 Loss= 1.822821 Accuracy= 0.68\n",
      "Step 0 finished\n",
      "Step 100 finished\n",
      "Step 200 finished\n",
      "Step 300 finished\n",
      "Step 400 finished\n",
      "Step 500 finished\n",
      "Step 600 finished\n",
      "Step 700 finished\n",
      "Step 800 finished\n",
      "Step 900 finished\n",
      "Train epoch: 30 Loss= 1.794774 Accuracy= 0.72\n",
      "Step 0 finished\n",
      "Step 100 finished\n",
      "Step 200 finished\n",
      "Step 300 finished\n",
      "Step 400 finished\n",
      "Step 500 finished\n",
      "Step 600 finished\n",
      "Step 700 finished\n",
      "Step 800 finished\n",
      "Step 900 finished\n",
      "Train epoch: 31 Loss= 1.788393 Accuracy= 0.72\n",
      "Step 0 finished\n",
      "Step 100 finished\n",
      "Step 200 finished\n",
      "Step 300 finished\n",
      "Step 400 finished\n",
      "Step 500 finished\n",
      "Step 600 finished\n",
      "Step 700 finished\n",
      "Step 800 finished\n",
      "Step 900 finished\n",
      "Train epoch: 32 Loss= 1.833296 Accuracy= 0.7\n",
      "Step 0 finished\n",
      "Step 100 finished\n",
      "Step 200 finished\n",
      "Step 300 finished\n",
      "Step 400 finished\n",
      "Step 500 finished\n",
      "Step 600 finished\n",
      "Step 700 finished\n",
      "Step 800 finished\n",
      "Step 900 finished\n",
      "Train epoch: 33 Loss= 1.819197 Accuracy= 0.68\n",
      "Step 0 finished\n",
      "Step 100 finished\n",
      "Step 200 finished\n",
      "Step 300 finished\n",
      "Step 400 finished\n",
      "Step 500 finished\n",
      "Step 600 finished\n",
      "Step 700 finished\n",
      "Step 800 finished\n",
      "Step 900 finished\n",
      "Train epoch: 34 Loss= 1.753421 Accuracy= 0.76\n",
      "Step 0 finished\n",
      "Step 100 finished\n",
      "Step 200 finished\n",
      "Step 300 finished\n",
      "Step 400 finished\n",
      "Step 500 finished\n",
      "Step 600 finished\n",
      "Step 700 finished\n",
      "Step 800 finished\n",
      "Step 900 finished\n",
      "Train epoch: 35 Loss= 1.736215 Accuracy= 0.78\n",
      "Step 0 finished\n",
      "Step 100 finished\n"
     ]
    },
    {
     "name": "stdout",
     "output_type": "stream",
     "text": [
      "Step 200 finished\n",
      "Step 300 finished\n",
      "Step 400 finished\n",
      "Step 500 finished\n",
      "Step 600 finished\n",
      "Step 700 finished\n",
      "Step 800 finished\n",
      "Step 900 finished\n",
      "Train epoch: 36 Loss= 1.715126 Accuracy= 0.78\n",
      "Step 0 finished\n",
      "Step 100 finished\n",
      "Step 200 finished\n",
      "Step 300 finished\n",
      "Step 400 finished\n",
      "Step 500 finished\n",
      "Step 600 finished\n",
      "Step 700 finished\n",
      "Step 800 finished\n",
      "Step 900 finished\n",
      "Train epoch: 37 Loss= 1.708999 Accuracy= 0.8\n",
      "Step 0 finished\n",
      "Step 100 finished\n",
      "Step 200 finished\n",
      "Step 300 finished\n",
      "Step 400 finished\n",
      "Step 500 finished\n",
      "Step 600 finished\n",
      "Step 700 finished\n",
      "Step 800 finished\n",
      "Step 900 finished\n",
      "Train epoch: 38 Loss= 1.880997 Accuracy= 0.62\n",
      "Step 0 finished\n",
      "Step 100 finished\n",
      "Step 200 finished\n",
      "Step 300 finished\n",
      "Step 400 finished\n",
      "Step 500 finished\n",
      "Step 600 finished\n",
      "Step 700 finished\n",
      "Step 800 finished\n",
      "Step 900 finished\n",
      "Train epoch: 39 Loss= 1.711787 Accuracy= 0.8\n",
      "Step 0 finished\n",
      "Step 100 finished\n",
      "Step 200 finished\n",
      "Step 300 finished\n",
      "Step 400 finished\n",
      "Step 500 finished\n",
      "Step 600 finished\n",
      "Step 700 finished\n",
      "Step 800 finished\n",
      "Step 900 finished\n",
      "Train epoch: 40 Loss= 1.700685 Accuracy= 0.8\n",
      "Train finished takes: 2102.37895488739\n"
     ]
    }
   ],
   "source": [
    "def get_train_batch(number, batch_size):\n",
    "    return Xtrain_normalize[number*batch_size:(number+1)*batch_size],\\\n",
    "           Ytrain_onehot[number*batch_size:(number+1)*batch_size]\n",
    "for ep in range(start, train_epochs):\n",
    "    \n",
    "    for i in range(total_batch):\n",
    "        batch_x, batch_y = get_train_batch(i,batch_size)\n",
    "        sess.run(optimizer,feed_dict={x: batch_x, y: batch_y})\n",
    "        if i % 100 == 0:\n",
    "            print(\"Step {}\".format(i), \"finished\")\n",
    "    \n",
    "    loss, acc = sess.run([loss_function, accuracy], feed_dict = {x: batch_x, y: batch_y})\n",
    "    epoch_list.append(ep+1)\n",
    "    loss_list.append(loss);\n",
    "    accuracy_list.append(acc)\n",
    "    \n",
    "    print(\"Train epoch:\", '%02d' % (sess.run(epoch)+1), \"Loss=\",\"{:.6f}\".format(loss),\"Accuracy=\",acc)\n",
    "    \n",
    "    #保存检查点\n",
    "    saver.save(sess,ckpt_dir+\"CIFAR10_cnn_model.cpkt\",global_step=ep+1)\n",
    "    sess.run(epoch.assign(ep+1))\n",
    "\n",
    "duration = time()-startTime\n",
    "print(\"Train finished takes:\", duration)"
   ]
  },
  {
   "cell_type": "markdown",
   "metadata": {},
   "source": [
    "### 改进方式（根据个人可利用的计算资源）：\n",
    "    ● 增加网络层数\n",
    "    ● 增加迭代次数\n",
    "    ● 增加全连接层数\n",
    "    ● 增加全连接层的神经元个数\n",
    "    ● 数据扩增，等等"
   ]
  },
  {
   "cell_type": "markdown",
   "metadata": {},
   "source": [
    "## 5.4 可视化损失值"
   ]
  },
  {
   "cell_type": "code",
   "execution_count": 26,
   "metadata": {},
   "outputs": [
    {
     "data": {
      "text/plain": [
       "<matplotlib.legend.Legend at 0x121d92be0>"
      ]
     },
     "execution_count": 26,
     "metadata": {},
     "output_type": "execute_result"
    },
    {
     "data": {
      "image/png": "[encoded data removed]",
      "text/plain": [
       "<Figure size 288x144 with 1 Axes>"
      ]
     },
     "metadata": {
      "needs_background": "light"
     },
     "output_type": "display_data"
    }
   ],
   "source": [
    "%matplotlib inline\n",
    "import matplotlib.pyplot as plt\n",
    "\n",
    "fig = plt.gcf()\n",
    "fig.set_size_inches(4,2)\n",
    "plt.plot(epoch_list, loss_list, color = 'red', label = 'loss')\n",
    "plt.ylabel('loss')\n",
    "plt.xlabel('epoch')\n",
    "plt.legend(['loss'], loc = 'upper right')"
   ]
  },
  {
   "cell_type": "markdown",
   "metadata": {},
   "source": [
    "## 5.5 可视化准确率"
   ]
  },
  {
   "cell_type": "code",
   "execution_count": 27,
   "metadata": {},
   "outputs": [
    {
     "data": {
      "image/png": "[encoded data removed]",
      "text/plain": [
       "<Figure size 288x144 with 1 Axes>"
      ]
     },
     "metadata": {
      "needs_background": "light"
     },
     "output_type": "display_data"
    }
   ],
   "source": [
    "fig = plt.gcf()\n",
    "fig.set_size_inches(4,2)\n",
    "plt.plot(epoch_list,accuracy_list, color = 'blue', label=\"accuracy\")\n",
    "plt.ylim(0.1,1)\n",
    "plt.ylabel('accuracy')\n",
    "plt.xlabel('epoch')\n",
    "plt.legend()\n",
    "plt.show()"
   ]
  },
  {
   "cell_type": "markdown",
   "metadata": {},
   "source": [
    "# 6 评诂模型及预测\n",
    "## 6.1 计算测试集上的准确率"
   ]
  },
  {
   "cell_type": "code",
   "execution_count": 28,
   "metadata": {},
   "outputs": [
    {
     "name": "stdout",
     "output_type": "stream",
     "text": [
      "Test accuracy:0.715100\n"
     ]
    }
   ],
   "source": [
    "test_total_batch = int(len(Xtest_normalize)/batch_size)\n",
    "test_acc_sum = 0.0\n",
    "for i in range(test_total_batch):\n",
    "    test_image_batch = Xtest_normalize[i*batch_size:(i+1)*batch_size]\n",
    "    test_label_batch = Ytest_onehot[i*batch_size:(i+1)*batch_size]\n",
    "    test_batch_acc = sess.run(accuracy, feed_dict = {x: test_image_batch, y: test_label_batch})\n",
    "    test_acc_sum += test_batch_acc\n",
    "test_acc = float(test_acc_sum/test_total_batch)\n",
    "print(\"Test accuracy:{:.6f}\".format(test_acc))"
   ]
  },
  {
   "cell_type": "markdown",
   "metadata": {},
   "source": [
    "## 6.2 利用模型进预测"
   ]
  },
  {
   "cell_type": "code",
   "execution_count": 29,
   "metadata": {},
   "outputs": [],
   "source": [
    "test_pred = sess.run(pred, feed_dict={x: Xtest_normalize[:10]})\n",
    "prediction_result = sess.run(tf.argmax(test_pred, 1))"
   ]
  },
  {
   "cell_type": "markdown",
   "metadata": {},
   "source": [
    "## 6.3 可视化预测结果"
   ]
  },
  {
   "cell_type": "code",
   "execution_count": 30,
   "metadata": {},
   "outputs": [
    {
     "data": {
      "image/png": "[encoded data removed]",
      "text/plain": [
       "<Figure size 864x432 with 10 Axes>"
      ]
     },
     "metadata": {
      "needs_background": "light"
     },
     "output_type": "display_data"
    }
   ],
   "source": [
    "plot_images_labels_prediction(Xtest,Ytest,prediction_result, 0, 10)"
   ]
  },
  {
   "cell_type": "code",
   "execution_count": null,
   "metadata": {},
   "outputs": [],
   "source": []
  }
 ],
 "metadata": {
  "kernelspec": {
   "display_name": "Python 3",
   "language": "python",
   "name": "python3"
  },
  "language_info": {
   "codemirror_mode": {
    "name": "ipython",
    "version": 3
   },
   "file_extension": ".py",
   "mimetype": "text/x-python",
   "name": "python",
   "nbconvert_exporter": "python",
   "pygments_lexer": "ipython3",
   "version": "3.5.2"
  }
 },
 "nbformat": 4,
 "nbformat_minor": 2
}
