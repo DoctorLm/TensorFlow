{
 "cells": [
  {
   "cell_type": "markdown",
   "metadata": {},
   "source": [
    "## Tensorflow实现单变量线性回归\n",
    "#### 假设我们要学习的函数为线性函数 y = 2x +1\n",
    "### 生成数据"
   ]
  },
  {
   "cell_type": "code",
   "execution_count": 1,
   "metadata": {},
   "outputs": [],
   "source": [
    "# 在Jupyter中，使用matplotlib显示图像需要设置为 inline 模式，否则不会现实图像\n",
    "%matplotlib inline\n",
    "\n",
    "import matplotlib.pyplot as plt #载入matplotlib\n",
    "import numpy as np #载入numpy\n",
    "\n",
    "import tensorflow as tf #载入Tensorflow \n",
    "\n",
    "# 设置随机数种子\n",
    "np.random.seed(5)"
   ]
  },
  {
   "cell_type": "markdown",
   "metadata": {},
   "source": [
    "### 首先，生成输入数据。\n",
    "我们需要构造满足这个函数的x和y同时加入一些不满足方程的噪声。"
   ]
  },
  {
   "cell_type": "code",
   "execution_count": 2,
   "metadata": {},
   "outputs": [
    {
     "data": {
      "text/plain": [
       "[<matplotlib.lines.Line2D at 0x1085cbba8>]"
      ]
     },
     "execution_count": 2,
     "metadata": {},
     "output_type": "execute_result"
    },
    {
     "data": {
      "image/png": "[encoded data removed]",
      "text/plain": [
       "<Figure size 432x288 with 1 Axes>"
      ]
     },
     "metadata": {
      "needs_background": "light"
     },
     "output_type": "display_data"
    }
   ],
   "source": [
    "# 直接采用np生成等差数列的方法，生成100个点，每个点的取值在-1~1之间\n",
    "x_data = np.linspace(-1, 1, 100)\n",
    "\n",
    "# y = 2x +1 + 噪声， 其中， 噪声的唯度与x_data一致\n",
    "y_data = 2 * x_data + 1.0 + np.random.randn( * x_data.shape) * 0.4\n",
    "\n",
    "# 画出随机生成数据的散点图\n",
    "plt.scatter(x_data, y_data)\n",
    "\n",
    "# 画出通过学习得到的目标线性函数 y = 2x + 1\n",
    "plt.plot(x_data, 2 * x_data + 1.0, color = 'red', linewidth = 3)"
   ]
  },
  {
   "cell_type": "markdown",
   "metadata": {},
   "source": [
    "## 构建模型\n",
    "### 定义x和y的占位符"
   ]
  },
  {
   "cell_type": "code",
   "execution_count": 3,
   "metadata": {},
   "outputs": [],
   "source": [
    "# 定义训练数据的占位符，x是特征，y是标签值\n",
    "\n",
    "x = tf.placeholder(\"float\", name = \"x\")\n",
    "y = tf.placeholder(\"float\", name = \"y\")"
   ]
  },
  {
   "cell_type": "markdown",
   "metadata": {},
   "source": [
    "### 构建回归模型"
   ]
  },
  {
   "cell_type": "code",
   "execution_count": 4,
   "metadata": {},
   "outputs": [],
   "source": [
    "def model(x, w, b):\n",
    "    return tf.multiply(x, w) + b"
   ]
  },
  {
   "cell_type": "markdown",
   "metadata": {},
   "source": [
    "### 创建变量\n",
    "    ● Tensorflow变量的声明函数是tf.Variable\n",
    "    ● tf.Variable的作用是保存和更新参数\n",
    "    ● 变量的初始值可以是随机数、常数，或是通过其他变量的初始值计算得到"
   ]
  },
  {
   "cell_type": "code",
   "execution_count": 5,
   "metadata": {},
   "outputs": [],
   "source": [
    "# 构建线性函数的斜率，变量w\n",
    "w = tf.Variable(1.0, name = \"w0\")\n",
    "\n",
    "# 构建线性函数的截距，变量b\n",
    "b = tf.Variable(0.0, name = \"b0\")"
   ]
  },
  {
   "cell_type": "code",
   "execution_count": 6,
   "metadata": {},
   "outputs": [],
   "source": [
    "# pred是预测值，前向计算\n",
    "pred = model(x, w, b)"
   ]
  },
  {
   "cell_type": "markdown",
   "metadata": {},
   "source": [
    "## 训练模型\n",
    "### 设置训练参数"
   ]
  },
  {
   "cell_type": "code",
   "execution_count": 7,
   "metadata": {},
   "outputs": [],
   "source": [
    "# 迭代次数（训练轮数）\n",
    "train_epochs = 10\n",
    "\n",
    "# 学习率\n",
    "learning_rate = 0.05\n",
    "\n",
    "# 控制显示loss值的粒度\n",
    "display_step = 10"
   ]
  },
  {
   "cell_type": "markdown",
   "metadata": {},
   "source": [
    "### 关于学习率（learning_rate）的设置\n",
    "    ● 学习率的作用：控制参数更新的幅度。\n",
    "    ● 如果学习率设置过大，可能导致参数在极值附过来回摇摆，无法保证收敛。\n",
    "    ● 如果学习率设置过小，虽然能保证收敛，但优化速度会大大降低，我们需要更多迭代次数才能达到较理想的优化效果\n",
    "### 定义损失函数\n",
    "    ● 损失函数用于描述预测值与真实值之间的误差，从而指导模型收敛方向\n",
    "    ● 常见损失函数：均方差（Mean Square Error，MSE）和交叉熵（cross-entropy）"
   ]
  },
  {
   "cell_type": "code",
   "execution_count": 8,
   "metadata": {},
   "outputs": [],
   "source": [
    "# 采用均方差作为损失函数\n",
    "loss_function = tf.reduce_mean(tf.square(y-pred))"
   ]
  },
  {
   "cell_type": "markdown",
   "metadata": {},
   "source": [
    "### 选择优化器"
   ]
  },
  {
   "cell_type": "code",
   "execution_count": 9,
   "metadata": {},
   "outputs": [],
   "source": [
    "# 梯度下降优化器\n",
    "optimizer = tf.train.GradientDescentOptimizer(learning_rate).minimize(loss_function)"
   ]
  },
  {
   "cell_type": "markdown",
   "metadata": {},
   "source": [
    "### 声明会话"
   ]
  },
  {
   "cell_type": "code",
   "execution_count": 10,
   "metadata": {},
   "outputs": [],
   "source": [
    "sess = tf.Session()"
   ]
  },
  {
   "cell_type": "markdown",
   "metadata": {},
   "source": [
    "### 变量初始化\n",
    "    ● 在真正执行计算之前，需将所有变量初始化\n",
    "    ● 通过tf.global_variables_initializer 函数可实现对所有变量的初始化"
   ]
  },
  {
   "cell_type": "code",
   "execution_count": 11,
   "metadata": {},
   "outputs": [],
   "source": [
    "init = tf.global_variables_initializer()\n",
    "sess.run(init)"
   ]
  },
  {
   "cell_type": "markdown",
   "metadata": {},
   "source": [
    "### 执行训练"
   ]
  },
  {
   "cell_type": "code",
   "execution_count": 12,
   "metadata": {},
   "outputs": [
    {
     "name": "stdout",
     "output_type": "stream",
     "text": [
      "Train Epoch:01 step:010 loss=0.007021904\n",
      "Train Epoch:01 step:020 loss=0.186607897\n",
      "Train Epoch:01 step:030 loss=0.024833022\n",
      "Train Epoch:01 step:040 loss=0.620799541\n",
      "Train Epoch:01 step:050 loss=0.006301077\n",
      "Train Epoch:01 step:060 loss=0.023637433\n",
      "Train Epoch:01 step:070 loss=0.354419798\n",
      "Train Epoch:01 step:080 loss=0.027936857\n",
      "Train Epoch:01 step:090 loss=0.029015331\n",
      "Train Epoch:01 step:100 loss=0.106556907\n",
      "Train Epoch:02 step:110 loss=0.179423183\n",
      "Train Epoch:02 step:120 loss=0.067458346\n",
      "Train Epoch:02 step:130 loss=0.000281519\n",
      "Train Epoch:02 step:140 loss=0.344065875\n",
      "Train Epoch:02 step:150 loss=0.021391280\n",
      "Train Epoch:02 step:160 loss=0.006406436\n",
      "Train Epoch:02 step:170 loss=0.142010629\n",
      "Train Epoch:02 step:180 loss=0.000233675\n",
      "Train Epoch:02 step:190 loss=0.094913408\n",
      "Train Epoch:02 step:200 loss=0.052370854\n",
      "Train Epoch:03 step:210 loss=0.044097763\n",
      "Train Epoch:03 step:220 loss=0.082669340\n",
      "Train Epoch:03 step:230 loss=0.000454877\n",
      "Train Epoch:03 step:240 loss=0.327929199\n",
      "Train Epoch:03 step:250 loss=0.026971471\n",
      "Train Epoch:03 step:260 loss=0.009875795\n",
      "Train Epoch:03 step:270 loss=0.128553197\n",
      "Train Epoch:03 step:280 loss=0.000938686\n",
      "Train Epoch:03 step:290 loss=0.102202758\n",
      "Train Epoch:03 step:300 loss=0.048671149\n",
      "Train Epoch:04 step:310 loss=0.036854628\n",
      "Train Epoch:04 step:320 loss=0.084023297\n",
      "Train Epoch:04 step:330 loss=0.000471393\n",
      "Train Epoch:04 step:340 loss=0.326585472\n",
      "Train Epoch:04 step:350 loss=0.027471786\n",
      "Train Epoch:04 step:360 loss=0.010202700\n",
      "Train Epoch:04 step:370 loss=0.127448648\n",
      "Train Epoch:04 step:380 loss=0.001019721\n",
      "Train Epoch:04 step:390 loss=0.102829941\n",
      "Train Epoch:04 step:400 loss=0.048365295\n",
      "Train Epoch:05 step:410 loss=0.036273275\n",
      "Train Epoch:05 step:420 loss=0.084138028\n",
      "Train Epoch:05 step:430 loss=0.000472802\n",
      "Train Epoch:05 step:440 loss=0.326472342\n",
      "Train Epoch:05 step:450 loss=0.027514204\n",
      "Train Epoch:05 step:460 loss=0.010230534\n",
      "Train Epoch:05 step:470 loss=0.127355635\n",
      "Train Epoch:05 step:480 loss=0.001026707\n",
      "Train Epoch:05 step:490 loss=0.102882855\n",
      "Train Epoch:05 step:500 loss=0.048339501\n",
      "Train Epoch:06 step:510 loss=0.036224432\n",
      "Train Epoch:06 step:520 loss=0.084147744\n",
      "Train Epoch:06 step:530 loss=0.000472908\n",
      "Train Epoch:06 step:540 loss=0.326462865\n",
      "Train Epoch:06 step:550 loss=0.027517686\n",
      "Train Epoch:06 step:560 loss=0.010232801\n",
      "Train Epoch:06 step:570 loss=0.127347812\n",
      "Train Epoch:06 step:580 loss=0.001027287\n",
      "Train Epoch:06 step:590 loss=0.102887444\n",
      "Train Epoch:06 step:600 loss=0.048337404\n",
      "Train Epoch:07 step:610 loss=0.036220346\n",
      "Train Epoch:07 step:620 loss=0.084148541\n",
      "Train Epoch:07 step:630 loss=0.000472921\n",
      "Train Epoch:07 step:640 loss=0.326461911\n",
      "Train Epoch:07 step:650 loss=0.027518081\n",
      "Train Epoch:07 step:660 loss=0.010233018\n",
      "Train Epoch:07 step:670 loss=0.127347127\n",
      "Train Epoch:07 step:680 loss=0.001027349\n",
      "Train Epoch:07 step:690 loss=0.102887906\n",
      "Train Epoch:07 step:700 loss=0.048337195\n",
      "Train Epoch:08 step:710 loss=0.036220029\n",
      "Train Epoch:08 step:720 loss=0.084148541\n",
      "Train Epoch:08 step:730 loss=0.000472929\n",
      "Train Epoch:08 step:740 loss=0.326461911\n",
      "Train Epoch:08 step:750 loss=0.027518081\n",
      "Train Epoch:08 step:760 loss=0.010233042\n",
      "Train Epoch:08 step:770 loss=0.127347127\n",
      "Train Epoch:08 step:780 loss=0.001027349\n",
      "Train Epoch:08 step:790 loss=0.102888055\n",
      "Train Epoch:08 step:800 loss=0.048337195\n",
      "Train Epoch:09 step:810 loss=0.036219940\n",
      "Train Epoch:09 step:820 loss=0.084148541\n",
      "Train Epoch:09 step:830 loss=0.000472929\n",
      "Train Epoch:09 step:840 loss=0.326461911\n",
      "Train Epoch:09 step:850 loss=0.027518081\n",
      "Train Epoch:09 step:860 loss=0.010233042\n",
      "Train Epoch:09 step:870 loss=0.127347127\n",
      "Train Epoch:09 step:880 loss=0.001027349\n",
      "Train Epoch:09 step:890 loss=0.102888055\n",
      "Train Epoch:09 step:900 loss=0.048337195\n",
      "Train Epoch:10 step:910 loss=0.036219940\n",
      "Train Epoch:10 step:920 loss=0.084148541\n",
      "Train Epoch:10 step:930 loss=0.000472929\n",
      "Train Epoch:10 step:940 loss=0.326461911\n",
      "Train Epoch:10 step:950 loss=0.027518081\n",
      "Train Epoch:10 step:960 loss=0.010233042\n",
      "Train Epoch:10 step:970 loss=0.127347127\n",
      "Train Epoch:10 step:980 loss=0.001027349\n",
      "Train Epoch:10 step:990 loss=0.102888055\n",
      "Train Epoch:10 step:1000 loss=0.048337195\n"
     ]
    },
    {
     "data": {
      "image/png": "[encoded data removed]",
      "text/plain": [
       "<Figure size 432x288 with 1 Axes>"
      ]
     },
     "metadata": {
      "needs_background": "light"
     },
     "output_type": "display_data"
    }
   ],
   "source": [
    "# 开始训练，轮数为epoch，采用SGD随机梯度下降优化方法\n",
    "step = 0 #记录步数\n",
    "loss_list = [] # 用于保存loss值的列表\n",
    "\n",
    "for epoch in range(train_epochs):\n",
    "    for xs,ys in zip(x_data, y_data):\n",
    "        _, loss = sess.run([optimizer, loss_function], feed_dict = {x:xs, y:ys})\n",
    "        \n",
    "        #显示损失值loss\n",
    "        #display_step:控制报告的粒度\n",
    "        #例如，如果display_step 设为 2 ,则将每训练2个样本输出一次损失值\n",
    "        #与超参数不同，修改display_step 不会更改模型所学习的规律\n",
    "        loss_list.append(loss)\n",
    "        step = step + 1\n",
    "        if step % display_step == 0:\n",
    "            print(\"Train Epoch:%02d\"%(epoch + 1), \"step:%03d\"%(step), \"loss={:.9f}\".format(loss))\n",
    "            \n",
    "    b0temp = b.eval(session = sess)\n",
    "    w0temp = w.eval(session = sess)\n",
    "    plt.plot(x_data, w0temp * x_data + b0temp) #画图"
   ]
  },
  {
   "cell_type": "markdown",
   "metadata": {},
   "source": [
    "#### 从上图可以看出，由于本案例所拟合的模型较简单，训练3次这后已经接近收敛。 \n",
    "对于复杂模型，需要更多次训练才能收敛。"
   ]
  },
  {
   "cell_type": "code",
   "execution_count": 13,
   "metadata": {},
   "outputs": [
    {
     "data": {
      "text/plain": [
       "[<matplotlib.lines.Line2D at 0x13fe10860>]"
      ]
     },
     "execution_count": 13,
     "metadata": {},
     "output_type": "execute_result"
    },
    {
     "data": {
      "image/png": "[encoded data removed]",
      "text/plain": [
       "<Figure size 432x288 with 1 Axes>"
      ]
     },
     "metadata": {
      "needs_background": "light"
     },
     "output_type": "display_data"
    }
   ],
   "source": [
    "plt.plot(loss_list)"
   ]
  },
  {
   "cell_type": "code",
   "execution_count": 14,
   "metadata": {},
   "outputs": [
    {
     "data": {
      "text/plain": [
       "[<matplotlib.lines.Line2D at 0x1079a8710>]"
      ]
     },
     "execution_count": 14,
     "metadata": {},
     "output_type": "execute_result"
    },
    {
     "data": {
      "image/png": "[encoded data removed]",
      "text/plain": [
       "<Figure size 432x288 with 1 Axes>"
      ]
     },
     "metadata": {
      "needs_background": "light"
     },
     "output_type": "display_data"
    }
   ],
   "source": [
    "plt.plot(loss_list,'g2')"
   ]
  },
  {
   "cell_type": "code",
   "execution_count": 15,
   "metadata": {},
   "outputs": [
    {
     "data": {
      "text/plain": [
       "[1.0133754,\n",
       " 1.2284044,\n",
       " 1.0088208,\n",
       " 1.2116321,\n",
       " 2.3539772,\n",
       " 2.3148305,\n",
       " 1.3175836,\n",
       " 1.0387748,\n",
       " 1.5018207,\n",
       " 1.547514,\n",
       " 1.5514,\n",
       " 1.5517284,\n",
       " 1.5517554,\n",
       " 1.551758,\n",
       " 1.551758,\n",
       " 1.551758,\n",
       " 1.551758]"
      ]
     },
     "execution_count": 15,
     "metadata": {},
     "output_type": "execute_result"
    }
   ],
   "source": [
    "[x for x in loss_list if x>1]"
   ]
  },
  {
   "cell_type": "markdown",
   "metadata": {},
   "source": [
    "### 打印结果"
   ]
  },
  {
   "cell_type": "code",
   "execution_count": 16,
   "metadata": {},
   "outputs": [
    {
     "name": "stdout",
     "output_type": "stream",
     "text": [
      "w: 1.9822965\n",
      "b: 1.0420128\n"
     ]
    }
   ],
   "source": [
    "print(\"w:\", sess.run(w)) # W的值应该在2附过\n",
    "print(\"b:\", sess.run(b)) # b的值应该在1附过"
   ]
  },
  {
   "cell_type": "markdown",
   "metadata": {},
   "source": [
    "### 可视化"
   ]
  },
  {
   "cell_type": "code",
   "execution_count": 17,
   "metadata": {},
   "outputs": [
    {
     "data": {
      "text/plain": [
       "<matplotlib.legend.Legend at 0x107a0f7b8>"
      ]
     },
     "execution_count": 17,
     "metadata": {},
     "output_type": "execute_result"
    },
    {
     "data": {
      "image/png": "[encoded data removed]",
      "text/plain": [
       "<Figure size 432x288 with 1 Axes>"
      ]
     },
     "metadata": {
      "needs_background": "light"
     },
     "output_type": "display_data"
    }
   ],
   "source": [
    "plt.scatter(x_data, y_data, label = 'Original data')\n",
    "plt.plot(x_data, x_data * sess.run(w) + sess.run(b), label = 'Fitted line', color = 'r', linewidth = 3)\n",
    "plt.legend(loc = 2) # 通过参数loc指定图例位置"
   ]
  },
  {
   "cell_type": "markdown",
   "metadata": {},
   "source": [
    "## 进行预测"
   ]
  },
  {
   "cell_type": "code",
   "execution_count": 18,
   "metadata": {},
   "outputs": [
    {
     "name": "stdout",
     "output_type": "stream",
     "text": [
      "预测值:7.405184\n",
      "目标值:7.420000\n"
     ]
    }
   ],
   "source": [
    "x_test = 3.21\n",
    "predict = sess.run(pred, feed_dict={x: x_test})\n",
    "print(\"预测值:%f\" % predict)\n",
    "\n",
    "target = 2 * x_test + 1.0\n",
    "print(\"目标值:%f\" % target)"
   ]
  },
  {
   "cell_type": "code",
   "execution_count": 19,
   "metadata": {},
   "outputs": [
    {
     "name": "stdout",
     "output_type": "stream",
     "text": [
      "预测值:7.405184\n",
      "目标值:7.420000\n"
     ]
    }
   ],
   "source": [
    "predict = sess.run(w) * x_test + sess.run(b)\n",
    "print(\"预测值:%f\" % predict)\n",
    "\n",
    "target = 2 * x_test + 1.0\n",
    "print(\"目标值:%f\" % target)"
   ]
  },
  {
   "cell_type": "raw",
   "metadata": {},
   "source": [
    "以上是利用Tensorflow训练一个线性模型并进行预测的完整过程。\n",
    "通过逐渐降低损失值loss来训练参数w和b拟合 y = 2x + 1 中的系数2和1。"
   ]
  },
  {
   "cell_type": "raw",
   "metadata": {},
   "source": [
    "小结\n",
    "通过一个简单的例子介绍了利用Tensorflow实现机器学习的思路，重点进解了下述步骤：\n",
    "（1）生成人工数据集及其可视化\n",
    "（2）构建线性模型\n",
    "（3）定义损失函数\n",
    "（4）定义工优化器、最小化损失函数\n",
    "（5）训练结果的可视化\n",
    "（6）利用学习到的模型进行预测"
   ]
  }
 ],
 "metadata": {
  "kernelspec": {
   "display_name": "Python 3",
   "language": "python",
   "name": "python3"
  },
  "language_info": {
   "codemirror_mode": {
    "name": "ipython",
    "version": 3
   },
   "file_extension": ".py",
   "mimetype": "text/x-python",
   "name": "python",
   "nbconvert_exporter": "python",
   "pygments_lexer": "ipython3",
   "version": "3.7.7"
  }
 },
 "nbformat": 4,
 "nbformat_minor": 2
}
