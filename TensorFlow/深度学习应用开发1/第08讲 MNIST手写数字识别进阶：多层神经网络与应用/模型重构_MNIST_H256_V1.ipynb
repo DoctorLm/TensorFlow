{
 "cells": [
  {
   "cell_type": "markdown",
   "metadata": {},
   "source": [
    "# 载入数据"
   ]
  },
  {
   "cell_type": "code",
   "execution_count": 1,
   "metadata": {},
   "outputs": [
    {
     "name": "stdout",
     "output_type": "stream",
     "text": [
      "WARNING:tensorflow:From <ipython-input-1-ae8cf40ea274>:5: read_data_sets (from tensorflow.contrib.learn.python.learn.datasets.mnist) is deprecated and will be removed in a future version.\n",
      "Instructions for updating:\n",
      "Please use alternatives such as official/mnist/dataset.py from tensorflow/models.\n",
      "WARNING:tensorflow:From /Users/lumin/Library/Python/3.7/lib/python/site-packages/tensorflow/contrib/learn/python/learn/datasets/mnist.py:260: maybe_download (from tensorflow.contrib.learn.python.learn.datasets.base) is deprecated and will be removed in a future version.\n",
      "Instructions for updating:\n",
      "Please write your own downloading logic.\n",
      "WARNING:tensorflow:From /Users/lumin/Library/Python/3.7/lib/python/site-packages/tensorflow/contrib/learn/python/learn/datasets/mnist.py:262: extract_images (from tensorflow.contrib.learn.python.learn.datasets.mnist) is deprecated and will be removed in a future version.\n",
      "Instructions for updating:\n",
      "Please use tf.data to implement this functionality.\n",
      "Extracting MNIST_data/train-images-idx3-ubyte.gz\n",
      "WARNING:tensorflow:From /Users/lumin/Library/Python/3.7/lib/python/site-packages/tensorflow/contrib/learn/python/learn/datasets/mnist.py:267: extract_labels (from tensorflow.contrib.learn.python.learn.datasets.mnist) is deprecated and will be removed in a future version.\n",
      "Instructions for updating:\n",
      "Please use tf.data to implement this functionality.\n",
      "Extracting MNIST_data/train-labels-idx1-ubyte.gz\n",
      "WARNING:tensorflow:From /Users/lumin/Library/Python/3.7/lib/python/site-packages/tensorflow/contrib/learn/python/learn/datasets/mnist.py:110: dense_to_one_hot (from tensorflow.contrib.learn.python.learn.datasets.mnist) is deprecated and will be removed in a future version.\n",
      "Instructions for updating:\n",
      "Please use tf.one_hot on tensors.\n",
      "Extracting MNIST_data/t10k-images-idx3-ubyte.gz\n",
      "Extracting MNIST_data/t10k-labels-idx1-ubyte.gz\n",
      "WARNING:tensorflow:From /Users/lumin/Library/Python/3.7/lib/python/site-packages/tensorflow/contrib/learn/python/learn/datasets/mnist.py:290: DataSet.__init__ (from tensorflow.contrib.learn.python.learn.datasets.mnist) is deprecated and will be removed in a future version.\n",
      "Instructions for updating:\n",
      "Please use alternatives such as official/mnist/dataset.py from tensorflow/models.\n"
     ]
    }
   ],
   "source": [
    "import tensorflow as tf\n",
    "#导入Tensorflow提供的读取MNIST的模块\n",
    "import tensorflow.examples.tutorials.mnist.input_data as input_data\n",
    "#读取MNIST数据\n",
    "mnist = input_data.read_data_sets(\"MNIST_data\", one_hot=True)"
   ]
  },
  {
   "cell_type": "markdown",
   "metadata": {},
   "source": [
    "# 建立模型"
   ]
  },
  {
   "cell_type": "code",
   "execution_count": 2,
   "metadata": {},
   "outputs": [],
   "source": [
    "#定义全连接层函数\n",
    "def fcn_layer(inputs,           #输入数据\n",
    "              input_dim,        #输入神经元数量\n",
    "              output_dim,       #输出神经元数量\n",
    "              activation=None): #激活函数\n",
    "    W = tf.Variable(tf.truncated_normal([input_dim, output_dim], stddev=0.1)) #以截断正态分布的随机数初始化W\n",
    "    b = tf.Variable(tf.zeros([output_dim])) #以0初始化b\n",
    "    XWb = tf.matmul(inputs, W) + b #建立表达式: inputs * W + b\n",
    "    if activation is None: #默认有使用激活函数\n",
    "        outputs = XWb\n",
    "    else: # 若传入激活函数，则用其对输出结果进行变换\n",
    "        outputs = activation(XWb)\n",
    "    return outputs"
   ]
  },
  {
   "cell_type": "markdown",
   "metadata": {},
   "source": [
    "# 构建输入层"
   ]
  },
  {
   "cell_type": "code",
   "execution_count": 3,
   "metadata": {},
   "outputs": [],
   "source": [
    "x = tf.placeholder(tf.float32, [None, 784], name=\"X\")"
   ]
  },
  {
   "cell_type": "markdown",
   "metadata": {},
   "source": [
    "# 构建模型"
   ]
  },
  {
   "cell_type": "code",
   "execution_count": 4,
   "metadata": {},
   "outputs": [],
   "source": [
    "H1_NN = 256 # 第1隐藏层神经元为256"
   ]
  },
  {
   "cell_type": "markdown",
   "metadata": {},
   "source": [
    "### 构建隐藏层"
   ]
  },
  {
   "cell_type": "code",
   "execution_count": 5,
   "metadata": {},
   "outputs": [],
   "source": [
    "h1 = fcn_layer(inputs=x,\n",
    "               input_dim=784,\n",
    "               output_dim=H1_NN,\n",
    "               activation=tf.nn.relu)"
   ]
  },
  {
   "cell_type": "markdown",
   "metadata": {},
   "source": [
    "### 构建输出层"
   ]
  },
  {
   "cell_type": "code",
   "execution_count": 6,
   "metadata": {},
   "outputs": [],
   "source": [
    "forward = fcn_layer(inputs=h1,\n",
    "               input_dim=H1_NN,\n",
    "               output_dim=10,\n",
    "               activation=None)\n",
    "pred = tf.nn.softmax(forward)"
   ]
  },
  {
   "cell_type": "markdown",
   "metadata": {},
   "source": [
    "# 训练模型"
   ]
  },
  {
   "cell_type": "markdown",
   "metadata": {},
   "source": [
    "### 定义标签数据占位符"
   ]
  },
  {
   "cell_type": "code",
   "execution_count": 7,
   "metadata": {},
   "outputs": [],
   "source": [
    "y = tf.placeholder(tf.float32, [None, 10], name=\"Y\")"
   ]
  },
  {
   "cell_type": "markdown",
   "metadata": {},
   "source": [
    "### 定义损失函数"
   ]
  },
  {
   "cell_type": "code",
   "execution_count": 8,
   "metadata": {},
   "outputs": [
    {
     "name": "stdout",
     "output_type": "stream",
     "text": [
      "WARNING:tensorflow:From <ipython-input-8-f0dc9641bae9>:2: softmax_cross_entropy_with_logits (from tensorflow.python.ops.nn_ops) is deprecated and will be removed in a future version.\n",
      "Instructions for updating:\n",
      "\n",
      "Future major versions of TensorFlow will allow gradients to flow\n",
      "into the labels input on backprop by default.\n",
      "\n",
      "See `tf.nn.softmax_cross_entropy_with_logits_v2`.\n",
      "\n"
     ]
    }
   ],
   "source": [
    "#交叉熵\n",
    "loss_function = tf.reduce_mean(tf.nn.softmax_cross_entropy_with_logits(logits=forward, labels=y))"
   ]
  },
  {
   "cell_type": "markdown",
   "metadata": {},
   "source": [
    "### 设置训练参数"
   ]
  },
  {
   "cell_type": "code",
   "execution_count": 9,
   "metadata": {},
   "outputs": [],
   "source": [
    "train_epochs = 40\n",
    "batch_size = 50\n",
    "total_batch = int(mnist.train.num_examples/batch_size)\n",
    "display_step = 1\n",
    "learning_rate = 0.01"
   ]
  },
  {
   "cell_type": "markdown",
   "metadata": {},
   "source": [
    "### 选择优化器"
   ]
  },
  {
   "cell_type": "code",
   "execution_count": 10,
   "metadata": {},
   "outputs": [],
   "source": [
    "optimizer = tf.train.AdamOptimizer(learning_rate).minimize(loss_function)"
   ]
  },
  {
   "cell_type": "markdown",
   "metadata": {},
   "source": [
    "### 定义准确率"
   ]
  },
  {
   "cell_type": "code",
   "execution_count": 11,
   "metadata": {},
   "outputs": [],
   "source": [
    "correct_prediction = tf.equal(tf.argmax(y, 1),tf.argmax(pred, 1))\n",
    "accuracy = tf.reduce_mean(tf.cast(correct_prediction, tf.float32))"
   ]
  },
  {
   "cell_type": "markdown",
   "metadata": {},
   "source": [
    "### 训练模型"
   ]
  },
  {
   "cell_type": "code",
   "execution_count": 12,
   "metadata": {},
   "outputs": [
    {
     "name": "stdout",
     "output_type": "stream",
     "text": [
      "Train Epoch: 01 Loss= 0.189497724  Accuracy= 0.9464\n",
      "Train Epoch: 02 Loss= 0.138245761  Accuracy= 0.9652\n",
      "Train Epoch: 03 Loss= 0.158251300  Accuracy= 0.9622\n",
      "Train Epoch: 04 Loss= 0.149723589  Accuracy= 0.9662\n",
      "Train Epoch: 05 Loss= 0.175970420  Accuracy= 0.9644\n",
      "Train Epoch: 06 Loss= 0.158312827  Accuracy= 0.9646\n",
      "Train Epoch: 07 Loss= 0.192172736  Accuracy= 0.9656\n",
      "Train Epoch: 08 Loss= 0.183559671  Accuracy= 0.9686\n",
      "Train Epoch: 09 Loss= 0.194637939  Accuracy= 0.9666\n",
      "Train Epoch: 10 Loss= 0.177375779  Accuracy= 0.9674\n",
      "Train Epoch: 11 Loss= 0.256744832  Accuracy= 0.9642\n",
      "Train Epoch: 12 Loss= 0.269602478  Accuracy= 0.9658\n",
      "Train Epoch: 13 Loss= 0.244766131  Accuracy= 0.9654\n",
      "Train Epoch: 14 Loss= 0.207254395  Accuracy= 0.9708\n",
      "Train Epoch: 15 Loss= 0.268001705  Accuracy= 0.9690\n",
      "Train Epoch: 16 Loss= 0.311935365  Accuracy= 0.9678\n",
      "Train Epoch: 17 Loss= 0.330014497  Accuracy= 0.9682\n",
      "Train Epoch: 18 Loss= 0.308388531  Accuracy= 0.9686\n",
      "Train Epoch: 19 Loss= 0.291414469  Accuracy= 0.9684\n",
      "Train Epoch: 20 Loss= 0.300197423  Accuracy= 0.9710\n",
      "Train Epoch: 21 Loss= 0.292417258  Accuracy= 0.9724\n",
      "Train Epoch: 22 Loss= 0.281849653  Accuracy= 0.9720\n",
      "Train Epoch: 23 Loss= 0.347753525  Accuracy= 0.9714\n",
      "Train Epoch: 24 Loss= 0.350819409  Accuracy= 0.9710\n",
      "Train Epoch: 25 Loss= 0.370957881  Accuracy= 0.9720\n",
      "Train Epoch: 26 Loss= 0.339404672  Accuracy= 0.9730\n",
      "Train Epoch: 27 Loss= 0.444780618  Accuracy= 0.9704\n",
      "Train Epoch: 28 Loss= 0.450595617  Accuracy= 0.9720\n",
      "Train Epoch: 29 Loss= 0.537493527  Accuracy= 0.9678\n",
      "Train Epoch: 30 Loss= 0.426826745  Accuracy= 0.9732\n",
      "Train Epoch: 31 Loss= 0.461043358  Accuracy= 0.9754\n",
      "Train Epoch: 32 Loss= 0.550377727  Accuracy= 0.9674\n",
      "Train Epoch: 33 Loss= 0.496160269  Accuracy= 0.9730\n",
      "Train Epoch: 34 Loss= 0.526313484  Accuracy= 0.9710\n",
      "Train Epoch: 35 Loss= 0.524845243  Accuracy= 0.9722\n",
      "Train Epoch: 36 Loss= 0.607256293  Accuracy= 0.9718\n",
      "Train Epoch: 37 Loss= 0.507112443  Accuracy= 0.9732\n",
      "Train Epoch: 38 Loss= 0.558417737  Accuracy= 0.9774\n",
      "Train Epoch: 39 Loss= 0.617017388  Accuracy= 0.9742\n",
      "Train Epoch: 40 Loss= 0.539627910  Accuracy= 0.9742\n",
      "Train Finished takes: 25.14\n"
     ]
    }
   ],
   "source": [
    "#记录训练开始时间\n",
    "from time import time\n",
    "startTime = time()\n",
    "sess = tf.Session()\n",
    "sess.run(tf.global_variables_initializer())\n",
    "for epoch in range(train_epochs):\n",
    "    for batch in range(total_batch):\n",
    "        xs, ys = mnist.train.next_batch(batch_size)\n",
    "        sess.run(optimizer,feed_dict={x: xs, y: ys})\n",
    "    #total_batch个批次训练完成后，使用验证数据计算误差与准确率\n",
    "    loss, acc = sess.run([loss_function, accuracy],feed_dict={x: mnist.validation.images,\n",
    "                                                              y: mnist.validation.labels})\n",
    "    if(epoch+1) % display_step ==0:\n",
    "        print(\"Train Epoch:\",\"%02d\" % (epoch+1),\n",
    "              \"Loss=\",\"{:.9f}\".format(loss), \" Accuracy=\",\"{:.4f}\".format(acc))\n",
    "#运行总时间\n",
    "duration = time()-startTime\n",
    "print(\"Train Finished takes:\",\"{:.2f}\".format(duration))"
   ]
  },
  {
   "cell_type": "raw",
   "metadata": {},
   "source": [
    "从上述打印结果可以看出包含256个神经元的单隐层神经网络的分类性能比仅包含一个神经元的神经网络更优。"
   ]
  },
  {
   "cell_type": "markdown",
   "metadata": {},
   "source": [
    "# 评估模型"
   ]
  },
  {
   "cell_type": "code",
   "execution_count": 13,
   "metadata": {},
   "outputs": [
    {
     "name": "stdout",
     "output_type": "stream",
     "text": [
      "Test Accuracy: 0.9711\n"
     ]
    }
   ],
   "source": [
    "accu_test = sess.run(accuracy, feed_dict={x: mnist.test.images, y: mnist.test.labels})\n",
    "print(\"Test Accuracy:\", accu_test)"
   ]
  }
 ],
 "metadata": {
  "kernelspec": {
   "display_name": "Python 3",
   "language": "python",
   "name": "python3"
  },
  "language_info": {
   "codemirror_mode": {
    "name": "ipython",
    "version": 3
   },
   "file_extension": ".py",
   "mimetype": "text/x-python",
   "name": "python",
   "nbconvert_exporter": "python",
   "pygments_lexer": "ipython3",
   "version": "3.7.3"
  }
 },
 "nbformat": 4,
 "nbformat_minor": 2
}
