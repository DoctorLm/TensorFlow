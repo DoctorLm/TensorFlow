{
 "cells": [
  {
   "cell_type": "code",
   "execution_count": 1,
   "id": "e574f330",
   "metadata": {},
   "outputs": [
    {
     "data": {
      "text/plain": [
       "'2.1.0'"
      ]
     },
     "execution_count": 1,
     "metadata": {},
     "output_type": "execute_result"
    }
   ],
   "source": [
    "import tensorflow as tf\n",
    "tf.__version__"
   ]
  },
  {
   "cell_type": "code",
   "execution_count": 2,
   "id": "a1e47dcc",
   "metadata": {},
   "outputs": [
    {
     "data": {
      "text/plain": [
       "[PhysicalDevice(name='/physical_device:CPU:0', device_type='CPU'),\n",
       " PhysicalDevice(name='/physical_device:GPU:0', device_type='GPU')]"
      ]
     },
     "execution_count": 2,
     "metadata": {},
     "output_type": "execute_result"
    }
   ],
   "source": [
    "tf.config.experimental.list_physical_devices()"
   ]
  },
  {
   "cell_type": "code",
   "execution_count": 3,
   "id": "f8e7ab0a",
   "metadata": {},
   "outputs": [
    {
     "name": "stdout",
     "output_type": "stream",
     "text": [
      "cpu_a: /job:localhost/replica:0/task:0/device:CPU:0\n",
      "cpu_b: /job:localhost/replica:0/task:0/device:CPU:0\n",
      "cpu_c: /job:localhost/replica:0/task:0/device:CPU:0\n"
     ]
    }
   ],
   "source": [
    "with tf.device('/device:CPU:0'):\n",
    "    cpu_a = tf.random.normal([10000, 1000])\n",
    "    cpu_b = tf.random.normal([1000, 2000])\n",
    "    cpu_c = tf.matmul(cpu_a, cpu_b)\n",
    "    \n",
    "print(\"cpu_a:\", cpu_a.device)\n",
    "print(\"cpu_b:\", cpu_b.device)\n",
    "print(\"cpu_c:\", cpu_c.device)"
   ]
  },
  {
   "cell_type": "code",
   "execution_count": 4,
   "id": "b02cc036",
   "metadata": {},
   "outputs": [
    {
     "name": "stdout",
     "output_type": "stream",
     "text": [
      "gpu_a: /job:localhost/replica:0/task:0/device:GPU:0\n",
      "gpu_b: /job:localhost/replica:0/task:0/device:GPU:0\n",
      "gpu_c: /job:localhost/replica:0/task:0/device:GPU:0\n"
     ]
    }
   ],
   "source": [
    "with tf.device('/device:GPU:0'):\n",
    "    gpu_a = tf.random.normal([10000, 1000])\n",
    "    gpu_b = tf.random.normal([1000, 2000])\n",
    "    gpu_c = tf.matmul(gpu_a, gpu_b)\n",
    "\n",
    "print(\"gpu_a:\", gpu_a.device)\n",
    "print(\"gpu_b:\", gpu_b.device)\n",
    "print(\"gpu_c:\", gpu_c.device)"
   ]
  },
  {
   "cell_type": "code",
   "execution_count": 5,
   "id": "a9c38931",
   "metadata": {},
   "outputs": [],
   "source": [
    "import timeit"
   ]
  },
  {
   "cell_type": "code",
   "execution_count": 6,
   "id": "cc61d294",
   "metadata": {},
   "outputs": [],
   "source": [
    "def cpu_run():\n",
    "    with tf.device('/device:CPU:0'):\n",
    "        cpu_a = tf.random.normal([10000, 1000])\n",
    "        cpu_b = tf.random.normal([1000, 2000])\n",
    "        cpu_c = tf.matmul(cpu_a, cpu_b)\n",
    "    return cpu_c"
   ]
  },
  {
   "cell_type": "code",
   "execution_count": 7,
   "id": "13cd2636",
   "metadata": {},
   "outputs": [],
   "source": [
    "def gpu_run():\n",
    "    with tf.device('/device:GPU:0'):\n",
    "        gpu_a = tf.random.normal([10000, 1000])\n",
    "        gpu_b = tf.random.normal([1000, 2000])\n",
    "        gpu_c = tf.matmul(gpu_a, gpu_b)\n",
    "    return gpu_c"
   ]
  },
  {
   "cell_type": "code",
   "execution_count": 8,
   "id": "847ddd55",
   "metadata": {},
   "outputs": [
    {
     "name": "stdout",
     "output_type": "stream",
     "text": [
      "cpu_time: 2.047765 gpu_time: 0.0023301000000000016\n"
     ]
    }
   ],
   "source": [
    "cpu_time = timeit.timeit(cpu_run, number=10)\n",
    "gpu_time = timeit.timeit(gpu_run, number=10)\n",
    "print(\"cpu_time:\", cpu_time, \"gpu_time:\", gpu_time)"
   ]
  },
  {
   "cell_type": "code",
   "execution_count": null,
   "id": "ddba7b5b",
   "metadata": {},
   "outputs": [],
   "source": []
  }
 ],
 "metadata": {
  "kernelspec": {
   "display_name": "Python 3 (ipykernel)",
   "language": "python",
   "name": "python3"
  },
  "language_info": {
   "codemirror_mode": {
    "name": "ipython",
    "version": 3
   },
   "file_extension": ".py",
   "mimetype": "text/x-python",
   "name": "python",
   "nbconvert_exporter": "python",
   "pygments_lexer": "ipython3",
   "version": "3.7.11"
  }
 },
 "nbformat": 4,
 "nbformat_minor": 5
}
