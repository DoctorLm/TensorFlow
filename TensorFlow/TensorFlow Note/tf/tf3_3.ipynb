{
 "cells": [
  {
   "cell_type": "code",
   "execution_count": 1,
   "metadata": {},
   "outputs": [],
   "source": [
    "#coding:utf-8\n",
    "#两层简单神经网络（全连接）\n",
    "import tensorflow as tf"
   ]
  },
  {
   "cell_type": "code",
   "execution_count": 2,
   "metadata": {},
   "outputs": [
    {
     "name": "stdout",
     "output_type": "stream",
     "text": [
      "<tf.Variable 'Variable:0' shape=(2, 3) dtype=float32_ref>\n",
      "<tf.Variable 'Variable_1:0' shape=(3, 1) dtype=float32_ref>\n"
     ]
    }
   ],
   "source": [
    "#定义输入和参数\n",
    "x = tf.constant([[0.7, 0.5]])\n",
    "w1= tf.Variable(tf.random_normal([2, 3], stddev=1, seed=1))\n",
    "w2= tf.Variable(tf.random_normal([3, 1], stddev=1, seed=1))\n",
    "print(w1)\n",
    "print(w2)"
   ]
  },
  {
   "cell_type": "code",
   "execution_count": 3,
   "metadata": {},
   "outputs": [],
   "source": [
    "#定义前向传播过程\n",
    "a = tf.matmul(x, w1)\n",
    "y = tf.matmul(a, w2)"
   ]
  },
  {
   "cell_type": "code",
   "execution_count": 15,
   "metadata": {},
   "outputs": [
    {
     "name": "stdout",
     "output_type": "stream",
     "text": [
      "x:\n",
      " [[0.7 0.5]] (1, 2)\n",
      "w1:\n",
      " [[-0.8113182   1.4845988   0.06532937]\n",
      " [-2.4427042   0.0992484   0.5912243 ]] (2, 3)\n",
      "a in tf3_3 is:\n",
      " [[-1.7892749   1.0888433   0.34134272]] (1, 3)\n",
      "w2\n",
      " (3, 1)\n",
      "y in tf3_3 is:\n",
      " [[3.0904665]] (1, 1)\n"
     ]
    }
   ],
   "source": [
    "#用会话计算结果\n",
    "with tf.Session() as sess:\n",
    "    init_op = tf.global_variables_initializer()\n",
    "    sess.run(init_op)\n",
    "    w1temp = w1.eval(session = sess)\n",
    "    w2temp = w2.eval(session = sess)\n",
    "    \n",
    "    print(\"x:\\n\", x.eval(session = sess), x.shape)\n",
    "    print(\"w1:\\n\",w1temp, w1temp.shape)\n",
    "    print(\"a in tf3_3 is:\\n\",sess.run(a), a.shape)\n",
    "    \n",
    "    print(\"w2\\n\",w2temp.shape)\n",
    "    print(\"y in tf3_3 is:\\n\",sess.run(y),y.shape)"
   ]
  },
  {
   "cell_type": "code",
   "execution_count": null,
   "metadata": {},
   "outputs": [],
   "source": []
  }
 ],
 "metadata": {
  "kernelspec": {
   "display_name": "Python 3",
   "language": "python",
   "name": "python3"
  },
  "language_info": {
   "codemirror_mode": {
    "name": "ipython",
    "version": 3
   },
   "file_extension": ".py",
   "mimetype": "text/x-python",
   "name": "python",
   "nbconvert_exporter": "python",
   "pygments_lexer": "ipython3",
   "version": "3.7.3"
  }
 },
 "nbformat": 4,
 "nbformat_minor": 4
}
