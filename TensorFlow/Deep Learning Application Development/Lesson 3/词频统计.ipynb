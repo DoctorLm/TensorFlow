{
 "cells": [
  {
   "cell_type": "code",
   "execution_count": 1,
   "metadata": {},
   "outputs": [],
   "source": [
    "def getText():\n",
    "    txt = open(\"THE TRAGEDY OF ROMEO AND JULIET.txt\", \"r\", encoding='unicode_escape').read()\n",
    "    txt = txt.lower() #Python lower() 方法转换字符串中所有大写字符为小写。\n",
    "    for ch in '!\"#$%&()*+,-./:;<=>?@[\\\\]^_‘{|}~':\n",
    "        txt = txt.replace(ch, \" \") #将文本中特殊字符替换为空格\n",
    "    return txt"
   ]
  },
  {
   "cell_type": "code",
   "execution_count": 2,
   "metadata": {},
   "outputs": [
    {
     "name": "stdout",
     "output_type": "stream",
     "text": [
      "(720,and) (680,the) (576,i) (573,to) (463,a) (401,of) (360,my) (347,that) (344,is) (320,in) "
     ]
    }
   ],
   "source": [
    "rjTxt = getText()\n",
    "words  = rjTxt.split() #将文本中单词对应到列表中\n",
    "counts = {} #创建一个字典\n",
    "\n",
    "for word in words:\n",
    "    counts[word] = counts.get(word,0) + 1\n",
    "\n",
    "# counts.items(） Python 字典(Dictionary) items() 函数以列表返回可遍历的(键, 值) 元组数组。\n",
    "items = list(counts.items()) #把counts.items()元组 转成列表\n",
    "\n",
    "#sort() 函数用于对原列表进行排序，如果指定参数，则使用比较函数指定的比较函数。key=lambda x:x[1]以值为升序排列\n",
    "items.sort(key=lambda x:x[1], reverse=True)\n",
    "\n",
    "for i in range(10):\n",
    "    word, count = items[i]\n",
    "    print (\"({},{})\".format(count, word), end=' ')"
   ]
  },
  {
   "cell_type": "code",
   "execution_count": null,
   "metadata": {},
   "outputs": [],
   "source": []
  }
 ],
 "metadata": {
  "kernelspec": {
   "display_name": "Python 3",
   "language": "python",
   "name": "python3"
  },
  "language_info": {
   "codemirror_mode": {
    "name": "ipython",
    "version": 3
   },
   "file_extension": ".py",
   "mimetype": "text/x-python",
   "name": "python",
   "nbconvert_exporter": "python",
   "pygments_lexer": "ipython3",
   "version": "3.7.3"
  }
 },
 "nbformat": 4,
 "nbformat_minor": 4
}
