{
 "cells": [
  {
   "cell_type": "markdown",
   "metadata": {},
   "source": [
    "### 用TensorFlow说Hello World!"
   ]
  },
  {
   "cell_type": "code",
   "execution_count": 1,
   "metadata": {},
   "outputs": [
    {
     "name": "stdout",
     "output_type": "stream",
     "text": [
      "b'Hello World!'\n"
     ]
    }
   ],
   "source": [
    "import tensorflow as tf\n",
    "\n",
    "# 创建一个常值运算，将作为一个节点加入到默认计算图中\n",
    "hello = tf.constant(\"Hello World!\")\n",
    "\n",
    "# 创建一个TF对话\n",
    "sess = tf.Session()\n",
    "\n",
    "# 运行并获得结果\n",
    "print(sess.run(hello))"
   ]
  },
  {
   "cell_type": "markdown",
   "metadata": {},
   "source": [
    "输出前面'b'表示Bytes literals(字节文字)"
   ]
  },
  {
   "cell_type": "markdown",
   "metadata": {},
   "source": [
    "### 计算图(数据流图)\n",
    "TensorFlow程序的执行创建流图、执行对话两个部分。\n",
    "\n",
    "TensorFlow内部将上述计算过程表征为数据流图，也称为计算图。\n",
    "\n",
    "创建流图（或计算图）就是建立计算模型，执行对话则是提供数据并获得结果。\n",
    "\n",
    "计算图是一个有向图，由以下内容构成：\n",
    "* 一组节点，每个节点都代表一个操作，是一种运算\n",
    "* 一组有向边，每条边代表节点之间的关系（数据传递和控制依赖）\n",
    "\n",
    "TenforFlow有两种边：\n",
    "\n",
    "* 常规边（实线）：代表数据依赖关系。一个节点的运算输出成为另一个节点的输入，两个节之间有tensor流动（值传递)\n",
    "* 特殊边（虚线）：不携带值，表示两个节点之间的控制相关性。比如，happens-before关系，源节点必须在目的节点执行前完成执行"
   ]
  },
  {
   "cell_type": "code",
   "execution_count": 2,
   "metadata": {},
   "outputs": [],
   "source": [
    "# 一个简单计算图\n",
    "node1 = tf.constant(3.0,tf.float32,name=\"node1\")\n",
    "node2 = tf.constant(4.0,tf.float32,name=\"node2\")\n",
    "node3 = tf.add(node1,node2)"
   ]
  },
  {
   "cell_type": "markdown",
   "metadata": {},
   "source": [
    "### 计算图 -- png-1.png\n",
    "<img src= \"png-1.png\">"
   ]
  },
  {
   "cell_type": "code",
   "execution_count": 3,
   "metadata": {},
   "outputs": [
    {
     "name": "stdout",
     "output_type": "stream",
     "text": [
      "Tensor(\"Add:0\", shape=(), dtype=float32)\n"
     ]
    }
   ],
   "source": [
    "print(node3)"
   ]
  },
  {
   "cell_type": "markdown",
   "metadata": {},
   "source": [
    "### 创建流图（或计算图）就是建立计算模型，执行对话才能提供数据并获得结果"
   ]
  },
  {
   "cell_type": "code",
   "execution_count": 4,
   "metadata": {},
   "outputs": [
    {
     "name": "stdout",
     "output_type": "stream",
     "text": [
      "运行sess.run(node1)的结果： 3.0\n"
     ]
    }
   ],
   "source": [
    "# 建立对话并显示运行结果\n",
    "sess = tf.Session()\n",
    "print(\"运行sess.run(node1)的结果：\",sess.run(node1))"
   ]
  },
  {
   "cell_type": "code",
   "execution_count": 5,
   "metadata": {},
   "outputs": [
    {
     "name": "stdout",
     "output_type": "stream",
     "text": [
      "运行sess.run(node3)的结果： 7.0\n"
     ]
    }
   ],
   "source": [
    "# 更新变量并返回计算结果\n",
    "print(\"运行sess.run(node3)的结果：\",sess.run(node3))\n",
    "# 关闭session\n",
    "sess.close()"
   ]
  },
  {
   "cell_type": "markdown",
   "metadata": {},
   "source": [
    "### 张量的属性\n",
    "\n",
    "Tensor(\"add:0\",shape=(2,),dtype=float32)\n",
    "\n",
    "名字（name）\n",
    "\n",
    "    \"node:src_output\"：node 节点名称，src_output 来自节点的第几个输出\n",
    "\n",
    "形状（shape）\n",
    "\n",
    "    张量的维度信息，shape=（），表示是标量\n",
    "\n",
    "类型（type）\n",
    "\n",
    "    每一个张量会有一个唯一的类型。\n",
    "    \n",
    "    TensorFlow会对参与运算的所有张量进行类型的检查，发现类型不匹配时会报错"
   ]
  },
  {
   "cell_type": "code",
   "execution_count": 6,
   "metadata": {},
   "outputs": [
    {
     "name": "stdout",
     "output_type": "stream",
     "text": [
      "Tensor(\"tens1:0\", shape=(4, 2, 3), dtype=int32)\n"
     ]
    }
   ],
   "source": [
    "import tensorflow as tf\n",
    "tens1 = tf.constant([[[1,2,3],[2,2,3]],\n",
    "                     [[3,5,6],[5,4,3]],\n",
    "                     [[7,0,1],[9,1,9]],\n",
    "                     [[11,12,7],[1,3,14]]],name=\"tens1\")\n",
    "# 语句中包含[],{}或（）括号中间换行的就不需要使用多行连接符\n",
    "\n",
    "print(tens1)"
   ]
  },
  {
   "cell_type": "code",
   "execution_count": 7,
   "metadata": {},
   "outputs": [
    {
     "name": "stdout",
     "output_type": "stream",
     "text": [
      "()\n",
      "(5,)\n",
      "(2, 3)\n",
      "(1, 9, 1)\n"
     ]
    }
   ],
   "source": [
    "import tensorflow as tf\n",
    "\n",
    "scalar = tf.constant(100)\n",
    "vector = tf.constant([1,2,3,4,5])\n",
    "matrix = tf.constant([[1,2,3],[4,5,6]])\n",
    "cube_matrix = tf.constant([[[1],[2],[3],[4],[5],[6],[7],[8],[9]]])\n",
    "\n",
    "print(scalar.get_shape())\n",
    "print(vector.get_shape())\n",
    "print(matrix.get_shape())\n",
    "print(cube_matrix.get_shape())"
   ]
  },
  {
   "cell_type": "markdown",
   "metadata": {},
   "source": [
    "### 获取张量的元素\n",
    "阶为1的张量等价于向量；\n",
    "\n",
    "阶为2的张量等价于矩阵，通过t[i,j]获取元素；\n",
    "\n",
    "阶为3的张量，通过t[i,j,k]获取元素；\n",
    "\n",
    "例:"
   ]
  },
  {
   "cell_type": "code",
   "execution_count": 8,
   "metadata": {},
   "outputs": [
    {
     "name": "stdout",
     "output_type": "stream",
     "text": [
      "5\n"
     ]
    }
   ],
   "source": [
    "import tensorflow as tf\n",
    "tens1 = tf.constant([[[1,2],[2,3]],[[3,4],[5,6]]])\n",
    "\n",
    "sess = tf.Session()\n",
    "print(sess.run(tens1)[1,1,0])\n",
    "sess.close()"
   ]
  },
  {
   "cell_type": "markdown",
   "metadata": {},
   "source": [
    "#### 下标从0开始"
   ]
  },
  {
   "cell_type": "markdown",
   "metadata": {},
   "source": [
    "### 张量的类型\n",
    "* TensorFlow支持14种不同的类型\n",
    "* 实数 tf.float32, tf.float64\n",
    "* 整数 tf.int8, tf.int16, tf.int32, tf.int64, tf.uint8\n",
    "* 布尔 tf.bool\n",
    "* 复数 tf.complex64, tf.complex128\n",
    "* 默认类型：\n",
    "* 不带小数点的数会被默认为int32\n",
    "* 带小数点的会被默认为float32\n",
    "    "
   ]
  },
  {
   "cell_type": "code",
   "execution_count": 9,
   "metadata": {},
   "outputs": [],
   "source": [
    "import tensorflow as tf\n",
    "a = tf.constant([1.0,2.0],name=\"a\")\n",
    "b = tf.constant([2.0,3.0],name=\"b\")\n",
    "result = tf.add(a,b)"
   ]
  },
  {
   "cell_type": "markdown",
   "metadata": {},
   "source": [
    "### 操作 Operation\n",
    "#### 计算图中的节点就是操作（Operation）。比如，一次加法是一个操作，一次乘法也是一个操作，构建一些变量的初始值也是一个操作。\n",
    "#### 每个运算操作都有属性，它在构建图的时候需要确定下来。操作可以和计算设备绑定，指定操作在某个设备上执行。\n",
    "#### 操作之间存在顺序关系，这些操作之间的依赖就是“边”。如果操作A的输入是操作B执行的结果，那么这个操作A就依赖于操作B"
   ]
  },
  {
   "cell_type": "code",
   "execution_count": 10,
   "metadata": {},
   "outputs": [],
   "source": [
    "import tensorflow as tf\n",
    "\n",
    "# 本例用到了TensorBoard,具体使用后面讲解\n",
    "\n",
    "tf.reset_default_graph() #清除default_graph和不断增加的节点  \n",
    "\n",
    "# 定义变量 a\n",
    "a = tf.Variable(1,name=\"a\")\n",
    "# 定义操作b为a+1\n",
    "b = tf.add(a,1,name=\"b\")\n",
    "# 定义操作c为b*4\n",
    "c = tf.multiply(b,4,name=\"c\")\n",
    "# 定义d为c-b\n",
    "d = tf.subtract(c,b,name=\"d\")\n",
    "\n",
    "# logdir改为机器上的合适路径\n",
    "logdir = 'log'\n",
    "\n",
    "# 生成一个写日志的writer,并将当前的TensorFlow计算图写入日志。\n",
    "writer = tf.summary.FileWriter(logdir, tf.get_default_graph())\n",
    "writer.close()\n",
    "\n",
    "# 执行tensorboard命令: tensorboard --logdir=log"
   ]
  },
  {
   "cell_type": "markdown",
   "metadata": {},
   "source": [
    "### 计算图 -- png-2.png\n",
    "<img src= \"png-2.png\">"
   ]
  },
  {
   "cell_type": "markdown",
   "metadata": {},
   "source": [
    "# 会话的模式 1"
   ]
  },
  {
   "cell_type": "code",
   "execution_count": 11,
   "metadata": {},
   "outputs": [
    {
     "name": "stdout",
     "output_type": "stream",
     "text": [
      "[1 2 3]\n"
     ]
    }
   ],
   "source": [
    "import tensorflow as tf\n",
    "\n",
    "#定义计算图\n",
    "tens1 = tf.constant([1,2,3])\n",
    "\n",
    "#创建一个会话\n",
    "sess = tf.Session()\n",
    "try:\n",
    "#使用这个创建好的会话来得到关心的运算的结果。比如可以调用 sess.run(result)\n",
    "#来得到张量result的取值\n",
    "    print(sess.run(tens1))\n",
    "except:\n",
    "    print(\"Exception!\")\n",
    "finally:\n",
    "#关闭会话使得本次运行中使用到的资源可以被释放\n",
    "    sess.close()"
   ]
  },
  {
   "cell_type": "markdown",
   "metadata": {},
   "source": [
    "### 会话的模式2"
   ]
  },
  {
   "cell_type": "code",
   "execution_count": 12,
   "metadata": {},
   "outputs": [
    {
     "name": "stdout",
     "output_type": "stream",
     "text": [
      "7.0\n"
     ]
    }
   ],
   "source": [
    "node1 = tf.constant(3.0, tf.float32, name=\"node1\")\n",
    "node2 = tf.constant(4.0, tf.float32, name=\"node2\")\n",
    "result = tf.add(node1, node2)\n",
    "\n",
    "# 创建一个会话，并通过python中的上下文管理器来管理这个会话\n",
    "with tf.Session() as sess:\n",
    "    # 使用创建好的会话计算结果\n",
    "    print(sess.run(result))\n",
    "    \n",
    "# 不需要再调用Session.close() 函数来关闭会话\n",
    "# 当上下文退出时会话关闭和资源释放也自动完成"
   ]
  },
  {
   "cell_type": "markdown",
   "metadata": {},
   "source": [
    "### 指定默认的会话\n",
    "TensorFlow不会自动生成默认会话，需要手动指定\n",
    "\n",
    "当默认的会话被指定之后可以通过tf.Tensor.eval函数来计算一个张量取值"
   ]
  },
  {
   "cell_type": "code",
   "execution_count": 13,
   "metadata": {},
   "outputs": [
    {
     "name": "stdout",
     "output_type": "stream",
     "text": [
      "7.0\n"
     ]
    }
   ],
   "source": [
    "node1 = tf.constant(3.0, tf.float32, name=\"node1\")\n",
    "node2 = tf.constant(4.0, tf.float32, name=\"node2\")\n",
    "result = tf.add(node1, node2)\n",
    "\n",
    "sess = tf.Session()\n",
    "with sess.as_default():\n",
    "    print(result.eval())"
   ]
  },
  {
   "cell_type": "markdown",
   "metadata": {},
   "source": [
    "下面代码也可以完成相同的功能"
   ]
  },
  {
   "cell_type": "code",
   "execution_count": 14,
   "metadata": {},
   "outputs": [
    {
     "name": "stdout",
     "output_type": "stream",
     "text": [
      "7.0\n",
      "7.0\n"
     ]
    }
   ],
   "source": [
    "sess = tf.Session()\n",
    "\n",
    "#下面两个命令功能相同\n",
    "print(sess.run(result))\n",
    "\n",
    "print(result.eval(session=sess))"
   ]
  },
  {
   "cell_type": "markdown",
   "metadata": {},
   "source": [
    "### 交互式环境下设置默认会话\n",
    "在交互环境下，Python脚本或jupyter编辑器下，通过设置默认会话来获取张量的取值便加方便\n",
    "\n",
    "tf.InteractiveSession 使用这个函数会自动将生成的会话注册为默认会话"
   ]
  },
  {
   "cell_type": "code",
   "execution_count": 15,
   "metadata": {},
   "outputs": [
    {
     "name": "stdout",
     "output_type": "stream",
     "text": [
      "7.0\n"
     ]
    }
   ],
   "source": [
    "node1 = tf.constant(3.0, tf.float32, name=\"node1\")\n",
    "node2 = tf.constant(4.0, tf.float32, name=\"node2\")\n",
    "result = tf.add(node1, node2)\n",
    "sess = tf.InteractiveSession()\n",
    "print(result.eval())\n",
    "sess.close()"
   ]
  },
  {
   "cell_type": "markdown",
   "metadata": {},
   "source": [
    "### 常量 \n",
    "在运行过程中值不会改变的单元，在Tensorflow中无须进行初始化操作\n",
    "\n",
    "### 创建语句：\n",
    "\n",
    "    constant_name = tf.constant(value)"
   ]
  },
  {
   "cell_type": "code",
   "execution_count": 16,
   "metadata": {},
   "outputs": [
    {
     "name": "stdout",
     "output_type": "stream",
     "text": [
      "3.5\n"
     ]
    }
   ],
   "source": [
    "a = tf.constant(1.0,name='a')\n",
    "b = tf.constant(2.5,name='b')\n",
    "c = tf.add(a,b,name='c')\n",
    "\n",
    "sess = tf.Session()\n",
    "c_value = sess.run(c)\n",
    "print(c_value)\n",
    "sess.close()"
   ]
  },
  {
   "cell_type": "markdown",
   "metadata": {},
   "source": [
    "### 变量 Variable\n",
    "#### 在运行过程中值不会改变的单元，在Tensorflow中必须进行初始化操作\n",
    "- 创建语句：name_variable = tf.Variable(value,name)\n",
    "- 个别变量初始化：init_op = name_variable.initializer()\n",
    "- 所有变量初始化：init_op = tf.global_variables_initializer()"
   ]
  },
  {
   "cell_type": "code",
   "execution_count": 17,
   "metadata": {},
   "outputs": [
    {
     "name": "stdout",
     "output_type": "stream",
     "text": [
      "7.0\n"
     ]
    }
   ],
   "source": [
    "node1 = tf.Variable(3.0,tf.float32,name=\"node1\")\n",
    "node2 = tf.Variable(4.0,tf.float32,name=\"node2\")\n",
    "result = tf.add(node1,node2,name=\"add\")\n",
    "\n",
    "sess = tf.Session()\n",
    "\n",
    "#变量初始化\n",
    "init = tf.global_variables_initializer()\n",
    "sess.run(init)\n",
    "\n",
    "print(sess.run(result))"
   ]
  },
  {
   "cell_type": "markdown",
   "metadata": {},
   "source": [
    "以上代码在Session对话变量后，增加了一个init初始化变量，并调用会话的run命令对参数进行始初化"
   ]
  },
  {
   "cell_type": "markdown",
   "metadata": {},
   "source": [
    "# 变量赋值\n",
    "- 与传统编程语言不同，TensorFlow中的变量定义后，一般无需人工赋值，系统会根据算法模型训练优化过程中自动调整变量对应的数值\n",
    "- 后面在将机器学习模型训练时会更能体会，比如权重Weight变量w,经过多次迭代，会自动调 epoch = tf.Variable(0,name='epoch',trainable=False)\n",
    "- 特殊情况需要人工更新的，可用变量赋值语句\n",
    "变量更新语句:update_op = tf.assign(variable_to_be_updated,new_value)"
   ]
  },
  {
   "cell_type": "code",
   "execution_count": 18,
   "metadata": {},
   "outputs": [
    {
     "name": "stdout",
     "output_type": "stream",
     "text": [
      "1\n",
      "2\n",
      "3\n",
      "4\n",
      "5\n",
      "6\n",
      "7\n",
      "8\n",
      "9\n",
      "10\n"
     ]
    }
   ],
   "source": [
    "# 通过变量赋值输出1、2、3...10\n",
    "\n",
    "import tensorflow as tf\n",
    "\n",
    "tf.reset_default_graph()  #清除和不断增加的节点\n",
    "\n",
    "value = tf.Variable(0,name=\"value\")\n",
    "one = tf.constant(1)\n",
    "new_value = tf.add(value,one)\n",
    "update_value = tf.assign(value,new_value)\n",
    "\n",
    "init = tf.global_variables_initializer()\n",
    "\n",
    "with tf.Session() as sess:\n",
    "    sess.run(init)\n",
    "    for _ in range(10):\n",
    "        sess.run(update_value)\n",
    "        print(sess.run(value))\n",
    "        \n",
    "#logdir改为机器上的合适路径\n",
    "logdir = 'log'\n",
    "\n",
    "#生成一个写日志的writer,并将当前的TensorFlow计算图写入日志。\n",
    "writer = tf.summary.FileWriter(logdir, tf.get_default_graph())\n",
    "writer.close()\n",
    "\n",
    "#执行tensorboard命令: tensorboard --logdir=log"
   ]
  },
  {
   "cell_type": "markdown",
   "metadata": {},
   "source": [
    "### 思考题：如何通过变量赋值计算：1+2+3+...+10 ?\n",
    "### 计算图 -- png-3.png\n",
    "<img src= \"png-3.png\">"
   ]
  },
  {
   "cell_type": "markdown",
   "metadata": {},
   "source": [
    "### 占位符 placeholder\n",
    "TensorFlow占位符Placeholder,先定义一种数据，其参数为数据的Type和Shape\n",
    "\n",
    "    占位符Placeholder的函数接口如下：tf.placeholder(dtype, shape=None, name=None)\n",
    "\n",
    "### Feed提交数据\n",
    "如果构建一个包含placeholder操作的计算图，当在session中调用run方法时，placeholder占用的变量必须通过feed_dict参数传递进去，否则报错"
   ]
  },
  {
   "cell_type": "code",
   "execution_count": 19,
   "metadata": {},
   "outputs": [
    {
     "name": "stdout",
     "output_type": "stream",
     "text": [
      "35.0\n"
     ]
    }
   ],
   "source": [
    "import tensorflow as tf\n",
    "\n",
    "a = tf.placeholder(tf.float32,name='a')\n",
    "b = tf.placeholder(tf.float32,name='b')\n",
    "c = tf.multiply(a,b,name='c')\n",
    "\n",
    "init = tf.global_variables_initializer()\n",
    "\n",
    "with tf.Session() as sess:\n",
    "    sess.run(init)\n",
    "    # 通过feed_dict的参数传值，按字典格式\n",
    "    result = sess.run(c,feed_dict={a:10.0,b:3.5})\n",
    "    \n",
    "    print(result)"
   ]
  },
  {
   "cell_type": "markdown",
   "metadata": {},
   "source": [
    "多个操作可以通过一次Feed完成执行"
   ]
  },
  {
   "cell_type": "code",
   "execution_count": 20,
   "metadata": {},
   "outputs": [
    {
     "name": "stdout",
     "output_type": "stream",
     "text": [
      "[array([12.,  4., 14.], dtype=float32), array([ 6.5,  0. , -0.5], dtype=float32)]\n",
      "[12.  4. 14.]\n"
     ]
    }
   ],
   "source": [
    "import tensorflow as tf\n",
    "\n",
    "a = tf.placeholder(tf.float32,name='a')\n",
    "b = tf.placeholder(tf.float32,name='b')\n",
    "c = tf.multiply(a,b,name='c')\n",
    "d = tf.subtract(a,b,name='d')\n",
    "\n",
    "init = tf.global_variables_initializer()\n",
    "\n",
    "with tf.Session() as sess:\n",
    "    sess.run(init)\n",
    "    \n",
    "    result = sess.run([c,d],feed_dict={a:[8.0,2.0,3.5],b:[1.5,2.0,4]})\n",
    "    \n",
    "    print(result)\n",
    "    #取结果中的第一个\n",
    "    print(result[0])"
   ]
  },
  {
   "cell_type": "markdown",
   "metadata": {},
   "source": [
    "#### 一次返回多个值分别赋给多个变量"
   ]
  },
  {
   "cell_type": "code",
   "execution_count": 21,
   "metadata": {},
   "outputs": [
    {
     "name": "stdout",
     "output_type": "stream",
     "text": [
      "value of c= [12.  4. 14.] value of d= [ 6.5  0.  -0.5]\n"
     ]
    }
   ],
   "source": [
    "import tensorflow as tf\n",
    "\n",
    "a = tf.placeholder(tf.float32,name='a')\n",
    "b = tf.placeholder(tf.float32,name='b')\n",
    "c = tf.multiply(a,b,name='c')\n",
    "d = tf.subtract(a,b,name='d')\n",
    "\n",
    "init = tf.global_variables_initializer()\n",
    "\n",
    "with tf.Session() as sess:\n",
    "    sess.run(init)\n",
    "    \n",
    "    #返回的两个值分别赋给两个变量\n",
    "    rc,rd = sess.run([c,d],feed_dict={a:[8.0,2.0,3.5],b:[1.5,2.0,4]})\n",
    "    \n",
    "    print(\"value of c=\",rc, \"value of d=\",rd)"
   ]
  },
  {
   "cell_type": "markdown",
   "metadata": {},
   "source": [
    "### TensorBoard 可视化\n",
    "#### 在TensorBoard中查看计算图结构"
   ]
  },
  {
   "cell_type": "code",
   "execution_count": 22,
   "metadata": {},
   "outputs": [],
   "source": [
    "import tensorflow as tf\n",
    "\n",
    "#清除和不断增加的节点\n",
    "tf.reset_default_graph() \n",
    "\n",
    "#logdir改为机器上的合适路径\n",
    "logdir = 'log'              \n",
    "\n",
    "#定义一个简单的计算图，实现向量加法的操作\n",
    "input1 = tf.constant([1.0, 2.0, 3.0], name=\"input1\")\n",
    "input2 = tf.Variable(tf.random_uniform([3]), name=\"input2\")\n",
    "output = tf.add_n([input1, input2], name=\"add\")\n",
    "\n",
    "#生成一个写日志的writer,并将当前的TensorFlow计算图写入日志。\n",
    "writer = tf.summary.FileWriter(logdir, tf.get_default_graph())\n",
    "writer.close()\n",
    "#执行tensorboard命令: tensorboard --logdir=log"
   ]
  },
  {
   "cell_type": "markdown",
   "metadata": {},
   "source": [
    "### 计算图 -- png-4.png\n",
    "<img src= \"png-4.png\">"
   ]
  }
 ],
 "metadata": {
  "kernelspec": {
   "display_name": "Python 3",
   "language": "python",
   "name": "python3"
  },
  "language_info": {
   "codemirror_mode": {
    "name": "ipython",
    "version": 3
   },
   "file_extension": ".py",
   "mimetype": "text/x-python",
   "name": "python",
   "nbconvert_exporter": "python",
   "pygments_lexer": "ipython3",
   "version": "3.7.3"
  }
 },
 "nbformat": 4,
 "nbformat_minor": 2
}
