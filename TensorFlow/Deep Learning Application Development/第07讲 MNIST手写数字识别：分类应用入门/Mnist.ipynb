{
 "cells": [
  {
   "cell_type": "code",
   "execution_count": 1,
   "metadata": {},
   "outputs": [
    {
     "name": "stdout",
     "output_type": "stream",
     "text": [
      "TensorFlow版本: 1.14.0\n",
      "Train image shape: (60000, 28, 28) Train label shape: (60000,)\n",
      " Test image shape: (10000, 28, 28)  Test label shape: (10000,)\n"
     ]
    }
   ],
   "source": [
    "import matplotlib.pyplot as plt\n",
    "import tensorflow as tf\n",
    "import numpy as np\n",
    "print(\"TensorFlow版本:\", tf.__version__)\n",
    "mnist = tf.keras.datasets.mnist\n",
    "(train_images, train_labels), (test_images, test_labels) = mnist.load_data()\n",
    "print(\"Train image shape:\", train_images.shape, \"Train label shape:\", train_labels.shape)\n",
    "print(\" Test image shape:\", test_images.shape, \" Test label shape:\", test_labels.shape)"
   ]
  },
  {
   "cell_type": "code",
   "execution_count": 2,
   "metadata": {},
   "outputs": [],
   "source": [
    "total_num = len(train_images)\n",
    "valid_split = 5000\n",
    "train_num = int(total_num - valid_split)\n",
    "train_x = train_images[:train_num]\n",
    "train_y = train_labels[:train_num]\n",
    "valid_x = train_images[train_num:]\n",
    "valid_y = train_labels[train_num:]\n",
    "test_x = test_images\n",
    "test_y = test_labels"
   ]
  },
  {
   "cell_type": "code",
   "execution_count": 3,
   "metadata": {},
   "outputs": [
    {
     "name": "stdout",
     "output_type": "stream",
     "text": [
      "标签值 5\n"
     ]
    },
    {
     "data": {
      "image/png": "[encoded data removed]",
      "text/plain": [
       "<Figure size 432x288 with 1 Axes>"
      ]
     },
     "metadata": {
      "needs_background": "light"
     },
     "output_type": "display_data"
    }
   ],
   "source": [
    "train_x = train_x.reshape(-1,784)\n",
    "valid_x = valid_x.reshape(-1,784)\n",
    "test_x  = test_x.reshape(-1,784)\n",
    "def plot_image(image):\n",
    "    plt.imshow(image.reshape(28,28),cmap='binary')\n",
    "    plt.show()\n",
    "\n",
    "print(\"标签值\", train_y[0])\n",
    "plot_image(train_x[0])"
   ]
  },
  {
   "cell_type": "code",
   "execution_count": 4,
   "metadata": {},
   "outputs": [
    {
     "name": "stdout",
     "output_type": "stream",
     "text": [
      "训练集 train_x 数量: (55000, 784) \n",
      "验证集 valid_x 数量: (5000, 784) \n",
      "测试集  test_x 数量: (10000, 784)\n"
     ]
    }
   ],
   "source": [
    "train_x = tf.cast(train_x/255.0, tf.float32)\n",
    "valid_x = tf.cast(valid_x/255.0, tf.float32)\n",
    "test_x  = tf.cast(test_x/255.0, tf.float32)\n",
    "print(\"训练集 train_x 数量:\", train_x.shape,\n",
    "    \"\\n验证集 valid_x 数量:\", valid_x.shape,\n",
    "    \"\\n测试集  test_x 数量:\", test_x.shape)"
   ]
  },
  {
   "cell_type": "code",
   "execution_count": 5,
   "metadata": {},
   "outputs": [
    {
     "name": "stdout",
     "output_type": "stream",
     "text": [
      "训练集标签 train_y 数量: (55000, 10) \n",
      "验证集标签 valid_y 数量: (5000, 10) \n",
      "测试集标签  test_y 数量: (10000, 10)\n"
     ]
    }
   ],
   "source": [
    "train_y = tf.one_hot(train_y, depth=10)\n",
    "valid_y = tf.one_hot(valid_y, depth=10)\n",
    "test_y  = tf.one_hot(test_y, depth=10)\n",
    "print(\"训练集标签 train_y 数量:\", train_y.shape,\n",
    "    \"\\n验证集标签 valid_y 数量:\", valid_y.shape,\n",
    "    \"\\n测试集标签  test_y 数量:\", test_y.shape)"
   ]
  },
  {
   "cell_type": "code",
   "execution_count": 6,
   "metadata": {},
   "outputs": [],
   "source": [
    "# mnist 中每张图片共28*28=784个像素点\n",
    "x = tf.compat.v1.placeholder(tf.float32, [None, 784], name=\"X\")\n",
    "# 0-9 一共10个数字=>10个类别\n",
    "y = tf.compat.v1.placeholder(tf.float32, [None, 10], name=\"Y\")"
   ]
  },
  {
   "cell_type": "code",
   "execution_count": 7,
   "metadata": {},
   "outputs": [],
   "source": [
    "# # 创建变量\n",
    "# 在本案例中，以正态分布的随机数初始化权重W，以常数0初始化偏置b\n",
    "# 定义变量\n",
    "#隐藏层神经元数量\n",
    "H1_NN = 256 # 第1隐藏层神经元为256\n",
    "H2_NN = 64  # 第2隐藏层神经元为64\n",
    "H3_NN = 32  # 第3隐藏层神经元为32\n",
    "\n",
    "# 输入层 - 第1隐藏层参数和偏置项\n",
    "W1 = tf.Variable(tf.random.truncated_normal([784, H1_NN], stddev=0.1))\n",
    "b1 = tf.Variable(tf.zeros([H1_NN]))\n",
    "\n",
    "# 第1隐藏层 - 第2隐藏层参数和偏置项\n",
    "W2 = tf.Variable(tf.random.truncated_normal([H1_NN, H2_NN], stddev=0.1))\n",
    "b2 = tf.Variable(tf.zeros([H2_NN]))\n",
    "\n",
    "# 第2隐藏层 - 第3隐藏层参数和偏置项\n",
    "W3 = tf.Variable(tf.random.truncated_normal([H2_NN, H3_NN], stddev=0.1))\n",
    "b3 = tf.Variable(tf.zeros([H3_NN]))\n",
    "\n",
    "# 第3隐藏层 - 输出层参数和偏置项\n",
    "W4 = tf.Variable(tf.random.truncated_normal([H3_NN, 10], stddev=0.1))\n",
    "b4 = tf.Variable(tf.zeros([10]))\n",
    "\n",
    "# 计算第1隐藏层结果\n",
    "Y1 = tf.nn.relu(tf.matmul(x, W1) + b1)\n",
    "# 计算第2隐藏层结果\n",
    "Y2 = tf.nn.relu(tf.matmul(Y1, W2) + b2)\n",
    "# 计算第3隐藏层结果\n",
    "Y3 = tf.nn.relu(tf.matmul(Y2, W3) + b3)\n",
    "\n",
    "# 计算输出结果\n",
    "forward = tf.matmul(Y3, W4) + b4"
   ]
  },
  {
   "cell_type": "code",
   "execution_count": 8,
   "metadata": {},
   "outputs": [],
   "source": [
    "# 关于Softmax Regression\n",
    "#   当我们处理多分类任务时，通常需要使用Softmax Regression模型。\n",
    "#   Softmax Regression会对每一类别估算出一个概率。\n",
    "# 工作原理：\n",
    "#   将判定为某一类的特征相加，然后将这些特征转化为判定是这一类的概率。\n",
    "pred = tf.nn.softmax(forward) #Sotfmax分类"
   ]
  },
  {
   "cell_type": "code",
   "execution_count": 9,
   "metadata": {},
   "outputs": [],
   "source": [
    "# # 训练模型\n",
    "# ## 设置训练参数\n",
    "train_epochs = 200 # 训练轮数\n",
    "batch_size = 50 # 单次训练样本数（批次大小）\n",
    "total_batch = int(train_num/batch_size) # 一轮训练有多少批次\n",
    "display_step = 10 # 显示粒度\n",
    "learning_rate = 0.01 # 学习率"
   ]
  },
  {
   "cell_type": "code",
   "execution_count": 10,
   "metadata": {},
   "outputs": [],
   "source": [
    "# ## 定义损失函数\n",
    "# 定义交叉熵损失函数\n",
    "loss_function = tf.reduce_mean(tf.nn.softmax_cross_entropy_with_logits_v2(logits=forward, labels=y))"
   ]
  },
  {
   "cell_type": "code",
   "execution_count": 11,
   "metadata": {},
   "outputs": [],
   "source": [
    "# ## 选择优化器\n",
    "# 梯度下降优化器\n",
    "optimizer = tf.compat.v1.train.GradientDescentOptimizer(learning_rate).minimize(loss_function)\n",
    "#optimizer = tf.compat.v1.train.AdamOptimizer(learning_rate).minimize(loss_function)"
   ]
  },
  {
   "cell_type": "code",
   "execution_count": 12,
   "metadata": {},
   "outputs": [],
   "source": [
    "# ## 定义准确率\n",
    "# 检查预测类别tf.argmax(pred,1)与实际类别tf.argmax(y,1)的匹配情况\n",
    "correct_prediction = tf.equal(tf.argmax(pred,1), tf.argmax(y,1))"
   ]
  },
  {
   "cell_type": "code",
   "execution_count": 13,
   "metadata": {},
   "outputs": [],
   "source": [
    "# 准确率，将布乐值转化为浮点数，并计算平均值\n",
    "accuracy = tf.reduce_mean(tf.cast(correct_prediction, tf.float32))"
   ]
  },
  {
   "cell_type": "code",
   "execution_count": 14,
   "metadata": {},
   "outputs": [],
   "source": [
    "from time import time\n",
    "startTime = time()"
   ]
  },
  {
   "cell_type": "code",
   "execution_count": 15,
   "metadata": {},
   "outputs": [],
   "source": [
    "sess = tf.compat.v1.Session() # 声明会话\n",
    "init = tf.compat.v1.global_variables_initializer() # 变量初始化\n",
    "sess.run(init)"
   ]
  },
  {
   "cell_type": "code",
   "execution_count": 16,
   "metadata": {},
   "outputs": [],
   "source": [
    "train_x = sess.run(train_x)\n",
    "valid_x = sess.run(valid_x)\n",
    "train_y = sess.run(train_y)\n",
    "valid_y = sess.run(valid_y)\n",
    "test_x  = sess.run(test_x)\n",
    "test_y  = sess.run(test_y)"
   ]
  },
  {
   "cell_type": "code",
   "execution_count": 17,
   "metadata": {},
   "outputs": [
    {
     "name": "stdout",
     "output_type": "stream",
     "text": [
      "Train Epoch: 10 Loss=0.123791330 Accuracy=0.9672\n",
      "Train Epoch: 20 Loss=0.096114516 Accuracy=0.9734\n",
      "Train Epoch: 30 Loss=0.089645743 Accuracy=0.9764\n",
      "Train Epoch: 40 Loss=0.091331549 Accuracy=0.9768\n",
      "Train Epoch: 50 Loss=0.095225461 Accuracy=0.9780\n",
      "Train Epoch: 60 Loss=0.098706789 Accuracy=0.9790\n",
      "Train Epoch: 70 Loss=0.101990901 Accuracy=0.9794\n",
      "Train Epoch: 80 Loss=0.105679318 Accuracy=0.9794\n",
      "Train Epoch: 90 Loss=0.109298073 Accuracy=0.9794\n",
      "Train Epoch:100 Loss=0.112631761 Accuracy=0.9796\n",
      "Train Epoch:110 Loss=0.115548752 Accuracy=0.9800\n",
      "Train Epoch:120 Loss=0.118040942 Accuracy=0.9796\n",
      "Train Epoch:130 Loss=0.120204635 Accuracy=0.9802\n",
      "Train Epoch:140 Loss=0.122076198 Accuracy=0.9804\n",
      "Train Epoch:150 Loss=0.123808704 Accuracy=0.9804\n",
      "Train Epoch:160 Loss=0.125349194 Accuracy=0.9804\n",
      "Train Epoch:170 Loss=0.126773998 Accuracy=0.9804\n",
      "Train Epoch:180 Loss=0.128080428 Accuracy=0.9804\n",
      "Train Epoch:190 Loss=0.129274413 Accuracy=0.9804\n",
      "Train Epoch:200 Loss=0.130368412 Accuracy=0.9806\n",
      "Train Finished!\n"
     ]
    }
   ],
   "source": [
    "# # 模型训练\n",
    "#开始训练\n",
    "loss_list = [] # 用于保存loss值的列表\n",
    "\n",
    "for epoch in range(train_epochs):\n",
    "    loss_sum = 0.0\n",
    "    for step in range(total_batch):\n",
    "    \n",
    "        xs = train_x[step*batch_size:(step+1)*batch_size]\n",
    "        ys = train_y[step*batch_size:(step+1)*batch_size]\n",
    "\n",
    "        _, loss = sess.run([optimizer, loss_function], feed_dict = {x: xs, y: ys})  # 执行批次训练\n",
    "        \n",
    "        loss_sum = loss_sum + loss\n",
    "        \n",
    "    # total_batch个批次训练完成后,使用验证数据计算误差与准确率;验证集没有分批\n",
    "    loss,acc = sess.run([loss_function, accuracy], feed_dict={x: valid_x, y: valid_y})\n",
    "    \n",
    "    loss_average = loss_sum/total_batch\n",
    "    loss_list.append(loss_average) #每轮添加一次\n",
    "    \n",
    "    # 打印训练过程中的详细信息\n",
    "    if(epoch+1) % display_step == 0:\n",
    "        print(\"Train Epoch:%3d\" % (epoch+1), \"Loss={:.9f}\".format(loss), \"Accuracy={:.4f}\".format(acc))\n",
    "\n",
    "print(\"Train Finished!\")"
   ]
  },
  {
   "cell_type": "code",
   "execution_count": 18,
   "metadata": {},
   "outputs": [
    {
     "name": "stdout",
     "output_type": "stream",
     "text": [
      "Train Finished takes: 161.09\n"
     ]
    }
   ],
   "source": [
    "#运行总时间\n",
    "duration = time()-startTime\n",
    "print(\"Train Finished takes:\",\"{:.2f}\".format(duration))"
   ]
  },
  {
   "cell_type": "code",
   "execution_count": 19,
   "metadata": {},
   "outputs": [
    {
     "data": {
      "text/plain": [
       "[<matplotlib.lines.Line2D at 0x118eda400>]"
      ]
     },
     "execution_count": 19,
     "metadata": {},
     "output_type": "execute_result"
    },
    {
     "data": {
      "image/png": "[encoded data removed]",
      "text/plain": [
       "<Figure size 432x288 with 1 Axes>"
      ]
     },
     "metadata": {
      "needs_background": "light"
     },
     "output_type": "display_data"
    }
   ],
   "source": [
    "plt.plot(loss_list)"
   ]
  },
  {
   "cell_type": "code",
   "execution_count": 20,
   "metadata": {},
   "outputs": [
    {
     "name": "stdout",
     "output_type": "stream",
     "text": [
      "Test Accuracy: 0.9775\n"
     ]
    }
   ],
   "source": [
    "accu_test = sess.run(accuracy,feed_dict={x: test_x, y: test_y})\n",
    "print(\"Test Accuracy:\", accu_test)"
   ]
  },
  {
   "cell_type": "code",
   "execution_count": 21,
   "metadata": {},
   "outputs": [
    {
     "name": "stdout",
     "output_type": "stream",
     "text": [
      "Test Accuracy: 0.9806\n"
     ]
    }
   ],
   "source": [
    "accu_validation = sess.run(accuracy, feed_dict={x: valid_x, y: valid_y})\n",
    "print(\"Test Accuracy:\", accu_validation)"
   ]
  },
  {
   "cell_type": "code",
   "execution_count": 22,
   "metadata": {},
   "outputs": [
    {
     "name": "stdout",
     "output_type": "stream",
     "text": [
      "Test Accuracy: 1.0\n"
     ]
    }
   ],
   "source": [
    "accu_train = sess.run(accuracy, feed_dict={x: train_x, y: train_y})\n",
    "print(\"Test Accuracy:\", accu_train)"
   ]
  },
  {
   "cell_type": "code",
   "execution_count": 23,
   "metadata": {},
   "outputs": [
    {
     "data": {
      "text/plain": [
       "array([7, 2, 1, 0, 4, 1, 4, 9, 5, 9])"
      ]
     },
     "execution_count": 23,
     "metadata": {},
     "output_type": "execute_result"
    }
   ],
   "source": [
    "# 由于pred预测结果是one-hot编码格式，所以需要转换为0~9数字\n",
    "prediction_result = sess.run(tf.argmax(pred,1), feed_dict={x: test_x})\n",
    "# 查看预测结果中的前10项\n",
    "prediction_result[0:10]"
   ]
  },
  {
   "cell_type": "code",
   "execution_count": 24,
   "metadata": {},
   "outputs": [],
   "source": [
    "def plot_images_labels_prediction(images,     # 图像列表\n",
    "                                  labels,     # 标签列表\n",
    "                                  prediction, # 预测值列表\n",
    "                                  index,      # 从第index个开始显示\n",
    "                                  num=10):    # 缺省一次显示 10 幅\n",
    "    fig = plt.gcf() # 获取当前图表，Get Current Figure\n",
    "    fig.set_size_inches(10, 12) # 1英寸等于2.54cm\n",
    "    if num > 25:\n",
    "        num = 25 # 最多显示25个子图\n",
    "    for i in range(0, num):\n",
    "        ax = plt.subplot(5,5,i+1) # 获取当前要处理的子图\n",
    "        ax.imshow(np.reshape(images[index], (28, 28)), cmap=\"binary\") # 显示第index个图像\n",
    "\n",
    "        title = \"label=\" + str(np.argmax(labels[index])) # 构建该图上要显示的title信息\n",
    "        if len(prediction) > 0:\n",
    "            title += \", predict=\" + str(prediction[index])\n",
    "        \n",
    "        ax.set_title(title, fontsize=10) # 显示图上的title信息\n",
    "        ax.set_xticks([]) # 不显示坐标轴\n",
    "        ax.set_yticks([])\n",
    "        index += 1\n",
    "    plt.show()"
   ]
  },
  {
   "cell_type": "code",
   "execution_count": 27,
   "metadata": {},
   "outputs": [
    {
     "data": {
      "image/png": "[encoded data removed]",
      "text/plain": [
       "<Figure size 720x864 with 25 Axes>"
      ]
     },
     "metadata": {},
     "output_type": "display_data"
    }
   ],
   "source": [
    "plot_images_labels_prediction(test_x,\n",
    "                              test_y, \n",
    "                              prediction_result, 0, 25)"
   ]
  },
  {
   "cell_type": "code",
   "execution_count": 28,
   "metadata": {},
   "outputs": [
    {
     "data": {
      "image/png": "[encoded data removed]",
      "text/plain": [
       "<Figure size 720x864 with 25 Axes>"
      ]
     },
     "metadata": {},
     "output_type": "display_data"
    }
   ],
   "source": [
    "plot_images_labels_prediction(test_x,\n",
    "                              test_y, \n",
    "                              prediction_result, 25, 25)"
   ]
  },
  {
   "cell_type": "code",
   "execution_count": null,
   "metadata": {},
   "outputs": [],
   "source": []
  }
 ],
 "metadata": {
  "kernelspec": {
   "display_name": "Python 3",
   "language": "python",
   "name": "python3"
  },
  "language_info": {
   "codemirror_mode": {
    "name": "ipython",
    "version": 3
   },
   "file_extension": ".py",
   "mimetype": "text/x-python",
   "name": "python",
   "nbconvert_exporter": "python",
   "pygments_lexer": "ipython3",
   "version": "3.7.3"
  }
 },
 "nbformat": 4,
 "nbformat_minor": 4
}
