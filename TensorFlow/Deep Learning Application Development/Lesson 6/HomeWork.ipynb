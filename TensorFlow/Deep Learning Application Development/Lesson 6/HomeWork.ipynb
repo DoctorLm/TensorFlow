{
 "cells": [
  {
   "cell_type": "code",
   "execution_count": 1,
   "metadata": {},
   "outputs": [
    {
     "name": "stdout",
     "output_type": "stream",
     "text": [
      "TensorFlow版本: 2.0.0\n"
     ]
    }
   ],
   "source": [
    "import tensorflow as tf\n",
    "import numpy as np\n",
    "import matplotlib.pyplot as plt\n",
    "%matplotlib inline\n",
    "import pandas as pd\n",
    "from sklearn.utils import shuffle\n",
    "from sklearn.preprocessing import scale\n",
    "\n",
    "print(\"TensorFlow版本:\", tf.__version__)"
   ]
  },
  {
   "cell_type": "code",
   "execution_count": 2,
   "metadata": {},
   "outputs": [
    {
     "name": "stdout",
     "output_type": "stream",
     "text": [
      "             CRIM         ZN       INDUS         CHAS         NOX          RM  \\\n",
      "count  506.000000  506.000000  506.000000  506.000000  506.000000  506.000000   \n",
      "mean     3.613524   11.363636   11.136779    0.069170    0.554695    6.284634   \n",
      "std      8.601545   23.322453    6.860353    0.253994    0.115878    0.702617   \n",
      "min      0.006320    0.000000    0.460000    0.000000    0.385000    3.561000   \n",
      "25%      0.082045    0.000000    5.190000    0.000000    0.449000    5.885500   \n",
      "50%      0.256510    0.000000    9.690000    0.000000    0.538000    6.208500   \n",
      "75%      3.677082   12.500000   18.100000    0.000000    0.624000    6.623500   \n",
      "max     88.976200  100.000000   27.740000    1.000000    0.871000    8.780000   \n",
      "\n",
      "              AGE         DIS         RAD         TAX     PTRATIO       LSTAT  \\\n",
      "count  506.000000  506.000000  506.000000  506.000000  506.000000  506.000000   \n",
      "mean    68.574901    3.795043    9.549407  408.237154   18.455534   12.653063   \n",
      "std     28.148861    2.105710    8.707259  168.537116    2.164946    7.141062   \n",
      "min      2.900000    1.129600    1.000000  187.000000   12.600000    1.730000   \n",
      "25%     45.025000    2.100175    4.000000  279.000000   17.400000    6.950000   \n",
      "50%     77.500000    3.207450    5.000000  330.000000   19.050000   11.360000   \n",
      "75%     94.075000    5.188425   24.000000  666.000000   20.200000   16.955000   \n",
      "max    100.000000   12.126500   24.000000  711.000000   22.000000   37.970000   \n",
      "\n",
      "             MEDV  \n",
      "count  506.000000  \n",
      "mean    22.532806  \n",
      "std      9.197104  \n",
      "min      5.000000  \n",
      "25%     17.025000  \n",
      "50%     21.200000  \n",
      "75%     25.000000  \n",
      "max     50.000000  \n"
     ]
    }
   ],
   "source": [
    "# 读取数据文件\n",
    "df = pd.read_csv(\"boston_data/boston.csv\", header=0)\n",
    "#显示数据摘要描述信息\n",
    "print(df.describe())"
   ]
  },
  {
   "cell_type": "code",
   "execution_count": 3,
   "metadata": {},
   "outputs": [
    {
     "name": "stdout",
     "output_type": "stream",
     "text": [
      "[[6.3200e-03 1.8000e+01 2.3100e+00 ... 1.5300e+01 4.9800e+00 2.4000e+01]\n",
      " [2.7310e-02 0.0000e+00 7.0700e+00 ... 1.7800e+01 9.1400e+00 2.1600e+01]\n",
      " [2.7290e-02 0.0000e+00 7.0700e+00 ... 1.7800e+01 4.0300e+00 3.4700e+01]\n",
      " ...\n",
      " [6.0760e-02 0.0000e+00 1.1930e+01 ... 2.1000e+01 5.6400e+00 2.3900e+01]\n",
      " [1.0959e-01 0.0000e+00 1.1930e+01 ... 2.1000e+01 6.4800e+00 2.2000e+01]\n",
      " [4.7410e-02 0.0000e+00 1.1930e+01 ... 2.1000e+01 7.8800e+00 1.1900e+01]] (506, 13)\n"
     ]
    }
   ],
   "source": [
    "#获取df的值\n",
    "ds = df.values\n",
    "print(ds, ds.shape)"
   ]
  },
  {
   "cell_type": "code",
   "execution_count": 4,
   "metadata": {},
   "outputs": [
    {
     "name": "stdout",
     "output_type": "stream",
     "text": [
      "x_data shape= (506, 12)\n",
      "y_data shape= (506,)\n"
     ]
    }
   ],
   "source": [
    "x_data = ds[:,:12]\n",
    "y_data = ds[:,12]\n",
    "print('x_data shape=', x_data.shape)\n",
    "print('y_data shape=', y_data.shape)"
   ]
  },
  {
   "cell_type": "code",
   "execution_count": 5,
   "metadata": {},
   "outputs": [],
   "source": [
    "train_num = 300 #训练集的数目\n",
    "valid_num = 100 #验证集的数目\n",
    "test_num = len(x_data) - train_num - valid_num #测试集的数目 = 506 - 训练集的数目 - 验证集的数目\n",
    "#训练集划分\n",
    "x_train = x_data[:train_num]\n",
    "y_train = y_data[:train_num]\n",
    "#验证集划分\n",
    "x_valid = x_data[train_num:train_num+valid_num]\n",
    "y_valid = y_data[train_num:train_num+valid_num]\n",
    "#测试集划分\n",
    "x_test = x_data[train_num+valid_num:train_num+valid_num+test_num]\n",
    "y_test = y_data[train_num+valid_num:train_num+valid_num+test_num]"
   ]
  },
  {
   "cell_type": "code",
   "execution_count": 6,
   "metadata": {},
   "outputs": [
    {
     "name": "stdout",
     "output_type": "stream",
     "text": [
      "tf.Tensor(\n",
      "[[-0.6411311   0.10080399 -1.0306702  ... -0.23254429 -1.002688\n",
      "  -0.92348367]\n",
      " [-0.60977125 -0.5935092  -0.28321603 ... -1.0152614   0.09274682\n",
      "  -0.25234807]\n",
      " [-0.6098011  -0.5935092  -0.28321603 ... -1.0152614   0.09274682\n",
      "  -1.0767478 ]\n",
      " ...\n",
      " [-0.43986905 -0.5935092   0.79242706 ... -0.33400762 -0.6959663\n",
      "   0.82856745]\n",
      " [-0.55396885  2.1065977  -1.0416622  ...  0.6661309  -1.221775\n",
      "  -0.925097  ]\n",
      " [-0.5674899   2.1065977  -1.0416622  ...  0.6661309  -1.221775\n",
      "  -0.962203  ]], shape=(300, 12), dtype=float32)\n",
      "tf.Tensor(\n",
      "[[-0.51401335  2.5123856  -1.3275611  ... -0.5659268  -3.1720748\n",
      "  -0.8521243 ]\n",
      " [-0.51481354  0.9705192  -0.7470566  ... -0.7222452  -2.2460256\n",
      "  -0.4235507 ]\n",
      " [-0.5096042   0.9705192  -0.7470566  ... -0.7222452  -2.2460256\n",
      "  -0.527258  ]\n",
      " ...\n",
      " [ 0.17957704 -0.48568788  1.0638161  ...  1.0942832   0.67459124\n",
      "   0.8784135 ]\n",
      " [ 2.9692492  -0.48568788  1.0638161  ...  1.0942832   0.67459124\n",
      "   2.2116148 ]\n",
      " [ 0.3836692  -0.48568788  1.0638161  ...  1.0942832   0.67459124\n",
      "   2.1341467 ]], shape=(100, 12), dtype=float32)\n",
      "tf.Tensor(\n",
      "[[ 1.1568291   0.          0.14015463 ...  0.34353518  0.13143238\n",
      "   1.4922667 ]\n",
      " [ 0.28863224  0.          0.14015463 ...  0.34353518  0.13143238\n",
      "   0.4015432 ]\n",
      " [-0.0840686   0.          0.14015463 ...  0.34353518  0.13143238\n",
      "   0.39985216]\n",
      " ...\n",
      " [-0.8498679   0.         -1.6956941  ... -3.2886956   2.6082027\n",
      "  -2.0809095 ]\n",
      " [-0.84594613  0.         -1.6956941  ... -3.2886956   2.6082027\n",
      "  -1.9388618 ]\n",
      " [-0.8509401   0.         -1.6956941  ... -3.2886956   2.6082027\n",
      "  -1.7021157 ]], shape=(106, 12), dtype=float32)\n"
     ]
    }
   ],
   "source": [
    "x_train = tf.cast(scale(x_train), dtype=tf.float32)\n",
    "x_valid = tf.cast(scale(x_valid), dtype=tf.float32)\n",
    "x_test = tf.cast(scale(x_test), dtype=tf.float32)\n",
    "print(x_train)\n",
    "print(x_valid)\n",
    "print(x_test)"
   ]
  },
  {
   "cell_type": "code",
   "execution_count": 7,
   "metadata": {},
   "outputs": [],
   "source": [
    "def model(x, w, b):\n",
    "    return tf.matmul(x, w) + b"
   ]
  },
  {
   "cell_type": "code",
   "execution_count": 8,
   "metadata": {},
   "outputs": [
    {
     "name": "stdout",
     "output_type": "stream",
     "text": [
      "<tf.Variable 'Variable:0' shape=(12, 1) dtype=float32, numpy=\n",
      "array([[-2.221926  ],\n",
      "       [ 1.1049852 ],\n",
      "       [ 0.33635488],\n",
      "       [ 0.1398425 ],\n",
      "       [ 1.0670258 ],\n",
      "       [-0.79673976],\n",
      "       [-0.93939435],\n",
      "       [-0.48741922],\n",
      "       [-1.8018117 ],\n",
      "       [-1.1869967 ],\n",
      "       [-0.07573865],\n",
      "       [-0.0952025 ]], dtype=float32)>\n",
      "<tf.Variable 'Variable:0' shape=(1,) dtype=float32, numpy=array([0.], dtype=float32)>\n"
     ]
    }
   ],
   "source": [
    "W = tf.Variable(tf.random.normal([12, 1], mean=0.0, stddev=1.0, dtype=tf.float32))\n",
    "B = tf.Variable(tf.zeros(1), dtype=tf.float32)\n",
    "print(W)\n",
    "print(B)"
   ]
  },
  {
   "cell_type": "code",
   "execution_count": 9,
   "metadata": {},
   "outputs": [],
   "source": [
    "training_epochs = 50\n",
    "learning_rate = 0.01\n",
    "batch_size = 10"
   ]
  },
  {
   "cell_type": "code",
   "execution_count": 10,
   "metadata": {},
   "outputs": [],
   "source": [
    "#采用均方差作为损失函数\n",
    "def loss(x, y, w, b):\n",
    "    err = model(x, w, b) - y\n",
    "    squared_err = tf.square(err)\n",
    "    return tf.reduce_mean(squared_err)"
   ]
  },
  {
   "cell_type": "code",
   "execution_count": 11,
   "metadata": {},
   "outputs": [],
   "source": [
    "def grad(x, y, w, b):\n",
    "    with tf.GradientTape() as tape:\n",
    "        loss_ = loss(x, y, w, b)\n",
    "    return tape.gradient(loss_, [w, b])"
   ]
  },
  {
   "cell_type": "code",
   "execution_count": 12,
   "metadata": {},
   "outputs": [],
   "source": [
    "optimizer = tf.keras.optimizers.SGD(learning_rate)"
   ]
  },
  {
   "cell_type": "code",
   "execution_count": 13,
   "metadata": {},
   "outputs": [
    {
     "name": "stdout",
     "output_type": "stream",
     "text": [
      "epoch=  1,train_loss=294.5024,valid_loss=210.3326\n",
      "epoch=  2,train_loss=158.6078,valid_loss=125.4885\n",
      "epoch=  3,train_loss=119.5941,valid_loss=114.8091\n",
      "epoch=  4,train_loss=108.0457,valid_loss=118.9667\n",
      "epoch=  5,train_loss=104.4869,valid_loss=124.1233\n",
      "epoch=  6,train_loss=103.3683,valid_loss=127.9271\n",
      "epoch=  7,train_loss=103.0493,valid_loss=130.4855\n",
      "epoch=  8,train_loss=103.0150,valid_loss=132.2206\n",
      "epoch=  9,train_loss=103.0891,valid_loss=133.4544\n",
      "epoch= 10,train_loss=103.2051,valid_loss=134.3850\n",
      "epoch= 11,train_loss=103.3352,valid_loss=135.1265\n",
      "epoch= 12,train_loss=103.4671,valid_loss=135.7435\n",
      "epoch= 13,train_loss=103.5952,valid_loss=136.2728\n",
      "epoch= 14,train_loss=103.7172,valid_loss=136.7364\n",
      "epoch= 15,train_loss=103.8320,valid_loss=137.1476\n",
      "epoch= 16,train_loss=103.9395,valid_loss=137.5157\n",
      "epoch= 17,train_loss=104.0399,valid_loss=137.8468\n",
      "epoch= 18,train_loss=104.1335,valid_loss=138.1458\n",
      "epoch= 19,train_loss=104.2206,valid_loss=138.4165\n",
      "epoch= 20,train_loss=104.3016,valid_loss=138.6618\n",
      "epoch= 21,train_loss=104.3768,valid_loss=138.8846\n",
      "epoch= 22,train_loss=104.4468,valid_loss=139.0872\n",
      "epoch= 23,train_loss=104.5118,valid_loss=139.2715\n",
      "epoch= 24,train_loss=104.5721,valid_loss=139.4393\n",
      "epoch= 25,train_loss=104.6281,valid_loss=139.5923\n",
      "epoch= 26,train_loss=104.6801,valid_loss=139.7318\n",
      "epoch= 27,train_loss=104.7283,valid_loss=139.8591\n",
      "epoch= 28,train_loss=104.7731,valid_loss=139.9753\n",
      "epoch= 29,train_loss=104.8146,valid_loss=140.0815\n",
      "epoch= 30,train_loss=104.8530,valid_loss=140.1787\n",
      "epoch= 31,train_loss=104.8887,valid_loss=140.2675\n",
      "epoch= 32,train_loss=104.9217,valid_loss=140.3488\n",
      "epoch= 33,train_loss=104.9524,valid_loss=140.4233\n",
      "epoch= 34,train_loss=104.9808,valid_loss=140.4915\n",
      "epoch= 35,train_loss=105.0070,valid_loss=140.5541\n",
      "epoch= 36,train_loss=105.0314,valid_loss=140.6114\n",
      "epoch= 37,train_loss=105.0540,valid_loss=140.6641\n",
      "epoch= 38,train_loss=105.0749,valid_loss=140.7124\n",
      "epoch= 39,train_loss=105.0942,valid_loss=140.7567\n",
      "epoch= 40,train_loss=105.1121,valid_loss=140.7975\n",
      "epoch= 41,train_loss=105.1287,valid_loss=140.8349\n",
      "epoch= 42,train_loss=105.1441,valid_loss=140.8694\n",
      "epoch= 43,train_loss=105.1583,valid_loss=140.9010\n",
      "epoch= 44,train_loss=105.1715,valid_loss=140.9301\n",
      "epoch= 45,train_loss=105.1837,valid_loss=140.9569\n",
      "epoch= 46,train_loss=105.1949,valid_loss=140.9815\n",
      "epoch= 47,train_loss=105.2054,valid_loss=141.0043\n",
      "epoch= 48,train_loss=105.2151,valid_loss=141.0251\n",
      "epoch= 49,train_loss=105.2240,valid_loss=141.0444\n",
      "epoch= 50,train_loss=105.2323,valid_loss=141.0621\n"
     ]
    }
   ],
   "source": [
    "loss_list_train =[]\n",
    "loss_list_valid =[]\n",
    "total_step = int(train_num/batch_size)\n",
    "\n",
    "for epoch in range(training_epochs):\n",
    "    for step in range(total_step):\n",
    "        xs = x_train[step*batch_size:(step+1)*batch_size,:]\n",
    "        ys = y_train[step*batch_size:(step+1)*batch_size]\n",
    "        \n",
    "        grads = grad(xs, ys, W, B)\n",
    "        optimizer.apply_gradients(zip(grads, [W, B]))\n",
    "    \n",
    "    loss_train = loss(x_train, y_train, W, B).numpy()\n",
    "    loss_valid = loss(x_valid, y_valid, W, B).numpy()\n",
    "    loss_list_train.append(loss_train)\n",
    "    loss_list_valid.append(loss_valid)\n",
    "    print(\"epoch={:3d},train_loss={:.4f},valid_loss={:.4f}\".format(epoch+1, loss_train, loss_valid))"
   ]
  },
  {
   "cell_type": "code",
   "execution_count": 14,
   "metadata": {},
   "outputs": [
    {
     "data": {
      "text/plain": [
       "<matplotlib.legend.Legend at 0x1a46424310>"
      ]
     },
     "execution_count": 14,
     "metadata": {},
     "output_type": "execute_result"
    },
    {
     "data": {
      "image/png": "[encoded data removed]",
      "text/plain": [
       "<Figure size 432x288 with 1 Axes>"
      ]
     },
     "metadata": {
      "needs_background": "light"
     },
     "output_type": "display_data"
    }
   ],
   "source": [
    "plt.xlabel(\"Epochs\")\n",
    "plt.ylabel(\"Loss\")\n",
    "plt.plot(loss_list_train, 'blue', label=\"Train Loss\")\n",
    "plt.plot(loss_list_valid, 'red', label=\"Valid Loss\")\n",
    "plt.legend(loc=1)"
   ]
  },
  {
   "cell_type": "code",
   "execution_count": 15,
   "metadata": {},
   "outputs": [
    {
     "name": "stdout",
     "output_type": "stream",
     "text": [
      "Test_loss:148.7692\n"
     ]
    }
   ],
   "source": [
    "print(\"Test_loss:{:.4f}\".format(loss(x_test, y_test, W, B).numpy()))"
   ]
  },
  {
   "cell_type": "code",
   "execution_count": 16,
   "metadata": {},
   "outputs": [
    {
     "name": "stdout",
     "output_type": "stream",
     "text": [
      "House id 21 Actual value 14.2 Predicted value 22.714157\n"
     ]
    }
   ],
   "source": [
    "test_house_id = np.random.randint(0, test_num)\n",
    "y = y_test[test_house_id]\n",
    "\n",
    "y_pred = model(x_test, W, B)[test_house_id]\n",
    "y_predit = tf.reshape(y_pred,()).numpy()\n",
    "\n",
    "print(\"House id\", test_house_id, \"Actual value\", y, \"Predicted value\", y_predit)"
   ]
  }
 ],
 "metadata": {
  "kernelspec": {
   "display_name": "Python 3",
   "language": "python",
   "name": "python3"
  },
  "language_info": {
   "codemirror_mode": {
    "name": "ipython",
    "version": 3
   },
   "file_extension": ".py",
   "mimetype": "text/x-python",
   "name": "python",
   "nbconvert_exporter": "python",
   "pygments_lexer": "ipython3",
   "version": "3.7.7"
  }
 },
 "nbformat": 4,
 "nbformat_minor": 4
}
