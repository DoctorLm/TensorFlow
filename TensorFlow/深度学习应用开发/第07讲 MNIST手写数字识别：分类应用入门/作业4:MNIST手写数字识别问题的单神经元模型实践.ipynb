{
 "cells": [
  {
   "cell_type": "raw",
   "metadata": {},
   "source": [
    "MNIST手写数字识别问题的单神经元模型实践\n",
    "按课程案例，动手完成编码实践。\n",
    "在不改变模型的结构基础上，尝试采用不同的学习率、单批次样本数、训练轮数等超参数，让模型的准确率达到90%。\n",
    "提交要求：\n",
    "1、你认为最优的一次带运行结果的源代码文件（.ipynb 格式）\n",
    "2、作为附件上传\n",
    "评分标准：\n",
    "1、完成案例中的代码，有完整的代码，模型能运行，准确率达87%以上；得6分；\n",
    "2、准确率达89%以上；再得2分，否则得0分；\n",
    "3、准确率达90%以上；再得2分，否则得0分；"
   ]
  },
  {
   "cell_type": "code",
   "execution_count": 1,
   "metadata": {},
   "outputs": [],
   "source": [
    "#载入数据\n",
    "import tensorflow as tf"
   ]
  },
  {
   "cell_type": "code",
   "execution_count": 2,
   "metadata": {},
   "outputs": [
    {
     "name": "stdout",
     "output_type": "stream",
     "text": [
      "WARNING:tensorflow:From <ipython-input-2-4e25ee396bc7>:2: read_data_sets (from tensorflow.contrib.learn.python.learn.datasets.mnist) is deprecated and will be removed in a future version.\n",
      "Instructions for updating:\n",
      "Please use alternatives such as official/mnist/dataset.py from tensorflow/models.\n",
      "WARNING:tensorflow:From /Users/lumin/Library/Python/3.7/lib/python/site-packages/tensorflow/contrib/learn/python/learn/datasets/mnist.py:260: maybe_download (from tensorflow.contrib.learn.python.learn.datasets.base) is deprecated and will be removed in a future version.\n",
      "Instructions for updating:\n",
      "Please write your own downloading logic.\n",
      "WARNING:tensorflow:From /Users/lumin/Library/Python/3.7/lib/python/site-packages/tensorflow/contrib/learn/python/learn/datasets/mnist.py:262: extract_images (from tensorflow.contrib.learn.python.learn.datasets.mnist) is deprecated and will be removed in a future version.\n",
      "Instructions for updating:\n",
      "Please use tf.data to implement this functionality.\n",
      "Extracting MNIST_data/train-images-idx3-ubyte.gz\n",
      "WARNING:tensorflow:From /Users/lumin/Library/Python/3.7/lib/python/site-packages/tensorflow/contrib/learn/python/learn/datasets/mnist.py:267: extract_labels (from tensorflow.contrib.learn.python.learn.datasets.mnist) is deprecated and will be removed in a future version.\n",
      "Instructions for updating:\n",
      "Please use tf.data to implement this functionality.\n",
      "Extracting MNIST_data/train-labels-idx1-ubyte.gz\n",
      "WARNING:tensorflow:From /Users/lumin/Library/Python/3.7/lib/python/site-packages/tensorflow/contrib/learn/python/learn/datasets/mnist.py:110: dense_to_one_hot (from tensorflow.contrib.learn.python.learn.datasets.mnist) is deprecated and will be removed in a future version.\n",
      "Instructions for updating:\n",
      "Please use tf.one_hot on tensors.\n",
      "Extracting MNIST_data/t10k-images-idx3-ubyte.gz\n",
      "Extracting MNIST_data/t10k-labels-idx1-ubyte.gz\n",
      "WARNING:tensorflow:From /Users/lumin/Library/Python/3.7/lib/python/site-packages/tensorflow/contrib/learn/python/learn/datasets/mnist.py:290: DataSet.__init__ (from tensorflow.contrib.learn.python.learn.datasets.mnist) is deprecated and will be removed in a future version.\n",
      "Instructions for updating:\n",
      "Please use alternatives such as official/mnist/dataset.py from tensorflow/models.\n"
     ]
    }
   ],
   "source": [
    "from tensorflow.examples.tutorials.mnist import input_data\n",
    "mnist = input_data.read_data_sets(\"MNIST_data\", one_hot=True)"
   ]
  },
  {
   "cell_type": "code",
   "execution_count": 3,
   "metadata": {},
   "outputs": [],
   "source": [
    "#mnist 中每张图片共28*28=784个像素点\n",
    "x = tf.placeholder(tf.float32, [None, 784], name=\"X\")\n",
    "#0-9 一共10个数字=>10个类别\n",
    "y = tf.placeholder(tf.float32, [None, 10], name=\"Y\")"
   ]
  },
  {
   "cell_type": "code",
   "execution_count": 4,
   "metadata": {},
   "outputs": [],
   "source": [
    "#定义变量\n",
    "W = tf.Variable(tf.random_normal([784,10]),name=\"W\")\n",
    "b = tf.Variable(tf.zeros([10]), name=\"b\")"
   ]
  },
  {
   "cell_type": "code",
   "execution_count": 5,
   "metadata": {},
   "outputs": [],
   "source": [
    "forward = tf.matmul(x,W)+b # 前向计算"
   ]
  },
  {
   "cell_type": "code",
   "execution_count": 6,
   "metadata": {},
   "outputs": [],
   "source": [
    "pred = tf.nn.softmax(forward) #Sotfmax分类"
   ]
  },
  {
   "cell_type": "code",
   "execution_count": 7,
   "metadata": {},
   "outputs": [],
   "source": [
    "train_epochs = 100 # 训练轮数\n",
    "batch_size = 100 # 单次训练样本数（批次大小）\n",
    "total_batch = int(mnist.train.num_examples/batch_size)\n",
    "display_step = 1      #显示粒度\n",
    "learning_rate = 0.05  #学习率"
   ]
  },
  {
   "cell_type": "code",
   "execution_count": 8,
   "metadata": {},
   "outputs": [],
   "source": [
    "#定义交叉熵损失函数\n",
    "loss_function = tf.reduce_mean(-tf.reduce_sum(y*tf.log(pred), reduction_indices=1))"
   ]
  },
  {
   "cell_type": "code",
   "execution_count": 9,
   "metadata": {},
   "outputs": [],
   "source": [
    "#梯度下降优化器\n",
    "optimizer = tf.train.GradientDescentOptimizer(learning_rate).minimize(loss_function)"
   ]
  },
  {
   "cell_type": "code",
   "execution_count": 10,
   "metadata": {},
   "outputs": [],
   "source": [
    "#检查预测类别tf.argmax(pred,1)与实际类别tf.argmax(y,1)的匹配情况\n",
    "correct_prediction = tf.equal(tf.argmax(pred,1),tf.argmax(y,1))"
   ]
  },
  {
   "cell_type": "code",
   "execution_count": 11,
   "metadata": {},
   "outputs": [],
   "source": [
    "#准确率，将布乐值转化为浮点数，并计算平均值\n",
    "accuracy = tf.reduce_mean(tf.cast(correct_prediction,tf.float32))"
   ]
  },
  {
   "cell_type": "code",
   "execution_count": 12,
   "metadata": {},
   "outputs": [],
   "source": [
    "sess = tf.Session() #声明会话\n",
    "init = tf.global_variables_initializer() #变量初始化\n",
    "sess.run(init)"
   ]
  },
  {
   "cell_type": "code",
   "execution_count": 13,
   "metadata": {},
   "outputs": [
    {
     "name": "stdout",
     "output_type": "stream",
     "text": [
      "Train Epoch:01 Loss=1.825885177 Accuracy=0.6524\n",
      "Train Epoch:02 Loss=1.230885029 Accuracy=0.7498\n",
      "Train Epoch:03 Loss=1.013124585 Accuracy=0.7926\n",
      "Train Epoch:04 Loss=0.894047856 Accuracy=0.8136\n",
      "Train Epoch:05 Loss=0.817859590 Accuracy=0.8292\n",
      "Train Epoch:06 Loss=0.761088371 Accuracy=0.8386\n",
      "Train Epoch:07 Loss=0.719387650 Accuracy=0.8464\n",
      "Train Epoch:08 Loss=0.685683787 Accuracy=0.8518\n",
      "Train Epoch:09 Loss=0.659745336 Accuracy=0.8580\n",
      "Train Epoch:10 Loss=0.634604692 Accuracy=0.8614\n",
      "Train Epoch:11 Loss=0.614714503 Accuracy=0.8660\n",
      "Train Epoch:12 Loss=0.598350585 Accuracy=0.8682\n",
      "Train Epoch:13 Loss=0.582836211 Accuracy=0.8708\n",
      "Train Epoch:14 Loss=0.569251955 Accuracy=0.8728\n",
      "Train Epoch:15 Loss=0.557764828 Accuracy=0.8760\n",
      "Train Epoch:16 Loss=0.546383321 Accuracy=0.8774\n",
      "Train Epoch:17 Loss=0.536214232 Accuracy=0.8794\n",
      "Train Epoch:18 Loss=0.528106034 Accuracy=0.8804\n",
      "Train Epoch:19 Loss=0.520348907 Accuracy=0.8834\n",
      "Train Epoch:20 Loss=0.512892306 Accuracy=0.8834\n",
      "Train Epoch:21 Loss=0.504733264 Accuracy=0.8852\n",
      "Train Epoch:22 Loss=0.497836918 Accuracy=0.8852\n",
      "Train Epoch:23 Loss=0.492683589 Accuracy=0.8868\n",
      "Train Epoch:24 Loss=0.486565620 Accuracy=0.8882\n",
      "Train Epoch:25 Loss=0.481580764 Accuracy=0.8882\n",
      "Train Epoch:26 Loss=0.477507383 Accuracy=0.8892\n",
      "Train Epoch:27 Loss=0.473827541 Accuracy=0.8880\n",
      "Train Epoch:28 Loss=0.466449112 Accuracy=0.8896\n",
      "Train Epoch:29 Loss=0.462707192 Accuracy=0.8904\n",
      "Train Epoch:30 Loss=0.458710164 Accuracy=0.8906\n",
      "Train Epoch:31 Loss=0.454336226 Accuracy=0.8918\n",
      "Train Epoch:32 Loss=0.450975984 Accuracy=0.8918\n",
      "Train Epoch:33 Loss=0.448037684 Accuracy=0.8920\n",
      "Train Epoch:34 Loss=0.445020318 Accuracy=0.8932\n",
      "Train Epoch:35 Loss=0.440565616 Accuracy=0.8946\n",
      "Train Epoch:36 Loss=0.439135253 Accuracy=0.8942\n",
      "Train Epoch:37 Loss=0.434189171 Accuracy=0.8982\n",
      "Train Epoch:38 Loss=0.431934088 Accuracy=0.8962\n",
      "Train Epoch:39 Loss=0.429926842 Accuracy=0.8968\n",
      "Train Epoch:40 Loss=0.428004891 Accuracy=0.8958\n",
      "Train Epoch:41 Loss=0.424619973 Accuracy=0.8968\n",
      "Train Epoch:42 Loss=0.422918111 Accuracy=0.8976\n",
      "Train Epoch:43 Loss=0.420849472 Accuracy=0.8968\n",
      "Train Epoch:44 Loss=0.417237312 Accuracy=0.8972\n",
      "Train Epoch:45 Loss=0.415359169 Accuracy=0.8980\n",
      "Train Epoch:46 Loss=0.414291203 Accuracy=0.8988\n",
      "Train Epoch:47 Loss=0.410690904 Accuracy=0.8984\n",
      "Train Epoch:48 Loss=0.409779102 Accuracy=0.8988\n",
      "Train Epoch:49 Loss=0.407528281 Accuracy=0.8996\n",
      "Train Epoch:50 Loss=0.405338049 Accuracy=0.9000\n",
      "Train Epoch:51 Loss=0.403764099 Accuracy=0.9006\n",
      "Train Epoch:52 Loss=0.402579993 Accuracy=0.9002\n",
      "Train Epoch:53 Loss=0.401206106 Accuracy=0.9000\n",
      "Train Epoch:54 Loss=0.398891449 Accuracy=0.9016\n",
      "Train Epoch:55 Loss=0.398062885 Accuracy=0.9020\n",
      "Train Epoch:56 Loss=0.396574557 Accuracy=0.9016\n",
      "Train Epoch:57 Loss=0.394075185 Accuracy=0.9026\n",
      "Train Epoch:58 Loss=0.392481297 Accuracy=0.9030\n",
      "Train Epoch:59 Loss=0.392239124 Accuracy=0.9024\n",
      "Train Epoch:60 Loss=0.389823049 Accuracy=0.9042\n",
      "Train Epoch:61 Loss=0.389230698 Accuracy=0.9026\n",
      "Train Epoch:62 Loss=0.386735648 Accuracy=0.9052\n",
      "Train Epoch:63 Loss=0.385567784 Accuracy=0.9050\n",
      "Train Epoch:64 Loss=0.385057777 Accuracy=0.9038\n",
      "Train Epoch:65 Loss=0.382690072 Accuracy=0.9050\n",
      "Train Epoch:66 Loss=0.382615000 Accuracy=0.9050\n",
      "Train Epoch:67 Loss=0.381208122 Accuracy=0.9048\n",
      "Train Epoch:68 Loss=0.379403949 Accuracy=0.9058\n",
      "Train Epoch:69 Loss=0.378849179 Accuracy=0.9062\n",
      "Train Epoch:70 Loss=0.377346158 Accuracy=0.9076\n",
      "Train Epoch:71 Loss=0.376647085 Accuracy=0.9060\n",
      "Train Epoch:72 Loss=0.375275344 Accuracy=0.9066\n",
      "Train Epoch:73 Loss=0.374056578 Accuracy=0.9070\n",
      "Train Epoch:74 Loss=0.372807533 Accuracy=0.9072\n",
      "Train Epoch:75 Loss=0.371907741 Accuracy=0.9072\n",
      "Train Epoch:76 Loss=0.371637344 Accuracy=0.9060\n",
      "Train Epoch:77 Loss=0.369719833 Accuracy=0.9070\n",
      "Train Epoch:78 Loss=0.369109213 Accuracy=0.9072\n",
      "Train Epoch:79 Loss=0.368114561 Accuracy=0.9074\n",
      "Train Epoch:80 Loss=0.367668867 Accuracy=0.9068\n",
      "Train Epoch:81 Loss=0.367286414 Accuracy=0.9066\n",
      "Train Epoch:82 Loss=0.365524173 Accuracy=0.9078\n",
      "Train Epoch:83 Loss=0.364548594 Accuracy=0.9084\n",
      "Train Epoch:84 Loss=0.363746345 Accuracy=0.9080\n",
      "Train Epoch:85 Loss=0.364154786 Accuracy=0.9060\n",
      "Train Epoch:86 Loss=0.362029493 Accuracy=0.9078\n",
      "Train Epoch:87 Loss=0.361462682 Accuracy=0.9082\n",
      "Train Epoch:88 Loss=0.361225873 Accuracy=0.9082\n",
      "Train Epoch:89 Loss=0.360164076 Accuracy=0.9078\n",
      "Train Epoch:90 Loss=0.359386832 Accuracy=0.9082\n",
      "Train Epoch:91 Loss=0.357980102 Accuracy=0.9080\n",
      "Train Epoch:92 Loss=0.357267618 Accuracy=0.9070\n",
      "Train Epoch:93 Loss=0.356694132 Accuracy=0.9084\n",
      "Train Epoch:94 Loss=0.356353313 Accuracy=0.9080\n",
      "Train Epoch:95 Loss=0.354952574 Accuracy=0.9086\n",
      "Train Epoch:96 Loss=0.354312718 Accuracy=0.9088\n",
      "Train Epoch:97 Loss=0.353177309 Accuracy=0.9084\n",
      "Train Epoch:98 Loss=0.352751464 Accuracy=0.9080\n",
      "Train Epoch:99 Loss=0.352373838 Accuracy=0.9088\n",
      "Train Epoch:100 Loss=0.351909876 Accuracy=0.9108\n",
      "Train Finished!\n"
     ]
    }
   ],
   "source": [
    "#开始训练\n",
    "for epoch in range(train_epochs):\n",
    "    for batch in range(total_batch):\n",
    "        xs, ys = mnist.train.next_batch(batch_size)     #读取批次数据\n",
    "        sess.run(optimizer,feed_dict = {x: xs, y: ys})  #执行批次训练\n",
    "    #total_batch个批次训练完成后,使用验证数据计算误差与准确率;验证集没有分批\n",
    "    loss,acc = sess.run([loss_function, accuracy], feed_dict={x: mnist.validation.images, y: mnist.validation.labels})\n",
    "    #打印训练过程中的详细信息\n",
    "    if(epoch+1) % display_step ==0:\n",
    "        print(\"Train Epoch:%02d\" % (epoch+1), \"Loss={:.9f}\".format(loss), \"Accuracy={:.4f}\".format(acc))\n",
    "print(\"Train Finished!\")"
   ]
  },
  {
   "cell_type": "code",
   "execution_count": 14,
   "metadata": {},
   "outputs": [
    {
     "name": "stdout",
     "output_type": "stream",
     "text": [
      "Test Accuracy: 0.9095\n",
      "Test Accuracy: 0.9108\n",
      "Test Accuracy: 0.9141273\n"
     ]
    }
   ],
   "source": [
    "# 完成训练后,在测试集上评估模型的准确率\n",
    "accu_test = sess.run(accuracy,feed_dict={x: mnist.test.images, y: mnist.test.labels})\n",
    "print(\"Test Accuracy:\", accu_test)\n",
    "\n",
    "# 完成训练后,在验证集上评估模型的准确率\n",
    "accu_validation = sess.run(accuracy, feed_dict={x: mnist.validation.images, y: mnist.validation.labels})\n",
    "print(\"Test Accuracy:\", accu_validation)\n",
    "\n",
    "# 完成训练后,在训练集上评估模型的准确率\n",
    "accu_train = sess.run(accuracy, feed_dict={x: mnist.train.images, y: mnist.train.labels})\n",
    "print(\"Test Accuracy:\", accu_train)"
   ]
  },
  {
   "cell_type": "code",
   "execution_count": null,
   "metadata": {},
   "outputs": [],
   "source": []
  },
  {
   "cell_type": "code",
   "execution_count": null,
   "metadata": {},
   "outputs": [],
   "source": []
  }
 ],
 "metadata": {
  "kernelspec": {
   "display_name": "Python 3",
   "language": "python",
   "name": "python3"
  },
  "language_info": {
   "codemirror_mode": {
    "name": "ipython",
    "version": 3
   },
   "file_extension": ".py",
   "mimetype": "text/x-python",
   "name": "python",
   "nbconvert_exporter": "python",
   "pygments_lexer": "ipython3",
   "version": "3.7.3"
  }
 },
 "nbformat": 4,
 "nbformat_minor": 2
}
