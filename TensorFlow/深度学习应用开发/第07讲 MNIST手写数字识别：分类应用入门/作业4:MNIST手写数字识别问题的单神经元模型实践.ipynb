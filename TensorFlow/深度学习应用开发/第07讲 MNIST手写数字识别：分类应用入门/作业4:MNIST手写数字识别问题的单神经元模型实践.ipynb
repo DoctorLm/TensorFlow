{
 "cells": [
  {
   "cell_type": "raw",
   "metadata": {},
   "source": [
    "MNIST手写数字识别问题的单神经元模型实践\n",
    "按课程案例，动手完成编码实践。\n",
    "在不改变模型的结构基础上，尝试采用不同的学习率、单批次样本数、训练轮数等超参数，让模型的准确率达到90%。\n",
    "提交要求：\n",
    "1、你认为最优的一次带运行结果的源代码文件（.ipynb 格式）\n",
    "2、作为附件上传\n",
    "评分标准：\n",
    "1、完成案例中的代码，有完整的代码，模型能运行，准确率达87%以上；得6分；\n",
    "2、准确率达89%以上；再得2分，否则得0分；\n",
    "3、准确率达90%以上；再得2分，否则得0分；"
   ]
  },
  {
   "cell_type": "code",
   "execution_count": 1,
   "metadata": {},
   "outputs": [
    {
     "name": "stdout",
     "output_type": "stream",
     "text": [
      "TensorFlow版 1.14.0\n"
     ]
    }
   ],
   "source": [
    "#载入数据\n",
    "import numpy as np\n",
    "import matplotlib.pyplot as plt\n",
    "import tensorflow as tf\n",
    "print(\"TensorFlow版\", tf.__version__)"
   ]
  },
  {
   "cell_type": "code",
   "execution_count": 2,
   "metadata": {},
   "outputs": [
    {
     "name": "stdout",
     "output_type": "stream",
     "text": [
      "WARNING:tensorflow:From <ipython-input-2-4e25ee396bc7>:2: read_data_sets (from tensorflow.contrib.learn.python.learn.datasets.mnist) is deprecated and will be removed in a future version.\n",
      "Instructions for updating:\n",
      "Please use alternatives such as official/mnist/dataset.py from tensorflow/models.\n",
      "WARNING:tensorflow:From /Users/lumin/Library/Python/3.7/lib/python/site-packages/tensorflow/contrib/learn/python/learn/datasets/mnist.py:260: maybe_download (from tensorflow.contrib.learn.python.learn.datasets.base) is deprecated and will be removed in a future version.\n",
      "Instructions for updating:\n",
      "Please write your own downloading logic.\n",
      "WARNING:tensorflow:From /Users/lumin/Library/Python/3.7/lib/python/site-packages/tensorflow/contrib/learn/python/learn/datasets/mnist.py:262: extract_images (from tensorflow.contrib.learn.python.learn.datasets.mnist) is deprecated and will be removed in a future version.\n",
      "Instructions for updating:\n",
      "Please use tf.data to implement this functionality.\n",
      "Extracting MNIST_data/train-images-idx3-ubyte.gz\n",
      "WARNING:tensorflow:From /Users/lumin/Library/Python/3.7/lib/python/site-packages/tensorflow/contrib/learn/python/learn/datasets/mnist.py:267: extract_labels (from tensorflow.contrib.learn.python.learn.datasets.mnist) is deprecated and will be removed in a future version.\n",
      "Instructions for updating:\n",
      "Please use tf.data to implement this functionality.\n",
      "Extracting MNIST_data/train-labels-idx1-ubyte.gz\n",
      "WARNING:tensorflow:From /Users/lumin/Library/Python/3.7/lib/python/site-packages/tensorflow/contrib/learn/python/learn/datasets/mnist.py:110: dense_to_one_hot (from tensorflow.contrib.learn.python.learn.datasets.mnist) is deprecated and will be removed in a future version.\n",
      "Instructions for updating:\n",
      "Please use tf.one_hot on tensors.\n",
      "Extracting MNIST_data/t10k-images-idx3-ubyte.gz\n",
      "Extracting MNIST_data/t10k-labels-idx1-ubyte.gz\n",
      "WARNING:tensorflow:From /Users/lumin/Library/Python/3.7/lib/python/site-packages/tensorflow/contrib/learn/python/learn/datasets/mnist.py:290: DataSet.__init__ (from tensorflow.contrib.learn.python.learn.datasets.mnist) is deprecated and will be removed in a future version.\n",
      "Instructions for updating:\n",
      "Please use alternatives such as official/mnist/dataset.py from tensorflow/models.\n"
     ]
    }
   ],
   "source": [
    "from tensorflow.examples.tutorials.mnist import input_data\n",
    "mnist = input_data.read_data_sets(\"MNIST_data\", one_hot=True)"
   ]
  },
  {
   "cell_type": "code",
   "execution_count": 3,
   "metadata": {},
   "outputs": [],
   "source": [
    "#mnist 中每张图片共28*28=784个像素点\n",
    "x = tf.placeholder(tf.float32, [None, 784], name=\"X\")\n",
    "#0-9 一共10个数字=>10个类别\n",
    "y = tf.placeholder(tf.float32, [None, 10], name=\"Y\")"
   ]
  },
  {
   "cell_type": "code",
   "execution_count": 4,
   "metadata": {},
   "outputs": [],
   "source": [
    "#定义变量\n",
    "W = tf.Variable(tf.random_normal([784,10]),name=\"W\")\n",
    "b = tf.Variable(tf.zeros([10]), name=\"b\")"
   ]
  },
  {
   "cell_type": "code",
   "execution_count": 5,
   "metadata": {},
   "outputs": [],
   "source": [
    "forward = tf.matmul(x,W)+b # 前向计算"
   ]
  },
  {
   "cell_type": "code",
   "execution_count": 6,
   "metadata": {},
   "outputs": [],
   "source": [
    "pred = tf.nn.softmax(forward) #Sotfmax分类"
   ]
  },
  {
   "cell_type": "code",
   "execution_count": 7,
   "metadata": {},
   "outputs": [],
   "source": [
    "train_epochs = 50 # 训练轮数\n",
    "batch_size = 50 # 单次训练样本数（批次大小）\n",
    "total_batch = int(mnist.train.num_examples/batch_size)\n",
    "display_step = 1      #显示粒度\n",
    "learning_rate = 0.05  #学习率"
   ]
  },
  {
   "cell_type": "code",
   "execution_count": 8,
   "metadata": {},
   "outputs": [],
   "source": [
    "#定义交叉熵损失函数\n",
    "loss_function = tf.reduce_mean(-tf.reduce_sum(y*tf.log(pred), reduction_indices=1))"
   ]
  },
  {
   "cell_type": "code",
   "execution_count": 9,
   "metadata": {},
   "outputs": [],
   "source": [
    "#梯度下降优化器\n",
    "optimizer = tf.train.GradientDescentOptimizer(learning_rate).minimize(loss_function)"
   ]
  },
  {
   "cell_type": "code",
   "execution_count": 10,
   "metadata": {},
   "outputs": [],
   "source": [
    "#检查预测类别tf.argmax(pred,1)与实际类别tf.argmax(y,1)的匹配情况\n",
    "correct_prediction = tf.equal(tf.argmax(pred,1),tf.argmax(y,1))"
   ]
  },
  {
   "cell_type": "code",
   "execution_count": 11,
   "metadata": {},
   "outputs": [],
   "source": [
    "#准确率，将布乐值转化为浮点数，并计算平均值\n",
    "accuracy = tf.reduce_mean(tf.cast(correct_prediction,tf.float32))"
   ]
  },
  {
   "cell_type": "code",
   "execution_count": 12,
   "metadata": {},
   "outputs": [],
   "source": [
    "sess = tf.Session() #声明会话\n",
    "init = tf.global_variables_initializer() #变量初始化\n",
    "sess.run(init)"
   ]
  },
  {
   "cell_type": "code",
   "execution_count": 13,
   "metadata": {},
   "outputs": [
    {
     "name": "stdout",
     "output_type": "stream",
     "text": [
      "Train Epoch:01 Loss=1.242454290 Accuracy=0.7500\n",
      "Train Epoch:02 Loss=0.882970989 Accuracy=0.8180\n",
      "Train Epoch:03 Loss=0.745033383 Accuracy=0.8390\n",
      "Train Epoch:04 Loss=0.665244520 Accuracy=0.8534\n",
      "Train Epoch:05 Loss=0.614051938 Accuracy=0.8642\n",
      "Train Epoch:06 Loss=0.576967955 Accuracy=0.8708\n",
      "Train Epoch:07 Loss=0.551226974 Accuracy=0.8770\n",
      "Train Epoch:08 Loss=0.528108954 Accuracy=0.8798\n",
      "Train Epoch:09 Loss=0.512175858 Accuracy=0.8828\n",
      "Train Epoch:10 Loss=0.493570715 Accuracy=0.8886\n",
      "Train Epoch:11 Loss=0.480939955 Accuracy=0.8890\n",
      "Train Epoch:12 Loss=0.470867425 Accuracy=0.8904\n",
      "Train Epoch:13 Loss=0.459812880 Accuracy=0.8916\n",
      "Train Epoch:14 Loss=0.450854391 Accuracy=0.8920\n",
      "Train Epoch:15 Loss=0.443759948 Accuracy=0.8924\n",
      "Train Epoch:16 Loss=0.435794145 Accuracy=0.8948\n",
      "Train Epoch:17 Loss=0.428983897 Accuracy=0.8964\n",
      "Train Epoch:18 Loss=0.421374619 Accuracy=0.8978\n",
      "Train Epoch:19 Loss=0.418564737 Accuracy=0.8978\n",
      "Train Epoch:20 Loss=0.412598491 Accuracy=0.8990\n",
      "Train Epoch:21 Loss=0.406793892 Accuracy=0.9004\n",
      "Train Epoch:22 Loss=0.403524995 Accuracy=0.8986\n",
      "Train Epoch:23 Loss=0.398512512 Accuracy=0.9026\n",
      "Train Epoch:24 Loss=0.395397812 Accuracy=0.9036\n",
      "Train Epoch:25 Loss=0.390973866 Accuracy=0.9032\n",
      "Train Epoch:26 Loss=0.386398643 Accuracy=0.9044\n",
      "Train Epoch:27 Loss=0.384899497 Accuracy=0.9052\n",
      "Train Epoch:28 Loss=0.381766945 Accuracy=0.9012\n",
      "Train Epoch:29 Loss=0.377564311 Accuracy=0.9064\n",
      "Train Epoch:30 Loss=0.375218451 Accuracy=0.9058\n",
      "Train Epoch:31 Loss=0.373273849 Accuracy=0.9068\n",
      "Train Epoch:32 Loss=0.369085073 Accuracy=0.9068\n",
      "Train Epoch:33 Loss=0.368114471 Accuracy=0.9078\n",
      "Train Epoch:34 Loss=0.364837170 Accuracy=0.9082\n",
      "Train Epoch:35 Loss=0.362726569 Accuracy=0.9090\n",
      "Train Epoch:36 Loss=0.360765219 Accuracy=0.9074\n",
      "Train Epoch:37 Loss=0.358459800 Accuracy=0.9076\n",
      "Train Epoch:38 Loss=0.357294649 Accuracy=0.9102\n",
      "Train Epoch:39 Loss=0.356186509 Accuracy=0.9080\n",
      "Train Epoch:40 Loss=0.353407919 Accuracy=0.9098\n",
      "Train Epoch:41 Loss=0.351366639 Accuracy=0.9096\n",
      "Train Epoch:42 Loss=0.349579364 Accuracy=0.9080\n",
      "Train Epoch:43 Loss=0.348791182 Accuracy=0.9116\n",
      "Train Epoch:44 Loss=0.347228944 Accuracy=0.9104\n",
      "Train Epoch:45 Loss=0.345370770 Accuracy=0.9120\n",
      "Train Epoch:46 Loss=0.344882458 Accuracy=0.9122\n",
      "Train Epoch:47 Loss=0.346361727 Accuracy=0.9094\n",
      "Train Epoch:48 Loss=0.340505123 Accuracy=0.9116\n",
      "Train Epoch:49 Loss=0.339922339 Accuracy=0.9136\n",
      "Train Epoch:50 Loss=0.339796811 Accuracy=0.9140\n",
      "Train Finished!\n"
     ]
    }
   ],
   "source": [
    "#开始训练\n",
    "for epoch in range(train_epochs):\n",
    "    for batch in range(total_batch):\n",
    "        xs, ys = mnist.train.next_batch(batch_size)     #读取批次数据\n",
    "        sess.run(optimizer,feed_dict = {x: xs, y: ys})  #执行批次训练\n",
    "    #total_batch个批次训练完成后,使用验证数据计算误差与准确率;验证集没有分批\n",
    "    loss,acc = sess.run([loss_function, accuracy], feed_dict={x: mnist.validation.images, y: mnist.validation.labels})\n",
    "    #打印训练过程中的详细信息\n",
    "    if(epoch+1) % display_step ==0:\n",
    "        print(\"Train Epoch:%02d\" % (epoch+1), \"Loss={:.9f}\".format(loss), \"Accuracy={:.4f}\".format(acc))\n",
    "print(\"Train Finished!\")"
   ]
  },
  {
   "cell_type": "code",
   "execution_count": 14,
   "metadata": {},
   "outputs": [
    {
     "name": "stdout",
     "output_type": "stream",
     "text": [
      "Test Accuracy: 0.9077\n",
      "Test Accuracy: 0.914\n",
      "Test Accuracy: 0.9134909\n"
     ]
    }
   ],
   "source": [
    "# 完成训练后,在测试集上评估模型的准确率\n",
    "accu_test = sess.run(accuracy,feed_dict={x: mnist.test.images, y: mnist.test.labels})\n",
    "print(\"Test Accuracy:\", accu_test)\n",
    "\n",
    "# 完成训练后,在验证集上评估模型的准确率\n",
    "accu_validation = sess.run(accuracy, feed_dict={x: mnist.validation.images, y: mnist.validation.labels})\n",
    "print(\"Test Accuracy:\", accu_validation)\n",
    "\n",
    "# 完成训练后,在训练集上评估模型的准确率\n",
    "accu_train = sess.run(accuracy, feed_dict={x: mnist.train.images, y: mnist.train.labels})\n",
    "print(\"Test Accuracy:\", accu_train)"
   ]
  },
  {
   "cell_type": "code",
   "execution_count": 15,
   "metadata": {},
   "outputs": [],
   "source": [
    "# 由于pred预测结果是one-hot编码格式，所以需要转换为0~9数字\n",
    "prediction_result = sess.run(tf.argmax(pred,1), feed_dict={x: mnist.test.images})"
   ]
  },
  {
   "cell_type": "code",
   "execution_count": 16,
   "metadata": {},
   "outputs": [
    {
     "data": {
      "text/plain": [
       "array([7, 2, 1, 0, 4, 1, 4, 9, 6, 9])"
      ]
     },
     "execution_count": 16,
     "metadata": {},
     "output_type": "execute_result"
    }
   ],
   "source": [
    "# 查看预测结果中的前10项\n",
    "prediction_result[0:10]"
   ]
  },
  {
   "cell_type": "code",
   "execution_count": 17,
   "metadata": {},
   "outputs": [],
   "source": [
    "def plot_images_labels_prediction(images,     # 图像列表\n",
    "                                  labels,     # 标签列表\n",
    "                                  prediction, # 预测值列表\n",
    "                                  index,      # 从第index个开始显示\n",
    "                                  num=10):    # 缺省一次显示 10 幅\n",
    "    fig = plt.gcf() # 获取当前图表，Get Current Figure\n",
    "    fig.set_size_inches(10, 12) # 1英寸等于2.54cm\n",
    "    if num > 25:\n",
    "        num = 25 # 最多显示25个子图\n",
    "    for i in range(0, num):\n",
    "        ax = plt.subplot(5,5,i+1) # 获取当前要处理的子图\n",
    "        ax.imshow(np.reshape(images[index], (28, 28)), cmap=\"binary\") # 显示第index个图像\n",
    "\n",
    "        title = \"label=\" + str(np.argmax(labels[index])) # 构建该图上要显示的title信息\n",
    "        if len(prediction) > 0:\n",
    "            title += \", predict=\" + str(prediction[index])\n",
    "        \n",
    "        ax.set_title(title, fontsize=10) # 显示图上的title信息\n",
    "        ax.set_xticks([]) # 不显示坐标轴\n",
    "        ax.set_yticks([])\n",
    "        index += 1\n",
    "    plt.show()"
   ]
  },
  {
   "cell_type": "code",
   "execution_count": 18,
   "metadata": {},
   "outputs": [
    {
     "data": {
      "image/png": "[encoded data removed]",
      "text/plain": [
       "<Figure size 720x864 with 25 Axes>"
      ]
     },
     "metadata": {},
     "output_type": "display_data"
    }
   ],
   "source": [
    "plot_images_labels_prediction(mnist.test.images,\n",
    "                              mnist.test.labels, \n",
    "                              prediction_result, 10, 25)"
   ]
  },
  {
   "cell_type": "code",
   "execution_count": null,
   "metadata": {},
   "outputs": [],
   "source": []
  }
 ],
 "metadata": {
  "kernelspec": {
   "display_name": "Python 3",
   "language": "python",
   "name": "python3"
  },
  "language_info": {
   "codemirror_mode": {
    "name": "ipython",
    "version": 3
   },
   "file_extension": ".py",
   "mimetype": "text/x-python",
   "name": "python",
   "nbconvert_exporter": "python",
   "pygments_lexer": "ipython3",
   "version": "3.7.3"
  }
 },
 "nbformat": 4,
 "nbformat_minor": 2
}
