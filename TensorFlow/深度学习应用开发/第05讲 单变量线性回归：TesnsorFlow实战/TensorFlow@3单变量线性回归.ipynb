{
 "cells": [
  {
   "cell_type": "markdown",
   "metadata": {},
   "source": [
    "## Tensorflow实现单变量线性回归\n",
    "#### 假设我们要学习的函数为线性函数y = 2x +1\n",
    "### 生成数据"
   ]
  },
  {
   "cell_type": "code",
   "execution_count": 1,
   "metadata": {},
   "outputs": [],
   "source": [
    "# 在Jupyter中，使用matplotlib显示图像需要设置为 inline 模式，否则不会现实图像\n",
    "%matplotlib inline\n",
    "\n",
    "import matplotlib.pyplot as plt # 载入matplotlib\n",
    "import numpy as np # 载入numpy\n",
    "import tensorflow as tf # 载入Tensorflow\n",
    "\n",
    "# 设置随机数种子\n",
    "np.random.seed(5)"
   ]
  },
  {
   "cell_type": "code",
   "execution_count": 2,
   "metadata": {},
   "outputs": [],
   "source": [
    "# 直接采用np生成等差数列的方法，生成100个点，每个点的取值在-1~1之间\n",
    "x_data = np.linspace(-1, 1, 100)\n",
    "\n",
    "# y = 2x +1 + 噪声， 其中， 噪声的唯度与x_data一致\n",
    "y_data = 2 * x_data + 1.0 + np.random.randn( * x_data.shape) * 0.4"
   ]
  },
  {
   "cell_type": "code",
   "execution_count": 3,
   "metadata": {},
   "outputs": [
    {
     "data": {
      "text/plain": [
       "array([ 0.79242262,  0.17076445, -1.75374086,  0.63029648,  0.49832921,\n",
       "        1.01813761, -0.84646862,  2.52080763, -1.23238611,  0.72695326])"
      ]
     },
     "execution_count": 3,
     "metadata": {},
     "output_type": "execute_result"
    }
   ],
   "source": [
    "# numpy.random.randn(d0,d1,...,dn)是从标准正态分布中返回一个或多个样本值\n",
    "# 标准正态分布又称为u分布，是以0为均值、以1为标准的正态分布，记为N(0,1)\n",
    "np.random.randn(10)"
   ]
  },
  {
   "cell_type": "code",
   "execution_count": 4,
   "metadata": {},
   "outputs": [
    {
     "data": {
      "text/plain": [
       "(100,)"
      ]
     },
     "execution_count": 4,
     "metadata": {},
     "output_type": "execute_result"
    }
   ],
   "source": [
    "# x_data.shape值为一个元组\n",
    "x_data.shape"
   ]
  },
  {
   "cell_type": "code",
   "execution_count": 5,
   "metadata": {},
   "outputs": [
    {
     "data": {
      "text/plain": [
       "array([ 0.04595522, -0.48713265,  0.81613236, -0.28143012, -2.33562182,\n",
       "       -1.16727845,  0.45765807,  2.23796561, -1.4812592 , -0.01694532,\n",
       "        1.45073354,  0.60687032, -0.37562084, -1.42192455, -1.7811513 ,\n",
       "       -0.74790579, -0.36840953, -2.24911813, -1.69367504,  0.30364847,\n",
       "       -0.40899234, -0.75483059, -0.40751917, -0.81262476,  0.92751621,\n",
       "        1.63995407,  2.07361553,  0.70979786,  0.74715259,  1.46309548,\n",
       "        1.73844881,  1.46520488,  1.21228341, -0.6346525 , -1.5996985 ,\n",
       "        0.87715281, -0.09383245, -0.05567103, -0.88942073, -1.30095145,\n",
       "        1.40216662,  0.46510099, -1.06503262,  0.39042061,  0.30560017,\n",
       "        0.52184949,  2.23327081, -0.0347021 , -1.27962318,  0.03654264,\n",
       "       -0.64635659,  0.54856784,  0.21054246,  0.34650175, -0.56705117,\n",
       "        0.41367881, -0.51025606,  0.51725935, -0.30100513, -1.11840643,\n",
       "        0.49852362, -0.70609387,  1.4438811 ,  0.44295626,  0.46770521,\n",
       "        0.10134479, -0.05935198, -2.38669774,  1.22217056, -0.81391201,\n",
       "        0.95626186, -0.63851056, -0.14312642, -0.22418983, -1.03849524,\n",
       "       -0.17170905,  0.47634618, -0.41417827, -1.26408334, -0.57321556,\n",
       "        0.24981732,  1.14720208,  0.83594396,  0.28740365, -0.9955963 ,\n",
       "        0.90688947,  0.02421074, -0.23998173,  0.91011056,  0.61784475,\n",
       "        0.49961804, -1.15154425, -0.6105164 , -1.70388541,  0.19443738,\n",
       "        0.02824125,  0.93256051,  0.21204332, -0.36794457,  2.1114884 ])"
      ]
     },
     "execution_count": 5,
     "metadata": {},
     "output_type": "execute_result"
    }
   ],
   "source": [
    "# 实参的前面加上*和**时，就意味着拆包。单个*表示将元组拆成一个单独的实参\n",
    "np.random.randn(*x_data.shape)"
   ]
  },
  {
   "cell_type": "code",
   "execution_count": 6,
   "metadata": {},
   "outputs": [
    {
     "data": {
      "text/plain": [
       "array([-1.02957349, -1.33628031, -0.61056736,  0.52469426, -0.34930813,\n",
       "       -0.44073846, -1.1212876 ,  1.47284473, -0.62337224, -1.08070195,\n",
       "       -0.12253009, -0.8077431 , -0.23255622,  1.33515034, -0.44645673,\n",
       "       -0.04978868, -0.36854478, -0.19173957,  0.81967992,  0.53163372,\n",
       "       -0.34161504, -0.93090048, -0.13421699,  0.83259361, -0.01735327,\n",
       "       -0.12765822, -1.80791662,  0.99396898, -1.49112886, -1.28210748,\n",
       "       -0.37570741,  0.03464388,  0.04507816, -0.76374689, -0.31313851,\n",
       "       -0.60698954, -1.80955123, -0.25551774, -0.69379935,  0.41919776,\n",
       "       -0.14520019,  0.9638013 ,  0.69622199,  0.89940546,  1.20837807,\n",
       "        0.6932537 , -0.16636061,  1.35311311, -0.92862651, -0.03547249,\n",
       "        0.85964595, -0.28749661,  0.71494995, -0.8034526 , -0.54048196,\n",
       "        0.54617743,  0.71188926,  1.19715449, -0.07006703,  0.29822712,\n",
       "        0.62619261,  0.46743206, -1.30262143, -0.57008965,  1.44295001,\n",
       "       -1.24399513,  0.62888033, -0.42559213,  1.00320956, -0.77817761,\n",
       "        0.04894463, -2.02640189, -0.04193635,  1.07454278, -1.5008594 ,\n",
       "        1.18574443, -0.71508124, -0.05123853, -2.77458336,  1.07862813,\n",
       "       -0.87568592, -0.53810932, -1.2782157 , -0.99276945,  1.14342789,\n",
       "       -0.5090726 ,  0.89500094, -0.17620337,  0.34608347, -0.50631013,\n",
       "        0.42716402,  2.58856959,  0.65289301,  0.50583979, -0.47595083,\n",
       "        1.01090874,  1.35920097, -1.70208997, -1.38033223,  2.10177668])"
      ]
     },
     "execution_count": 6,
     "metadata": {},
     "output_type": "execute_result"
    }
   ],
   "source": [
    "# 本例中, np.random.randn(*x_data.shape)和np.random.randn(100)功能相同\n",
    "np.random.randn(100)"
   ]
  },
  {
   "cell_type": "code",
   "execution_count": 7,
   "metadata": {},
   "outputs": [],
   "source": [
    "y_data = 2 * x_data + 1.0 + np.random.randn(100) * 0.4"
   ]
  },
  {
   "cell_type": "markdown",
   "metadata": {},
   "source": [
    "### jupyter使用小技巧\n",
    "可以使用Tab健进行代码补齐"
   ]
  },
  {
   "cell_type": "code",
   "execution_count": 8,
   "metadata": {},
   "outputs": [
    {
     "data": {
      "text/plain": [
       "-0.5589262707450762"
      ]
     },
     "execution_count": 8,
     "metadata": {},
     "output_type": "execute_result"
    }
   ],
   "source": [
    "np.random.randn()"
   ]
  },
  {
   "cell_type": "markdown",
   "metadata": {},
   "source": [
    "### 利用matplotlib画图"
   ]
  },
  {
   "cell_type": "code",
   "execution_count": 9,
   "metadata": {},
   "outputs": [
    {
     "data": {
      "text/plain": [
       "<matplotlib.collections.PathCollection at 0x14518b110>"
      ]
     },
     "execution_count": 9,
     "metadata": {},
     "output_type": "execute_result"
    },
    {
     "data": {
      "image/png": "[encoded data removed]",
      "text/plain": [
       "<Figure size 432x288 with 1 Axes>"
      ]
     },
     "metadata": {
      "needs_background": "light"
     },
     "output_type": "display_data"
    }
   ],
   "source": [
    "# 画出随机生成数据的散点图\n",
    "plt.scatter(x_data, y_data)"
   ]
  },
  {
   "cell_type": "code",
   "execution_count": 10,
   "metadata": {},
   "outputs": [
    {
     "data": {
      "text/plain": [
       "[<matplotlib.lines.Line2D at 0x1452010d0>]"
      ]
     },
     "execution_count": 10,
     "metadata": {},
     "output_type": "execute_result"
    },
    {
     "data": {
      "image/png": "[encoded data removed]",
      "text/plain": [
       "<Figure size 432x288 with 1 Axes>"
      ]
     },
     "metadata": {
      "needs_background": "light"
     },
     "output_type": "display_data"
    }
   ],
   "source": [
    "# 画出随机生成数据的散点图\n",
    "plt.scatter(x_data, y_data)\n",
    "\n",
    "# 画出通过学习得到的目标线性函数 y = 2x + 1\n",
    "plt.plot(x_data, 2 * x_data + 1.0, color = 'red', linewidth = 3)"
   ]
  },
  {
   "cell_type": "markdown",
   "metadata": {},
   "source": [
    "## 构建模型\n",
    "### 定义x和y的占位符"
   ]
  },
  {
   "cell_type": "code",
   "execution_count": 11,
   "metadata": {},
   "outputs": [],
   "source": [
    "#定义训练数据的占位符，x是特征，y是标签值\n",
    "\n",
    "x = tf.placeholder(\"float\", name = \"x\")\n",
    "y = tf.placeholder(\"float\", name = \"y\")"
   ]
  },
  {
   "cell_type": "markdown",
   "metadata": {},
   "source": [
    "### 构建回归模型"
   ]
  },
  {
   "cell_type": "code",
   "execution_count": 12,
   "metadata": {},
   "outputs": [],
   "source": [
    "def model(x, w, b):\n",
    "    return tf.multiply(x,w)+b"
   ]
  },
  {
   "cell_type": "markdown",
   "metadata": {},
   "source": [
    "### 创建变量\n",
    "    ● Tensorflow变量的声明函数是tf.Variable\n",
    "    ● tf.Variable的作用是保存和更新参数\n",
    "    ● 变量的初始值可以是随机数、常数，或是通过其他变量的初始值计算得到"
   ]
  },
  {
   "cell_type": "code",
   "execution_count": 13,
   "metadata": {},
   "outputs": [],
   "source": [
    "# 构建线性函数的斜率，变量w\n",
    "w = tf.Variable(1.0, name = \"w0\")\n",
    "# 构建线性函数的截距，变量b\n",
    "b = tf.Variable(0.0, name = \"b0\")"
   ]
  },
  {
   "cell_type": "code",
   "execution_count": 14,
   "metadata": {},
   "outputs": [],
   "source": [
    "# pred是预测值，前向计算\n",
    "pred = model(x, w, b)"
   ]
  },
  {
   "cell_type": "markdown",
   "metadata": {},
   "source": [
    "## 训练模型\n",
    "### 设置训练参数"
   ]
  },
  {
   "cell_type": "code",
   "execution_count": 15,
   "metadata": {},
   "outputs": [],
   "source": [
    "# 迭代次数（训练轮数）\n",
    "train_epochs = 10\n",
    "# 学习率\n",
    "learning_rate = 0.05"
   ]
  },
  {
   "cell_type": "markdown",
   "metadata": {},
   "source": [
    "### 关于学习率（learning_rate）的设置\n",
    "    ● 学习率的作用：控制参数更新的幅度。\n",
    "    ● 如果学习率设置过大，可能导致参数在极值附过来回摇摆，无法保证收敛。\n",
    "    ● 如果学习率设置过小，虽然能保证收敛，但优化速度会大大降低，我们需要更多迭代次数才能达到较理想的优化效果\n",
    "### 定义损失函数\n",
    "    ● 损失函数用于描述预测值与真实值之间的误差，从而指导模型收敛方向\n",
    "    ● 常见损失函数：均方差（Mean Square Error，MSE）和交叉熵（cross-entropy）"
   ]
  },
  {
   "cell_type": "code",
   "execution_count": 16,
   "metadata": {},
   "outputs": [],
   "source": [
    "# 采用均方差作为损失函数\n",
    "loss_function = tf.reduce_mean(tf.square(y - pred))"
   ]
  },
  {
   "cell_type": "markdown",
   "metadata": {},
   "source": [
    "### 选择优化器"
   ]
  },
  {
   "cell_type": "code",
   "execution_count": 17,
   "metadata": {},
   "outputs": [],
   "source": [
    "# 梯度下降优化器\n",
    "optimizer = tf.train.GradientDescentOptimizer(learning_rate).minimize(loss_function)"
   ]
  },
  {
   "cell_type": "markdown",
   "metadata": {},
   "source": [
    "### 声明会话"
   ]
  },
  {
   "cell_type": "code",
   "execution_count": 18,
   "metadata": {},
   "outputs": [],
   "source": [
    "sess = tf.Session()"
   ]
  },
  {
   "cell_type": "markdown",
   "metadata": {},
   "source": [
    "### 变量初始化\n",
    "    ● 在真正执行计算之前，需将所有变量初始化\n",
    "    ● 通过tf.global_variables_initializer 函数可实现对所有变量的初始化"
   ]
  },
  {
   "cell_type": "code",
   "execution_count": 19,
   "metadata": {},
   "outputs": [],
   "source": [
    "init = tf.global_variables_initializer()\n",
    "sess.run(init)"
   ]
  },
  {
   "cell_type": "markdown",
   "metadata": {},
   "source": [
    "### 执行训练"
   ]
  },
  {
   "cell_type": "code",
   "execution_count": 20,
   "metadata": {},
   "outputs": [
    {
     "data": {
      "image/png": "[encoded data removed]",
      "text/plain": [
       "<Figure size 432x288 with 1 Axes>"
      ]
     },
     "metadata": {
      "needs_background": "light"
     },
     "output_type": "display_data"
    }
   ],
   "source": [
    "#开始训练，轮数为epoch，采用SGD随机梯度下降优化方法\n",
    "for epoch in range(train_epochs): #10轮\n",
    "    for xs, ys in zip(x_data, y_data):\n",
    "        _, loss=sess.run([optimizer, loss_function], feed_dict={x:xs, y:ys})\n",
    "    b0temp = b.eval(session = sess)\n",
    "    w0temp = w.eval(session = sess)\n",
    "    plt.plot(x_data, w0temp * x_data + b0temp) # 画图"
   ]
  },
  {
   "cell_type": "raw",
   "metadata": {},
   "source": [
    "从上图可以看出，由于本案例所拟合的模型较简单，训练3次这后已经接近收敛。 \n",
    "对于复杂模型，需要更多次训练才能收敛。"
   ]
  },
  {
   "cell_type": "markdown",
   "metadata": {},
   "source": [
    "### 打印结果"
   ]
  },
  {
   "cell_type": "code",
   "execution_count": 21,
   "metadata": {},
   "outputs": [
    {
     "name": "stdout",
     "output_type": "stream",
     "text": [
      "w: 1.9070293\n",
      "b: 1.0205086\n"
     ]
    }
   ],
   "source": [
    "print(\"w:\", sess.run(w)) # W的值应该在2附过\n",
    "print(\"b:\", sess.run(b)) # b的值应该在1附过"
   ]
  },
  {
   "cell_type": "markdown",
   "metadata": {},
   "source": [
    "### 可视化"
   ]
  },
  {
   "cell_type": "code",
   "execution_count": 22,
   "metadata": {},
   "outputs": [
    {
     "data": {
      "text/plain": [
       "<matplotlib.legend.Legend at 0x145642350>"
      ]
     },
     "execution_count": 22,
     "metadata": {},
     "output_type": "execute_result"
    },
    {
     "data": {
      "image/png": "[encoded data removed]",
      "text/plain": [
       "<Figure size 432x288 with 1 Axes>"
      ]
     },
     "metadata": {
      "needs_background": "light"
     },
     "output_type": "display_data"
    }
   ],
   "source": [
    "plt.scatter(x_data, y_data, label = 'Original data')\n",
    "plt.plot(x_data, x_data * sess.run(w) + sess.run(b), label = 'Fitted line', color = 'r', linewidth = 3)\n",
    "plt.legend(loc = 2) # 通过参数loc指定图例位置"
   ]
  },
  {
   "cell_type": "markdown",
   "metadata": {},
   "source": [
    "## 进行预测"
   ]
  },
  {
   "cell_type": "code",
   "execution_count": 23,
   "metadata": {},
   "outputs": [
    {
     "name": "stdout",
     "output_type": "stream",
     "text": [
      "预测值:7.142073\n",
      "目标值:7.420000\n"
     ]
    }
   ],
   "source": [
    "x_test = 3.21\n",
    "predict = sess.run(pred, feed_dict={x: x_test})\n",
    "print(\"预测值:%f\" % predict)\n",
    "\n",
    "target = 2 * x_test + 1.0\n",
    "print(\"目标值:%f\" % target)"
   ]
  },
  {
   "cell_type": "code",
   "execution_count": 24,
   "metadata": {},
   "outputs": [
    {
     "name": "stdout",
     "output_type": "stream",
     "text": [
      "预测值:7.142073\n",
      "目标值:7.420000\n"
     ]
    }
   ],
   "source": [
    "predict = sess.run(w) * x_test + sess.run(b)\n",
    "print(\"预测值:%f\" % predict)\n",
    "\n",
    "target = 2 * x_test + 1.0\n",
    "print(\"目标值:%f\" % target)"
   ]
  },
  {
   "cell_type": "raw",
   "metadata": {},
   "source": [
    "以上是利用Tensorflow训练一个线性模型并进行预测的完整过程。\n",
    "通过逐渐降低损失值loss来训练参数w和b拟合 y = 2x + 1 中的系数2和1。"
   ]
  },
  {
   "cell_type": "raw",
   "metadata": {},
   "source": [
    "小结\n",
    "通过一个简单的例子介绍了利用Tensorflow实现机器学习的思路，重点进解了下述步骤：\n",
    "（1）生成人工数据集及其可视化\n",
    "（2）构建线性模型\n",
    "（3）定义损失函数\n",
    "（4）定义工优化器、最小化损失函数\n",
    "（5）训练结果的可视化\n",
    "（6）利用学习到的模型进行预测"
   ]
  }
 ],
 "metadata": {
  "kernelspec": {
   "display_name": "Python 3",
   "language": "python",
   "name": "python3"
  },
  "language_info": {
   "codemirror_mode": {
    "name": "ipython",
    "version": 3
   },
   "file_extension": ".py",
   "mimetype": "text/x-python",
   "name": "python",
   "nbconvert_exporter": "python",
   "pygments_lexer": "ipython3",
   "version": "3.7.3"
  }
 },
 "nbformat": 4,
 "nbformat_minor": 2
}
