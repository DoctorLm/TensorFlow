{
 "cells": [
  {
   "cell_type": "raw",
   "metadata": {},
   "source": [
    "MNIST手写数字识别问题的多层神经网络模型实践\n",
    "按课程案例，动手完成编码实践。\n",
    "自行设计一种神经网络模型，并尝试采用不同超参数，让模型的准确率达到97.5%。\n",
    "提交要求：\n",
    "1、你认为最优的一次带运行结果的源代码文件（.ipynb 格式）\n",
    "2、作为附件上传\n",
    "评分标准：\n",
    "1、完成MNIST手写数字识别的神经网络建模与应用，有完整的代码，模型能运行，准确率达97%以上；得6分；每下降一个百分点，少得1分；\n",
    "2、准确率达97.3%以上；再得2分，否则再得0分；\n",
    "3、准确率到97.5%以上；再得2分，否则再得0分；"
   ]
  },
  {
   "cell_type": "markdown",
   "metadata": {},
   "source": [
    "# 建立模型\n",
    "#### 定义标签数据占位符"
   ]
  },
  {
   "cell_type": "code",
   "execution_count": 1,
   "metadata": {
    "collapsed": true
   },
   "outputs": [
    {
     "name": "stdout",
     "output_type": "stream",
     "text": [
      "WARNING:tensorflow:From <ipython-input-1-1ae32b362cb4>:5: read_data_sets (from tensorflow.contrib.learn.python.learn.datasets.mnist) is deprecated and will be removed in a future version.\n",
      "Instructions for updating:\n",
      "Please use alternatives such as official/mnist/dataset.py from tensorflow/models.\n",
      "WARNING:tensorflow:From /Users/lumin/Library/Python/3.7/lib/python/site-packages/tensorflow/contrib/learn/python/learn/datasets/mnist.py:260: maybe_download (from tensorflow.contrib.learn.python.learn.datasets.base) is deprecated and will be removed in a future version.\n",
      "Instructions for updating:\n",
      "Please write your own downloading logic.\n",
      "WARNING:tensorflow:From /Users/lumin/Library/Python/3.7/lib/python/site-packages/tensorflow/contrib/learn/python/learn/datasets/mnist.py:262: extract_images (from tensorflow.contrib.learn.python.learn.datasets.mnist) is deprecated and will be removed in a future version.\n",
      "Instructions for updating:\n",
      "Please use tf.data to implement this functionality.\n",
      "Extracting /Users/lumin/Documents/dataset/MNIST_data/train-images-idx3-ubyte.gz\n",
      "WARNING:tensorflow:From /Users/lumin/Library/Python/3.7/lib/python/site-packages/tensorflow/contrib/learn/python/learn/datasets/mnist.py:267: extract_labels (from tensorflow.contrib.learn.python.learn.datasets.mnist) is deprecated and will be removed in a future version.\n",
      "Instructions for updating:\n",
      "Please use tf.data to implement this functionality.\n",
      "Extracting /Users/lumin/Documents/dataset/MNIST_data/train-labels-idx1-ubyte.gz\n",
      "WARNING:tensorflow:From /Users/lumin/Library/Python/3.7/lib/python/site-packages/tensorflow/contrib/learn/python/learn/datasets/mnist.py:110: dense_to_one_hot (from tensorflow.contrib.learn.python.learn.datasets.mnist) is deprecated and will be removed in a future version.\n",
      "Instructions for updating:\n",
      "Please use tf.one_hot on tensors.\n",
      "Extracting /Users/lumin/Documents/dataset/MNIST_data/t10k-images-idx3-ubyte.gz\n",
      "Extracting /Users/lumin/Documents/dataset/MNIST_data/t10k-labels-idx1-ubyte.gz\n",
      "WARNING:tensorflow:From /Users/lumin/Library/Python/3.7/lib/python/site-packages/tensorflow/contrib/learn/python/learn/datasets/mnist.py:290: DataSet.__init__ (from tensorflow.contrib.learn.python.learn.datasets.mnist) is deprecated and will be removed in a future version.\n",
      "Instructions for updating:\n",
      "Please use alternatives such as official/mnist/dataset.py from tensorflow/models.\n"
     ]
    }
   ],
   "source": [
    "import tensorflow as tf\n",
    "#导入Tensorflow提供的读取MNIST的模块\n",
    "import tensorflow.examples.tutorials.mnist.input_data as input_data\n",
    "#读取MNIST数据\n",
    "mnist = input_data.read_data_sets(\"/Users/lumin/Documents/dataset/MNIST_data\", one_hot=True)"
   ]
  },
  {
   "cell_type": "markdown",
   "metadata": {},
   "source": [
    "# 建立模型"
   ]
  },
  {
   "cell_type": "code",
   "execution_count": 2,
   "metadata": {},
   "outputs": [],
   "source": [
    "#定义全连接层函数\n",
    "def fcn_layer(inputs,           #输入数据\n",
    "              input_dim,        #输入神经元数量\n",
    "              output_dim,       #输出神经元数量\n",
    "              activation=None): #激活函数\n",
    "    W = tf.Variable(tf.truncated_normal([input_dim, output_dim], stddev=0.1)) #以截断正态分布的随机数初始化W\n",
    "    b = tf.Variable(tf.zeros([output_dim])) #以0初始化b\n",
    "    XWb = tf.matmul(inputs, W) + b #建立表达式: inputs * W + b\n",
    "    if activation is None: #默认有使用激活函数\n",
    "        outputs = XWb\n",
    "    else: # 若传入激活函数，则用其对输出结果进行变换\n",
    "        outputs = activation(XWb)\n",
    "    return outputs"
   ]
  },
  {
   "cell_type": "markdown",
   "metadata": {},
   "source": [
    "# 构建输入层"
   ]
  },
  {
   "cell_type": "code",
   "execution_count": 3,
   "metadata": {},
   "outputs": [],
   "source": [
    "#定义标签数据占位符\n",
    "x = tf.placeholder(tf.float32, [None, 784], name=\"X\")\n",
    "y = tf.placeholder(tf.float32, [None, 10], name=\"Y\")"
   ]
  },
  {
   "cell_type": "code",
   "execution_count": 4,
   "metadata": {},
   "outputs": [],
   "source": [
    "H1_NN = 256 # 第1隐藏层神经元为256\n",
    "H2_NN = 64  # 第2隐藏层神经元为64\n",
    "H3_NN = 32  # 第3隐藏层神经元为32"
   ]
  },
  {
   "cell_type": "markdown",
   "metadata": {},
   "source": [
    "# 构建隐藏层1"
   ]
  },
  {
   "cell_type": "code",
   "execution_count": 5,
   "metadata": {},
   "outputs": [],
   "source": [
    "h1 = fcn_layer(inputs=x,\n",
    "               input_dim=784,\n",
    "               output_dim=H1_NN,\n",
    "               activation=tf.nn.relu)"
   ]
  },
  {
   "cell_type": "markdown",
   "metadata": {},
   "source": [
    "# 构建隐藏层2"
   ]
  },
  {
   "cell_type": "code",
   "execution_count": 6,
   "metadata": {},
   "outputs": [],
   "source": [
    "h2 = fcn_layer(inputs=h1,\n",
    "               input_dim=H1_NN,\n",
    "               output_dim=H2_NN,\n",
    "               activation=tf.nn.relu)"
   ]
  },
  {
   "cell_type": "markdown",
   "metadata": {},
   "source": [
    "# 构建隐藏层3"
   ]
  },
  {
   "cell_type": "code",
   "execution_count": 7,
   "metadata": {},
   "outputs": [],
   "source": [
    "h3 = fcn_layer(inputs=h2,\n",
    "               input_dim=H2_NN,\n",
    "               output_dim=H3_NN,\n",
    "               activation=tf.nn.relu)"
   ]
  },
  {
   "cell_type": "markdown",
   "metadata": {},
   "source": [
    "# 构建输出层"
   ]
  },
  {
   "cell_type": "code",
   "execution_count": 8,
   "metadata": {},
   "outputs": [],
   "source": [
    "forward = fcn_layer(inputs=h3,\n",
    "               input_dim=H3_NN,\n",
    "               output_dim=10,\n",
    "               activation=None)\n",
    "pred = tf.nn.softmax(forward)"
   ]
  },
  {
   "cell_type": "markdown",
   "metadata": {},
   "source": [
    "# 训练模型"
   ]
  },
  {
   "cell_type": "markdown",
   "metadata": {},
   "source": [
    "### 定义损失函数"
   ]
  },
  {
   "cell_type": "code",
   "execution_count": 9,
   "metadata": {},
   "outputs": [],
   "source": [
    "#交叉熵\n",
    "loss_function = tf.reduce_mean(tf.nn.softmax_cross_entropy_with_logits_v2(logits=forward, labels=y))"
   ]
  },
  {
   "cell_type": "markdown",
   "metadata": {},
   "source": [
    "### 设置训练参数"
   ]
  },
  {
   "cell_type": "code",
   "execution_count": 10,
   "metadata": {},
   "outputs": [],
   "source": [
    "train_epochs = 50\n",
    "batch_size = 100\n",
    "total_batch = int(mnist.train.num_examples/batch_size)\n",
    "display_step = 10\n",
    "learning_rate = 0.001"
   ]
  },
  {
   "cell_type": "markdown",
   "metadata": {},
   "source": [
    "### 选择优化器"
   ]
  },
  {
   "cell_type": "code",
   "execution_count": 11,
   "metadata": {},
   "outputs": [],
   "source": [
    "optimizer = tf.train.AdamOptimizer(learning_rate).minimize(loss_function)"
   ]
  },
  {
   "cell_type": "markdown",
   "metadata": {},
   "source": [
    "### 定义准确率"
   ]
  },
  {
   "cell_type": "code",
   "execution_count": 12,
   "metadata": {},
   "outputs": [],
   "source": [
    "correct_prediction = tf.equal(tf.argmax(y, 1),tf.argmax(pred, 1))\n",
    "accuracy = tf.reduce_mean(tf.cast(correct_prediction, tf.float32))"
   ]
  },
  {
   "cell_type": "markdown",
   "metadata": {},
   "source": [
    "### 训练模型"
   ]
  },
  {
   "cell_type": "code",
   "execution_count": 13,
   "metadata": {
    "scrolled": false
   },
   "outputs": [
    {
     "name": "stdout",
     "output_type": "stream",
     "text": [
      "Train Epoch: 10 Loss= 0.096763834  Accuracy= 0.9742\n",
      "Train Epoch: 20 Loss= 0.103876770  Accuracy= 0.9784\n",
      "Train Epoch: 30 Loss= 0.132594973  Accuracy= 0.9796\n",
      "Train Epoch: 40 Loss= 0.115582787  Accuracy= 0.9854\n",
      "Train Epoch: 50 Loss= 0.137594357  Accuracy= 0.9838\n",
      "Train Finished takes: 24.72\n"
     ]
    }
   ],
   "source": [
    "#记录训练开始时间\n",
    "from time import time\n",
    "startTime = time()\n",
    "sess = tf.Session()\n",
    "sess.run(tf.global_variables_initializer())\n",
    "for epoch in range(train_epochs):\n",
    "    for batch in range(total_batch):\n",
    "        xs, ys = mnist.train.next_batch(batch_size)\n",
    "        sess.run(optimizer,feed_dict={x: xs, y: ys})\n",
    "    #total_batch个批次训练完成后，使用验证数据计算误差与准确率\n",
    "    loss, acc = sess.run([loss_function, accuracy],feed_dict={x: mnist.validation.images,\n",
    "                                                              y: mnist.validation.labels})\n",
    "    if(epoch+1) % display_step ==0:\n",
    "        print(\"Train Epoch:\",\"%02d\" % (epoch+1),\n",
    "              \"Loss=\",\"{:.9f}\".format(loss), \" Accuracy=\",\"{:.4f}\".format(acc))\n",
    "#运行总时间\n",
    "duration = time()-startTime\n",
    "print(\"Train Finished takes:\",\"{:.2f}\".format(duration))"
   ]
  },
  {
   "cell_type": "markdown",
   "metadata": {},
   "source": [
    "# 评估模型"
   ]
  },
  {
   "cell_type": "code",
   "execution_count": 14,
   "metadata": {},
   "outputs": [
    {
     "name": "stdout",
     "output_type": "stream",
     "text": [
      "Test Accuracy: 0.9841\n"
     ]
    }
   ],
   "source": [
    "accu_test = sess.run(accuracy, feed_dict={x: mnist.test.images, y: mnist.test.labels})\n",
    "print(\"Test Accuracy:\", accu_test)"
   ]
  }
 ],
 "metadata": {
  "kernelspec": {
   "display_name": "Python 3",
   "language": "python",
   "name": "python3"
  },
  "language_info": {
   "codemirror_mode": {
    "name": "ipython",
    "version": 3
   },
   "file_extension": ".py",
   "mimetype": "text/x-python",
   "name": "python",
   "nbconvert_exporter": "python",
   "pygments_lexer": "ipython3",
   "version": "3.7.3"
  }
 },
 "nbformat": 4,
 "nbformat_minor": 2
}
