{
 "cells": [
  {
   "cell_type": "markdown",
   "metadata": {},
   "source": [
    "# 保存模型(基于单隐层神经网络的手写数字识别)"
   ]
  },
  {
   "cell_type": "markdown",
   "metadata": {},
   "source": [
    "# 载入数据"
   ]
  },
  {
   "cell_type": "code",
   "execution_count": 1,
   "metadata": {
    "collapsed": true
   },
   "outputs": [
    {
     "name": "stdout",
     "output_type": "stream",
     "text": [
      "WARNING:tensorflow:From <ipython-input-1-ae8cf40ea274>:5: read_data_sets (from tensorflow.contrib.learn.python.learn.datasets.mnist) is deprecated and will be removed in a future version.\n",
      "Instructions for updating:\n",
      "Please use alternatives such as official/mnist/dataset.py from tensorflow/models.\n",
      "WARNING:tensorflow:From /Users/lumin/Library/Python/3.7/lib/python/site-packages/tensorflow/contrib/learn/python/learn/datasets/mnist.py:260: maybe_download (from tensorflow.contrib.learn.python.learn.datasets.base) is deprecated and will be removed in a future version.\n",
      "Instructions for updating:\n",
      "Please write your own downloading logic.\n",
      "WARNING:tensorflow:From /Users/lumin/Library/Python/3.7/lib/python/site-packages/tensorflow/contrib/learn/python/learn/datasets/mnist.py:262: extract_images (from tensorflow.contrib.learn.python.learn.datasets.mnist) is deprecated and will be removed in a future version.\n",
      "Instructions for updating:\n",
      "Please use tf.data to implement this functionality.\n",
      "Extracting MNIST_data/train-images-idx3-ubyte.gz\n",
      "WARNING:tensorflow:From /Users/lumin/Library/Python/3.7/lib/python/site-packages/tensorflow/contrib/learn/python/learn/datasets/mnist.py:267: extract_labels (from tensorflow.contrib.learn.python.learn.datasets.mnist) is deprecated and will be removed in a future version.\n",
      "Instructions for updating:\n",
      "Please use tf.data to implement this functionality.\n",
      "Extracting MNIST_data/train-labels-idx1-ubyte.gz\n",
      "WARNING:tensorflow:From /Users/lumin/Library/Python/3.7/lib/python/site-packages/tensorflow/contrib/learn/python/learn/datasets/mnist.py:110: dense_to_one_hot (from tensorflow.contrib.learn.python.learn.datasets.mnist) is deprecated and will be removed in a future version.\n",
      "Instructions for updating:\n",
      "Please use tf.one_hot on tensors.\n",
      "Extracting MNIST_data/t10k-images-idx3-ubyte.gz\n",
      "Extracting MNIST_data/t10k-labels-idx1-ubyte.gz\n",
      "WARNING:tensorflow:From /Users/lumin/Library/Python/3.7/lib/python/site-packages/tensorflow/contrib/learn/python/learn/datasets/mnist.py:290: DataSet.__init__ (from tensorflow.contrib.learn.python.learn.datasets.mnist) is deprecated and will be removed in a future version.\n",
      "Instructions for updating:\n",
      "Please use alternatives such as official/mnist/dataset.py from tensorflow/models.\n"
     ]
    }
   ],
   "source": [
    "import tensorflow as tf\n",
    "\n",
    "# 导入Tensorflow提供的读取MNIST的模块\n",
    "import tensorflow.examples.tutorials.mnist.input_data as input_data\n",
    "\n",
    "# 读取MNIST数据\n",
    "mnist = input_data.read_data_sets(\"MNIST_data\", one_hot=True)"
   ]
  },
  {
   "cell_type": "code",
   "execution_count": 2,
   "metadata": {},
   "outputs": [],
   "source": [
    "#定义全连接层函数\n",
    "def fcn_layer(inputs,\n",
    "              input_dim,\n",
    "              output_dim,\n",
    "              activation=None):\n",
    "    \n",
    "    W = tf.Variable(tf.truncated_normal([input_dim, output_dim], stddev=0.1)) #以截断正态分布的随机数初始化W\n",
    "    \n",
    "    b = tf.Variable(tf.zeros([output_dim])) # 以0初始化b\n",
    "    \n",
    "    XWb = tf.matmul(inputs, W) + b #建立表达式: inputs * W + b\n",
    "    \n",
    "    if activation is None: # 默认有使用激活函数\n",
    "        outputs = XWb\n",
    "    else: \n",
    "        outputs = activation(XWb) # 若传入激活函数，则用其对输出结果进行变换\n",
    "    \n",
    "    return outputs"
   ]
  },
  {
   "cell_type": "markdown",
   "metadata": {},
   "source": [
    "# 构建输入层"
   ]
  },
  {
   "cell_type": "code",
   "execution_count": 3,
   "metadata": {},
   "outputs": [],
   "source": [
    "x = tf.placeholder(tf.float32, [None, 784], name=\"X\")"
   ]
  },
  {
   "cell_type": "markdown",
   "metadata": {},
   "source": [
    "# 构建隐藏层"
   ]
  },
  {
   "cell_type": "code",
   "execution_count": 4,
   "metadata": {},
   "outputs": [],
   "source": [
    "#隐藏层神经元数量256\n",
    "h1 = fcn_layer(inputs=x,\n",
    "               input_dim=784,\n",
    "               output_dim=256,\n",
    "               activation=tf.nn.relu)"
   ]
  },
  {
   "cell_type": "markdown",
   "metadata": {},
   "source": [
    "# 构建输出层 "
   ]
  },
  {
   "cell_type": "code",
   "execution_count": 5,
   "metadata": {},
   "outputs": [],
   "source": [
    "forward = fcn_layer(inputs=h1,\n",
    "                    input_dim=256,\n",
    "                    output_dim=10,\n",
    "                    activation=None)\n",
    "pred = tf.nn.softmax(forward)"
   ]
  },
  {
   "cell_type": "markdown",
   "metadata": {},
   "source": [
    "# 训练模型"
   ]
  },
  {
   "cell_type": "code",
   "execution_count": 6,
   "metadata": {},
   "outputs": [],
   "source": [
    "#定义标签数据占位符\n",
    "y = tf.placeholder(tf.float32, [None, 10], name=\"Y\")"
   ]
  },
  {
   "cell_type": "markdown",
   "metadata": {},
   "source": [
    "# 定义损失函数"
   ]
  },
  {
   "cell_type": "code",
   "execution_count": 7,
   "metadata": {
    "collapsed": true
   },
   "outputs": [
    {
     "name": "stdout",
     "output_type": "stream",
     "text": [
      "WARNING:tensorflow:From <ipython-input-7-f0dc9641bae9>:2: softmax_cross_entropy_with_logits (from tensorflow.python.ops.nn_ops) is deprecated and will be removed in a future version.\n",
      "Instructions for updating:\n",
      "\n",
      "Future major versions of TensorFlow will allow gradients to flow\n",
      "into the labels input on backprop by default.\n",
      "\n",
      "See `tf.nn.softmax_cross_entropy_with_logits_v2`.\n",
      "\n"
     ]
    }
   ],
   "source": [
    "#交叉熵\n",
    "loss_function = tf.reduce_mean(tf.nn.softmax_cross_entropy_with_logits(logits=forward, labels=y))"
   ]
  },
  {
   "cell_type": "markdown",
   "metadata": {},
   "source": [
    "# 设置训练参数"
   ]
  },
  {
   "cell_type": "code",
   "execution_count": 8,
   "metadata": {},
   "outputs": [],
   "source": [
    "train_epochs = 40\n",
    "batch_size = 50\n",
    "total_batch = int(mnist.train.num_examples/batch_size)\n",
    "display_step = 1\n",
    "learning_rate = 0.01\n",
    "\n",
    "#存储模型的粒度\n",
    "save_step = 5\n",
    "\n",
    "#创建保存模型文件的目录\n",
    "import os\n",
    "ckpt_dir = \"./ckpt_dir/\"\n",
    "if not os.path.exists(ckpt_dir):\n",
    "    os.makedirs(ckpt_dir)"
   ]
  },
  {
   "cell_type": "markdown",
   "metadata": {},
   "source": [
    "每个固定间隔（save_step)在检查点保存一个模型（.ckpt文件），可便于随时将模型拿来预测。\n",
    "通常观察前几次的预测效果就可以粗略估计出神经网络设计得是否合理。"
   ]
  },
  {
   "cell_type": "markdown",
   "metadata": {},
   "source": [
    "# 选择优化器"
   ]
  },
  {
   "cell_type": "code",
   "execution_count": 9,
   "metadata": {},
   "outputs": [],
   "source": [
    "optimizer = tf.train.AdamOptimizer(learning_rate).minimize(loss_function)"
   ]
  },
  {
   "cell_type": "markdown",
   "metadata": {},
   "source": [
    "# 定义准确率"
   ]
  },
  {
   "cell_type": "code",
   "execution_count": 10,
   "metadata": {},
   "outputs": [],
   "source": [
    "correct_prediction = tf.equal(tf.argmax(y, 1),tf.argmax(pred, 1))\n",
    "accuracy = tf.reduce_mean(tf.cast(correct_prediction, tf.float32))"
   ]
  },
  {
   "cell_type": "markdown",
   "metadata": {},
   "source": [
    "# 训练并存储模型"
   ]
  },
  {
   "cell_type": "code",
   "execution_count": 11,
   "metadata": {
    "collapsed": true
   },
   "outputs": [
    {
     "name": "stdout",
     "output_type": "stream",
     "text": [
      "Train Epoch: 01 Loss= 0.147124559  Accuracy= 0.9590\n",
      "Train Epoch: 02 Loss= 0.150765687  Accuracy= 0.9634\n",
      "Train Epoch: 03 Loss= 0.137418151  Accuracy= 0.9676\n",
      "Train Epoch: 04 Loss= 0.142277971  Accuracy= 0.9644\n",
      "Train Epoch: 05 Loss= 0.172676593  Accuracy= 0.9640\n",
      "minist_h256_model_000005.ckpt saved\n",
      "Train Epoch: 06 Loss= 0.222344190  Accuracy= 0.9650\n",
      "Train Epoch: 07 Loss= 0.169667095  Accuracy= 0.9710\n",
      "Train Epoch: 08 Loss= 0.188240170  Accuracy= 0.9698\n",
      "Train Epoch: 09 Loss= 0.227982640  Accuracy= 0.9634\n",
      "Train Epoch: 10 Loss= 0.222634614  Accuracy= 0.9678\n",
      "minist_h256_model_000010.ckpt saved\n",
      "Train Epoch: 11 Loss= 0.219842866  Accuracy= 0.9674\n",
      "Train Epoch: 12 Loss= 0.208861500  Accuracy= 0.9708\n",
      "Train Epoch: 13 Loss= 0.275026888  Accuracy= 0.9642\n",
      "Train Epoch: 14 Loss= 0.254013628  Accuracy= 0.9704\n",
      "Train Epoch: 15 Loss= 0.257880747  Accuracy= 0.9708\n",
      "minist_h256_model_000015.ckpt saved\n",
      "Train Epoch: 16 Loss= 0.298627406  Accuracy= 0.9664\n",
      "Train Epoch: 17 Loss= 0.304969281  Accuracy= 0.9720\n",
      "Train Epoch: 18 Loss= 0.339207709  Accuracy= 0.9682\n",
      "Train Epoch: 19 Loss= 0.296232134  Accuracy= 0.9684\n",
      "Train Epoch: 20 Loss= 0.354478896  Accuracy= 0.9710\n",
      "minist_h256_model_000020.ckpt saved\n",
      "Train Epoch: 21 Loss= 0.343969762  Accuracy= 0.9712\n",
      "Train Epoch: 22 Loss= 0.346775234  Accuracy= 0.9706\n",
      "Train Epoch: 23 Loss= 0.394016355  Accuracy= 0.9704\n",
      "Train Epoch: 24 Loss= 0.423443466  Accuracy= 0.9728\n",
      "Train Epoch: 25 Loss= 0.455243081  Accuracy= 0.9682\n",
      "minist_h256_model_000025.ckpt saved\n",
      "Train Epoch: 26 Loss= 0.383067161  Accuracy= 0.9730\n",
      "Train Epoch: 27 Loss= 0.453324765  Accuracy= 0.9704\n",
      "Train Epoch: 28 Loss= 0.423899174  Accuracy= 0.9726\n",
      "Train Epoch: 29 Loss= 0.536320031  Accuracy= 0.9720\n",
      "Train Epoch: 30 Loss= 0.499864489  Accuracy= 0.9694\n",
      "WARNING:tensorflow:From /Users/lumin/Library/Python/3.7/lib/python/site-packages/tensorflow/python/training/saver.py:960: remove_checkpoint (from tensorflow.python.training.checkpoint_management) is deprecated and will be removed in a future version.\n",
      "Instructions for updating:\n",
      "Use standard file APIs to delete files with this prefix.\n",
      "minist_h256_model_000030.ckpt saved\n",
      "Train Epoch: 31 Loss= 0.521624804  Accuracy= 0.9700\n",
      "Train Epoch: 32 Loss= 0.545260131  Accuracy= 0.9714\n",
      "Train Epoch: 33 Loss= 0.602449536  Accuracy= 0.9742\n",
      "Train Epoch: 34 Loss= 0.589444101  Accuracy= 0.9718\n",
      "Train Epoch: 35 Loss= 0.581707895  Accuracy= 0.9754\n",
      "minist_h256_model_000035.ckpt saved\n",
      "Train Epoch: 36 Loss= 0.613366544  Accuracy= 0.9702\n",
      "Train Epoch: 37 Loss= 0.601524830  Accuracy= 0.9714\n",
      "Train Epoch: 38 Loss= 0.535189807  Accuracy= 0.9738\n",
      "Train Epoch: 39 Loss= 0.580820143  Accuracy= 0.9738\n",
      "Train Epoch: 40 Loss= 0.587681174  Accuracy= 0.9720\n",
      "minist_h256_model_000040.ckpt saved\n",
      "Model saved!\n",
      "Train Finished takes: 26.63\n"
     ]
    }
   ],
   "source": [
    "#声明完成所有变量后，调用tf.train.Saver\n",
    "saver = tf.train.Saver()\n",
    "\n",
    "#记录训练开始时间\n",
    "from time import time\n",
    "startTime = time()\n",
    "\n",
    "sess = tf.Session()\n",
    "sess.run(tf.global_variables_initializer())\n",
    "\n",
    "for epoch in range(train_epochs):\n",
    "    for batch in range(total_batch):\n",
    "        xs, ys = mnist.train.next_batch(batch_size)\n",
    "        sess.run(optimizer,feed_dict={x: xs, y: ys})\n",
    "    #total_batch个批次训练完成后，使用验证数据计算误差与准确率\n",
    "    loss, acc = sess.run([loss_function, accuracy],\n",
    "                         feed_dict={x: mnist.validation.images,\n",
    "                                    y: mnist.validation.labels})\n",
    "    if(epoch+1) % display_step ==0:\n",
    "        print(\"Train Epoch:\",\"%02d\" % (epoch+1),\n",
    "              \"Loss=\",\"{:.9f}\".format(loss), \" Accuracy=\",\"{:.4f}\".format(acc))\n",
    "    \n",
    "    if (epoch+1) % save_step == 0:\n",
    "        saver.save(sess, os.path.join(ckpt_dir,\n",
    "                                  'mnist_h256_model_{:06d}.ckpt'.format(epoch+1))) # 存储模型\n",
    "        print('minist_h256_model_{:06d}.ckpt saved'.format(epoch+1))\n",
    "\n",
    "saver.save(sess, os.path.join(ckpt_dir, 'mnist_h256_model.ckpt'))\n",
    "print(\"Model saved!\")\n",
    "\n",
    "#显示运行总时间\n",
    "duration = time()-startTime\n",
    "print(\"Train Finished takes:\",\"{:.2f}\".format(duration))"
   ]
  },
  {
   "cell_type": "markdown",
   "metadata": {},
   "source": [
    "# 评估模型"
   ]
  },
  {
   "cell_type": "code",
   "execution_count": 12,
   "metadata": {},
   "outputs": [
    {
     "name": "stdout",
     "output_type": "stream",
     "text": [
      "Test Accuracy: 0.9707\n"
     ]
    }
   ],
   "source": [
    "accu_test = sess.run(accuracy, feed_dict={x: mnist.test.images, y: mnist.test.labels})\n",
    "print(\"Test Accuracy:\", accu_test)"
   ]
  }
 ],
 "metadata": {
  "kernelspec": {
   "display_name": "Python 3",
   "language": "python",
   "name": "python3"
  },
  "language_info": {
   "codemirror_mode": {
    "name": "ipython",
    "version": 3
   },
   "file_extension": ".py",
   "mimetype": "text/x-python",
   "name": "python",
   "nbconvert_exporter": "python",
   "pygments_lexer": "ipython3",
   "version": "3.7.3"
  }
 },
 "nbformat": 4,
 "nbformat_minor": 2
}
