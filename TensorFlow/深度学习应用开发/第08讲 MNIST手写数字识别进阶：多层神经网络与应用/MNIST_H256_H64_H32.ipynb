{
 "cells": [
  {
   "cell_type": "markdown",
   "metadata": {},
   "source": [
    "# 载入数据"
   ]
  },
  {
   "cell_type": "code",
   "execution_count": 1,
   "metadata": {
    "collapsed": true
   },
   "outputs": [
    {
     "name": "stdout",
     "output_type": "stream",
     "text": [
      "WARNING:tensorflow:From <ipython-input-1-ae8cf40ea274>:5: read_data_sets (from tensorflow.contrib.learn.python.learn.datasets.mnist) is deprecated and will be removed in a future version.\n",
      "Instructions for updating:\n",
      "Please use alternatives such as official/mnist/dataset.py from tensorflow/models.\n",
      "WARNING:tensorflow:From /Users/lumin/Library/Python/3.7/lib/python/site-packages/tensorflow/contrib/learn/python/learn/datasets/mnist.py:260: maybe_download (from tensorflow.contrib.learn.python.learn.datasets.base) is deprecated and will be removed in a future version.\n",
      "Instructions for updating:\n",
      "Please write your own downloading logic.\n",
      "WARNING:tensorflow:From /Users/lumin/Library/Python/3.7/lib/python/site-packages/tensorflow/contrib/learn/python/learn/datasets/mnist.py:262: extract_images (from tensorflow.contrib.learn.python.learn.datasets.mnist) is deprecated and will be removed in a future version.\n",
      "Instructions for updating:\n",
      "Please use tf.data to implement this functionality.\n",
      "Extracting MNIST_data/train-images-idx3-ubyte.gz\n",
      "WARNING:tensorflow:From /Users/lumin/Library/Python/3.7/lib/python/site-packages/tensorflow/contrib/learn/python/learn/datasets/mnist.py:267: extract_labels (from tensorflow.contrib.learn.python.learn.datasets.mnist) is deprecated and will be removed in a future version.\n",
      "Instructions for updating:\n",
      "Please use tf.data to implement this functionality.\n",
      "Extracting MNIST_data/train-labels-idx1-ubyte.gz\n",
      "WARNING:tensorflow:From /Users/lumin/Library/Python/3.7/lib/python/site-packages/tensorflow/contrib/learn/python/learn/datasets/mnist.py:110: dense_to_one_hot (from tensorflow.contrib.learn.python.learn.datasets.mnist) is deprecated and will be removed in a future version.\n",
      "Instructions for updating:\n",
      "Please use tf.one_hot on tensors.\n",
      "Extracting MNIST_data/t10k-images-idx3-ubyte.gz\n",
      "Extracting MNIST_data/t10k-labels-idx1-ubyte.gz\n",
      "WARNING:tensorflow:From /Users/lumin/Library/Python/3.7/lib/python/site-packages/tensorflow/contrib/learn/python/learn/datasets/mnist.py:290: DataSet.__init__ (from tensorflow.contrib.learn.python.learn.datasets.mnist) is deprecated and will be removed in a future version.\n",
      "Instructions for updating:\n",
      "Please use alternatives such as official/mnist/dataset.py from tensorflow/models.\n"
     ]
    }
   ],
   "source": [
    "import tensorflow as tf\n",
    "#导入Tensorflow提供的读取MNIST的模块\n",
    "import tensorflow.examples.tutorials.mnist.input_data as input_data\n",
    "#读取MNIST数据\n",
    "mnist = input_data.read_data_sets(\"MNIST_data\", one_hot=True)"
   ]
  },
  {
   "cell_type": "markdown",
   "metadata": {},
   "source": [
    "# 建立模型\n",
    "#### 定义标签数据占位符"
   ]
  },
  {
   "cell_type": "code",
   "execution_count": 2,
   "metadata": {},
   "outputs": [],
   "source": [
    "x = tf.placeholder(tf.float32, [None, 784], name=\"X\")\n",
    "y = tf.placeholder(tf.float32, [None, 10], name=\"Y\")"
   ]
  },
  {
   "cell_type": "markdown",
   "metadata": {},
   "source": [
    "# 构建模型"
   ]
  },
  {
   "cell_type": "code",
   "execution_count": 3,
   "metadata": {},
   "outputs": [],
   "source": [
    "H1_NN = 256 # 第1隐藏层神经元为256\n",
    "H2_NN = 64  # 第2隐藏层神经元为64\n",
    "H3_NN = 32  # 第2隐藏层神经元为32"
   ]
  },
  {
   "cell_type": "code",
   "execution_count": 4,
   "metadata": {},
   "outputs": [],
   "source": [
    "# 输入层 - 第1隐藏层参数和偏置项\n",
    "W1 = tf.Variable(tf.truncated_normal([784, H1_NN], stddev=0.1))\n",
    "b1 = tf.Variable(tf.zeros([H1_NN]))\n",
    "\n",
    "# 第1隐藏层 - 第2隐藏层参数和偏置项\n",
    "W2 = tf.Variable(tf.truncated_normal([H1_NN, H2_NN], stddev=0.1))\n",
    "b2 = tf.Variable(tf.zeros([H2_NN]))\n",
    "\n",
    "# 第2隐藏层 - 第3隐藏层参数和偏置项\n",
    "W3 = tf.Variable(tf.truncated_normal([H2_NN, H3_NN], stddev=0.1))\n",
    "b3 = tf.Variable(tf.zeros([H3_NN]))\n",
    "\n",
    "# 第3隐藏层 - 输出层参数和偏置项\n",
    "W4 = tf.Variable(tf.truncated_normal([H3_NN, 10], stddev=0.1))\n",
    "b4 = tf.Variable(tf.zeros([10]))"
   ]
  },
  {
   "cell_type": "code",
   "execution_count": 5,
   "metadata": {},
   "outputs": [],
   "source": [
    "# 计算第1隐藏层结果\n",
    "Y1 = tf.nn.relu(tf.matmul(x, W1) + b1)\n",
    "\n",
    "# 计算第2隐藏层结果\n",
    "Y2 = tf.nn.relu(tf.matmul(Y1, W2) + b2)\n",
    "\n",
    "# 计算第3隐藏层结果\n",
    "Y3 = tf.nn.relu(tf.matmul(Y2, W3) + b3)\n",
    "\n",
    "# 计算输出结果\n",
    "forward = tf.matmul(Y3, W4) + b4\n",
    "pred = tf.nn.softmax(forward)"
   ]
  },
  {
   "cell_type": "markdown",
   "metadata": {},
   "source": [
    "# 训练模型"
   ]
  },
  {
   "cell_type": "markdown",
   "metadata": {},
   "source": [
    "### 定义损失函数"
   ]
  },
  {
   "cell_type": "code",
   "execution_count": 6,
   "metadata": {},
   "outputs": [
    {
     "name": "stdout",
     "output_type": "stream",
     "text": [
      "WARNING:tensorflow:From <ipython-input-6-f0dc9641bae9>:2: softmax_cross_entropy_with_logits (from tensorflow.python.ops.nn_ops) is deprecated and will be removed in a future version.\n",
      "Instructions for updating:\n",
      "\n",
      "Future major versions of TensorFlow will allow gradients to flow\n",
      "into the labels input on backprop by default.\n",
      "\n",
      "See `tf.nn.softmax_cross_entropy_with_logits_v2`.\n",
      "\n"
     ]
    }
   ],
   "source": [
    "#交叉熵\n",
    "loss_function = tf.reduce_mean(tf.nn.softmax_cross_entropy_with_logits(logits=forward, labels=y))"
   ]
  },
  {
   "cell_type": "markdown",
   "metadata": {},
   "source": [
    "### 设置训练参数"
   ]
  },
  {
   "cell_type": "code",
   "execution_count": 7,
   "metadata": {},
   "outputs": [],
   "source": [
    "train_epochs = 40\n",
    "batch_size = 50\n",
    "total_batch = int(mnist.train.num_examples/batch_size)\n",
    "display_step = 1\n",
    "learning_rate = 0.01"
   ]
  },
  {
   "cell_type": "markdown",
   "metadata": {},
   "source": [
    "### 选择优化器"
   ]
  },
  {
   "cell_type": "code",
   "execution_count": 8,
   "metadata": {},
   "outputs": [],
   "source": [
    "optimizer = tf.train.AdamOptimizer(learning_rate).minimize(loss_function)"
   ]
  },
  {
   "cell_type": "markdown",
   "metadata": {},
   "source": [
    "### 定义准确率"
   ]
  },
  {
   "cell_type": "code",
   "execution_count": 9,
   "metadata": {},
   "outputs": [],
   "source": [
    "correct_prediction = tf.equal(tf.argmax(y, 1),tf.argmax(pred, 1))\n",
    "accuracy = tf.reduce_mean(tf.cast(correct_prediction, tf.float32))"
   ]
  },
  {
   "cell_type": "markdown",
   "metadata": {},
   "source": [
    "### 训练模型"
   ]
  },
  {
   "cell_type": "code",
   "execution_count": 10,
   "metadata": {},
   "outputs": [
    {
     "name": "stdout",
     "output_type": "stream",
     "text": [
      "Train Epoch: 01 Loss= 0.140489668  Accuracy= 0.9596\n",
      "Train Epoch: 02 Loss= 0.164851874  Accuracy= 0.9560\n",
      "Train Epoch: 03 Loss= 0.130485445  Accuracy= 0.9728\n",
      "Train Epoch: 04 Loss= 0.149478376  Accuracy= 0.9692\n",
      "Train Epoch: 05 Loss= 0.179703116  Accuracy= 0.9596\n",
      "Train Epoch: 06 Loss= 0.137343451  Accuracy= 0.9670\n",
      "Train Epoch: 07 Loss= 0.140299484  Accuracy= 0.9686\n",
      "Train Epoch: 08 Loss= 0.132477909  Accuracy= 0.9742\n",
      "Train Epoch: 09 Loss= 0.126109242  Accuracy= 0.9748\n",
      "Train Epoch: 10 Loss= 0.157294124  Accuracy= 0.9680\n",
      "Train Epoch: 11 Loss= 0.139471918  Accuracy= 0.9710\n",
      "Train Epoch: 12 Loss= 0.204612404  Accuracy= 0.9708\n",
      "Train Epoch: 13 Loss= 0.205232099  Accuracy= 0.9718\n",
      "Train Epoch: 14 Loss= 0.141823843  Accuracy= 0.9738\n",
      "Train Epoch: 15 Loss= 0.188388675  Accuracy= 0.9708\n",
      "Train Epoch: 16 Loss= 0.172192827  Accuracy= 0.9740\n",
      "Train Epoch: 17 Loss= 0.178750515  Accuracy= 0.9728\n",
      "Train Epoch: 18 Loss= 0.190618068  Accuracy= 0.9716\n",
      "Train Epoch: 19 Loss= 0.210707009  Accuracy= 0.9704\n",
      "Train Epoch: 20 Loss= 0.278392643  Accuracy= 0.9654\n",
      "Train Epoch: 21 Loss= 0.195760831  Accuracy= 0.9740\n",
      "Train Epoch: 22 Loss= 0.178329185  Accuracy= 0.9718\n",
      "Train Epoch: 23 Loss= 0.209405690  Accuracy= 0.9742\n",
      "Train Epoch: 24 Loss= 0.278576165  Accuracy= 0.9720\n",
      "Train Epoch: 25 Loss= 0.228857964  Accuracy= 0.9704\n",
      "Train Epoch: 26 Loss= 0.311400920  Accuracy= 0.9696\n",
      "Train Epoch: 27 Loss= 0.264060020  Accuracy= 0.9688\n",
      "Train Epoch: 28 Loss= 0.220667750  Accuracy= 0.9734\n",
      "Train Epoch: 29 Loss= 0.203283414  Accuracy= 0.9740\n",
      "Train Epoch: 30 Loss= 0.324517787  Accuracy= 0.9692\n",
      "Train Epoch: 31 Loss= 0.308461338  Accuracy= 0.9706\n",
      "Train Epoch: 32 Loss= 0.272785366  Accuracy= 0.9714\n",
      "Train Epoch: 33 Loss= 0.257656693  Accuracy= 0.9694\n",
      "Train Epoch: 34 Loss= 0.204441488  Accuracy= 0.9748\n",
      "Train Epoch: 35 Loss= 0.286134213  Accuracy= 0.9694\n",
      "Train Epoch: 36 Loss= 0.447686583  Accuracy= 0.9720\n",
      "Train Epoch: 37 Loss= 0.300130039  Accuracy= 0.9740\n",
      "Train Epoch: 38 Loss= 0.266597390  Accuracy= 0.9770\n",
      "Train Epoch: 39 Loss= 0.240331784  Accuracy= 0.9732\n",
      "Train Epoch: 40 Loss= 0.382294446  Accuracy= 0.9698\n",
      "Train Finished takes: 31.23\n"
     ]
    }
   ],
   "source": [
    "#记录训练开始时间\n",
    "from time import time\n",
    "startTime = time()\n",
    "sess = tf.Session()\n",
    "sess.run(tf.global_variables_initializer())\n",
    "for epoch in range(train_epochs):\n",
    "    for batch in range(total_batch):\n",
    "        xs, ys = mnist.train.next_batch(batch_size)\n",
    "        sess.run(optimizer,feed_dict={x: xs, y: ys})\n",
    "    #total_batch个批次训练完成后，使用验证数据计算误差与准确率\n",
    "    loss, acc = sess.run([loss_function, accuracy],feed_dict={x: mnist.validation.images,\n",
    "                                                              y: mnist.validation.labels})\n",
    "    if(epoch+1) % display_step ==0:\n",
    "        print(\"Train Epoch:\",\"%02d\" % (epoch+1),\n",
    "              \"Loss=\",\"{:.9f}\".format(loss), \" Accuracy=\",\"{:.4f}\".format(acc))\n",
    "#运行总时间\n",
    "duration = time()-startTime\n",
    "print(\"Train Finished takes:\",\"{:.2f}\".format(duration))"
   ]
  },
  {
   "cell_type": "raw",
   "metadata": {},
   "source": [
    "从上述打印结果可以看出包含256个神经元的单隐层神经网络的分类性能比仅包含一个神经元的神经网络更优。"
   ]
  },
  {
   "cell_type": "markdown",
   "metadata": {},
   "source": [
    "# 评估模型"
   ]
  },
  {
   "cell_type": "code",
   "execution_count": 11,
   "metadata": {},
   "outputs": [
    {
     "name": "stdout",
     "output_type": "stream",
     "text": [
      "Test Accuracy: 0.971\n"
     ]
    }
   ],
   "source": [
    "accu_test = sess.run(accuracy, feed_dict={x: mnist.test.images, y: mnist.test.labels})\n",
    "print(\"Test Accuracy:\", accu_test)"
   ]
  },
  {
   "cell_type": "markdown",
   "metadata": {},
   "source": [
    "# 进行预测"
   ]
  },
  {
   "cell_type": "code",
   "execution_count": 12,
   "metadata": {},
   "outputs": [],
   "source": [
    "#由于pred预测结果是one-hot编码格式，所以需要转换为0~9数字。\n",
    "prediction_result=sess.run(tf.argmax(pred,1), feed_dict={x: mnist.test.images})"
   ]
  },
  {
   "cell_type": "code",
   "execution_count": 13,
   "metadata": {},
   "outputs": [
    {
     "data": {
      "text/plain": [
       "array([7, 2, 1, 0, 4, 1, 4, 9, 5, 9])"
      ]
     },
     "execution_count": 13,
     "metadata": {},
     "output_type": "execute_result"
    }
   ],
   "source": [
    "#查看预测结果中的前10项\n",
    "prediction_result[0:10]"
   ]
  },
  {
   "cell_type": "code",
   "execution_count": null,
   "metadata": {},
   "outputs": [],
   "source": []
  }
 ],
 "metadata": {
  "kernelspec": {
   "display_name": "Python 3",
   "language": "python",
   "name": "python3"
  },
  "language_info": {
   "codemirror_mode": {
    "name": "ipython",
    "version": 3
   },
   "file_extension": ".py",
   "mimetype": "text/x-python",
   "name": "python",
   "nbconvert_exporter": "python",
   "pygments_lexer": "ipython3",
   "version": "3.7.3"
  }
 },
 "nbformat": 4,
 "nbformat_minor": 2
}
