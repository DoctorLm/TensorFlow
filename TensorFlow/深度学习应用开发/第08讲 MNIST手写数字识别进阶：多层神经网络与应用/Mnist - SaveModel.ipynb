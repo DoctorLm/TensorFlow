{
 "cells": [
  {
   "cell_type": "code",
   "execution_count": 1,
   "metadata": {
    "collapsed": true
   },
   "outputs": [
    {
     "name": "stdout",
     "output_type": "stream",
     "text": [
      "TensorFlow版本: 1.14.0\n",
      "WARNING:tensorflow:From <ipython-input-1-8dd2a4778b7d>:10: read_data_sets (from tensorflow.contrib.learn.python.learn.datasets.mnist) is deprecated and will be removed in a future version.\n",
      "Instructions for updating:\n",
      "Please use alternatives such as official/mnist/dataset.py from tensorflow/models.\n",
      "WARNING:tensorflow:From /Users/lumin/Library/Python/3.7/lib/python/site-packages/tensorflow/contrib/learn/python/learn/datasets/mnist.py:260: maybe_download (from tensorflow.contrib.learn.python.learn.datasets.base) is deprecated and will be removed in a future version.\n",
      "Instructions for updating:\n",
      "Please write your own downloading logic.\n",
      "WARNING:tensorflow:From /Users/lumin/Library/Python/3.7/lib/python/site-packages/tensorflow/contrib/learn/python/learn/datasets/mnist.py:262: extract_images (from tensorflow.contrib.learn.python.learn.datasets.mnist) is deprecated and will be removed in a future version.\n",
      "Instructions for updating:\n",
      "Please use tf.data to implement this functionality.\n",
      "Extracting /Users/lumin/Documents/dataset/MNIST_data/train-images-idx3-ubyte.gz\n",
      "WARNING:tensorflow:From /Users/lumin/Library/Python/3.7/lib/python/site-packages/tensorflow/contrib/learn/python/learn/datasets/mnist.py:267: extract_labels (from tensorflow.contrib.learn.python.learn.datasets.mnist) is deprecated and will be removed in a future version.\n",
      "Instructions for updating:\n",
      "Please use tf.data to implement this functionality.\n",
      "Extracting /Users/lumin/Documents/dataset/MNIST_data/train-labels-idx1-ubyte.gz\n",
      "WARNING:tensorflow:From /Users/lumin/Library/Python/3.7/lib/python/site-packages/tensorflow/contrib/learn/python/learn/datasets/mnist.py:110: dense_to_one_hot (from tensorflow.contrib.learn.python.learn.datasets.mnist) is deprecated and will be removed in a future version.\n",
      "Instructions for updating:\n",
      "Please use tf.one_hot on tensors.\n",
      "Extracting /Users/lumin/Documents/dataset/MNIST_data/t10k-images-idx3-ubyte.gz\n",
      "Extracting /Users/lumin/Documents/dataset/MNIST_data/t10k-labels-idx1-ubyte.gz\n",
      "WARNING:tensorflow:From /Users/lumin/Library/Python/3.7/lib/python/site-packages/tensorflow/contrib/learn/python/learn/datasets/mnist.py:290: DataSet.__init__ (from tensorflow.contrib.learn.python.learn.datasets.mnist) is deprecated and will be removed in a future version.\n",
      "Instructions for updating:\n",
      "Please use alternatives such as official/mnist/dataset.py from tensorflow/models.\n"
     ]
    }
   ],
   "source": [
    "#coding:utf-8\n",
    "import matplotlib.pyplot as plt\n",
    "import numpy as np\n",
    "import tensorflow as tf\n",
    "import os\n",
    "os.environ[\"TF_CPP_MIN_LOG_LEVEL\"] = \"2\"\n",
    "print(\"TensorFlow版本:\", tf.__version__)\n",
    "\n",
    "from tensorflow.examples.tutorials.mnist import input_data\n",
    "mnist = input_data.read_data_sets(\"/Users/lumin/Documents/dataset/MNIST_data\", one_hot=True)"
   ]
  },
  {
   "cell_type": "code",
   "execution_count": 2,
   "metadata": {},
   "outputs": [],
   "source": [
    "#定义全连接层函数\n",
    "def fcn_layer(inputs,           #输入数据\n",
    "              input_dim,        #输入神经元数量\n",
    "              output_dim,       #输出神经元数量\n",
    "              activation=None): #激活函数\n",
    "    W = tf.Variable(tf.random.truncated_normal([input_dim, output_dim], stddev=0.1)) #以截断正态分布的随机数初始化W\n",
    "    b = tf.Variable(tf.zeros([output_dim])) #以0初始化b\n",
    "    XWb = tf.matmul(inputs, W) + b #建立表达式: inputs * W + b\n",
    "    if activation is None: #默认有使用激活函数\n",
    "        outputs = XWb\n",
    "    else: # 若传入激活函数，则用其对输出结果进行变换\n",
    "        outputs = activation(XWb)\n",
    "    return outputs\n",
    "    \n",
    "# mnist 中每张图片共28*28=784个像素点\n",
    "x = tf.compat.v1.placeholder(tf.float32, [None, 784], name=\"X\")\n",
    "# 0-9 一共10个数字=>10个类别\n",
    "y = tf.compat.v1.placeholder(tf.float32, [None, 10], name=\"Y\")\n",
    "\n",
    "# 隐藏层神经元数量\n",
    "H1_NN = 256 # 第1隐藏层神经元为256\n",
    "H2_NN = 64  # 第2隐藏层神经元为64\n",
    "H3_NN = 32  # 第3隐藏层神经元为32\n",
    "\n",
    "# 构建隐藏层\n",
    "h1 = fcn_layer(inputs=x,\n",
    "               input_dim=784,\n",
    "               output_dim=H1_NN,\n",
    "               activation=tf.nn.relu)\n",
    "\n",
    "h2 = fcn_layer(inputs=h1,\n",
    "               input_dim=H1_NN,\n",
    "               output_dim=H2_NN,\n",
    "               activation=tf.nn.relu)\n",
    "\n",
    "h3 = fcn_layer(inputs=h2,\n",
    "               input_dim=H2_NN,\n",
    "               output_dim=H3_NN,\n",
    "               activation=tf.nn.relu)\n",
    "\n",
    "# 构建输出层\n",
    "forward = fcn_layer(inputs=h3,\n",
    "               input_dim=H3_NN,\n",
    "               output_dim=10,\n",
    "               activation=None)\n",
    "pred = tf.nn.softmax(forward)"
   ]
  },
  {
   "cell_type": "code",
   "execution_count": 3,
   "metadata": {},
   "outputs": [],
   "source": [
    "# 设置训练参数\n",
    "train_epochs = 50 # 训练轮数\n",
    "batch_size = 100 # 单次训练样本数（批次大小）\n",
    "total_batch = int(mnist.train.num_examples/batch_size) # 一轮训练有多少批次\n",
    "display_step = 10 # 显示粒度\n",
    "learning_rate = 0.001 # 学习率\n",
    "\n",
    "# 定义交叉熵损失函数\n",
    "loss_function = tf.reduce_mean(tf.nn.softmax_cross_entropy_with_logits_v2(logits=forward, labels=y))\n",
    "\n",
    "# 选择优化器\n",
    "#optimizer = tf.compat.v1.train.GradientDescentOptimizer(learning_rate).minimize(loss_function)\n",
    "optimizer = tf.compat.v1.train.AdamOptimizer(learning_rate).minimize(loss_function)\n",
    "\n",
    "# 定义准确率\n",
    "# 检查预测类别tf.argmax(pred,1)与实际类别tf.argmax(y,1)的匹配情况\n",
    "correct_prediction = tf.equal(tf.argmax(y,1), tf.argmax(pred,1))\n",
    "# 准确率，将布尔值转化为浮点数，并计算平均值\n",
    "accuracy = tf.reduce_mean(tf.cast(correct_prediction, tf.float32))"
   ]
  },
  {
   "cell_type": "code",
   "execution_count": 4,
   "metadata": {},
   "outputs": [],
   "source": [
    "# 断点续训\n",
    "# 创建保存模型文件的目录\n",
    "ckpt_dir = \"/Users/lumin/Documents/dataset/MNIST_data/ckpt_dir/\"\n",
    "if not os.path.exists(ckpt_dir):\n",
    "    os.makedirs(ckpt_dir)\n",
    "save_step = 10 #存储模型的粒度\n",
    "epoch = tf.Variable(0, name='epoch', trainable=False)"
   ]
  },
  {
   "cell_type": "code",
   "execution_count": 5,
   "metadata": {},
   "outputs": [],
   "source": [
    "# 声明会话\n",
    "sess = tf.compat.v1.Session()\n",
    "init = tf.compat.v1.global_variables_initializer() # 变量初始化\n",
    "sess.run(init)"
   ]
  },
  {
   "cell_type": "code",
   "execution_count": 6,
   "metadata": {},
   "outputs": [
    {
     "name": "stdout",
     "output_type": "stream",
     "text": [
      "Traing from scratch.\n",
      "Trainig starts form 1 epoch.\n"
     ]
    }
   ],
   "source": [
    "#声明完成所有变量后，调用tf.train.Saver\n",
    "saver = tf.compat.v1.train.Saver()\n",
    "#如果有检查点文件，读取最新的检查点文件，恢复各种变量值\n",
    "ckpt = tf.train.get_checkpoint_state(ckpt_dir)\n",
    "if ckpt and ckpt.model_checkpoint_path:\n",
    "    saver.restore(sess, ckpt.model_checkpoint_path) #加载所有的参数\n",
    "    # 从这里开始就可以直接使用模型进行预测,或者接着继续训练了\n",
    "else:\n",
    "    print(\"Traing from scratch.\")\n",
    "\n",
    "# 获取续训参数\n",
    "start = sess.run(epoch)\n",
    "print(\"Trainig starts form {} epoch.\".format(start + 1))"
   ]
  },
  {
   "cell_type": "code",
   "execution_count": 7,
   "metadata": {},
   "outputs": [
    {
     "name": "stdout",
     "output_type": "stream",
     "text": [
      "Train Epoch: 10 Loss=0.089806609 Accuracy=0.9784\n",
      "mnist_fcn_layer_model_000010.ckpt saved\n",
      "Train Epoch: 20 Loss=0.110202096 Accuracy=0.9770\n",
      "mnist_fcn_layer_model_000020.ckpt saved\n",
      "Train Epoch: 30 Loss=0.109871164 Accuracy=0.9794\n",
      "mnist_fcn_layer_model_000030.ckpt saved\n",
      "Train Epoch: 40 Loss=0.116100460 Accuracy=0.9794\n",
      "mnist_fcn_layer_model_000040.ckpt saved\n",
      "Train Epoch: 50 Loss=0.114792824 Accuracy=0.9832\n",
      "mnist_fcn_layer_model_000050.ckpt saved\n",
      "WARNING:tensorflow:From /Users/lumin/Library/Python/3.7/lib/python/site-packages/tensorflow/python/training/saver.py:960: remove_checkpoint (from tensorflow.python.training.checkpoint_management) is deprecated and will be removed in a future version.\n",
      "Instructions for updating:\n",
      "Use standard file APIs to delete files with this prefix.\n",
      "Model saved!\n",
      "Train Finished takes: 26.59秒\n",
      "Test Accuracy:98.25%\n"
     ]
    }
   ],
   "source": [
    "# 模型训练\n",
    "# 开始训练\n",
    "from time import time\n",
    "startTime = time()\n",
    "for ep in range(start, train_epochs):\n",
    "    for step in range(total_batch):\n",
    "    \n",
    "        xs, ys = mnist.train.next_batch(batch_size)\n",
    "        sess.run(optimizer, feed_dict = {x:xs,y:ys})  # 执行批次训练\n",
    "        \n",
    "    # total_batch个批次训练完成后,使用验证数据计算误差与准确率;验证集没有分批\n",
    "    loss,acc = sess.run([loss_function, accuracy], feed_dict={x: mnist.validation.images, y: mnist.validation.labels})\n",
    "    \n",
    "    # 打印训练过程中的详细信息\n",
    "    if(ep+1) % display_step == 0:\n",
    "        print(\"Train Epoch:%3d\" % (ep+1), \"Loss={:.9f}\".format(loss), \"Accuracy={:.4f}\".format(acc))\n",
    "    \n",
    "    if (ep+1) % save_step == 0:\n",
    "        saver.save(sess, os.path.join(ckpt_dir,'mnist_fcn_layer_model_{:06d}.ckpt'.format(ep+1))) # 存储模型\n",
    "        print('mnist_fcn_layer_model_{:06d}.ckpt saved'.format(ep+1))\n",
    "        sess.run(epoch.assign(ep+1))\n",
    "    \n",
    "saver.save(sess, os.path.join(ckpt_dir, 'mnist_fcn_layer_model.ckpt'))\n",
    "print(\"Model saved!\")\n",
    "# 运行总时间\n",
    "duration = time()-startTime\n",
    "print(\"Train Finished takes:\",\"{:.2f}秒\".format(duration))\n",
    "# 评估模型 输出模型准确率\n",
    "accu_test = sess.run(accuracy, feed_dict={x: mnist.test.images, y: mnist.test.labels})\n",
    "print(\"Test Accuracy:{:.2f}%\".format(accu_test*100))"
   ]
  }
 ],
 "metadata": {
  "kernelspec": {
   "display_name": "Python 3",
   "language": "python",
   "name": "python3"
  },
  "language_info": {
   "codemirror_mode": {
    "name": "ipython",
    "version": 3
   },
   "file_extension": ".py",
   "mimetype": "text/x-python",
   "name": "python",
   "nbconvert_exporter": "python",
   "pygments_lexer": "ipython3",
   "version": "3.7.3"
  }
 },
 "nbformat": 4,
 "nbformat_minor": 4
}
