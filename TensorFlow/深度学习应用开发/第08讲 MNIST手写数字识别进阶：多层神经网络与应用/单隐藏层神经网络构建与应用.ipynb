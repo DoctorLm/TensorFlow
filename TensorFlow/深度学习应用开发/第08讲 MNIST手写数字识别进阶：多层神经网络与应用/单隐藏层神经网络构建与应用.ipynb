{
 "cells": [
  {
   "cell_type": "code",
   "execution_count": 1,
   "metadata": {},
   "outputs": [
    {
     "name": "stdout",
     "output_type": "stream",
     "text": [
      "WARNING:tensorflow:From <ipython-input-1-4ebb3619716d>:7: read_data_sets (from tensorflow.contrib.learn.python.learn.datasets.mnist) is deprecated and will be removed in a future version.\n",
      "Instructions for updating:\n",
      "Please use alternatives such as official/mnist/dataset.py from tensorflow/models.\n",
      "WARNING:tensorflow:From /Users/lumin/Library/Python/3.7/lib/python/site-packages/tensorflow/contrib/learn/python/learn/datasets/mnist.py:260: maybe_download (from tensorflow.contrib.learn.python.learn.datasets.base) is deprecated and will be removed in a future version.\n",
      "Instructions for updating:\n",
      "Please write your own downloading logic.\n",
      "WARNING:tensorflow:From /Users/lumin/Library/Python/3.7/lib/python/site-packages/tensorflow/contrib/learn/python/learn/datasets/mnist.py:262: extract_images (from tensorflow.contrib.learn.python.learn.datasets.mnist) is deprecated and will be removed in a future version.\n",
      "Instructions for updating:\n",
      "Please use tf.data to implement this functionality.\n",
      "Extracting MNIST_data/train-images-idx3-ubyte.gz\n",
      "WARNING:tensorflow:From /Users/lumin/Library/Python/3.7/lib/python/site-packages/tensorflow/contrib/learn/python/learn/datasets/mnist.py:267: extract_labels (from tensorflow.contrib.learn.python.learn.datasets.mnist) is deprecated and will be removed in a future version.\n",
      "Instructions for updating:\n",
      "Please use tf.data to implement this functionality.\n",
      "Extracting MNIST_data/train-labels-idx1-ubyte.gz\n",
      "WARNING:tensorflow:From /Users/lumin/Library/Python/3.7/lib/python/site-packages/tensorflow/contrib/learn/python/learn/datasets/mnist.py:110: dense_to_one_hot (from tensorflow.contrib.learn.python.learn.datasets.mnist) is deprecated and will be removed in a future version.\n",
      "Instructions for updating:\n",
      "Please use tf.one_hot on tensors.\n",
      "Extracting MNIST_data/t10k-images-idx3-ubyte.gz\n",
      "Extracting MNIST_data/t10k-labels-idx1-ubyte.gz\n",
      "WARNING:tensorflow:From /Users/lumin/Library/Python/3.7/lib/python/site-packages/tensorflow/contrib/learn/python/learn/datasets/mnist.py:290: DataSet.__init__ (from tensorflow.contrib.learn.python.learn.datasets.mnist) is deprecated and will be removed in a future version.\n",
      "Instructions for updating:\n",
      "Please use alternatives such as official/mnist/dataset.py from tensorflow/models.\n"
     ]
    }
   ],
   "source": [
    "import tensorflow as tf\n",
    "\n",
    "# 导入Tensorflow提供的读取MNIST的模块\n",
    "import tensorflow.examples.tutorials.mnist.input_data as input_data\n",
    "\n",
    "# 读取MNIST数据\n",
    "mnist = input_data.read_data_sets(\"MNIST_data\", one_hot=True)"
   ]
  },
  {
   "cell_type": "markdown",
   "metadata": {},
   "source": [
    "# 建立模型\n",
    "## 构建输入层\n",
    "### 定义标签数据占位符"
   ]
  },
  {
   "cell_type": "code",
   "execution_count": 2,
   "metadata": {},
   "outputs": [],
   "source": [
    "x = tf.placeholder(tf.float32, [None, 784], name=\"X\")\n",
    "y = tf.placeholder(tf.float32, [None, 10], name=\"Y\")"
   ]
  },
  {
   "cell_type": "markdown",
   "metadata": {},
   "source": [
    "## 构建隐藏层"
   ]
  },
  {
   "cell_type": "code",
   "execution_count": 3,
   "metadata": {},
   "outputs": [],
   "source": [
    "#隐藏层神经元数量\n",
    "H1_NN = 256\n",
    "\n",
    "W1 = tf.Variable(tf.random_normal([784, H1_NN]))\n",
    "b1 = tf.Variable(tf.zeros([H1_NN]))\n",
    "\n",
    "Y1 = tf.nn.relu(tf.matmul(x, W1) + b1)"
   ]
  },
  {
   "cell_type": "markdown",
   "metadata": {},
   "source": [
    "## 构建输出层 "
   ]
  },
  {
   "cell_type": "code",
   "execution_count": 4,
   "metadata": {},
   "outputs": [],
   "source": [
    "W2 = tf.Variable(tf.random_normal([H1_NN, 10]))\n",
    "b2 = tf.Variable(tf.zeros([10]))\n",
    "\n",
    "forward = tf.matmul(Y1, W2) + b2\n",
    "pred = tf.nn.softmax(forward)"
   ]
  },
  {
   "cell_type": "markdown",
   "metadata": {},
   "source": [
    "# 训练模型\n",
    "### 定义损失函数"
   ]
  },
  {
   "cell_type": "code",
   "execution_count": 5,
   "metadata": {},
   "outputs": [
    {
     "name": "stdout",
     "output_type": "stream",
     "text": [
      "WARNING:tensorflow:From <ipython-input-5-cfe3f5825242>:4: softmax_cross_entropy_with_logits (from tensorflow.python.ops.nn_ops) is deprecated and will be removed in a future version.\n",
      "Instructions for updating:\n",
      "\n",
      "Future major versions of TensorFlow will allow gradients to flow\n",
      "into the labels input on backprop by default.\n",
      "\n",
      "See `tf.nn.softmax_cross_entropy_with_logits_v2`.\n",
      "\n"
     ]
    }
   ],
   "source": [
    "#交叉熵\n",
    "#loss_function = tf.reduce_mean(-tf.reduce_sum(y*tf.log(pred), reduction_indices=1))\n",
    "#TF提供了结合Softmax的交叉熵损失函数定义方法 用于避免了结合Softmax的交叉熵损失函数定义方示\n",
    "loss_function = tf.reduce_mean(tf.nn.softmax_cross_entropy_with_logits(logits=forward, labels=y))"
   ]
  },
  {
   "cell_type": "markdown",
   "metadata": {},
   "source": [
    "### 设置训练参数"
   ]
  },
  {
   "cell_type": "code",
   "execution_count": 6,
   "metadata": {},
   "outputs": [],
   "source": [
    "train_epochs = 40\n",
    "batch_size = 50\n",
    "total_batch = int(mnist.train.num_examples/batch_size)\n",
    "display_step = 1\n",
    "learning_rate = 0.01"
   ]
  },
  {
   "cell_type": "markdown",
   "metadata": {},
   "source": [
    "### 选择优化器"
   ]
  },
  {
   "cell_type": "code",
   "execution_count": 7,
   "metadata": {},
   "outputs": [],
   "source": [
    "optimizer = tf.train.AdamOptimizer(learning_rate).minimize(loss_function)"
   ]
  },
  {
   "cell_type": "markdown",
   "metadata": {},
   "source": [
    "### 定义准确率"
   ]
  },
  {
   "cell_type": "code",
   "execution_count": 8,
   "metadata": {},
   "outputs": [],
   "source": [
    "correct_prediction = tf.equal(tf.argmax(y, 1),tf.argmax(pred, 1))\n",
    "accuracy = tf.reduce_mean(tf.cast(correct_prediction, tf.float32))"
   ]
  },
  {
   "cell_type": "code",
   "execution_count": 9,
   "metadata": {},
   "outputs": [
    {
     "name": "stdout",
     "output_type": "stream",
     "text": [
      "Train Epoch: 01 Loss= 1.237000823  Accuracy= 0.9392\n",
      "Train Epoch: 02 Loss= 0.693128169  Accuracy= 0.9474\n",
      "Train Epoch: 03 Loss= 0.604890227  Accuracy= 0.9530\n",
      "Train Epoch: 04 Loss= 0.549317002  Accuracy= 0.9478\n",
      "Train Epoch: 05 Loss= 0.379881382  Accuracy= 0.9578\n",
      "Train Epoch: 06 Loss= 0.371551991  Accuracy= 0.9624\n",
      "Train Epoch: 07 Loss= 0.464116603  Accuracy= 0.9578\n",
      "Train Epoch: 08 Loss= 0.336085767  Accuracy= 0.9652\n",
      "Train Epoch: 09 Loss= 0.391270906  Accuracy= 0.9580\n",
      "Train Epoch: 10 Loss= 0.400560200  Accuracy= 0.9636\n",
      "Train Epoch: 11 Loss= 0.372445762  Accuracy= 0.9656\n",
      "Train Epoch: 12 Loss= 0.370846927  Accuracy= 0.9684\n",
      "Train Epoch: 13 Loss= 0.457030773  Accuracy= 0.9614\n",
      "Train Epoch: 14 Loss= 0.405426502  Accuracy= 0.9698\n",
      "Train Epoch: 15 Loss= 0.392412245  Accuracy= 0.9722\n",
      "Train Epoch: 16 Loss= 0.460422307  Accuracy= 0.9678\n",
      "Train Epoch: 17 Loss= 0.449868858  Accuracy= 0.9730\n",
      "Train Epoch: 18 Loss= 0.428610951  Accuracy= 0.9694\n",
      "Train Epoch: 19 Loss= 0.381829143  Accuracy= 0.9748\n",
      "Train Epoch: 20 Loss= 0.469725549  Accuracy= 0.9740\n",
      "Train Epoch: 21 Loss= 0.589072704  Accuracy= 0.9726\n",
      "Train Epoch: 22 Loss= 0.505153835  Accuracy= 0.9716\n",
      "Train Epoch: 23 Loss= 0.578186214  Accuracy= 0.9718\n",
      "Train Epoch: 24 Loss= 0.538145900  Accuracy= 0.9726\n",
      "Train Epoch: 25 Loss= 0.648940682  Accuracy= 0.9736\n",
      "Train Epoch: 26 Loss= 0.679815114  Accuracy= 0.9720\n",
      "Train Epoch: 27 Loss= 0.692508459  Accuracy= 0.9754\n",
      "Train Epoch: 28 Loss= 0.636423230  Accuracy= 0.9748\n",
      "Train Epoch: 29 Loss= 0.756216526  Accuracy= 0.9754\n",
      "Train Epoch: 30 Loss= 0.835110128  Accuracy= 0.9730\n",
      "Train Epoch: 31 Loss= 0.927836120  Accuracy= 0.9688\n",
      "Train Epoch: 32 Loss= 0.792038202  Accuracy= 0.9744\n",
      "Train Epoch: 33 Loss= 1.031640053  Accuracy= 0.9704\n",
      "Train Epoch: 34 Loss= 0.889290214  Accuracy= 0.9728\n",
      "Train Epoch: 35 Loss= 0.822378516  Accuracy= 0.9732\n",
      "Train Epoch: 36 Loss= 0.792250693  Accuracy= 0.9744\n",
      "Train Epoch: 37 Loss= 0.869094849  Accuracy= 0.9736\n",
      "Train Epoch: 38 Loss= 0.956038892  Accuracy= 0.9754\n",
      "Train Epoch: 39 Loss= 1.006660461  Accuracy= 0.9728\n",
      "Train Epoch: 40 Loss= 0.951521277  Accuracy= 0.9754\n",
      "Train Finished takes: 27.02\n"
     ]
    }
   ],
   "source": [
    "#记录训练开始时间\n",
    "from time import time\n",
    "startTime = time()\n",
    "\n",
    "sess = tf.Session()\n",
    "sess.run(tf.global_variables_initializer())\n",
    "\n",
    "for epoch in range(train_epochs):\n",
    "    for batch in range(total_batch):\n",
    "        xs, ys = mnist.train.next_batch(batch_size)  #读取批次数据\n",
    "        sess.run(optimizer,feed_dict={x: xs, y: ys}) #执行批次训练\n",
    "        \n",
    "    #total_batch个批次训练完成后，使用验证数据计算误差与准确率\n",
    "    loss, acc = sess.run([loss_function, accuracy],feed_dict={x: mnist.validation.images,\n",
    "                                                              y: mnist.validation.labels})\n",
    "    if(epoch+1) % display_step ==0:\n",
    "        print(\"Train Epoch:\",\"%02d\" % (epoch+1),\n",
    "              \"Loss=\",\"{:.9f}\".format(loss), \" Accuracy=\",\"{:.4f}\".format(acc))\n",
    "#运行总时间\n",
    "duration = time()-startTime\n",
    "print(\"Train Finished takes:\",\"{:.2f}\".format(duration))"
   ]
  },
  {
   "cell_type": "raw",
   "metadata": {},
   "source": [
    "从上述打印结果可以看出包含256个神经元的单隐层神经网络的分类性能比仅包含一个神经网络更优."
   ]
  },
  {
   "cell_type": "markdown",
   "metadata": {},
   "source": [
    "# 评估模型"
   ]
  },
  {
   "cell_type": "code",
   "execution_count": 10,
   "metadata": {},
   "outputs": [
    {
     "name": "stdout",
     "output_type": "stream",
     "text": [
      "Test Accuracy: 0.9729\n"
     ]
    }
   ],
   "source": [
    "accu_test = sess.run(accuracy, feed_dict={x: mnist.test.images, y: mnist.test.labels})\n",
    "print(\"Test Accuracy:\", accu_test)"
   ]
  },
  {
   "cell_type": "markdown",
   "metadata": {},
   "source": [
    "# 进行预测"
   ]
  },
  {
   "cell_type": "code",
   "execution_count": 11,
   "metadata": {},
   "outputs": [],
   "source": [
    "#由于pred预测结果是one-hot编码格式，所以需要转换为0~9数字。\n",
    "prediction_result=sess.run(tf.argmax(pred,1), feed_dict={x: mnist.test.images})"
   ]
  },
  {
   "cell_type": "code",
   "execution_count": 12,
   "metadata": {},
   "outputs": [
    {
     "data": {
      "text/plain": [
       "array([7, 2, 1, 0, 4, 1, 4, 9, 6, 9])"
      ]
     },
     "execution_count": 12,
     "metadata": {},
     "output_type": "execute_result"
    }
   ],
   "source": [
    "#查看预测结果中的前10项\n",
    "prediction_result[0:10]"
   ]
  },
  {
   "cell_type": "markdown",
   "metadata": {},
   "source": [
    "# 定义可视化函数"
   ]
  },
  {
   "cell_type": "code",
   "execution_count": 13,
   "metadata": {},
   "outputs": [],
   "source": [
    "import matplotlib.pyplot as plt\n",
    "import numpy as np\n",
    "def plot_images_labels_prediction(images,     #图像列表\n",
    "                                  labels,     #标签列表\n",
    "                                  prediction, #预测值列表\n",
    "                                  index,      #从第index个开始显示\n",
    "                                  num=10):    #缺省一次显示10幅\n",
    "    fig = plt.gcf() #获取当前图表,Get Current Figure\n",
    "    fig.set_size_inches(10,12) #1英寸等于2.54cm\n",
    "    if num > 25:\n",
    "        num = 25                #最多显示25个子图\n",
    "    for i in range(0, num):\n",
    "        ax = plt.subplot(5,5, i+1) #获取当前要处理的子图\n",
    "        ax.imshow(np.reshape(images[index],(28, 28)),cmap='binary')\n",
    "        \n",
    "        title = \"label=\" + str(np.argmax(labels[index])) #构建该图上要显示的title\n",
    "        \n",
    "        if len(prediction)>0:\n",
    "            title += \",predict=\" + str(prediction[index])\n",
    "            \n",
    "        ax.set_title(title,fontsize=10) #显示图上的title信息\n",
    "        ax.set_xticks([]); #不显示坐标轴\n",
    "        ax.set_yticks([])\n",
    "        index += 1\n",
    "    plt.show()"
   ]
  },
  {
   "cell_type": "code",
   "execution_count": 14,
   "metadata": {},
   "outputs": [
    {
     "data": {
      "image/png": "[encoded data removed]",
      "text/plain": [
       "<Figure size 720x864 with 25 Axes>"
      ]
     },
     "metadata": {},
     "output_type": "display_data"
    }
   ],
   "source": [
    "plot_images_labels_prediction(mnist.test.images,\n",
    "                              mnist.test.labels,\n",
    "                              prediction_result,10,25)"
   ]
  },
  {
   "cell_type": "markdown",
   "metadata": {},
   "source": [
    "# 找出预测错误"
   ]
  },
  {
   "cell_type": "code",
   "execution_count": 15,
   "metadata": {},
   "outputs": [
    {
     "name": "stdout",
     "output_type": "stream",
     "text": [
      "[ True  True  True ...  True  True  True]\n"
     ]
    }
   ],
   "source": [
    "import numpy as np\n",
    "compare_lists = prediction_result==np.argmax(mnist.test.labels,1) \n",
    "print(compare_lists)"
   ]
  },
  {
   "cell_type": "code",
   "execution_count": 16,
   "metadata": {},
   "outputs": [
    {
     "name": "stdout",
     "output_type": "stream",
     "text": [
      "[8, 115, 211, 241, 247, 268, 321, 381, 445, 448, 495, 543, 582, 591, 603, 610, 619, 691, 717, 720, 839, 844, 846, 882, 900, 947, 951, 965, 1014, 1039, 1107, 1112, 1156, 1166, 1202, 1226, 1232, 1242, 1247, 1299, 1319, 1328, 1395, 1425, 1433, 1438, 1494, 1522, 1530, 1549, 1553, 1621, 1641, 1669, 1681, 1709, 1751, 1790, 1843, 1878, 1901, 1911, 1968, 2001, 2004, 2016, 2018, 2035, 2040, 2070, 2093, 2098, 2109, 2129, 2130, 2135, 2162, 2182, 2215, 2224, 2237, 2272, 2293, 2329, 2369, 2387, 2405, 2406, 2414, 2426, 2441, 2454, 2462, 2488, 2573, 2597, 2607, 2654, 2684, 2720, 2730, 2769, 2770, 2810, 2823, 2829, 2877, 2896, 2921, 2939, 2945, 3005, 3012, 3073, 3115, 3117, 3225, 3284, 3289, 3369, 3405, 3475, 3490, 3503, 3520, 3558, 3597, 3604, 3674, 3767, 3776, 3778, 3780, 3796, 3808, 3818, 3850, 3853, 3893, 3906, 3941, 3970, 3971, 3985, 3987, 3988, 4000, 4002, 4065, 4075, 4078, 4140, 4156, 4167, 4176, 4177, 4201, 4248, 4271, 4289, 4294, 4344, 4355, 4359, 4374, 4382, 4425, 4433, 4437, 4477, 4497, 4500, 4551, 4578, 4639, 4690, 4737, 4761, 4807, 4823, 4852, 4860, 4879, 4918, 4939, 4956, 5054, 5086, 5203, 5331, 5394, 5457, 5586, 5621, 5642, 5676, 5678, 5734, 5749, 5757, 5769, 5841, 5870, 5887, 5936, 5937, 5955, 5960, 5973, 5982, 6059, 6400, 6532, 6555, 6597, 6625, 6632, 6651, 6746, 6755, 6759, 6769, 6783, 6817, 7216, 7233, 7259, 7338, 7370, 7432, 7729, 7783, 7842, 7849, 7858, 7902, 7912, 7915, 7921, 7927, 7928, 7971, 8061, 8091, 8094, 8110, 8115, 8325, 8410, 8502, 8527, 8738, 9009, 9015, 9024, 9280, 9382, 9394, 9587, 9634, 9664, 9679, 9692, 9729, 9745, 9770, 9777, 9792, 9808, 9839, 9893] 271\n"
     ]
    }
   ],
   "source": [
    "err_lists = [i for i in range(len(compare_lists)) if compare_lists[i]==False]\n",
    "print(err_lists, len(err_lists))"
   ]
  },
  {
   "cell_type": "markdown",
   "metadata": {},
   "source": [
    "# 定义一个输出错误分类的函数"
   ]
  },
  {
   "cell_type": "code",
   "execution_count": 17,
   "metadata": {},
   "outputs": [],
   "source": [
    "def print_predict_errs(labels,      #标签列表\n",
    "                       prediction): #预测值列表\n",
    "    count = 0\n",
    "    compare_lists = (prediction==np.argmax(labels,1))\n",
    "    err_lists = [i for i in range(len(compare_lists)) if compare_lists[i]==False]\n",
    "    for x in err_lists:\n",
    "        print(\"index=\"+str(x)+ \n",
    "              \" 标签值=\",np.argmax(labels[x]),\n",
    "              \"预测值=\",prediction[x])\n",
    "        count = count + 1\n",
    "    print(\"总计:\"+str(count))"
   ]
  },
  {
   "cell_type": "code",
   "execution_count": 18,
   "metadata": {},
   "outputs": [
    {
     "name": "stdout",
     "output_type": "stream",
     "text": [
      "index=8 标签值= 5 预测值= 6\n",
      "index=115 标签值= 4 预测值= 9\n",
      "index=211 标签值= 5 预测值= 3\n",
      "index=241 标签值= 9 预测值= 3\n",
      "index=247 标签值= 4 预测值= 2\n",
      "index=268 标签值= 8 预测值= 9\n",
      "index=321 标签值= 2 预测值= 7\n",
      "index=381 标签值= 3 预测值= 7\n",
      "index=445 标签值= 6 预测值= 0\n",
      "index=448 标签值= 9 预测值= 3\n",
      "index=495 标签值= 8 预测值= 0\n",
      "index=543 标签值= 8 预测值= 4\n",
      "index=582 标签值= 8 预测值= 2\n",
      "index=591 标签值= 8 预测值= 3\n",
      "index=603 标签值= 8 预测值= 5\n",
      "index=610 标签值= 4 预测值= 2\n",
      "index=619 标签值= 1 预测值= 3\n",
      "index=691 标签值= 8 预测值= 4\n",
      "index=717 标签值= 0 预测值= 6\n",
      "index=720 标签值= 5 预测值= 8\n",
      "index=839 标签值= 8 预测值= 3\n",
      "index=844 标签值= 8 预测值= 7\n",
      "index=846 标签值= 7 预测值= 9\n",
      "index=882 标签值= 9 预测值= 7\n",
      "index=900 标签值= 1 预测值= 3\n",
      "index=947 标签值= 8 预测值= 9\n",
      "index=951 标签值= 5 预测值= 4\n",
      "index=965 标签值= 6 预测值= 0\n",
      "index=1014 标签值= 6 预测值= 5\n",
      "index=1039 标签值= 7 预测值= 1\n",
      "index=1107 标签值= 9 预测值= 8\n",
      "index=1112 标签值= 4 预测值= 6\n",
      "index=1156 标签值= 7 预测值= 8\n",
      "index=1166 标签值= 3 预测值= 5\n",
      "index=1202 标签值= 8 预测值= 6\n",
      "index=1226 标签值= 7 预测值= 2\n",
      "index=1232 标签值= 9 预测值= 6\n",
      "index=1242 标签值= 4 预测值= 9\n",
      "index=1247 标签值= 9 预测值= 3\n",
      "index=1299 标签值= 5 预测值= 7\n",
      "index=1319 标签值= 8 预测值= 3\n",
      "index=1328 标签值= 7 预测值= 9\n",
      "index=1395 标签值= 2 预测值= 3\n",
      "index=1425 标签值= 8 预测值= 4\n",
      "index=1433 标签值= 8 预测值= 1\n",
      "index=1438 标签值= 0 预测值= 6\n",
      "index=1494 标签值= 7 预测值= 0\n",
      "index=1522 标签值= 7 预测值= 9\n",
      "index=1530 标签值= 8 预测值= 7\n",
      "index=1549 标签值= 4 预测值= 2\n",
      "index=1553 标签值= 9 预测值= 5\n",
      "index=1621 标签值= 0 预测值= 6\n",
      "index=1641 标签值= 5 预测值= 6\n",
      "index=1669 标签值= 8 预测值= 9\n",
      "index=1681 标签值= 3 预测值= 7\n",
      "index=1709 标签值= 9 预测值= 3\n",
      "index=1751 标签值= 4 预测值= 2\n",
      "index=1790 标签值= 2 预测值= 4\n",
      "index=1843 标签值= 0 预测值= 2\n",
      "index=1878 标签值= 8 预测值= 3\n",
      "index=1901 标签值= 9 预测值= 4\n",
      "index=1911 标签值= 5 预测值= 6\n",
      "index=1968 标签值= 8 预测值= 9\n",
      "index=2001 标签值= 5 预测值= 9\n",
      "index=2004 标签值= 8 预测值= 3\n",
      "index=2016 标签值= 7 预测值= 2\n",
      "index=2018 标签值= 1 预测值= 6\n",
      "index=2035 标签值= 5 预测值= 3\n",
      "index=2040 标签值= 5 预测值= 6\n",
      "index=2070 标签值= 7 预测值= 9\n",
      "index=2093 标签值= 8 预测值= 1\n",
      "index=2098 标签值= 2 预测值= 0\n",
      "index=2109 标签值= 3 预测值= 7\n",
      "index=2129 标签值= 9 预测值= 8\n",
      "index=2130 标签值= 4 预测值= 9\n",
      "index=2135 标签值= 6 预测值= 1\n",
      "index=2162 标签值= 5 预测值= 3\n",
      "index=2182 标签值= 1 预测值= 2\n",
      "index=2215 标签值= 6 预测值= 5\n",
      "index=2224 标签值= 5 预测值= 6\n",
      "index=2237 标签值= 5 预测值= 6\n",
      "index=2272 标签值= 8 预测值= 0\n",
      "index=2293 标签值= 9 预测值= 6\n",
      "index=2329 标签值= 0 预测值= 2\n",
      "index=2369 标签值= 5 预测值= 8\n",
      "index=2387 标签值= 9 预测值= 1\n",
      "index=2405 标签值= 3 预测值= 2\n",
      "index=2406 标签值= 9 预测值= 4\n",
      "index=2414 标签值= 9 预测值= 4\n",
      "index=2426 标签值= 9 预测值= 4\n",
      "index=2441 标签值= 3 预测值= 7\n",
      "index=2454 标签值= 6 预测值= 8\n",
      "index=2462 标签值= 2 预测值= 0\n",
      "index=2488 标签值= 2 预测值= 6\n",
      "index=2573 标签值= 5 预测值= 8\n",
      "index=2597 标签值= 5 预测值= 3\n",
      "index=2607 标签值= 7 预测值= 2\n",
      "index=2654 标签值= 6 预测值= 1\n",
      "index=2684 标签值= 3 预测值= 7\n",
      "index=2720 标签值= 9 预测值= 4\n",
      "index=2730 标签值= 7 预测值= 4\n",
      "index=2769 标签值= 9 预测值= 4\n",
      "index=2770 标签值= 3 预测值= 7\n",
      "index=2810 标签值= 5 预测值= 3\n",
      "index=2823 标签值= 7 预测值= 6\n",
      "index=2829 标签值= 5 预测值= 9\n",
      "index=2877 标签值= 4 预测值= 7\n",
      "index=2896 标签值= 8 预测值= 6\n",
      "index=2921 标签值= 3 预测值= 2\n",
      "index=2939 标签值= 9 预测值= 7\n",
      "index=2945 标签值= 3 预测值= 7\n",
      "index=3005 标签值= 9 预测值= 1\n",
      "index=3012 标签值= 8 预测值= 9\n",
      "index=3073 标签值= 1 预测值= 2\n",
      "index=3115 标签值= 5 预测值= 9\n",
      "index=3117 标签值= 5 预测值= 9\n",
      "index=3225 标签值= 7 预测值= 9\n",
      "index=3284 标签值= 8 预测值= 7\n",
      "index=3289 标签值= 8 预测值= 9\n",
      "index=3369 标签值= 9 预测值= 7\n",
      "index=3405 标签值= 4 预测值= 9\n",
      "index=3475 标签值= 3 预测值= 7\n",
      "index=3490 标签值= 4 预测值= 9\n",
      "index=3503 标签值= 9 预测值= 1\n",
      "index=3520 标签值= 6 预测值= 4\n",
      "index=3558 标签值= 5 预测值= 0\n",
      "index=3597 标签值= 9 预测值= 3\n",
      "index=3604 标签值= 7 预测值= 2\n",
      "index=3674 标签值= 8 预测值= 7\n",
      "index=3767 标签值= 7 预测值= 2\n",
      "index=3776 标签值= 5 预测值= 8\n",
      "index=3778 标签值= 5 预测值= 8\n",
      "index=3780 标签值= 4 预测值= 6\n",
      "index=3796 标签值= 2 预测值= 7\n",
      "index=3808 标签值= 7 预测值= 2\n",
      "index=3818 标签值= 0 预测值= 6\n",
      "index=3850 标签值= 9 预测值= 4\n",
      "index=3853 标签值= 6 预测值= 5\n",
      "index=3893 标签值= 5 预测值= 6\n",
      "index=3906 标签值= 1 预测值= 3\n",
      "index=3941 标签值= 4 预测值= 2\n",
      "index=3970 标签值= 9 预测值= 4\n",
      "index=3971 标签值= 4 预测值= 6\n",
      "index=3985 标签值= 9 预测值= 4\n",
      "index=3987 标签值= 8 预测值= 0\n",
      "index=3988 标签值= 8 预测值= 9\n",
      "index=4000 标签值= 9 预测值= 4\n",
      "index=4002 标签值= 3 预测值= 5\n",
      "index=4065 标签值= 0 预测值= 2\n",
      "index=4075 标签值= 8 预测值= 3\n",
      "index=4078 标签值= 9 预测值= 8\n",
      "index=4140 标签值= 8 预测值= 2\n",
      "index=4156 标签值= 2 预测值= 3\n",
      "index=4167 标签值= 2 预测值= 3\n",
      "index=4176 标签值= 2 预测值= 6\n",
      "index=4177 标签值= 5 预测值= 6\n",
      "index=4201 标签值= 1 预测值= 7\n",
      "index=4248 标签值= 2 预测值= 8\n",
      "index=4271 标签值= 5 预测值= 3\n",
      "index=4289 标签值= 2 预测值= 7\n",
      "index=4294 标签值= 9 预测值= 7\n",
      "index=4344 标签值= 9 预测值= 3\n",
      "index=4355 标签值= 5 预测值= 3\n",
      "index=4359 标签值= 5 预测值= 3\n",
      "index=4374 标签值= 5 预测值= 6\n",
      "index=4382 标签值= 4 预测值= 9\n",
      "index=4425 标签值= 9 预测值= 4\n",
      "index=4433 标签值= 7 预测值= 2\n",
      "index=4437 标签值= 3 预测值= 2\n",
      "index=4477 标签值= 0 预测值= 6\n",
      "index=4497 标签值= 8 预测值= 7\n",
      "index=4500 标签值= 9 预测值= 1\n",
      "index=4551 标签值= 7 预测值= 4\n",
      "index=4578 标签值= 7 预测值= 9\n",
      "index=4639 标签值= 8 预测值= 9\n",
      "index=4690 标签值= 7 预测值= 2\n",
      "index=4737 标签值= 8 预测值= 6\n",
      "index=4761 标签值= 9 预测值= 4\n",
      "index=4807 标签值= 8 预测值= 3\n",
      "index=4823 标签值= 9 预测值= 4\n",
      "index=4852 标签值= 8 预测值= 6\n",
      "index=4860 标签值= 4 预测值= 9\n",
      "index=4879 标签值= 8 预测值= 6\n",
      "index=4918 标签值= 9 预测值= 4\n",
      "index=4939 标签值= 2 预测值= 7\n",
      "index=4956 标签值= 8 预测值= 4\n",
      "index=5054 标签值= 3 预测值= 5\n",
      "index=5086 标签值= 2 预测值= 4\n",
      "index=5203 标签值= 1 预测值= 7\n",
      "index=5331 标签值= 1 预测值= 6\n",
      "index=5394 标签值= 8 预测值= 4\n",
      "index=5457 标签值= 1 预测值= 8\n",
      "index=5586 标签值= 8 预测值= 0\n",
      "index=5621 标签值= 8 预测值= 4\n",
      "index=5642 标签值= 1 预测值= 5\n",
      "index=5676 标签值= 4 预测值= 2\n",
      "index=5678 标签值= 8 预测值= 5\n",
      "index=5734 标签值= 3 预测值= 7\n",
      "index=5749 标签值= 8 预测值= 6\n",
      "index=5757 标签值= 9 预测值= 7\n",
      "index=5769 标签值= 5 预测值= 6\n",
      "index=5841 标签值= 3 预测值= 5\n",
      "index=5870 标签值= 0 预测值= 9\n",
      "index=5887 标签值= 7 预测值= 9\n",
      "index=5936 标签值= 4 预测值= 9\n",
      "index=5937 标签值= 5 预测值= 3\n",
      "index=5955 标签值= 3 预测值= 8\n",
      "index=5960 标签值= 8 预测值= 3\n",
      "index=5973 标签值= 3 预测值= 8\n",
      "index=5982 标签值= 5 预测值= 3\n",
      "index=6059 标签值= 3 预测值= 9\n",
      "index=6400 标签值= 0 预测值= 2\n",
      "index=6532 标签值= 0 预测值= 5\n",
      "index=6555 标签值= 8 预测值= 9\n",
      "index=6597 标签值= 0 预测值= 9\n",
      "index=6625 标签值= 8 预测值= 7\n",
      "index=6632 标签值= 9 预测值= 5\n",
      "index=6651 标签值= 0 预测值= 1\n",
      "index=6746 标签值= 5 预测值= 2\n",
      "index=6755 标签值= 8 预测值= 9\n",
      "index=6759 标签值= 4 预测值= 6\n",
      "index=6769 标签值= 4 预测值= 8\n",
      "index=6783 标签值= 1 预测值= 6\n",
      "index=6817 标签值= 9 预测值= 4\n",
      "index=7216 标签值= 0 预测值= 6\n",
      "index=7233 标签值= 3 预测值= 7\n",
      "index=7259 标签值= 8 预测值= 3\n",
      "index=7338 标签值= 4 预测值= 2\n",
      "index=7370 标签值= 8 预测值= 3\n",
      "index=7432 标签值= 7 预测值= 3\n",
      "index=7729 标签值= 2 预测值= 8\n",
      "index=7783 标签值= 1 预测值= 9\n",
      "index=7842 标签值= 5 预测值= 8\n",
      "index=7849 标签值= 3 预测值= 2\n",
      "index=7858 标签值= 3 预测值= 2\n",
      "index=7902 标签值= 7 预测值= 9\n",
      "index=7912 标签值= 7 预测值= 9\n",
      "index=7915 标签值= 7 预测值= 9\n",
      "index=7921 标签值= 8 预测值= 6\n",
      "index=7927 标签值= 7 预测值= 9\n",
      "index=7928 标签值= 1 预测值= 4\n",
      "index=7971 标签值= 8 预测值= 9\n",
      "index=8061 标签值= 4 预测值= 9\n",
      "index=8091 标签值= 2 预测值= 3\n",
      "index=8094 标签值= 2 预测值= 8\n",
      "index=8110 标签值= 7 预测值= 9\n",
      "index=8115 标签值= 3 预测值= 8\n",
      "index=8325 标签值= 0 预测值= 6\n",
      "index=8410 标签值= 8 预测值= 6\n",
      "index=8502 标签值= 5 预测值= 3\n",
      "index=8527 标签值= 4 预测值= 9\n",
      "index=8738 标签值= 0 预测值= 6\n",
      "index=9009 标签值= 7 预测值= 2\n",
      "index=9015 标签值= 7 预测值= 2\n",
      "index=9024 标签值= 7 预测值= 2\n",
      "index=9280 标签值= 8 预测值= 5\n",
      "index=9382 标签值= 5 预测值= 8\n",
      "index=9394 标签值= 8 预测值= 5\n",
      "index=9587 标签值= 9 预测值= 4\n",
      "index=9634 标签值= 0 预测值= 6\n",
      "index=9664 标签值= 2 预测值= 7\n",
      "index=9679 标签值= 6 预测值= 3\n",
      "index=9692 标签值= 9 预测值= 4\n",
      "index=9729 标签值= 5 预测值= 6\n",
      "index=9745 标签值= 4 预测值= 2\n",
      "index=9770 标签值= 5 预测值= 0\n",
      "index=9777 标签值= 5 预测值= 0\n",
      "index=9792 标签值= 4 预测值= 9\n",
      "index=9808 标签值= 9 预测值= 4\n",
      "index=9839 标签值= 2 预测值= 7\n",
      "index=9893 标签值= 2 预测值= 3\n",
      "总计:271\n"
     ]
    }
   ],
   "source": [
    "print_predict_errs(labels=mnist.test.labels,\n",
    "                   prediction=prediction_result)"
   ]
  }
 ],
 "metadata": {
  "kernelspec": {
   "display_name": "Python 3",
   "language": "python",
   "name": "python3"
  },
  "language_info": {
   "codemirror_mode": {
    "name": "ipython",
    "version": 3
   },
   "file_extension": ".py",
   "mimetype": "text/x-python",
   "name": "python",
   "nbconvert_exporter": "python",
   "pygments_lexer": "ipython3",
   "version": "3.7.3"
  }
 },
 "nbformat": 4,
 "nbformat_minor": 2
}
