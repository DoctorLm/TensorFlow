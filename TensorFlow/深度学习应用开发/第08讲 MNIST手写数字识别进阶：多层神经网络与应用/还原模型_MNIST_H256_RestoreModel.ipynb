{
 "cells": [
  {
   "cell_type": "markdown",
   "metadata": {},
   "source": [
    "# 还原模型(基于单隐层神经网络的手写数字识别)"
   ]
  },
  {
   "cell_type": "markdown",
   "metadata": {},
   "source": [
    "# 载入数据"
   ]
  },
  {
   "cell_type": "code",
   "execution_count": 1,
   "metadata": {},
   "outputs": [
    {
     "name": "stdout",
     "output_type": "stream",
     "text": [
      "WARNING:tensorflow:From <ipython-input-1-22723726092d>:7: read_data_sets (from tensorflow.contrib.learn.python.learn.datasets.mnist) is deprecated and will be removed in a future version.\n",
      "Instructions for updating:\n",
      "Please use alternatives such as official/mnist/dataset.py from tensorflow/models.\n",
      "WARNING:tensorflow:From /Users/lumin/Library/Python/3.7/lib/python/site-packages/tensorflow/contrib/learn/python/learn/datasets/mnist.py:260: maybe_download (from tensorflow.contrib.learn.python.learn.datasets.base) is deprecated and will be removed in a future version.\n",
      "Instructions for updating:\n",
      "Please write your own downloading logic.\n",
      "WARNING:tensorflow:From /Users/lumin/Library/Python/3.7/lib/python/site-packages/tensorflow/contrib/learn/python/learn/datasets/mnist.py:262: extract_images (from tensorflow.contrib.learn.python.learn.datasets.mnist) is deprecated and will be removed in a future version.\n",
      "Instructions for updating:\n",
      "Please use tf.data to implement this functionality.\n",
      "Extracting MNIST_data/train-images-idx3-ubyte.gz\n",
      "WARNING:tensorflow:From /Users/lumin/Library/Python/3.7/lib/python/site-packages/tensorflow/contrib/learn/python/learn/datasets/mnist.py:267: extract_labels (from tensorflow.contrib.learn.python.learn.datasets.mnist) is deprecated and will be removed in a future version.\n",
      "Instructions for updating:\n",
      "Please use tf.data to implement this functionality.\n",
      "Extracting MNIST_data/train-labels-idx1-ubyte.gz\n",
      "WARNING:tensorflow:From /Users/lumin/Library/Python/3.7/lib/python/site-packages/tensorflow/contrib/learn/python/learn/datasets/mnist.py:110: dense_to_one_hot (from tensorflow.contrib.learn.python.learn.datasets.mnist) is deprecated and will be removed in a future version.\n",
      "Instructions for updating:\n",
      "Please use tf.one_hot on tensors.\n",
      "Extracting MNIST_data/t10k-images-idx3-ubyte.gz\n",
      "Extracting MNIST_data/t10k-labels-idx1-ubyte.gz\n",
      "WARNING:tensorflow:From /Users/lumin/Library/Python/3.7/lib/python/site-packages/tensorflow/contrib/learn/python/learn/datasets/mnist.py:290: DataSet.__init__ (from tensorflow.contrib.learn.python.learn.datasets.mnist) is deprecated and will be removed in a future version.\n",
      "Instructions for updating:\n",
      "Please use alternatives such as official/mnist/dataset.py from tensorflow/models.\n"
     ]
    }
   ],
   "source": [
    "import tensorflow as tf\n",
    "\n",
    "#导入Tensorflow提供的读取MNIST的模块\n",
    "import tensorflow.examples.tutorials.mnist.input_data as input_data\n",
    "\n",
    "#读取MNIST数据\n",
    "mnist = input_data.read_data_sets(\"MNIST_data\", one_hot=True)"
   ]
  },
  {
   "cell_type": "code",
   "execution_count": 2,
   "metadata": {},
   "outputs": [],
   "source": [
    "#定义全连接层函数\n",
    "def fcn_layer(inputs,\n",
    "              input_dim,\n",
    "              output_dim,\n",
    "              activation=None):\n",
    "    \n",
    "    W = tf.Variable(tf.truncated_normal([input_dim, output_dim], stddev=0.1)) #以截断正态分布的随机数初始化W\n",
    "    \n",
    "    b = tf.Variable(tf.zeros([output_dim])) #以0初始化b\n",
    "    \n",
    "    XWb = tf.matmul(inputs, W) + b #建立表达式: inputs * W + b\n",
    "    \n",
    "    if activation is None: #默认有使用激活函数\n",
    "        outputs = XWb\n",
    "    else: \n",
    "        outputs = activation(XWb) # 若传入激活函数，则用其对输出结果进行变换\n",
    "    \n",
    "    return outputs"
   ]
  },
  {
   "cell_type": "markdown",
   "metadata": {},
   "source": [
    "# 构建输入层"
   ]
  },
  {
   "cell_type": "code",
   "execution_count": 3,
   "metadata": {},
   "outputs": [],
   "source": [
    "x = tf.placeholder(tf.float32, [None, 784], name=\"X\")"
   ]
  },
  {
   "cell_type": "markdown",
   "metadata": {},
   "source": [
    "# 构建模型"
   ]
  },
  {
   "cell_type": "code",
   "execution_count": 4,
   "metadata": {},
   "outputs": [],
   "source": [
    "H1_NN = 256 # 隐藏层神经元数量256"
   ]
  },
  {
   "cell_type": "markdown",
   "metadata": {},
   "source": [
    "# 构建隐藏层"
   ]
  },
  {
   "cell_type": "code",
   "execution_count": 5,
   "metadata": {},
   "outputs": [],
   "source": [
    "h1 = fcn_layer(inputs=x,\n",
    "               input_dim=784,\n",
    "               output_dim=H1_NN,\n",
    "               activation=tf.nn.relu)"
   ]
  },
  {
   "cell_type": "markdown",
   "metadata": {},
   "source": [
    "# 构建输出层 "
   ]
  },
  {
   "cell_type": "code",
   "execution_count": 6,
   "metadata": {},
   "outputs": [],
   "source": [
    "forward = fcn_layer(inputs=h1,\n",
    "                    input_dim=H1_NN,\n",
    "                    output_dim=10,\n",
    "                    activation=None)\n",
    "pred = tf.nn.softmax(forward)"
   ]
  },
  {
   "cell_type": "markdown",
   "metadata": {},
   "source": [
    "# 训练模型"
   ]
  },
  {
   "cell_type": "code",
   "execution_count": 7,
   "metadata": {},
   "outputs": [],
   "source": [
    "#定义标签数据占位符\n",
    "y = tf.placeholder(tf.float32, [None, 10], name=\"Y\")"
   ]
  },
  {
   "cell_type": "markdown",
   "metadata": {},
   "source": [
    "# 定义损失函数"
   ]
  },
  {
   "cell_type": "code",
   "execution_count": 8,
   "metadata": {},
   "outputs": [],
   "source": [
    "#交叉熵\n",
    "loss_function = tf.reduce_mean(tf.nn.softmax_cross_entropy_with_logits_v2(logits=forward\n",
    "                                                                       , labels=y))"
   ]
  },
  {
   "cell_type": "markdown",
   "metadata": {},
   "source": [
    "# 设置训练参数"
   ]
  },
  {
   "cell_type": "code",
   "execution_count": 9,
   "metadata": {},
   "outputs": [],
   "source": [
    "# train_epochs = 40\n",
    "# batch_size = 50\n",
    "# total_batch = int(mnist.train.num_examples/batch_size)\n",
    "# display_step = 1\n",
    "learning_rate = 0.01"
   ]
  },
  {
   "cell_type": "markdown",
   "metadata": {},
   "source": [
    "# 选择优化器"
   ]
  },
  {
   "cell_type": "code",
   "execution_count": 10,
   "metadata": {},
   "outputs": [],
   "source": [
    "optimizer = tf.train.AdamOptimizer(learning_rate).minimize(loss_function)"
   ]
  },
  {
   "cell_type": "markdown",
   "metadata": {},
   "source": [
    "# 定义准确率"
   ]
  },
  {
   "cell_type": "code",
   "execution_count": 11,
   "metadata": {},
   "outputs": [],
   "source": [
    "correct_prediction = tf.equal(tf.argmax(y, 1),tf.argmax(pred, 1))\n",
    "accuracy = tf.reduce_mean(tf.cast(correct_prediction, tf.float32))"
   ]
  },
  {
   "cell_type": "markdown",
   "metadata": {},
   "source": [
    "# 还原模型"
   ]
  },
  {
   "cell_type": "markdown",
   "metadata": {},
   "source": [
    "# 设置目录"
   ]
  },
  {
   "cell_type": "code",
   "execution_count": 12,
   "metadata": {},
   "outputs": [],
   "source": [
    "# 必须指定为模型文件的存放目录\n",
    "ckpt_dir = \"./ckpt_dir/\""
   ]
  },
  {
   "cell_type": "markdown",
   "metadata": {},
   "source": [
    "# 读取模型"
   ]
  },
  {
   "cell_type": "code",
   "execution_count": 13,
   "metadata": {},
   "outputs": [
    {
     "name": "stdout",
     "output_type": "stream",
     "text": [
      "WARNING:tensorflow:From /Users/lumin/Library/Python/3.7/lib/python/site-packages/tensorflow/python/training/saver.py:1276: checkpoint_exists (from tensorflow.python.training.checkpoint_management) is deprecated and will be removed in a future version.\n",
      "Instructions for updating:\n",
      "Use standard file APIs to check for files with this prefix.\n",
      "INFO:tensorflow:Restoring parameters from ./ckpt_dir/mnist_h256_model.ckpt\n",
      "restore model from ./ckpt_dir/mnist_h256_model.ckpt\n"
     ]
    }
   ],
   "source": [
    "saver = tf.train.Saver()\n",
    "\n",
    "sess = tf.Session()\n",
    "init = tf.global_variables_initializer()\n",
    "sess.run(init)\n",
    "\n",
    "ckpt = tf.train.get_checkpoint_state(ckpt_dir)\n",
    "\n",
    "if ckpt and ckpt.model_checkpoint_path:\n",
    "    saver.restore(sess, ckpt.model_checkpoint_path) #从已保存的模型中读取参数\n",
    "    print(\"restore model from \" + ckpt.model_checkpoint_path)"
   ]
  },
  {
   "cell_type": "markdown",
   "metadata": {},
   "source": [
    "# 输出模型准确率"
   ]
  },
  {
   "cell_type": "code",
   "execution_count": 14,
   "metadata": {},
   "outputs": [
    {
     "name": "stdout",
     "output_type": "stream",
     "text": [
      "Accuracy: 0.9711\n"
     ]
    }
   ],
   "source": [
    "print(\"Accuracy:\", accuracy.eval(session=sess,\n",
    "                                 feed_dict={x: mnist.test.images, y: mnist.test.labels}))"
   ]
  },
  {
   "cell_type": "markdown",
   "metadata": {},
   "source": [
    "# 评估模型"
   ]
  },
  {
   "cell_type": "code",
   "execution_count": 15,
   "metadata": {},
   "outputs": [
    {
     "name": "stdout",
     "output_type": "stream",
     "text": [
      "Test Accuracy: 0.9711\n"
     ]
    }
   ],
   "source": [
    "accu_test = sess.run(accuracy, feed_dict={x: mnist.test.images, y: mnist.test.labels})\n",
    "print(\"Test Accuracy:\", accu_test)"
   ]
  },
  {
   "cell_type": "markdown",
   "metadata": {},
   "source": [
    "# 进行预测"
   ]
  },
  {
   "cell_type": "code",
   "execution_count": 16,
   "metadata": {},
   "outputs": [],
   "source": [
    "#由于pred预测结果是one-hot编码格式，所以需要转换为0~9数字。\n",
    "prediction_result=sess.run(tf.argmax(pred,1), feed_dict={x: mnist.test.images})"
   ]
  },
  {
   "cell_type": "code",
   "execution_count": 17,
   "metadata": {},
   "outputs": [
    {
     "data": {
      "text/plain": [
       "array([7, 2, 1, 0, 4, 1, 4, 9, 5, 9])"
      ]
     },
     "execution_count": 17,
     "metadata": {},
     "output_type": "execute_result"
    }
   ],
   "source": [
    "#查看预测结果中的前10项\n",
    "prediction_result[0:10]"
   ]
  },
  {
   "cell_type": "markdown",
   "metadata": {},
   "source": [
    "# 定义可视化函数"
   ]
  },
  {
   "cell_type": "code",
   "execution_count": 18,
   "metadata": {},
   "outputs": [],
   "source": [
    "import matplotlib.pyplot as plt\n",
    "import numpy as np\n",
    "def plot_images_labels_prediction(images,     #图像列表\n",
    "                                  labels,     #标签列表\n",
    "                                  prediction, #预测值列表\n",
    "                                  index,      #从第index个开始显示\n",
    "                                  num=10):    #缺省一次显示10幅\n",
    "    fig = plt.gcf() #获取当前图表,Get Current Figure\n",
    "    fig.set_size_inches(10,12) #1英寸等于2.54cm\n",
    "    if num > 25:\n",
    "        num = 25                #最多显示25个子图\n",
    "    for i in range(0, num):\n",
    "        ax = plt.subplot(5,5, i+1) #获取当前要处理的子图\n",
    "        ax.imshow(np.reshape(images[index],(28, 28)),cmap='binary')\n",
    "        title = \"label=\" + str(np.argmax(labels[index])) #构建该图上要显示的title\n",
    "        if len(prediction)>0:\n",
    "            title += \",predict=\" + str(prediction[index])\n",
    "        ax.set_title(title,fontsize=10) #显示图上的title信息\n",
    "        ax.set_xticks([]); #不显示坐标轴\n",
    "        ax.set_yticks([])\n",
    "        index += 1\n",
    "    plt.show()"
   ]
  },
  {
   "cell_type": "code",
   "execution_count": 19,
   "metadata": {},
   "outputs": [
    {
     "data": {
      "image/png": "[encoded data removed]",
      "text/plain": [
       "<Figure size 720x864 with 25 Axes>"
      ]
     },
     "metadata": {},
     "output_type": "display_data"
    }
   ],
   "source": [
    "plot_images_labels_prediction(mnist.test.images,\n",
    "                              mnist.test.labels,\n",
    "                              prediction_result,0,25)"
   ]
  },
  {
   "cell_type": "markdown",
   "metadata": {},
   "source": [
    "# 找出预测错误"
   ]
  },
  {
   "cell_type": "code",
   "execution_count": 20,
   "metadata": {},
   "outputs": [
    {
     "name": "stdout",
     "output_type": "stream",
     "text": [
      "[ True  True  True ...  True  True  True]\n"
     ]
    }
   ],
   "source": [
    "import numpy as np\n",
    "compare_lists = prediction_result==np.argmax(mnist.test.labels,1) \n",
    "print(compare_lists)"
   ]
  },
  {
   "cell_type": "code",
   "execution_count": 21,
   "metadata": {},
   "outputs": [
    {
     "name": "stdout",
     "output_type": "stream",
     "text": [
      "[61, 92, 125, 149, 247, 259, 320, 321, 339, 340, 445, 447, 448, 495, 552, 582, 619, 646, 659, 674, 684, 691, 692, 699, 707, 720, 844, 846, 877, 882, 938, 951, 956, 965, 1014, 1032, 1039, 1101, 1107, 1112, 1156, 1166, 1226, 1232, 1239, 1242, 1247, 1270, 1272, 1289, 1292, 1310, 1319, 1325, 1328, 1337, 1415, 1425, 1433, 1444, 1494, 1522, 1530, 1549, 1553, 1554, 1559, 1569, 1609, 1621, 1669, 1681, 1709, 1717, 1754, 1790, 1822, 1823, 1828, 1838, 1850, 1865, 1878, 1901, 1941, 1952, 1955, 1982, 2004, 2016, 2024, 2044, 2070, 2098, 2105, 2130, 2135, 2182, 2224, 2237, 2272, 2293, 2308, 2369, 2387, 2406, 2447, 2454, 2459, 2462, 2488, 2589, 2597, 2607, 2654, 2756, 2770, 2771, 2860, 2877, 2896, 2921, 2927, 2938, 2939, 2953, 3005, 3023, 3030, 3110, 3225, 3289, 3369, 3384, 3422, 3475, 3503, 3511, 3520, 3533, 3558, 3559, 3567, 3597, 3662, 3681, 3702, 3727, 3767, 3776, 3808, 3811, 3817, 3838, 3853, 3876, 3906, 3941, 3985, 4007, 4044, 4065, 4078, 4116, 4140, 4154, 4176, 4201, 4205, 4224, 4259, 4289, 4294, 4359, 4360, 4382, 4437, 4477, 4497, 4498, 4504, 4505, 4536, 4571, 4601, 4690, 4761, 4807, 4823, 4860, 4879, 4882, 4952, 4956, 4990, 5067, 5078, 5457, 5623, 5642, 5649, 5654, 5674, 5676, 5678, 5687, 5734, 5735, 5745, 5749, 5757, 5821, 5841, 5918, 5926, 5936, 5955, 5973, 6011, 6056, 6059, 6061, 6071, 6091, 6166, 6168, 6347, 6391, 6505, 6511, 6555, 6572, 6574, 6597, 6603, 6625, 6632, 6646, 6651, 6755, 6769, 6783, 6847, 7054, 7081, 7233, 7434, 7492, 7812, 7841, 7849, 8091, 8094, 8171, 8196, 8294, 8354, 8408, 8522, 8523, 8527, 8561, 8584, 8952, 9009, 9015, 9019, 9024, 9280, 9316, 9422, 9530, 9587, 9634, 9664, 9669, 9679, 9716, 9729, 9745, 9768, 9770, 9779, 9782, 9792, 9793, 9839, 9892, 9904] 289\n"
     ]
    }
   ],
   "source": [
    "err_lists = [i for i in range(len(compare_lists)) if compare_lists[i]==False]\n",
    "print(err_lists, len(err_lists))"
   ]
  },
  {
   "cell_type": "markdown",
   "metadata": {},
   "source": [
    "# 定义一个输出错误分类的函数"
   ]
  },
  {
   "cell_type": "code",
   "execution_count": 22,
   "metadata": {},
   "outputs": [],
   "source": [
    "def print_predict_errs(labels,      #标签列表\n",
    "                       prediction): #预测值列表\n",
    "    count = 0\n",
    "    compare_lists = (prediction==np.argmax(labels,1))\n",
    "    err_lists = [i for i in range(len(compare_lists)) if compare_lists[i]==False]\n",
    "    for x in err_lists:\n",
    "        print(\"index=\"+str(x)+ \n",
    "              \" 标签值=\",np.argmax(labels[x]),\n",
    "              \"预测值=\",prediction[x])\n",
    "        count = count + 1\n",
    "    print(\"总计:\"+str(count))"
   ]
  },
  {
   "cell_type": "code",
   "execution_count": 23,
   "metadata": {},
   "outputs": [
    {
     "name": "stdout",
     "output_type": "stream",
     "text": [
      "index=61 标签值= 8 预测值= 2\n",
      "index=92 标签值= 9 预测值= 4\n",
      "index=125 标签值= 9 预测值= 4\n",
      "index=149 标签值= 2 预测值= 9\n",
      "index=247 标签值= 4 预测值= 2\n",
      "index=259 标签值= 6 预测值= 0\n",
      "index=320 标签值= 9 预测值= 8\n",
      "index=321 标签值= 2 预测值= 7\n",
      "index=339 标签值= 6 预测值= 5\n",
      "index=340 标签值= 5 预测值= 3\n",
      "index=445 标签值= 6 预测值= 0\n",
      "index=447 标签值= 4 预测值= 9\n",
      "index=448 标签值= 9 预测值= 3\n",
      "index=495 标签值= 8 预测值= 0\n",
      "index=552 标签值= 0 预测值= 8\n",
      "index=582 标签值= 8 预测值= 2\n",
      "index=619 标签值= 1 预测值= 8\n",
      "index=646 标签值= 2 预测值= 6\n",
      "index=659 标签值= 2 预测值= 8\n",
      "index=674 标签值= 5 预测值= 3\n",
      "index=684 标签值= 7 预测值= 3\n",
      "index=691 标签值= 8 预测值= 4\n",
      "index=692 标签值= 5 预测值= 3\n",
      "index=699 标签值= 3 预测值= 5\n",
      "index=707 标签值= 4 预测值= 1\n",
      "index=720 标签值= 5 预测值= 8\n",
      "index=844 标签值= 8 预测值= 7\n",
      "index=846 标签值= 7 预测值= 9\n",
      "index=877 标签值= 8 预测值= 5\n",
      "index=882 标签值= 9 预测值= 4\n",
      "index=938 标签值= 3 预测值= 5\n",
      "index=951 标签值= 5 预测值= 7\n",
      "index=956 标签值= 1 预测值= 6\n",
      "index=965 标签值= 6 预测值= 0\n",
      "index=1014 标签值= 6 预测值= 5\n",
      "index=1032 标签值= 5 预测值= 6\n",
      "index=1039 标签值= 7 预测值= 2\n",
      "index=1101 标签值= 8 预测值= 2\n",
      "index=1107 标签值= 9 预测值= 3\n",
      "index=1112 标签值= 4 预测值= 6\n",
      "index=1156 标签值= 7 预测值= 8\n",
      "index=1166 标签值= 3 预测值= 9\n",
      "index=1226 标签值= 7 预测值= 2\n",
      "index=1232 标签值= 9 预测值= 3\n",
      "index=1239 标签值= 3 预测值= 5\n",
      "index=1242 标签值= 4 预测值= 9\n",
      "index=1247 标签值= 9 预测值= 5\n",
      "index=1270 标签值= 4 预测值= 9\n",
      "index=1272 标签值= 5 预测值= 3\n",
      "index=1289 标签值= 5 预测值= 9\n",
      "index=1292 标签值= 6 预测值= 5\n",
      "index=1310 标签值= 3 预测值= 9\n",
      "index=1319 标签值= 8 预测值= 0\n",
      "index=1325 标签值= 8 预测值= 2\n",
      "index=1328 标签值= 7 预测值= 9\n",
      "index=1337 标签值= 2 预测值= 6\n",
      "index=1415 标签值= 8 预测值= 6\n",
      "index=1425 标签值= 8 预测值= 4\n",
      "index=1433 标签值= 8 预测值= 1\n",
      "index=1444 标签值= 6 预测值= 4\n",
      "index=1494 标签值= 7 预测值= 0\n",
      "index=1522 标签值= 7 预测值= 9\n",
      "index=1530 标签值= 8 预测值= 7\n",
      "index=1549 标签值= 4 预测值= 6\n",
      "index=1553 标签值= 9 预测值= 3\n",
      "index=1554 标签值= 9 预测值= 7\n",
      "index=1559 标签值= 9 预测值= 3\n",
      "index=1569 标签值= 6 预测值= 4\n",
      "index=1609 标签值= 2 预测值= 6\n",
      "index=1621 标签值= 0 预测值= 6\n",
      "index=1669 标签值= 8 预测值= 3\n",
      "index=1681 标签值= 3 预测值= 7\n",
      "index=1709 标签值= 9 预测值= 5\n",
      "index=1717 标签值= 8 预测值= 0\n",
      "index=1754 标签值= 7 预测值= 3\n",
      "index=1790 标签值= 2 预测值= 8\n",
      "index=1822 标签值= 6 预测值= 4\n",
      "index=1823 标签值= 8 预测值= 2\n",
      "index=1828 标签值= 3 预测值= 2\n",
      "index=1838 标签值= 1 预测值= 2\n",
      "index=1850 标签值= 8 预测值= 7\n",
      "index=1865 标签值= 4 预测值= 9\n",
      "index=1878 标签值= 8 预测值= 3\n",
      "index=1901 标签值= 9 预测值= 4\n",
      "index=1941 标签值= 7 预测值= 9\n",
      "index=1952 标签值= 9 预测值= 3\n",
      "index=1955 标签值= 8 预测值= 2\n",
      "index=1982 标签值= 6 预测值= 5\n",
      "index=2004 标签值= 8 预测值= 3\n",
      "index=2016 标签值= 7 预测值= 2\n",
      "index=2024 标签值= 7 预测值= 9\n",
      "index=2044 标签值= 2 预测值= 7\n",
      "index=2070 标签值= 7 预测值= 9\n",
      "index=2098 标签值= 2 预测值= 0\n",
      "index=2105 标签值= 3 预测值= 9\n",
      "index=2130 标签值= 4 预测值= 9\n",
      "index=2135 标签值= 6 预测值= 1\n",
      "index=2182 标签值= 1 预测值= 2\n",
      "index=2224 标签值= 5 预测值= 6\n",
      "index=2237 标签值= 5 预测值= 6\n",
      "index=2272 标签值= 8 预测值= 0\n",
      "index=2293 标签值= 9 预测值= 6\n",
      "index=2308 标签值= 3 预测值= 9\n",
      "index=2369 标签值= 5 预测值= 7\n",
      "index=2387 标签值= 9 预测值= 1\n",
      "index=2406 标签值= 9 预测值= 8\n",
      "index=2447 标签值= 4 预测值= 9\n",
      "index=2454 标签值= 6 预测值= 5\n",
      "index=2459 标签值= 2 预测值= 7\n",
      "index=2462 标签值= 2 预测值= 0\n",
      "index=2488 标签值= 2 预测值= 4\n",
      "index=2589 标签值= 9 预测值= 0\n",
      "index=2597 标签值= 5 预测值= 3\n",
      "index=2607 标签值= 7 预测值= 2\n",
      "index=2654 标签值= 6 预测值= 1\n",
      "index=2756 标签值= 3 预测值= 5\n",
      "index=2770 标签值= 3 预测值= 7\n",
      "index=2771 标签值= 4 预测值= 9\n",
      "index=2860 标签值= 6 预测值= 5\n",
      "index=2877 标签值= 4 预测值= 7\n",
      "index=2896 标签值= 8 预测值= 0\n",
      "index=2921 标签值= 3 预测值= 0\n",
      "index=2927 标签值= 3 预测值= 2\n",
      "index=2938 标签值= 4 预测值= 9\n",
      "index=2939 标签值= 9 预测值= 7\n",
      "index=2953 标签值= 3 预测值= 5\n",
      "index=3005 标签值= 9 预测值= 1\n",
      "index=3023 标签值= 8 预测值= 5\n",
      "index=3030 标签值= 6 预测值= 8\n",
      "index=3110 标签值= 3 预测值= 5\n",
      "index=3225 标签值= 7 预测值= 9\n",
      "index=3289 标签值= 8 预测值= 9\n",
      "index=3369 标签值= 9 预测值= 7\n",
      "index=3384 标签值= 2 预测值= 6\n",
      "index=3422 标签值= 6 预测值= 0\n",
      "index=3475 标签值= 3 预测值= 7\n",
      "index=3503 标签值= 9 预测值= 1\n",
      "index=3511 标签值= 2 预测值= 7\n",
      "index=3520 标签值= 6 预测值= 4\n",
      "index=3533 标签值= 4 预测值= 9\n",
      "index=3558 标签值= 5 预测值= 0\n",
      "index=3559 标签值= 8 预测值= 0\n",
      "index=3567 标签值= 8 预测值= 5\n",
      "index=3597 标签值= 9 预测值= 3\n",
      "index=3662 标签值= 8 预测值= 0\n",
      "index=3681 标签值= 2 预测值= 8\n",
      "index=3702 标签值= 5 预测值= 3\n",
      "index=3727 标签值= 8 预测值= 4\n",
      "index=3767 标签值= 7 预测值= 2\n",
      "index=3776 标签值= 5 预测值= 8\n",
      "index=3808 标签值= 7 预测值= 8\n",
      "index=3811 标签值= 2 预测值= 0\n",
      "index=3817 标签值= 2 预测值= 4\n",
      "index=3838 标签值= 7 预测值= 4\n",
      "index=3853 标签值= 6 预测值= 5\n",
      "index=3876 标签值= 2 预测值= 3\n",
      "index=3906 标签值= 1 预测值= 2\n",
      "index=3941 标签值= 4 预测值= 6\n",
      "index=3985 标签值= 9 预测值= 4\n",
      "index=4007 标签值= 7 预测值= 8\n",
      "index=4044 标签值= 3 预测值= 5\n",
      "index=4065 标签值= 0 预测值= 2\n",
      "index=4078 标签值= 9 预测值= 3\n",
      "index=4116 标签值= 8 预测值= 5\n",
      "index=4140 标签值= 8 预测值= 2\n",
      "index=4154 标签值= 9 预测值= 0\n",
      "index=4176 标签值= 2 预测值= 7\n",
      "index=4201 标签值= 1 预测值= 2\n",
      "index=4205 标签值= 2 预测值= 6\n",
      "index=4224 标签值= 9 预测值= 7\n",
      "index=4259 标签值= 9 预测值= 4\n",
      "index=4289 标签值= 2 预测值= 7\n",
      "index=4294 标签值= 9 预测值= 0\n",
      "index=4359 标签值= 5 预测值= 3\n",
      "index=4360 标签值= 5 预测值= 9\n",
      "index=4382 标签值= 4 预测值= 9\n",
      "index=4437 标签值= 3 预测值= 1\n",
      "index=4477 标签值= 0 预测值= 6\n",
      "index=4497 标签值= 8 预测值= 7\n",
      "index=4498 标签值= 7 预测值= 4\n",
      "index=4504 标签值= 2 预测值= 7\n",
      "index=4505 标签值= 9 预测值= 7\n",
      "index=4536 标签值= 6 预测值= 5\n",
      "index=4571 标签值= 6 预测值= 5\n",
      "index=4601 标签值= 8 预测值= 4\n",
      "index=4690 标签值= 7 预测值= 9\n",
      "index=4761 标签值= 9 预测值= 7\n",
      "index=4807 标签值= 8 预测值= 0\n",
      "index=4823 标签值= 9 预测值= 4\n",
      "index=4860 标签值= 4 预测值= 9\n",
      "index=4879 标签值= 8 预测值= 6\n",
      "index=4882 标签值= 6 预测值= 5\n",
      "index=4952 标签值= 6 预测值= 5\n",
      "index=4956 标签值= 8 预测值= 4\n",
      "index=4990 标签值= 3 预测值= 2\n",
      "index=5067 标签值= 3 预测值= 0\n",
      "index=5078 标签值= 3 预测值= 9\n",
      "index=5457 标签值= 1 预测值= 8\n",
      "index=5623 标签值= 3 预测值= 5\n",
      "index=5642 标签值= 1 预测值= 5\n",
      "index=5649 标签值= 7 预测值= 9\n",
      "index=5654 标签值= 7 预测值= 2\n",
      "index=5674 标签值= 3 预测值= 9\n",
      "index=5676 标签值= 4 预测值= 3\n",
      "index=5678 标签值= 8 预测值= 5\n",
      "index=5687 标签值= 3 预测值= 9\n",
      "index=5734 标签值= 3 预测值= 7\n",
      "index=5735 标签值= 5 预测值= 1\n",
      "index=5745 标签值= 7 预测值= 1\n",
      "index=5749 标签值= 8 预测值= 5\n",
      "index=5757 标签值= 9 预测值= 7\n",
      "index=5821 标签值= 5 预测值= 3\n",
      "index=5841 标签值= 3 预测值= 5\n",
      "index=5918 标签值= 0 预测值= 8\n",
      "index=5926 标签值= 4 预测值= 9\n",
      "index=5936 标签值= 4 预测值= 9\n",
      "index=5955 标签值= 3 预测值= 8\n",
      "index=5973 标签值= 3 预测值= 8\n",
      "index=6011 标签值= 3 预测值= 5\n",
      "index=6056 标签值= 8 预测值= 3\n",
      "index=6059 标签值= 3 预测值= 9\n",
      "index=6061 标签值= 3 预测值= 9\n",
      "index=6071 标签值= 9 预测值= 3\n",
      "index=6091 标签值= 9 预测值= 3\n",
      "index=6166 标签值= 9 预测值= 3\n",
      "index=6168 标签值= 9 预测值= 3\n",
      "index=6347 标签值= 8 预测值= 6\n",
      "index=6391 标签值= 2 预测值= 0\n",
      "index=6505 标签值= 9 预测值= 0\n",
      "index=6511 标签值= 3 预测值= 5\n",
      "index=6555 标签值= 8 预测值= 9\n",
      "index=6572 标签值= 1 预测值= 9\n",
      "index=6574 标签值= 2 预测值= 6\n",
      "index=6597 标签值= 0 预测值= 9\n",
      "index=6603 标签值= 8 预测值= 9\n",
      "index=6625 标签值= 8 预测值= 4\n",
      "index=6632 标签值= 9 预测值= 5\n",
      "index=6646 标签值= 3 预测值= 5\n",
      "index=6651 标签值= 0 预测值= 6\n",
      "index=6755 标签值= 8 预测值= 9\n",
      "index=6769 标签值= 4 预测值= 8\n",
      "index=6783 标签值= 1 预测值= 6\n",
      "index=6847 标签值= 6 预测值= 4\n",
      "index=7054 标签值= 2 预测值= 7\n",
      "index=7081 标签值= 9 预测值= 4\n",
      "index=7233 标签值= 3 预测值= 7\n",
      "index=7434 标签值= 4 预测值= 8\n",
      "index=7492 标签值= 2 预测值= 7\n",
      "index=7812 标签值= 1 预测值= 8\n",
      "index=7841 标签值= 3 预测值= 9\n",
      "index=7849 标签值= 3 预测值= 2\n",
      "index=8091 标签值= 2 预测值= 8\n",
      "index=8094 标签值= 2 预测值= 8\n",
      "index=8171 标签值= 3 预测值= 5\n",
      "index=8196 标签值= 6 预测值= 5\n",
      "index=8294 标签值= 8 预测值= 9\n",
      "index=8354 标签值= 3 预测值= 9\n",
      "index=8408 标签值= 8 预测值= 6\n",
      "index=8522 标签值= 8 预测值= 6\n",
      "index=8523 标签值= 9 预测值= 4\n",
      "index=8527 标签值= 4 预测值= 8\n",
      "index=8561 标签值= 3 预测值= 5\n",
      "index=8584 标签值= 2 预测值= 3\n",
      "index=8952 标签值= 3 预测值= 9\n",
      "index=9009 标签值= 7 预测值= 2\n",
      "index=9015 标签值= 7 预测值= 2\n",
      "index=9019 标签值= 7 预测值= 2\n",
      "index=9024 标签值= 7 预测值= 2\n",
      "index=9280 标签值= 8 预测值= 6\n",
      "index=9316 标签值= 8 预测值= 5\n",
      "index=9422 标签值= 5 预测值= 3\n",
      "index=9530 标签值= 9 预测值= 8\n",
      "index=9587 标签值= 9 预测值= 4\n",
      "index=9634 标签值= 0 预测值= 6\n",
      "index=9664 标签值= 2 预测值= 7\n",
      "index=9669 标签值= 4 预测值= 7\n",
      "index=9679 标签值= 6 预测值= 3\n",
      "index=9716 标签值= 2 预测值= 5\n",
      "index=9729 标签值= 5 预测值= 6\n",
      "index=9745 标签值= 4 预测值= 0\n",
      "index=9768 标签值= 2 预测值= 0\n",
      "index=9770 标签值= 5 预测值= 9\n",
      "index=9779 标签值= 2 预测值= 0\n",
      "index=9782 标签值= 6 预测值= 5\n",
      "index=9792 标签值= 4 预测值= 1\n",
      "index=9793 标签值= 6 预测值= 5\n",
      "index=9839 标签值= 2 预测值= 7\n",
      "index=9892 标签值= 8 预测值= 5\n",
      "index=9904 标签值= 2 预测值= 0\n",
      "总计:289\n"
     ]
    }
   ],
   "source": [
    "print_predict_errs(labels=mnist.test.labels,\n",
    "                   prediction=prediction_result)"
   ]
  },
  {
   "cell_type": "code",
   "execution_count": null,
   "metadata": {},
   "outputs": [],
   "source": []
  }
 ],
 "metadata": {
  "kernelspec": {
   "display_name": "Python 3",
   "language": "python",
   "name": "python3"
  },
  "language_info": {
   "codemirror_mode": {
    "name": "ipython",
    "version": 3
   },
   "file_extension": ".py",
   "mimetype": "text/x-python",
   "name": "python",
   "nbconvert_exporter": "python",
   "pygments_lexer": "ipython3",
   "version": "3.7.3"
  }
 },
 "nbformat": 4,
 "nbformat_minor": 2
}
