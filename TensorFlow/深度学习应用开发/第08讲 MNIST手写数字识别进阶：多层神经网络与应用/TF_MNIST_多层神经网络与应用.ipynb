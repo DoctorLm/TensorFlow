{
 "cells": [
  {
   "cell_type": "raw",
   "metadata": {},
   "source": [
    "MNIST手写数字识别问题的多层神经网络模型实践\n",
    "按课程案例，动手完成编码实践。\n",
    "自行设计一种神经网络模型，并尝试采用不同超参数，让模型的准确率达到97.5%。\n",
    "提交要求：\n",
    "1、你认为最优的一次带运行结果的源代码文件（.ipynb 格式）\n",
    "2、作为附件上传\n",
    "评分标准：\n",
    "1、完成MNIST手写数字识别的神经网络建模与应用，有完整的代码，模型能运行，准确率达97%以上；得6分；每下降一个百分点，少得1分；\n",
    "2、准确率达97.3%以上；再得2分，否则再得0分；\n",
    "3、准确率到97.5%以上；再得2分，否则再得0分；\n"
   ]
  },
  {
   "cell_type": "markdown",
   "metadata": {},
   "source": [
    "# 载入数据"
   ]
  },
  {
   "cell_type": "code",
   "execution_count": 1,
   "metadata": {
    "scrolled": true
   },
   "outputs": [
    {
     "name": "stdout",
     "output_type": "stream",
     "text": [
      "WARNING:tensorflow:From <ipython-input-1-ae8cf40ea274>:5: read_data_sets (from tensorflow.contrib.learn.python.learn.datasets.mnist) is deprecated and will be removed in a future version.\n",
      "Instructions for updating:\n",
      "Please use alternatives such as official/mnist/dataset.py from tensorflow/models.\n",
      "WARNING:tensorflow:From /Users/lumin/Library/Python/3.7/lib/python/site-packages/tensorflow/contrib/learn/python/learn/datasets/mnist.py:260: maybe_download (from tensorflow.contrib.learn.python.learn.datasets.base) is deprecated and will be removed in a future version.\n",
      "Instructions for updating:\n",
      "Please write your own downloading logic.\n",
      "WARNING:tensorflow:From /Users/lumin/Library/Python/3.7/lib/python/site-packages/tensorflow/contrib/learn/python/learn/datasets/mnist.py:262: extract_images (from tensorflow.contrib.learn.python.learn.datasets.mnist) is deprecated and will be removed in a future version.\n",
      "Instructions for updating:\n",
      "Please use tf.data to implement this functionality.\n",
      "Extracting MNIST_data/train-images-idx3-ubyte.gz\n",
      "WARNING:tensorflow:From /Users/lumin/Library/Python/3.7/lib/python/site-packages/tensorflow/contrib/learn/python/learn/datasets/mnist.py:267: extract_labels (from tensorflow.contrib.learn.python.learn.datasets.mnist) is deprecated and will be removed in a future version.\n",
      "Instructions for updating:\n",
      "Please use tf.data to implement this functionality.\n",
      "Extracting MNIST_data/train-labels-idx1-ubyte.gz\n",
      "WARNING:tensorflow:From /Users/lumin/Library/Python/3.7/lib/python/site-packages/tensorflow/contrib/learn/python/learn/datasets/mnist.py:110: dense_to_one_hot (from tensorflow.contrib.learn.python.learn.datasets.mnist) is deprecated and will be removed in a future version.\n",
      "Instructions for updating:\n",
      "Please use tf.one_hot on tensors.\n",
      "Extracting MNIST_data/t10k-images-idx3-ubyte.gz\n",
      "Extracting MNIST_data/t10k-labels-idx1-ubyte.gz\n",
      "WARNING:tensorflow:From /Users/lumin/Library/Python/3.7/lib/python/site-packages/tensorflow/contrib/learn/python/learn/datasets/mnist.py:290: DataSet.__init__ (from tensorflow.contrib.learn.python.learn.datasets.mnist) is deprecated and will be removed in a future version.\n",
      "Instructions for updating:\n",
      "Please use alternatives such as official/mnist/dataset.py from tensorflow/models.\n"
     ]
    }
   ],
   "source": [
    "import tensorflow as tf\n",
    "#导入Tensorflow提供的读取MNIST的模块\n",
    "import tensorflow.examples.tutorials.mnist.input_data as input_data\n",
    "#读取MNIST数据\n",
    "mnist = input_data.read_data_sets(\"MNIST_data\", one_hot=True)"
   ]
  },
  {
   "cell_type": "markdown",
   "metadata": {},
   "source": [
    "# 建立模型"
   ]
  },
  {
   "cell_type": "code",
   "execution_count": 2,
   "metadata": {},
   "outputs": [],
   "source": [
    "#定义全连接层函数\n",
    "def fcn_layer(inputs,           #输入数据\n",
    "              input_dim,        #输入神经元数量\n",
    "              output_dim,       #输出神经元数量\n",
    "              activation=None): #激活函数\n",
    "    W = tf.Variable(tf.truncated_normal([input_dim, output_dim], stddev=0.1)) #以截断正态分布的随机数初始化W\n",
    "    b = tf.Variable(tf.zeros([output_dim])) #以0初始化b\n",
    "    XWb = tf.matmul(inputs, W) + b #建立表达式: inputs * W + b\n",
    "    if activation is None: #默认有使用激活函数\n",
    "        outputs = XWb\n",
    "    else: # 若传入激活函数，则用其对输出结果进行变换\n",
    "        outputs = activation(XWb)\n",
    "    return outputs"
   ]
  },
  {
   "cell_type": "markdown",
   "metadata": {},
   "source": [
    "## 构建输入层"
   ]
  },
  {
   "cell_type": "code",
   "execution_count": 3,
   "metadata": {},
   "outputs": [],
   "source": [
    "x = tf.placeholder(tf.float32, [None, 784], name=\"X\")"
   ]
  },
  {
   "cell_type": "code",
   "execution_count": 4,
   "metadata": {},
   "outputs": [],
   "source": [
    "H1_NN = 256 # 第1隐藏层神经元为256\n",
    "H2_NN = 128 # 第2隐藏层神经元为128\n",
    "H3_NN = 64  # 第3隐藏层神经元为64\n",
    "H4_NN = 32  # 第4隐藏层神经元为32"
   ]
  },
  {
   "cell_type": "markdown",
   "metadata": {},
   "source": [
    "## 构建隐藏层1"
   ]
  },
  {
   "cell_type": "code",
   "execution_count": 5,
   "metadata": {},
   "outputs": [],
   "source": [
    "h1 = fcn_layer(inputs=x,\n",
    "               input_dim=784,\n",
    "               output_dim=H1_NN,\n",
    "               activation=tf.nn.relu)"
   ]
  },
  {
   "cell_type": "markdown",
   "metadata": {},
   "source": [
    "## 构建隐藏层2"
   ]
  },
  {
   "cell_type": "code",
   "execution_count": 6,
   "metadata": {},
   "outputs": [],
   "source": [
    "h2 = fcn_layer(inputs=h1,\n",
    "               input_dim=H1_NN,\n",
    "               output_dim=H2_NN,\n",
    "               activation=tf.nn.relu)"
   ]
  },
  {
   "cell_type": "markdown",
   "metadata": {},
   "source": [
    "## 构建隐藏层3"
   ]
  },
  {
   "cell_type": "code",
   "execution_count": 7,
   "metadata": {},
   "outputs": [],
   "source": [
    "h3 = fcn_layer(inputs=h2,\n",
    "               input_dim=H2_NN,\n",
    "               output_dim=H3_NN,\n",
    "               activation=tf.nn.relu)"
   ]
  },
  {
   "cell_type": "markdown",
   "metadata": {},
   "source": [
    "## 构建隐藏层4"
   ]
  },
  {
   "cell_type": "code",
   "execution_count": 8,
   "metadata": {},
   "outputs": [],
   "source": [
    "h4 = fcn_layer(inputs=h3,\n",
    "               input_dim=H3_NN,\n",
    "               output_dim=H4_NN,\n",
    "               activation=tf.nn.relu)"
   ]
  },
  {
   "cell_type": "markdown",
   "metadata": {},
   "source": [
    "## 构建输出层"
   ]
  },
  {
   "cell_type": "code",
   "execution_count": 9,
   "metadata": {},
   "outputs": [],
   "source": [
    "forward = fcn_layer(inputs=h4,\n",
    "               input_dim=H4_NN,\n",
    "               output_dim=10,\n",
    "               activation=None)\n",
    "pred = tf.nn.softmax(forward)"
   ]
  },
  {
   "cell_type": "markdown",
   "metadata": {},
   "source": [
    "# 训练模型"
   ]
  },
  {
   "cell_type": "markdown",
   "metadata": {},
   "source": [
    "### 定义标签数据占位符"
   ]
  },
  {
   "cell_type": "code",
   "execution_count": 10,
   "metadata": {},
   "outputs": [],
   "source": [
    "y = tf.placeholder(tf.float32, [None, 10], name=\"Y\")"
   ]
  },
  {
   "cell_type": "markdown",
   "metadata": {},
   "source": [
    "### 定义损失函数"
   ]
  },
  {
   "cell_type": "code",
   "execution_count": 11,
   "metadata": {},
   "outputs": [
    {
     "name": "stdout",
     "output_type": "stream",
     "text": [
      "WARNING:tensorflow:From <ipython-input-11-f0dc9641bae9>:2: softmax_cross_entropy_with_logits (from tensorflow.python.ops.nn_ops) is deprecated and will be removed in a future version.\n",
      "Instructions for updating:\n",
      "\n",
      "Future major versions of TensorFlow will allow gradients to flow\n",
      "into the labels input on backprop by default.\n",
      "\n",
      "See `tf.nn.softmax_cross_entropy_with_logits_v2`.\n",
      "\n"
     ]
    }
   ],
   "source": [
    "#交叉熵\n",
    "loss_function = tf.reduce_mean(tf.nn.softmax_cross_entropy_with_logits(logits=forward, labels=y))"
   ]
  },
  {
   "cell_type": "markdown",
   "metadata": {},
   "source": [
    "### 设置训练参数"
   ]
  },
  {
   "cell_type": "code",
   "execution_count": 12,
   "metadata": {},
   "outputs": [],
   "source": [
    "train_epochs = 50\n",
    "batch_size = 100\n",
    "total_batch = int(mnist.train.num_examples/batch_size)\n",
    "display_step = 1\n",
    "learning_rate = 0.01"
   ]
  },
  {
   "cell_type": "markdown",
   "metadata": {},
   "source": [
    "### 选择优化器"
   ]
  },
  {
   "cell_type": "code",
   "execution_count": 13,
   "metadata": {},
   "outputs": [],
   "source": [
    "optimizer = tf.train.AdamOptimizer(learning_rate).minimize(loss_function)"
   ]
  },
  {
   "cell_type": "markdown",
   "metadata": {},
   "source": [
    "### 定义准确率"
   ]
  },
  {
   "cell_type": "code",
   "execution_count": 14,
   "metadata": {},
   "outputs": [],
   "source": [
    "correct_prediction = tf.equal(tf.argmax(y, 1),tf.argmax(pred, 1))\n",
    "accuracy = tf.reduce_mean(tf.cast(correct_prediction, tf.float32))"
   ]
  },
  {
   "cell_type": "markdown",
   "metadata": {},
   "source": [
    "### 训练模型"
   ]
  },
  {
   "cell_type": "code",
   "execution_count": 15,
   "metadata": {
    "scrolled": false
   },
   "outputs": [
    {
     "name": "stdout",
     "output_type": "stream",
     "text": [
      "Train Epoch: 01 Loss= 0.138040438  Accuracy= 0.9618\n",
      "Train Epoch: 02 Loss= 0.128545076  Accuracy= 0.9660\n",
      "Train Epoch: 03 Loss= 0.147333235  Accuracy= 0.9620\n",
      "Train Epoch: 04 Loss= 0.128636107  Accuracy= 0.9644\n",
      "Train Epoch: 05 Loss= 0.122258909  Accuracy= 0.9714\n",
      "Train Epoch: 06 Loss= 0.125780210  Accuracy= 0.9702\n",
      "Train Epoch: 07 Loss= 0.131360546  Accuracy= 0.9718\n",
      "Train Epoch: 08 Loss= 0.132790819  Accuracy= 0.9704\n",
      "Train Epoch: 09 Loss= 0.113295130  Accuracy= 0.9744\n",
      "Train Epoch: 10 Loss= 0.143257722  Accuracy= 0.9690\n",
      "Train Epoch: 11 Loss= 0.157124043  Accuracy= 0.9694\n",
      "Train Epoch: 12 Loss= 0.130739018  Accuracy= 0.9762\n",
      "Train Epoch: 13 Loss= 0.127068743  Accuracy= 0.9758\n",
      "Train Epoch: 14 Loss= 0.153025255  Accuracy= 0.9746\n",
      "Train Epoch: 15 Loss= 0.133279666  Accuracy= 0.9758\n",
      "Train Epoch: 16 Loss= 0.168044314  Accuracy= 0.9750\n",
      "Train Epoch: 17 Loss= 0.153479695  Accuracy= 0.9716\n",
      "Train Epoch: 18 Loss= 0.130771101  Accuracy= 0.9744\n",
      "Train Epoch: 19 Loss= 0.120696045  Accuracy= 0.9788\n",
      "Train Epoch: 20 Loss= 0.192676947  Accuracy= 0.9728\n",
      "Train Epoch: 21 Loss= 0.136525020  Accuracy= 0.9784\n",
      "Train Epoch: 22 Loss= 0.146933764  Accuracy= 0.9774\n",
      "Train Epoch: 23 Loss= 0.134740293  Accuracy= 0.9740\n",
      "Train Epoch: 24 Loss= 0.133028805  Accuracy= 0.9766\n",
      "Train Epoch: 25 Loss= 0.115901865  Accuracy= 0.9804\n",
      "Train Epoch: 26 Loss= 0.257241368  Accuracy= 0.9618\n",
      "Train Epoch: 27 Loss= 0.134775266  Accuracy= 0.9808\n",
      "Train Epoch: 28 Loss= 0.138672903  Accuracy= 0.9786\n",
      "Train Epoch: 29 Loss= 0.134733275  Accuracy= 0.9786\n",
      "Train Epoch: 30 Loss= 0.168780208  Accuracy= 0.9714\n",
      "Train Epoch: 31 Loss= 0.216386497  Accuracy= 0.9708\n",
      "Train Epoch: 32 Loss= 0.201717645  Accuracy= 0.9766\n",
      "Train Epoch: 33 Loss= 0.199826539  Accuracy= 0.9734\n",
      "Train Epoch: 34 Loss= 0.208947122  Accuracy= 0.9744\n",
      "Train Epoch: 35 Loss= 0.278492868  Accuracy= 0.9704\n",
      "Train Epoch: 36 Loss= 0.245793849  Accuracy= 0.9736\n",
      "Train Epoch: 37 Loss= 0.261781514  Accuracy= 0.9676\n",
      "Train Epoch: 38 Loss= 0.253273368  Accuracy= 0.9698\n",
      "Train Epoch: 39 Loss= 0.323475868  Accuracy= 0.9504\n",
      "Train Epoch: 40 Loss= 0.267245531  Accuracy= 0.9708\n",
      "Train Epoch: 41 Loss= 0.223418966  Accuracy= 0.9758\n",
      "Train Epoch: 42 Loss= 0.241540059  Accuracy= 0.9646\n",
      "Train Epoch: 43 Loss= 0.245046601  Accuracy= 0.9684\n",
      "Train Epoch: 44 Loss= 0.373068452  Accuracy= 0.9666\n",
      "Train Epoch: 45 Loss= 0.338362217  Accuracy= 0.9586\n",
      "Train Epoch: 46 Loss= 0.537709475  Accuracy= 0.9594\n",
      "Train Epoch: 47 Loss= 0.441552937  Accuracy= 0.9624\n",
      "Train Epoch: 48 Loss= 0.314744353  Accuracy= 0.9622\n",
      "Train Epoch: 49 Loss= 0.268080920  Accuracy= 0.9600\n",
      "Train Epoch: 50 Loss= 0.233881101  Accuracy= 0.9700\n",
      "Train Finished takes: 30.03\n"
     ]
    }
   ],
   "source": [
    "#记录训练开始时间\n",
    "from time import time\n",
    "startTime = time()\n",
    "\n",
    "config = tf.ConfigProto()\n",
    "config.gpu_options.per_process_gpu_memory_fraction = 0.6\n",
    "config.gpu_options.allow_growth=True\n",
    "sess = tf.Session(config=config)\n",
    "\n",
    "sess.run(tf.global_variables_initializer())\n",
    "for epoch in range(train_epochs):\n",
    "    for batch in range(total_batch):\n",
    "        xs, ys = mnist.train.next_batch(batch_size)\n",
    "        sess.run(optimizer,feed_dict={x: xs, y: ys})\n",
    "    #total_batch个批次训练完成后，使用验证数据计算误差与准确率\n",
    "    loss, acc = sess.run([loss_function, accuracy],feed_dict={x: mnist.validation.images,\n",
    "                                                              y: mnist.validation.labels})\n",
    "    if(epoch+1) % display_step ==0:\n",
    "        print(\"Train Epoch:\",\"%02d\" % (epoch+1),\n",
    "              \"Loss=\",\"{:.9f}\".format(loss), \" Accuracy=\",\"{:.4f}\".format(acc))\n",
    "#运行总时间\n",
    "duration = time()-startTime\n",
    "print(\"Train Finished takes:\",\"{:.2f}\".format(duration))"
   ]
  },
  {
   "cell_type": "markdown",
   "metadata": {},
   "source": [
    "# 评估模型"
   ]
  },
  {
   "cell_type": "code",
   "execution_count": 16,
   "metadata": {},
   "outputs": [
    {
     "name": "stdout",
     "output_type": "stream",
     "text": [
      "Test Accuracy: 0.9706\n",
      "Test Accuracy: 0.97\n",
      "Test Accuracy: 0.9851273\n"
     ]
    }
   ],
   "source": [
    "# 完成训练后,在测试集上评估模型的准确率\n",
    "accu_test = sess.run(accuracy,feed_dict={x: mnist.test.images, y: mnist.test.labels})\n",
    "print(\"Test Accuracy:\", accu_test)\n",
    "\n",
    "# 完成训练后,在验证集上评估模型的准确率\n",
    "accu_validation = sess.run(accuracy, feed_dict={x: mnist.validation.images, y: mnist.validation.labels})\n",
    "print(\"Test Accuracy:\", accu_validation)\n",
    "\n",
    "# 完成训练后,在训练集上评估模型的准确率\n",
    "accu_train = sess.run(accuracy, feed_dict={x: mnist.train.images, y: mnist.train.labels})\n",
    "print(\"Test Accuracy:\", accu_train)"
   ]
  },
  {
   "cell_type": "code",
   "execution_count": 17,
   "metadata": {},
   "outputs": [],
   "source": [
    "import matplotlib.pyplot as plt\n",
    "import numpy as np\n",
    "prediction_result=sess.run(tf.argmax(pred, 1), feed_dict={x: mnist.test.images})\n",
    "\n",
    "def plot_images_labels_prediction(images, \n",
    "                                 labels,\n",
    "                                 prediction,\n",
    "                                 index,\n",
    "                                 num=10):\n",
    "    fig = plt.gcf()\n",
    "    fig.set_size_inches(10, 12)\n",
    "    if num > 25:\n",
    "        num = 25\n",
    "    for i in range(0, num):\n",
    "        ax = plt.subplot(5,5,i+1)\n",
    "        \n",
    "        ax.imshow(np.reshape(images[index], (28, 28)), cmap=\"binary\")\n",
    "        \n",
    "        if np.argmax(labels[index]) != prediction[index]:\n",
    "            title = \"label=\" + str(np.argmax(labels[index]))\n",
    "            if len(prediction) > 0:\n",
    "                title += \", predict=\" + str(prediction[index])\n",
    "        else:\n",
    "            title = \"label=predict=\" + str(np.argmax(labels[index]))\n",
    "        \n",
    "        ax.set_title(title, fontsize=10)\n",
    "        ax.set_xticks([])\n",
    "        ax.set_yticks([])\n",
    "        index += 1\n",
    "    plt.show()"
   ]
  },
  {
   "cell_type": "code",
   "execution_count": 18,
   "metadata": {
    "scrolled": false
   },
   "outputs": [
    {
     "data": {
      "image/png": "[encoded data removed]",
      "text/plain": [
       "<Figure size 720x864 with 25 Axes>"
      ]
     },
     "metadata": {},
     "output_type": "display_data"
    }
   ],
   "source": [
    "plot_images_labels_prediction(mnist.test.images, mnist.test.labels, prediction_result, 0, 25)"
   ]
  }
 ],
 "metadata": {
  "kernelspec": {
   "display_name": "Python 3",
   "language": "python",
   "name": "python3"
  },
  "language_info": {
   "codemirror_mode": {
    "name": "ipython",
    "version": 3
   },
   "file_extension": ".py",
   "mimetype": "text/x-python",
   "name": "python",
   "nbconvert_exporter": "python",
   "pygments_lexer": "ipython3",
   "version": "3.7.6"
  }
 },
 "nbformat": 4,
 "nbformat_minor": 2
}
