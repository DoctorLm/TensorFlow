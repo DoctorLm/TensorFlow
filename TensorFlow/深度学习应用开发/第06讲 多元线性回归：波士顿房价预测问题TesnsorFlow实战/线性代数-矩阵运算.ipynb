{
 "cells": [
  {
   "cell_type": "code",
   "execution_count": 1,
   "metadata": {},
   "outputs": [],
   "source": [
    "import numpy as np"
   ]
  },
  {
   "cell_type": "markdown",
   "metadata": {},
   "source": [
    "# 1 矩阵标量运算\n",
    "如果矩阵乘，除，或加减一个标量，即：对矩阵的每一个元素进行数学运算\n",
    "\n",
    "矩阵 | 乘 | 矩阵                \n",
    "---|:---:|---\n",
    "[1 2 3] || [2  4  5] \n",
    "| × 2 = |\n",
    "[4 5 6] || [8 10 12] \n",
    "[a11 a12 a13] || [a11*n a12*n a13*n] \n",
    "| × n = |\n",
    "[a21 a22 a23] || [a21*n a22*n a23*n] "
   ]
  },
  {
   "cell_type": "code",
   "execution_count": 2,
   "metadata": {},
   "outputs": [
    {
     "name": "stdout",
     "output_type": "stream",
     "text": [
      "18\n",
      "18 ()\n"
     ]
    }
   ],
   "source": [
    "# 标量只是一个单一的数字\n",
    "\n",
    "scalar_value = 18\n",
    "print(scalar_value)\n",
    "\n",
    "scalar_np = np.array(scalar_value)  # 转换为Numpy中的数组array\n",
    "print(scalar_value,scalar_np.shape) # shape为()"
   ]
  },
  {
   "cell_type": "code",
   "execution_count": 3,
   "metadata": {},
   "outputs": [
    {
     "name": "stdout",
     "output_type": "stream",
     "text": [
      "[1 2 3] (3,)\n"
     ]
    }
   ],
   "source": [
    "#向量是一个有序的数字数组\n",
    "\n",
    "vector_value = [1, 2, 3] # 这是一个列表\n",
    "vector_np = np.array(vector_value) # 转换为Numpy中的数组array\n",
    "print(vector_np, vector_np.shape)   # shape 显示为一维数组，其实这既不能算行向量也不能算列向量"
   ]
  },
  {
   "cell_type": "code",
   "execution_count": 4,
   "metadata": {},
   "outputs": [
    {
     "name": "stdout",
     "output_type": "stream",
     "text": [
      "matrix_list= [[1, 2, 3], [4, 5, 6]] \n",
      " matrix_np=\n",
      " [[1 2 3]\n",
      " [4 5 6]] \n",
      " matrix_np.shape= (2, 3)\n"
     ]
    }
   ],
   "source": [
    "# 矩阵是一个有序的二维数组，它有两个王索引。第一个指向该行，第二个指向该列\n",
    "\n",
    "matrix_list = [[1, 2, 3],[4, 5, 6]]\n",
    "matrix_np = np.array(matrix_list)\n",
    "print(\"matrix_list=\",matrix_list,\"\\n\",\"matrix_np=\\n\",matrix_np,\"\\n\",\"matrix_np.shape=\",matrix_np.shape)"
   ]
  },
  {
   "cell_type": "code",
   "execution_count": 5,
   "metadata": {},
   "outputs": [
    {
     "name": "stdout",
     "output_type": "stream",
     "text": [
      "[[1 2 3]] shape= (1, 3)\n"
     ]
    }
   ],
   "source": [
    "#行向量的矩阵表示\n",
    "\n",
    "vector_row = np.array([[1, 2, 3]])\n",
    "print(vector_row,\"shape=\",vector_row.shape)"
   ]
  },
  {
   "cell_type": "code",
   "execution_count": 6,
   "metadata": {},
   "outputs": [
    {
     "name": "stdout",
     "output_type": "stream",
     "text": [
      "[[4]\n",
      " [5]\n",
      " [6]] shape= (3, 1)\n"
     ]
    }
   ],
   "source": [
    "#列向量的矩阵表示\n",
    "\n",
    "vector_column = np.array([[4], [5], [6]])\n",
    "print(vector_column,\"shape=\",vector_column.shape)"
   ]
  },
  {
   "cell_type": "code",
   "execution_count": 7,
   "metadata": {},
   "outputs": [
    {
     "name": "stdout",
     "output_type": "stream",
     "text": [
      "[[1 2 3]\n",
      " [4 5 6]] shape= (2, 3)\n"
     ]
    }
   ],
   "source": [
    "#矩阵与标量运算\n",
    "\n",
    "matrix_a = np.array([[1, 2, 3], [4, 5, 6]])\n",
    "print(matrix_a,\"shape=\",matrix_a.shape)"
   ]
  },
  {
   "cell_type": "code",
   "execution_count": 8,
   "metadata": {},
   "outputs": [
    {
     "name": "stdout",
     "output_type": "stream",
     "text": [
      "[[ 2  4  6]\n",
      " [ 8 10 12]] shape= (2, 3)\n"
     ]
    }
   ],
   "source": [
    "#矩阵*标量\n",
    "\n",
    "matrix_b = matrix_a * 2\n",
    "print(matrix_b, \"shape=\", matrix_b.shape)"
   ]
  },
  {
   "cell_type": "code",
   "execution_count": 9,
   "metadata": {},
   "outputs": [
    {
     "name": "stdout",
     "output_type": "stream",
     "text": [
      "[[3 4 5]\n",
      " [6 7 8]] shape= (2, 3)\n"
     ]
    }
   ],
   "source": [
    "#矩阵+标量\n",
    "\n",
    "matrix_c = matrix_a + 2\n",
    "print(matrix_c, \"shape=\", matrix_c.shape)"
   ]
  },
  {
   "cell_type": "markdown",
   "metadata": {},
   "source": [
    "# 2 矩阵-矩阵加法和减法\n",
    "    矩阵-矩阵加法和减法要求是矩阵具有相同的尺寸，并且结果将是具有相同的尺寸的矩阵。\n",
    "    只需在第一个矩阵中添加或减去第二个矩阵的每个值及其对应的值\n",
    "    \n",
    "矩阵     | 加 |矩阵     |   |相同的尺寸的矩阵           \n",
    ":-------:|:-:|:-------:|---|:-:\n",
    "[a11 a12]|   |[b11 b12]|   |[a11+b11 a12+b12]\n",
    "         | + |         | = |\n",
    "[a21 a22]|   |[b21 b22]|   |[a21+b21 a22+b22]"
   ]
  },
  {
   "cell_type": "code",
   "execution_count": 10,
   "metadata": {},
   "outputs": [
    {
     "name": "stdout",
     "output_type": "stream",
     "text": [
      "[[ 0  0  0]\n",
      " [ 0 10  0]]\n"
     ]
    }
   ],
   "source": [
    "matrix_a = np.array([[1, 2, 3],\n",
    "                     [4, 5, 6]]) #2行3列\n",
    "matrix_b = np.array([[-1, -2, -3],\n",
    "                     [-4, 5, -6]]) #2行3列\n",
    "print(matrix_a + matrix_b)"
   ]
  },
  {
   "cell_type": "markdown",
   "metadata": {},
   "source": [
    "# 3 矩阵-矩阵点乘(点乘)\n",
    "    矩阵-矩阵点乘要求是矩阵具有相同的尺寸，矩阵各个对应元素相乘。\n",
    "    \n",
    "矩阵     |点乘|矩阵     |   |相同的尺寸的矩阵           \n",
    ":-------:|:-:|:-------:|---|:-:\n",
    "[a11 a12]|   |[b11 b12]|   |[a11×b11 a12×b12]\n",
    "         | × |         | = |\n",
    "[a21 a22]|   |[b21 b22]|   |[a21×b21 a22×b22]"
   ]
  },
  {
   "cell_type": "code",
   "execution_count": 11,
   "metadata": {},
   "outputs": [
    {
     "name": "stdout",
     "output_type": "stream",
     "text": [
      "[[ -1  -4  -9]\n",
      " [-16  25 -36]]\n",
      "[[ -1  -4  -9]\n",
      " [-16  25 -36]]\n"
     ]
    }
   ],
   "source": [
    "matrix_a = np.array([[1, 2, 3],\n",
    "                     [4, 5, 6]]) # 2行3列\n",
    "matrix_b = np.array([[-1, -2, -3],\n",
    "                     [-4, 5, -6]]) # 2行3列\n",
    "print(matrix_a * matrix_b)\n",
    "print(np.multiply(matrix_a, matrix_b))"
   ]
  },
  {
   "cell_type": "markdown",
   "metadata": {},
   "source": [
    "# 4 矩阵-矩阵相乘(叉乘)\n",
    "    如果第一个矩阵列的数量与第二个矩阵行数要相等，才能将矩阵相乘结果矩阵具有与第一个矩阵相同的行数和第二个矩阵相同的列数。\n",
    "    \n",
    "矩阵     |叉乘|矩阵     |   |第一个矩阵相同的行数和第二个矩阵相同的列数           \n",
    ":-------:|:-:|:-------:|---|:-:\n",
    "[a11 a12 a13]|   |[b11 b12]|   |[a11×b11 + a12×b21 + a13×b31 a11×b12 + a12×b22 + a13×b33]\n",
    "             | × |[b21 b22]| = |\n",
    "[a21 a22 a23]|   |[b31 b33]|   |[a21×b11 + a22×b21 + a23×b31 a21×b12 + a22×b22 + a23×b33]\n",
    "    A        |   |B        |   |A×B=C\n",
    "      (2,3)  |   |(3,2)    |   |(2,2)\n",
    "       m×n   |   | n×k     |   |m×k"
   ]
  },
  {
   "cell_type": "code",
   "execution_count": 12,
   "metadata": {},
   "outputs": [
    {
     "name": "stdout",
     "output_type": "stream",
     "text": [
      "[[14 16 10 10]\n",
      " [32 37 28 28]]\n"
     ]
    }
   ],
   "source": [
    "matrix_a = np.array([[1, 2, 3],\n",
    "                     [4, 5, 6]])   # 2行3列\n",
    "matrix_b = np.array([[1, 2, 3, 4],\n",
    "                     [2, 1, 2, 0],\n",
    "                     [3, 4, 1, 2]]) # 3行4列\n",
    "print(np.matmul(matrix_a, matrix_b)) # 结果是2行4列"
   ]
  },
  {
   "cell_type": "markdown",
   "metadata": {},
   "source": [
    "# 5 矩阵-向量乘法\n",
    "    看作矩阵-矩阵叉乘的特列。\n",
    "    \n",
    "矩阵          |叉乘|矩阵 |   |第一个矩阵相同的行数和第二个矩阵相同的列数           \n",
    ":-----------:|:-:|:---:|:-:|:-\n",
    "[a11 a12 a13]|   |[b11]|   |[a11×b11 + a12×b21 + a13×b31]\n",
    "             | × |[b21]| = |\n",
    "[a21 a22 a23]|   |[b31]|   |[a21×b11 + a22×b21 + a23×b31]\n",
    "    A        |   |B        |   |A×B=C\n",
    "      (2,3)  |   |(3,1)    |   |(2,1)\n",
    "       m×n   |   | n×1     |   |m×1"
   ]
  },
  {
   "cell_type": "code",
   "execution_count": 13,
   "metadata": {},
   "outputs": [
    {
     "name": "stdout",
     "output_type": "stream",
     "text": [
      "[[14]\n",
      " [32]]\n"
     ]
    }
   ],
   "source": [
    "matrix_a = np.array([[1, 2, 3],\n",
    "                     [4, 5, 6]]) # 2行3列\n",
    "matrix_b = np.array([[1],\n",
    "                     [2],\n",
    "                     [3]]) # 3行1列\n",
    "print(np.matmul(matrix_a, matrix_b)) # 结果是2行1列"
   ]
  },
  {
   "cell_type": "markdown",
   "metadata": {},
   "source": [
    "# 6 向量-向量乘法(列向量-行向量)\n",
    "    看作矩阵-矩阵叉乘的特列。\n",
    "    \n",
    "矩阵          |叉乘|矩阵 |   |第一个矩阵相同的行数和第二个矩阵相同的列数           \n",
    ":-----------:|:-:|:---:|:-:|:-\n",
    "[b11]        |   |         |   |[b11×a11 b11×a12]\n",
    "[b21]        | × |[a11 a12]| = |[b21×a11 b21×a12]\n",
    "[b31]        |   |         |   |[b31×a11 b31×a12]\n",
    "B            |   |A        |   |A×B=C\n",
    "(3,1)        |   |(1,2)    |   |(3,2)\n",
    "n×1          |   |1×m      |   |n×m"
   ]
  },
  {
   "cell_type": "code",
   "execution_count": 14,
   "metadata": {},
   "outputs": [
    {
     "name": "stdout",
     "output_type": "stream",
     "text": [
      "[[1 2]\n",
      " [2 4]]\n"
     ]
    }
   ],
   "source": [
    "matrix_a = np.array([[1],\n",
    "                     [2]]) # 2行1列\n",
    "matrix_b = np.array([[1, 2]]) # 1行2列\n",
    "print(np.matmul(matrix_a, matrix_b)) # 结果是2行2列"
   ]
  },
  {
   "cell_type": "markdown",
   "metadata": {},
   "source": [
    "# 7 向量-向量乘法(行向量-列向量)\n",
    "    看作矩阵-矩阵叉乘的特例中的特例。\n",
    "    \n",
    "矩阵          |叉乘|矩阵 |   |第一个矩阵相同的行数和第二个矩阵相同的列数           \n",
    ":-----------:|:-:|:---:|:-:|:-\n",
    "             |   |[b11]    |   |\n",
    "[a11 a12 a13]| × |[b21]    | = |[a11×b11 + a12×b21 + a13×b31]\n",
    "             |   |[b31]    |   |\n",
    "B            |   |A        |   |B×A=C\n",
    "(1,3)        |   |(3,1)    |   |(1,1)\n",
    "1×n          |   |m×1      |   |1×1"
   ]
  },
  {
   "cell_type": "code",
   "execution_count": 15,
   "metadata": {},
   "outputs": [
    {
     "name": "stdout",
     "output_type": "stream",
     "text": [
      "[[14]]\n"
     ]
    }
   ],
   "source": [
    "matrix_a = np.array([[1, 2, 3]]) # 1行3列\n",
    "matrix_b = np.array([[1],\n",
    "                     [2],\n",
    "                     [3]]) # 3行1列\n",
    "print(np.matmul(matrix_a, matrix_b)) # 结果是1行1列"
   ]
  },
  {
   "cell_type": "markdown",
   "metadata": {},
   "source": [
    "# 8 矩阵转置\n",
    "    第一列变成转置矩阵的第一行，第二列变成了矩阵转置的第二行，一个m*n矩阵被转换成一个n*m矩阵\n",
    "    a的a[i][j]元素等于转置矩阵aT的a[j][i]元素。\n",
    "    \n",
    "a       |   | aT |           \n",
    ":------:|:-:|:--:|\n",
    "        |   |[1] |\n",
    "[1 2 3] | ->|[2] |\n",
    "        |   |[3] |\n",
    "\n",
    "    转置矩阵像沿着45度轴线的矩阵镜像\n",
    "\n",
    "b       |   | aT  | \n",
    ":------:|:-:|:--:|\n",
    "[1 2 3] |   |[1 4]|\n",
    "        | ->|[2 5]|\n",
    "[4 5 6] |   |[3 6]|"
   ]
  },
  {
   "cell_type": "code",
   "execution_count": 16,
   "metadata": {},
   "outputs": [
    {
     "name": "stdout",
     "output_type": "stream",
     "text": [
      "[[14]\n",
      " [32]]\n",
      "[[7]]\n"
     ]
    }
   ],
   "source": [
    "# 矩阵向量乘法\n",
    "# 将矩阵与矢量相乘可以被认为将矩阵的每一行与矢量的列相乘，矩阵的列数必须等于向量的行\n",
    "# 输出将是一个具体与矩阵相同行数的向量。\n",
    "\n",
    "matrix_a = np.array([[1, 2, 3],\n",
    "                     [4, 5, 6]]) # 2行3列\n",
    "matrix_b = np.array([[1],\n",
    "                     [2],\n",
    "                     [3]]) # 3行1列\n",
    "print(np.matmul(matrix_a, matrix_b)) # 结果是2行1列\n",
    "\n",
    "matrix_a = np.array([[1, 2, 3]]) # 1行3列\n",
    "matrix_b = np.array([[2],\n",
    "                     [4],\n",
    "                     [-1]]) # 3行1列\n",
    "print(np.matmul(matrix_a, matrix_b))  # 结果是1行1列"
   ]
  },
  {
   "cell_type": "code",
   "execution_count": 17,
   "metadata": {},
   "outputs": [
    {
     "name": "stdout",
     "output_type": "stream",
     "text": [
      "[[1 2 3]\n",
      " [4 5 6]] .shape= (2, 3) \n",
      " [[1 4]\n",
      " [2 5]\n",
      " [3 6]] .Tshap= (3, 2)\n"
     ]
    }
   ],
   "source": [
    "# 矩阵转置\n",
    "\n",
    "matrix_a = np.array([[1, 2, 3],\n",
    "                     [4, 5, 6]])\n",
    "print(matrix_a,\".shape=\",matrix_a.shape,\"\\n\",matrix_a.T,\".Tshap=\",matrix_a.T.shape)"
   ]
  },
  {
   "cell_type": "code",
   "execution_count": 18,
   "metadata": {},
   "outputs": [
    {
     "name": "stdout",
     "output_type": "stream",
     "text": [
      "[[1 2 3]] .shape= (1, 3) \n",
      " [[1]\n",
      " [2]\n",
      " [3]] .Tshape= (3, 1)\n"
     ]
    }
   ],
   "source": [
    "# 行列转置\n",
    "\n",
    "vector_row = np.array([[1, 2, 3]])\n",
    "print(vector_row,\".shape=\",vector_row.shape,\"\\n\",vector_row.T,\".Tshape=\",vector_row.T.shape)"
   ]
  },
  {
   "cell_type": "code",
   "execution_count": 19,
   "metadata": {},
   "outputs": [
    {
     "name": "stdout",
     "output_type": "stream",
     "text": [
      "[[1 2 3]] .shape= (1, 3) \n",
      " [[1]\n",
      " [2]\n",
      " [3]] .shape= (3, 1)\n"
     ]
    }
   ],
   "source": [
    "# reshape\n",
    "\n",
    "vector_row = np.array([[1, 2, 3]])\n",
    "vector_column = vector_row.reshape(3, 1)\n",
    "print(vector_row,\".shape=\",vector_row.shape,\"\\n\",vector_column,\".shape=\",vector_column.shape)"
   ]
  }
 ],
 "metadata": {
  "kernelspec": {
   "display_name": "Python 3",
   "language": "python",
   "name": "python3"
  },
  "language_info": {
   "codemirror_mode": {
    "name": "ipython",
    "version": 3
   },
   "file_extension": ".py",
   "mimetype": "text/x-python",
   "name": "python",
   "nbconvert_exporter": "python",
   "pygments_lexer": "ipython3",
   "version": "3.5.2"
  }
 },
 "nbformat": 4,
 "nbformat_minor": 2
}
